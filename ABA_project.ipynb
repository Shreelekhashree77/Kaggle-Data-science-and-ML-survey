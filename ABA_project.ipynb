{
 "cells": [
  {
   "cell_type": "markdown",
   "id": "fc7e631f",
   "metadata": {},
   "source": [
    "# Kaggle daat science and ML survey\n"
   ]
  },
  {
   "cell_type": "code",
   "execution_count": null,
   "id": "35a5d920",
   "metadata": {},
   "outputs": [],
   "source": [
    "import os\n",
    "import numpy as np \n",
    "import pandas as pd \n",
    "import seaborn as sns\n",
    "import plotly.express as px\n",
    "from plotly.offline import init_notebook_mode\n",
    "import plotly.graph_objects as go \n",
    "init_notebook_mode(connected=True)\n",
    "pd.set_option('display.max_columns', 5000)\n",
    "import warnings"
   ]
  },
  {
   "cell_type": "code",
   "execution_count": 9,
   "id": "e89025fa",
   "metadata": {},
   "outputs": [],
   "source": [
    "# Load the data\n",
    "\n",
    "def load_csv(base_dir,file_name):\n",
    "    \"\"\"Loads a CSV file into a Pandas DataFrame\"\"\"\n",
    "    file_path = os.path.join(base_dir,file_name)\n",
    "    df = pd.read_csv(file_path,low_memory=False,encoding='ISO-8859-1')\n",
    "    return df  \n",
    "\n",
    "\n",
    "#2018\n",
    "base_dir_2018 = '/Users/shreelekhamittinti/Desktop/ABA_Project'\n",
    "file_name_2018 = 'multipleChoiceResponses2018.csv'\n",
    "survey_df_2018 = load_csv(base_dir_2018,file_name_2018)\n",
    "survey_df_2018 = survey_df_2018[survey_df_2018['Q6']=='Data Scientist'] \n",
    "responses_df_2018 = survey_df_2018[1:]\n",
    "survey_df_2018.to_csv('2018_kaggle_ds_and_ml_survey_responses_from_data_scientists_only.csv',index=False)\n",
    "#2019\n",
    "base_dir_2019 = '/Users/shreelekhamittinti/Desktop/ABA_Project'\n",
    "file_name_2019 = 'multiple_choice_responses_2019.csv'\n",
    "survey_df_2019 = load_csv(base_dir_2019,file_name_2019)\n",
    "survey_df_2019 = survey_df_2019[survey_df_2019['Q5']=='Data Scientist'] \n",
    "responses_df_2019 = survey_df_2019[1:]\n",
    "survey_df_2019.to_csv('2019_kaggle_ds_and_ml_survey_responses_from_data_scientists_only.csv',index=False)\n",
    "#2020\n",
    "base_dir_2020 = '/Users/shreelekhamittinti/Desktop/ABA_Project'\n",
    "file_name_2020 = 'kaggle_survey_2020_responses.csv'\n",
    "survey_df_2020 = load_csv(base_dir_2020,file_name_2020)\n",
    "survey_df_2020 = survey_df_2020[survey_df_2020['Q5']=='Data Scientist'] \n",
    "responses_df_2020 = survey_df_2020[1:]\n",
    "survey_df_2020.to_csv('2020_kaggle_ds_and_ml_survey_responses_from_data_scientists_only.csv',index=False)\n",
    "#2021\n",
    "base_dir_2021 = '/Users/shreelekhamittinti/Desktop/ABA_Project'\n",
    "file_name_2021 = 'kaggle_survey_2021_responses.csv'\n",
    "survey_df_2021 = load_csv(base_dir_2021,file_name_2021)\n",
    "survey_df_2021 = survey_df_2021[survey_df_2021['Q5']=='Data Scientist'] \n",
    "responses_df_2021 = survey_df_2021[1:]\n",
    "survey_df_2021.to_csv('2021_kaggle_ds_and_ml_survey_responses_from_data_scientists_only.csv',index=False)"
   ]
  },
  {
   "cell_type": "code",
   "execution_count": 10,
   "id": "3520fe47",
   "metadata": {},
   "outputs": [
    {
     "name": "stdout",
     "output_type": "stream",
     "text": [
      "Total Number of Responses 2018:  4136\n",
      "Total Number of Responses 2019:  4084\n",
      "Total Number of Responses 2020:  2675\n",
      "Total Number of Responses 2021:  3615\n"
     ]
    }
   ],
   "source": [
    "print('Total Number of Responses 2018: ',responses_df_2018.shape[0])\n",
    "print('Total Number of Responses 2019: ',responses_df_2019.shape[0])\n",
    "print('Total Number of Responses 2020: ',responses_df_2020.shape[0])\n",
    "print('Total Number of Responses 2021: ',responses_df_2021.shape[0])"
   ]
  },
  {
   "cell_type": "code",
   "execution_count": 11,
   "id": "13045360",
   "metadata": {},
   "outputs": [],
   "source": [
    "def count_then_return_percent(dataframe,column_name):\n",
    "    '''\n",
    "    A helper function to return value counts as percentages.\n",
    "    '''\n",
    "    counts = dataframe[column_name].value_counts(dropna=False)\n",
    "    percentages = round(counts*100/(dataframe[column_name].count()),1)\n",
    "    return percentages\n",
    "\n",
    "def count_then_return_percent_for_multiple_column_questions(dataframe,list_of_columns_for_a_single_question,dictionary_of_counts_for_a_single_question):\n",
    "    '''\n",
    "    A helper function to convert counts to percentages.\n",
    "    '''\n",
    "    df = dataframe\n",
    "    subset = list_of_columns_for_a_single_question\n",
    "    df = df[subset]\n",
    "    df = df.dropna(how='all')\n",
    "    total_count = len(df) \n",
    "    dictionary = dictionary_of_counts_for_a_single_question\n",
    "    for i in dictionary:\n",
    "        dictionary[i] = round(float(dictionary[i]*100/total_count),1)\n",
    "    return dictionary \n",
    "\n",
    "def create_dataframe_of_counts(dataframe,column,rename_index,rename_column,return_percentages=False):\n",
    "    '''\n",
    "    A helper function to create a dataframe of either counts \n",
    "    or percentages, for a single multiple choice question.\n",
    "    '''\n",
    "    df = dataframe[column].value_counts().reset_index() \n",
    "    if return_percentages==True:\n",
    "        df[column] = (df[column]*100)/(df[column].sum())\n",
    "    df = pd.DataFrame(df) \n",
    "    df = df.rename({'index':rename_index, column:rename_column}, axis='columns')\n",
    "    return df\n",
    "\n",
    "def sort_dictionary_by_percent(dataframe,list_of_columns_for_a_single_question,dictionary_of_counts_for_a_single_question): \n",
    "    ''' \n",
    "    A helper function that can be used to sort a dictionary.   \n",
    "    It is an adaptation of a similar function\n",
    "    from https://www.kaggle.com/sonmou/what-topics-from-where-to-learn-data-science.\n",
    "    '''\n",
    "    dictionary = count_then_return_percent_for_multiple_column_questions(dataframe,\n",
    "                                                                list_of_columns_for_a_single_question,\n",
    "                                                                dictionary_of_counts_for_a_single_question)\n",
    "    dictionary = {v:k    for(k,v) in dictionary.items()}\n",
    "    list_tuples = sorted(dictionary.items(), reverse=False) \n",
    "    dictionary = {v:k for (k,v) in list_tuples}   \n",
    "    return dictionary\n",
    "\n",
    "def plotly_choropleth_map(df, column, title, max_value):\n",
    "    '''\n",
    "    This function creates a choropleth map.\n",
    "    '''\n",
    "    fig = px.choropleth(df, \n",
    "                    locations = 'country',  \n",
    "                    color = column,\n",
    "                    locationmode = 'country names', \n",
    "                    color_continuous_scale = 'viridis',\n",
    "                    title = title,\n",
    "                    range_color = [0, max_value])\n",
    "    fig.update(layout=dict(title=dict(x=0.5)))\n",
    "    fig.show()\n",
    "\n",
    "def plotly_bar_chart(response_counts,title,y_axis_title,orientation):\n",
    "    '''\n",
    "    This function creates a bar chart.\n",
    "    '''\n",
    "    response_counts_series = pd.Series(response_counts)\n",
    "    pd.DataFrame(response_counts_series).to_csv('/kaggle/working/individual_charts/chart_'+title+'.csv',index=True)\n",
    "    fig = px.bar(response_counts_series,\n",
    "             labels={\"index\": '',\"value\": y_axis_title},\n",
    "             text=response_counts_series.values,\n",
    "             orientation=orientation,)\n",
    "    fig.update_layout(showlegend=False,\n",
    "                      title={'text': title+' in 2021',\n",
    "                             'y':0.95,\n",
    "                             'x':0.5,})\n",
    "    fig.show()\n",
    "    \n",
    "def plotly_bar_chart_with_x_axis_limit(response_counts,title,y_axis_title,orientation,limit_for_axis):\n",
    "    '''\n",
    "    A slightly modified version of plotly_bar_chart().\n",
    "    '''\n",
    "    response_counts_series = pd.Series(response_counts)\n",
    "    pd.DataFrame(response_counts_series).to_csv('/kaggle/working/individual_charts/chart_'+title+'.csv',index=True)\n",
    "    fig = px.bar(response_counts_series,\n",
    "             labels={\"index\": '',\"value\": y_axis_title},\n",
    "             text=response_counts_series.values,\n",
    "             orientation=orientation,)\n",
    "    fig.update_xaxes(range=[0, limit_for_axis])\n",
    "    fig.update_layout(showlegend=False,\n",
    "                      title={'text': title+' in 2021',\n",
    "                             'y':0.95,\n",
    "                             'x':0.5,})\n",
    "    fig.show()"
   ]
  },
  {
   "cell_type": "code",
   "execution_count": 12,
   "id": "f8637856",
   "metadata": {},
   "outputs": [],
   "source": [
    "# Questions where respondents can select more than one answer choice have been split into multiple columns.\n",
    "# These dictionaries contain value counts for every answer choice for every multiple-column question.\n",
    "q7_dictionary_of_counts_2018 = {\n",
    "    'Python' : (responses_df_2018['Q16_Part_1'].count()),\n",
    "    'R': (responses_df_2018['Q16_Part_2'].count()),\n",
    "    'SQL' : (responses_df_2018['Q16_Part_3'].count()),\n",
    "    'C/C++' : (responses_df_2018['Q16_Part_8'].count()),\n",
    "    'Visual Basic / BVA' : (responses_df_2018['Q16_Part_7'].count()),\n",
    "    'Java' : (responses_df_2018['Q16_Part_5'].count()),\n",
    "    'Javascript' : (responses_df_2018['Q16_Part_6'].count()),\n",
    "    'C#/.NET' : (responses_df_2018['Q16_Part_13'].count()),\n",
    "    'PHP' : (responses_df_2018['Q16_Part_14'].count()),\n",
    "    'Go' : (responses_df_2018['Q16_Part_12'].count()),\n",
    "    'Scala' : (responses_df_2018['Q16_Part_10'].count()),\n",
    "    'Bash' : (responses_df_2018['Q16_Part_4'].count()),\n",
    "    'MATLAB' : (responses_df_2018['Q16_Part_9'].count()),\n",
    "    'None' : (responses_df_2018['Q16_Part_17'].count()),\n",
    "    'Other' : (responses_df_2018['Q16_Part_18'].count())\n",
    "}\n",
    "\n",
    "q9_dictionary_of_counts_2018 = {\n",
    "    'JupyterLab' : (responses_df_2018['Q13_Part_1'].count()),\n",
    "    'RStudio': (responses_df_2018['Q13_Part_2'].count()),\n",
    "    'Atom' : (responses_df_2018['Q13_Part_6'].count()),\n",
    "    'Visual Studio Code (VSCode)' : (responses_df_2018['Q13_Part_4'].count()),\n",
    "    'PyCharm' : (responses_df_2018['Q13_Part_3'].count()),\n",
    "    'Spyder' : (responses_df_2018['Q13_Part_13'].count()),\n",
    "    'Notepad++' : (responses_df_2018['Q13_Part_9'].count()),\n",
    "    'Sublime Text' : (responses_df_2018['Q13_Part_10'].count()),\n",
    "    'Vim, Emacs, or similar' : (responses_df_2018['Q13_Part_11'].count()),\n",
    "    'Visual Studio' : (responses_df_2018['Q13_Part_8'].count()),\n",
    "    'MATLAB' : (responses_df_2018['Q13_Part_7'].count()),\n",
    "    'None' : (responses_df_2018['Q13_Part_14'].count()),\n",
    "    'Other' : (responses_df_2018['Q13_Part_15'].count())\n",
    "}\n",
    "\n",
    "\n",
    "q10_dictionary_of_counts_2018 = {\n",
    "    'Kaggle Notebooks' : (responses_df_2018['Q14_Part_1'].count()),\n",
    "    'Colab Notebooks': (responses_df_2018['Q14_Part_2'].count()),\n",
    "    'Azure Notebooks' : (responses_df_2018['Q14_Part_3'].count()),\n",
    "    'Paperspace / Gradient' : (responses_df_2018['Q14_Part_6'].count()),\n",
    "    'Binder / JupyterHub' : (responses_df_2018['Q14_Part_9'].count()),\n",
    "    'Domino Datalab' : (responses_df_2018['Q14_Part_4'].count()),\n",
    "    'Crestle' : (responses_df_2018['Q14_Part_8'].count()),\n",
    "    'Google Cloud Notebook Products' : (responses_df_2018['Q14_Part_5'].count()),\n",
    "    'FloydHub Notebooks' : (responses_df_2018['Q14_Part_7'].count()),\n",
    "    'None' : (responses_df_2018['Q14_Part_10'].count()),\n",
    "    'Other' : (responses_df_2018['Q14_Part_11'].count())\n",
    "}\n",
    "\n",
    "\n",
    "\n",
    "q14_dictionary_of_counts_2018 = {\n",
    "    'Matplotlib' : (responses_df_2018['Q21_Part_2'].count()),\n",
    "    'Seaborn': (responses_df_2018['Q21_Part_8'].count()),\n",
    "    'Plotly / Plotly Express' : (responses_df_2018['Q21_Part_6'].count()),\n",
    "    'Ggplot / ggplot2' : (responses_df_2018['Q21_Part_1'].count()),\n",
    "    'Shiny' : (responses_df_2018['Q21_Part_4'].count()),\n",
    "    'D3.js' : (responses_df_2018['Q21_Part_5'].count()),\n",
    "    'Altair' : (responses_df_2018['Q21_Part_3'].count()),\n",
    "    'Bokeh' : (responses_df_2018['Q21_Part_7'].count()),\n",
    "    'Geoplotlib' : (responses_df_2018['Q21_Part_9'].count()),\n",
    "    'Leaflet / Folium' : (responses_df_2018['Q21_Part_10'].count()),\n",
    "    'None' : (responses_df_2018['Q21_Part_12'].count()),\n",
    "    'Other' : (responses_df_2018['Q21_Part_13'].count())\n",
    "}\n",
    "\n",
    "\n",
    "q16_dictionary_of_counts_2018 = {\n",
    "    'Scikit-learn' : (responses_df_2018['Q19_Part_1'].count()),\n",
    "    'TensorFlow': (responses_df_2018['Q19_Part_2'].count()),\n",
    "    'Keras' : (responses_df_2018['Q19_Part_3'].count()),\n",
    "    'PyTorch' : (responses_df_2018['Q19_Part_4'].count()),\n",
    "    'Fast.ai' : (responses_df_2018['Q19_Part_7'].count()),\n",
    "    'RandomForest' : (responses_df_2018['Q19_Part_13'].count()),\n",
    "    'Spark MLib' : (responses_df_2018['Q19_Part_5'].count()),\n",
    "    'MXNet' : (responses_df_2018['Q28_Part_8'].count()),\n",
    "    'Xgboost' : (responses_df_2018['Q19_Part_10'].count()),\n",
    "    'LightGBM' : (responses_df_2018['Q19_Part_14'].count()),\n",
    "    'CatBoost' : (responses_df_2018['Q19_Part_15'].count()),\n",
    "    'Prophet' : (responses_df_2018['Q19_Part_12'].count()),\n",
    "    'H20-3' : (responses_df_2018['Q19_Part_6'].count()),\n",
    "    'Caret' : (responses_df_2018['Q19_Part_9'].count()),\n",
    "    'None' : (responses_df_2018['Q19_Part_18'].count()),\n",
    "    'Other' : (responses_df_2018['Q19_Part_19'].count())\n",
    "}\n",
    "\n",
    "\n",
    "q26a_dictionary_of_counts_2018 = {\n",
    "    'Amazon Web Services (AWS)' : (responses_df_2018['Q15_Part_2'].count()),\n",
    "    'Microsoft Azure': (responses_df_2018['Q15_Part_3'].count()),\n",
    "    'Google Cloud Platform (GCP)' : (responses_df_2018['Q15_Part_1'].count()),\n",
    "    'IBM Cloud / Red Hat' : (responses_df_2018['Q15_Part_4'].count()),\n",
    "    'Alibaba Cloud' : (responses_df_2018['Q15_Part_5'].count()),\n",
    "    'None' : (responses_df_2018['Q15_Part_6'].count()),\n",
    "    'Other' : (responses_df_2018['Q15_Part_7'].count())\n",
    "}\n",
    "\n",
    "\n",
    "\n",
    "q29a_dictionary_of_counts_2018 = {\n",
    "    'MySQL' : (responses_df_2018['Q29_Part_10'].count()),\n",
    "    'PostgreSQL': (responses_df_2018['Q29_Part_11'].count()),\n",
    "    'SQLite' : (responses_df_2018['Q29_Part_12'].count()),\n",
    "    'Oracle Database' : (responses_df_2018['Q29_Part_13'].count()),\n",
    "    'IBM Db2' : (responses_df_2018['Q29_Part_26'].count()),\n",
    "    'Microsoft SQL Server' : (responses_df_2018['Q29_Part_9'].count()),\n",
    "    'Microsoft Access' : (responses_df_2018['Q29_Part_15'].count()),\n",
    "    'Microsoft Azure SQL Database' : (responses_df_2018['Q29_Part_21'].count()),\n",
    "    'Amazon Redshift' : (responses_df_2018['Q30_Part_9'].count()),\n",
    "    'AWS Relational Database Service' : (responses_df_2018['Q29_Part_1'].count()),\n",
    "    'AWS DynamoDB' : (responses_df_2018['Q29_Part_5'].count()),\n",
    "    'Google Cloud BigQuery' : (responses_df_2018['Q30_Part_10'].count()),\n",
    "    'Google Cloud SQL' : (responses_df_2018['Q29_Part_3'].count()),\n",
    "    'None' : (responses_df_2018['Q29_Part_27'].count()),\n",
    "    'Other' : (responses_df_2018['Q29_Part_28'].count())\n",
    "}\n",
    "\n",
    "\n",
    "# Questions where respondents can select more than one answer choice have been split into multiple columns.\n",
    "# These dictionaries contain value counts for every answer choice for every multiple-column question.\n",
    "\n",
    "\n",
    "q7_dictionary_of_counts_2019 = {\n",
    "    'Python' : (responses_df_2019['Q18_Part_1'].count()),\n",
    "    'R': (responses_df_2019['Q18_Part_2'].count()),\n",
    "    'SQL' : (responses_df_2019['Q18_Part_3'].count()),\n",
    "    'C' : (responses_df_2019['Q18_Part_4'].count()),\n",
    "    'C++' : (responses_df_2019['Q18_Part_5'].count()),\n",
    "    'Java' : (responses_df_2019['Q18_Part_6'].count()),\n",
    "    'Javascript' : (responses_df_2019['Q18_Part_7'].count()),\n",
    "    'TypeScript' : (responses_df_2019['Q18_Part_8'].count()),\n",
    "    'Bash' : (responses_df_2019['Q18_Part_9'].count()),\n",
    "    'MATLAB' : (responses_df_2019['Q18_Part_10'].count()),\n",
    "    'None' : (responses_df_2019['Q18_Part_11'].count()),\n",
    "    'Other' : (responses_df_2019['Q18_Part_12'].count())\n",
    "}\n",
    "\n",
    "\n",
    "q9_dictionary_of_counts_2019 = {\n",
    "    'JupyterLab' : (responses_df_2019['Q16_Part_1'].count()),\n",
    "    'RStudio': (responses_df_2019['Q16_Part_2'].count()),\n",
    "    'Atom' : (responses_df_2019['Q16_Part_4'].count()),\n",
    "    'Visual Studio / Visual Studio Code (VSCode)' : (responses_df_2019['Q16_Part_6'].count()),\n",
    "    'PyCharm' : (responses_df_2019['Q16_Part_3'].count()),\n",
    "    'Spyder' : (responses_df_2019['Q16_Part_7'].count()),\n",
    "    'Notepad++' : (responses_df_2019['Q16_Part_9'].count()),\n",
    "    'Sublime Text' : (responses_df_2019['Q16_Part_10'].count()),\n",
    "    'Vim, Emacs, or similar' : (responses_df_2019['Q16_Part_8'].count()),\n",
    "    'MATLAB' : (responses_df_2019['Q16_Part_5'].count()),\n",
    "    'None' : (responses_df_2019['Q16_Part_11'].count()),\n",
    "    'Other' : (responses_df_2019['Q16_Part_12'].count())\n",
    "}\n",
    "\n",
    "q10_dictionary_of_counts_2019 = {\n",
    "    'Kaggle Notebooks' : (responses_df_2019['Q17_Part_1'].count()),\n",
    "    'Colab Notebooks': (responses_df_2019['Q17_Part_2'].count()),\n",
    "    'Azure Notebooks' : (responses_df_2019['Q17_Part_3'].count()),\n",
    "    'Paperspace / Gradient' : (responses_df_2019['Q17_Part_5'].count()),\n",
    "    'Binder / JupyterHub' : (responses_df_2019['Q17_Part_7'].count()),\n",
    "    'Code Ocean' : (responses_df_2019['Q17_Part_9'].count()),\n",
    "    'IBM Watson Studio' : (responses_df_2019['Q17_Part_8'].count()),\n",
    "    'Amazon Notebook Products' : (responses_df_2019['Q17_Part_10'].count()),\n",
    "    'Google Cloud Notebook Products' : (responses_df_2019['Q17_Part_4'].count()),\n",
    "    'FloydHub Notebooks' : (responses_df_2019['Q17_Part_6'].count()),\n",
    "    'None' : (responses_df_2019['Q17_Part_11'].count()),\n",
    "    'Other' : (responses_df_2019['Q17_Part_12'].count())\n",
    "}\n",
    "\n",
    "\n",
    "q12_dictionary_of_counts_2019 = {\n",
    "    'CPUs' : (responses_df_2019['Q21_Part_1'].count()),\n",
    "    'GPUs' : (responses_df_2019['Q21_Part_2'].count()),\n",
    "    'TPUs': (responses_df_2019['Q21_Part_3'].count()),\n",
    "    'None' : (responses_df_2019['Q21_Part_4'].count()),\n",
    "    'Other' : (responses_df_2019['Q21_Part_5'].count())\n",
    "}\n",
    "\n",
    "\n",
    "q14_dictionary_of_counts_2019 = {\n",
    "    'Matplotlib' : (responses_df_2019['Q20_Part_2'].count()),\n",
    "    'Seaborn': (responses_df_2019['Q20_Part_8'].count()),\n",
    "    'Plotly / Plotly Express' : (responses_df_2019['Q20_Part_6'].count()),\n",
    "    'Ggplot / ggplot2' : (responses_df_2019['Q20_Part_1'].count()),\n",
    "    'Shiny' : (responses_df_2019['Q20_Part_4'].count()),\n",
    "    'D3.js' : (responses_df_2019['Q20_Part_5'].count()),\n",
    "    'Altair' : (responses_df_2019['Q20_Part_3'].count()),\n",
    "    'Bokeh' : (responses_df_2019['Q20_Part_7'].count()),\n",
    "    'Geoplotlib' : (responses_df_2019['Q20_Part_9'].count()),\n",
    "    'Leaflet / Folium' : (responses_df_2019['Q20_Part_10'].count()),\n",
    "    'None' : (responses_df_2019['Q20_Part_11'].count()),\n",
    "    'Other' : (responses_df_2019['Q20_Part_12'].count())\n",
    "}\n",
    "\n",
    "q16_dictionary_of_counts_2019 = {\n",
    "    'Scikit-learn' : (responses_df_2019['Q28_Part_1'].count()),\n",
    "    'TensorFlow': (responses_df_2019['Q28_Part_2'].count()),\n",
    "    'Keras' : (responses_df_2019['Q28_Part_3'].count()),\n",
    "    'PyTorch' : (responses_df_2019['Q28_Part_6'].count()),\n",
    "    'Fast.ai' : (responses_df_2019['Q28_Part_10'].count()),\n",
    "    'RandomForest' : (responses_df_2019['Q28_Part_4'].count()),\n",
    "    'Spark MLib' : (responses_df_2019['Q28_Part_9'].count()),\n",
    "    'Xgboost' : (responses_df_2019['Q28_Part_5'].count()),\n",
    "    'LightGBM' : (responses_df_2019['Q28_Part_8'].count()),\n",
    "    'Caret' : (responses_df_2019['Q28_Part_7'].count()),\n",
    "    'None' : (responses_df_2019['Q28_Part_11'].count()),\n",
    "    'Other' : (responses_df_2019['Q28_Part_12'].count())\n",
    "}\n",
    "\n",
    "\n",
    "q17_dictionary_of_counts_2019 = {\n",
    "    'Linear or Logistic Regression' : (responses_df_2019['Q24_Part_1'].count()),\n",
    "    'Decision Trees or Random Forests': (responses_df_2019['Q24_Part_2'].count()),\n",
    "    'Gradient Boosting Machines (xgboost, lightgbm, etc)' : (responses_df_2019['Q24_Part_3'].count()),\n",
    "    'Bayesian Approaches' : (responses_df_2019['Q24_Part_4'].count()),\n",
    "    'Evolutionary Approaches' : (responses_df_2019['Q24_Part_5'].count()),\n",
    "    'Dense Neural Networks (MLPs, etc)' : (responses_df_2019['Q24_Part_6'].count()),\n",
    "    'Convolutional Neural Networks' : (responses_df_2019['Q24_Part_7'].count()),\n",
    "    'Generative Adversarial Networks' : (responses_df_2019['Q24_Part_8'].count()),\n",
    "    'Recurrent Neural Networks' : (responses_df_2019['Q24_Part_9'].count()),\n",
    "    'Transformer Networks (BERT, gpt-3, etc)' : (responses_df_2019['Q24_Part_10'].count()),\n",
    "    'None' : (responses_df_2019['Q24_Part_11'].count()),\n",
    "    'Other' : (responses_df_2019['Q24_Part_12'].count())\n",
    "}\n",
    "\n",
    "\n",
    "q18_dictionary_of_counts_2019 = {\n",
    "    'General purpose image/video tools (PIL, cv2, skimage, etc)' : (responses_df_2019['Q26_Part_1'].count()),\n",
    "    'Image segmentation methods (U-Net, Mask R-CNN, etc)': (responses_df_2019['Q26_Part_2'].count()),\n",
    "    'Object detection methods (YOLOv3, RetinaNet, etc)' : (responses_df_2019['Q26_Part_3'].count()),\n",
    "    'Image classification and other general purpose networks (VGG, Inception, ResNet, ResNeXt, NASNet, EfficientNet, etc)' : (responses_df_2019['Q26_Part_4'].count()),\n",
    "    'Generative Networks (GAN, VAE, etc)' : (responses_df_2019['Q26_Part_5'].count()),\n",
    "    'None' : (responses_df_2019['Q26_Part_6'].count()),\n",
    "    'Other' : (responses_df_2019['Q26_Part_7'].count())\n",
    "}\n",
    "\n",
    "q19_dictionary_of_counts_2019 = {\n",
    "    'Word embeddings/vectors (GLoVe, fastText, word2vec)' : (responses_df_2019['Q27_Part_1'].count()),\n",
    "    'Encoder-decoder models (seq2seq, vanilla transformers)': (responses_df_2019['Q27_Part_2'].count()),\n",
    "    'Contextualized embeddings (ELMo, CoVe)' : (responses_df_2019['Q27_Part_3'].count()),\n",
    "    'Transformer language models (GPT-3, BERT, XLnet, etc)' : (responses_df_2019['Q27_Part_4'].count()),\n",
    "    'None' : (responses_df_2019['Q27_Part_5'].count()),\n",
    "    'Other' : (responses_df_2019['Q27_Part_6'].count())\n",
    "}\n",
    "\n",
    "q26a_dictionary_of_counts_2019 = {\n",
    "    'Amazon Web Services (AWS)' : (responses_df_2019['Q29_Part_2'].count()),\n",
    "    'Microsoft Azure': (responses_df_2019['Q29_Part_3'].count()),\n",
    "    'Google Cloud Platform (GCP)' : (responses_df_2019['Q29_Part_1'].count()),\n",
    "    'IBM Cloud / Red Hat' : (responses_df_2019['Q29_Part_4'].count()),\n",
    "    'Oracle Cloud' : (responses_df_2019['Q29_Part_7'].count()),\n",
    "    'SAP Cloud' : (responses_df_2019['Q29_Part_8'].count()),\n",
    "    'Salesforce Cloud' : (responses_df_2019['Q29_Part_6'].count()),\n",
    "    'VMware Cloud' : (responses_df_2019['Q29_Part_9'].count()),\n",
    "    'Alibaba Cloud' : (responses_df_2019['Q29_Part_5'].count()),\n",
    "    'Red Hat Cloud' : (responses_df_2019['Q29_Part_10'].count()),\n",
    "    'None' : (responses_df_2019['Q29_Part_11'].count()),\n",
    "    'Other' : (responses_df_2019['Q29_Part_12'].count())\n",
    "}\n",
    "\n",
    "q29a_dictionary_of_counts_2019 = {\n",
    "    'MySQL' : (responses_df_2019['Q34_Part_1'].count()),\n",
    "    'PostgreSQL': (responses_df_2019['Q34_Part_2'].count()),\n",
    "    'SQLite' : (responses_df_2019['Q34_Part_3'].count()),\n",
    "    'Oracle Database' : (responses_df_2019['Q34_Part_5'].count()),\n",
    "    'Microsoft SQL Server' : (responses_df_2019['Q34_Part_4'].count()),\n",
    "    'Microsoft Access' : (responses_df_2019['Q34_Part_6'].count()),\n",
    "    'Microsoft Azure SQL Database' : (responses_df_2019['Q34_Part_9'].count()),\n",
    "    'Amazon Redshift' : (responses_df_2019['Q31_Part_2'].count()),\n",
    "    'AWS Relational Database Service' : (responses_df_2019['Q34_Part_7'].count()),\n",
    "    'AWS DynamoDB' : (responses_df_2019['Q34_Part_8'].count()),\n",
    "    'Google Cloud BigQuery' : (responses_df_2019['Q31_Part_1'].count()),\n",
    "    'Google Cloud SQL' : (responses_df_2019['Q34_Part_10'].count()),\n",
    "    'None' : (responses_df_2019['Q34_Part_11'].count()),\n",
    "    'Other' : (responses_df_2019['Q34_Part_12'].count())\n",
    "}\n",
    "\n",
    "q33a_dictionary_of_counts_2019 = {\n",
    "    'Google Cloud AutoML' : (responses_df_2019['Q33_Part_1'].count()),\n",
    "    'H20 Driverless AI': (responses_df_2019['Q33_Part_2'].count()),\n",
    "    'Databricks AutoML' : (responses_df_2019['Q33_Part_3'].count()),\n",
    "    'DataRobot AutoML' : (responses_df_2019['Q33_Part_4'].count()),\n",
    "    'Tpot' : (responses_df_2019['Q33_Part_5'].count()),\n",
    "    'Auto-Keras' : (responses_df_2019['Q33_Part_6'].count()),\n",
    "    'Auto-Sklearn' : (responses_df_2019['Q33_Part_7'].count()),\n",
    "    'Auto_ml' : (responses_df_2019['Q33_Part_8'].count()),\n",
    "    'Xcessiv' : (responses_df_2019['Q33_Part_9'].count()),\n",
    "    'MLbox' : (responses_df_2019['Q33_Part_10'].count()),\n",
    "    'No / None' : (responses_df_2019['Q33_Part_11'].count()),\n",
    "    'Other' : (responses_df_2019['Q33_Part_12'].count())\n",
    "}\n",
    "\n",
    "# Questions where respondents can select more than one answer choice have been split into multiple columns.\n",
    "# These dictionaries contain value counts for every answer choice for every multiple-column question.\n",
    "\n",
    "q7_dictionary_of_counts_2020 = {\n",
    "    'Python' : (responses_df_2020['Q7_Part_1'].count()),\n",
    "    'R': (responses_df_2020['Q7_Part_2'].count()),\n",
    "    'SQL' : (responses_df_2020['Q7_Part_3'].count()),\n",
    "    'C' : (responses_df_2020['Q7_Part_4'].count()),\n",
    "    'C++' : (responses_df_2020['Q7_Part_5'].count()),\n",
    "    'Java' : (responses_df_2020['Q7_Part_6'].count()),\n",
    "    'Javascript' : (responses_df_2020['Q7_Part_7'].count()),\n",
    "    'Julia' : (responses_df_2020['Q7_Part_8'].count()),\n",
    "    'Swift' : (responses_df_2020['Q7_Part_9'].count()),\n",
    "    'Bash' : (responses_df_2020['Q7_Part_10'].count()),\n",
    "    'MATLAB' : (responses_df_2020['Q7_Part_11'].count()),\n",
    "    'None' : (responses_df_2020['Q7_Part_12'].count()),\n",
    "    'Other' : (responses_df_2020['Q7_OTHER'].count())\n",
    "}\n",
    "\n",
    "q9_dictionary_of_counts_2020 = {\n",
    "    'JupyterLab' : (responses_df_2020['Q9_Part_1'].count()),\n",
    "    'RStudio': (responses_df_2020['Q9_Part_2'].count()),\n",
    "    'Visual Studio' : (responses_df_2020['Q9_Part_3'].count()),\n",
    "    'Visual Studio Code (VSCode)' : (responses_df_2020['Q9_Part_4'].count()),\n",
    "    'PyCharm' : (responses_df_2020['Q9_Part_5'].count()),\n",
    "    'Spyder' : (responses_df_2020['Q9_Part_6'].count()),\n",
    "    'Notepad++' : (responses_df_2020['Q9_Part_7'].count()),\n",
    "    'Sublime Text' : (responses_df_2020['Q9_Part_8'].count()),\n",
    "    'Vim, Emacs, or similar' : (responses_df_2020['Q9_Part_9'].count()),\n",
    "    'MATLAB' : (responses_df_2020['Q9_Part_10'].count()),\n",
    "    'None' : (responses_df_2020['Q9_Part_11'].count()),\n",
    "    'Other' : (responses_df_2020['Q9_OTHER'].count())\n",
    "}\n",
    "\n",
    "q10_dictionary_of_counts_2020 = {\n",
    "    'Kaggle Notebooks' : (responses_df_2020['Q10_Part_1'].count()),\n",
    "    'Colab Notebooks': (responses_df_2020['Q10_Part_2'].count()),\n",
    "    'Azure Notebooks' : (responses_df_2020['Q10_Part_3'].count()),\n",
    "    'Paperspace / Gradient' : (responses_df_2020['Q10_Part_4'].count()),\n",
    "    'Binder / JupyterHub' : (responses_df_2020['Q10_Part_5'].count()),\n",
    "    'Code Ocean' : (responses_df_2020['Q10_Part_6'].count()),\n",
    "    'IBM Watson Studio' : (responses_df_2020['Q10_Part_7'].count()),\n",
    "    'Amazon Sagemaker Studio' : (responses_df_2020['Q10_Part_8'].count()),\n",
    "    'Amazon EMR Notebooks' : (responses_df_2020['Q10_Part_9'].count()),\n",
    "    'Google Cloud AI Platform Notebooks' : (responses_df_2020['Q10_Part_10'].count()),\n",
    "    'Google Cloud Datalab Notebooks' : (responses_df_2020['Q10_Part_11'].count()),\n",
    "    'Databricks Collaborative Notebooks' : (responses_df_2020['Q10_Part_12'].count()),\n",
    "    'None' : (responses_df_2020['Q10_Part_13'].count()),\n",
    "    'Other' : (responses_df_2020['Q10_OTHER'].count())\n",
    "}\n",
    "\n",
    "q12_dictionary_of_counts_2020 = {\n",
    "    'GPUs' : (responses_df_2020['Q12_Part_1'].count()),\n",
    "    'TPUs': (responses_df_2020['Q12_Part_2'].count()),\n",
    "    'None' : (responses_df_2020['Q12_Part_3'].count()),\n",
    "    'Other' : (responses_df_2020['Q12_OTHER'].count())\n",
    "}\n",
    "\n",
    "q14_dictionary_of_counts_2020 = {\n",
    "    'Matplotlib' : (responses_df_2020['Q14_Part_1'].count()),\n",
    "    'Seaborn': (responses_df_2020['Q14_Part_2'].count()),\n",
    "    'Plotly / Plotly Express' : (responses_df_2020['Q14_Part_3'].count()),\n",
    "    'Ggplot / ggplot2' : (responses_df_2020['Q14_Part_4'].count()),\n",
    "    'Shiny' : (responses_df_2020['Q14_Part_5'].count()),\n",
    "    'D3.js' : (responses_df_2020['Q14_Part_6'].count()),\n",
    "    'Altair' : (responses_df_2020['Q14_Part_7'].count()),\n",
    "    'Bokeh' : (responses_df_2020['Q14_Part_8'].count()),\n",
    "    'Geoplotlib' : (responses_df_2020['Q14_Part_9'].count()),\n",
    "    'Leaflet / Folium' : (responses_df_2020['Q14_Part_10'].count()),\n",
    "    'None' : (responses_df_2020['Q14_Part_11'].count()),\n",
    "    'Other' : (responses_df_2020['Q14_OTHER'].count())\n",
    "}\n",
    "\n",
    "q16_dictionary_of_counts_2020 = {\n",
    "    'Scikit-learn' : (responses_df_2020['Q16_Part_1'].count()),\n",
    "    'TensorFlow': (responses_df_2020['Q16_Part_2'].count()),\n",
    "    'Keras' : (responses_df_2020['Q16_Part_3'].count()),\n",
    "    'PyTorch' : (responses_df_2020['Q16_Part_4'].count()),\n",
    "    'Fast.ai' : (responses_df_2020['Q16_Part_5'].count()),\n",
    "    'MXNet' : (responses_df_2020['Q16_Part_6'].count()),\n",
    "    'Xgboost' : (responses_df_2020['Q16_Part_7'].count()),\n",
    "    'LightGBM' : (responses_df_2020['Q16_Part_8'].count()),\n",
    "    'CatBoost' : (responses_df_2020['Q16_Part_9'].count()),\n",
    "    'Prophet' : (responses_df_2020['Q16_Part_10'].count()),\n",
    "    'H20-3' : (responses_df_2020['Q16_Part_11'].count()),\n",
    "    'Caret' : (responses_df_2020['Q16_Part_12'].count()),\n",
    "    'Tidymodels' : (responses_df_2020['Q16_Part_13'].count()),\n",
    "    'JAX' : (responses_df_2020['Q16_Part_14'].count()),\n",
    "    'None' : (responses_df_2020['Q16_Part_15'].count()),\n",
    "    'Other' : (responses_df_2020['Q16_OTHER'].count())\n",
    "}\n",
    "\n",
    "q17_dictionary_of_counts_2020 = {\n",
    "    'Linear or Logistic Regression' : (responses_df_2020['Q17_Part_1'].count()),\n",
    "    'Decision Trees or Random Forests': (responses_df_2020['Q17_Part_2'].count()),\n",
    "    'Gradient Boosting Machines (xgboost, lightgbm, etc)' : (responses_df_2020['Q17_Part_3'].count()),\n",
    "    'Bayesian Approaches' : (responses_df_2020['Q17_Part_4'].count()),\n",
    "    'Evolutionary Approaches' : (responses_df_2020['Q17_Part_5'].count()),\n",
    "    'Dense Neural Networks (MLPs, etc)' : (responses_df_2020['Q17_Part_6'].count()),\n",
    "    'Convolutional Neural Networks' : (responses_df_2020['Q17_Part_7'].count()),\n",
    "    'Generative Adversarial Networks' : (responses_df_2020['Q17_Part_8'].count()),\n",
    "    'Recurrent Neural Networks' : (responses_df_2020['Q17_Part_9'].count()),\n",
    "    'Transformer Networks (BERT, gpt-3, etc)' : (responses_df_2020['Q17_Part_10'].count()),\n",
    "    'None' : (responses_df_2020['Q17_Part_11'].count()),\n",
    "    'Other' : (responses_df_2020['Q17_OTHER'].count())\n",
    "}\n",
    "\n",
    "\n",
    "q18_dictionary_of_counts_2020 = {\n",
    "    'General purpose image/video tools (PIL, cv2, skimage, etc)' : (responses_df_2020['Q18_Part_1'].count()),\n",
    "    'Image segmentation methods (U-Net, Mask R-CNN, etc)': (responses_df_2020['Q18_Part_2'].count()),\n",
    "    'Object detection methods (YOLOv3, RetinaNet, etc)' : (responses_df_2020['Q18_Part_3'].count()),\n",
    "    'Image classification and other general purpose networks (VGG, Inception, ResNet, ResNeXt, NASNet, EfficientNet, etc)' : (responses_df_2020['Q18_Part_4'].count()),\n",
    "    'Generative Networks (GAN, VAE, etc)' : (responses_df_2020['Q18_Part_5'].count()),\n",
    "    'None' : (responses_df_2020['Q18_Part_6'].count()),\n",
    "    'Other' : (responses_df_2020['Q18_OTHER'].count())\n",
    "}\n",
    "\n",
    "\n",
    "q19_dictionary_of_counts_2020 = {\n",
    "    'Word embeddings/vectors (GLoVe, fastText, word2vec)' : (responses_df_2020['Q19_Part_1'].count()),\n",
    "    'Encoder-decoder models (seq2seq, vanilla transformers)': (responses_df_2020['Q19_Part_2'].count()),\n",
    "    'Contextualized embeddings (ELMo, CoVe)' : (responses_df_2020['Q19_Part_3'].count()),\n",
    "    'Transformer language models (GPT-3, BERT, XLnet, etc)' : (responses_df_2020['Q19_Part_4'].count()),\n",
    "    'None' : (responses_df_2020['Q19_Part_5'].count()),\n",
    "    'Other' : (responses_df_2020['Q19_OTHER'].count())\n",
    "}\n",
    "\n",
    "\n",
    "q23_dictionary_of_counts_2020 = {\n",
    "    'Analyze and understand data to influence product or business decisions' : (responses_df_2020['Q23_Part_1'].count()),\n",
    "    'Build and/or run the data infrastructure that my business uses for storing, analyzing, and operationalizing data': (responses_df_2020['Q23_Part_2'].count()),\n",
    "    'Build prototypes to explore applying machine learning to new areas' : (responses_df_2020['Q23_Part_3'].count()),\n",
    "    'Build and/or run a machine learning service that operationally improves my product or workflows' : (responses_df_2020['Q23_Part_4'].count()),\n",
    "    'Experimentation and iteration to improve existing ML models' : (responses_df_2020['Q23_Part_5'].count()),\n",
    "    'Do research that advances the state of the art of machine learning' : (responses_df_2020['Q23_Part_6'].count()),\n",
    "    'None of these activities are an important part of my role at work' : (responses_df_2020['Q23_Part_7'].count()),\n",
    "    'Other' : (responses_df_2020['Q23_OTHER'].count())\n",
    "}\n",
    "\n",
    "\n",
    "q26a_dictionary_of_counts_2020 = {\n",
    "    'Amazon Web Services (AWS)' : (responses_df_2020['Q26_A_Part_1'].count()),\n",
    "    'Microsoft Azure': (responses_df_2020['Q26_A_Part_2'].count()),\n",
    "    'Google Cloud Platform (GCP)' : (responses_df_2020['Q26_A_Part_3'].count()),\n",
    "    'IBM Cloud / Red Hat' : (responses_df_2020['Q26_A_Part_4'].count()),\n",
    "    'Oracle Cloud' : (responses_df_2020['Q26_A_Part_5'].count()),\n",
    "    'SAP Cloud' : (responses_df_2020['Q26_A_Part_6'].count()),\n",
    "    'Salesforce Cloud' : (responses_df_2020['Q26_A_Part_7'].count()),\n",
    "    'VMware Cloud' : (responses_df_2020['Q26_A_Part_8'].count()),\n",
    "    'Alibaba Cloud' : (responses_df_2020['Q26_A_Part_9'].count()),\n",
    "    'Tencent Cloud' : (responses_df_2020['Q26_A_Part_10'].count()),\n",
    "    'None' : (responses_df_2020['Q26_A_Part_11'].count()),\n",
    "    'Other' : (responses_df_2020['Q26_A_OTHER'].count())\n",
    "}\n",
    "\n",
    "q26b_dictionary_of_counts_2020 = {\n",
    "    'Amazon Web Services (AWS)' : (responses_df_2020['Q26_B_Part_1'].count()),\n",
    "    'Microsoft Azure': (responses_df_2020['Q26_B_Part_2'].count()),\n",
    "    'Google Cloud Platform (GCP)' : (responses_df_2020['Q26_B_Part_3'].count()),\n",
    "    'IBM Cloud / Red Hat' : (responses_df_2020['Q26_B_Part_4'].count()),\n",
    "    'Oracle Cloud' : (responses_df_2020['Q26_B_Part_5'].count()),\n",
    "    'SAP Cloud' : (responses_df_2020['Q26_B_Part_6'].count()),\n",
    "    'Salesforce Cloud' : (responses_df_2020['Q26_B_Part_7'].count()),\n",
    "    'VMware Cloud' : (responses_df_2020['Q26_B_Part_8'].count()),\n",
    "    'Alibaba Cloud' : (responses_df_2020['Q26_B_Part_9'].count()),\n",
    "    'Tencent Cloud' : (responses_df_2020['Q26_B_Part_10'].count()),\n",
    "    'None' : (responses_df_2020['Q26_B_Part_11'].count()),\n",
    "    'Other' : (responses_df_2020['Q26_B_OTHER'].count())\n",
    "}\n",
    "\n",
    "q27a_dictionary_of_counts_2020 = {\n",
    "    'Amazon EC2' : (responses_df_2020['Q27_A_Part_1'].count()),\n",
    "    'AWS Lambda': (responses_df_2020['Q27_A_Part_2'].count()),\n",
    "    'Amazon Elastic Container Service' : (responses_df_2020['Q27_A_Part_3'].count()),\n",
    "    'Azure Cloud Services' : (responses_df_2020['Q27_A_Part_4'].count()),\n",
    "    'Microsoft Azure Container Instances' : (responses_df_2020['Q27_A_Part_5'].count()),\n",
    "    'Azure Functions' : (responses_df_2020['Q27_A_Part_6'].count()),\n",
    "    'Google Cloud Compute Engine' : (responses_df_2020['Q27_A_Part_7'].count()),\n",
    "    'Google Cloud Functions' : (responses_df_2020['Q27_A_Part_8'].count()),\n",
    "    'Google Cloud Run' : (responses_df_2020['Q27_A_Part_9'].count()),\n",
    "    'Google Cloud App Engine' : (responses_df_2020['Q27_A_Part_10'].count()),\n",
    "    'No / None' : (responses_df_2020['Q27_A_Part_11'].count()),\n",
    "    'Other' : (responses_df_2020['Q27_A_OTHER'].count())\n",
    "}\n",
    "\n",
    "q27b_dictionary_of_counts_2020 = {\n",
    "    'Amazon EC2' : (responses_df_2020['Q27_B_Part_1'].count()),\n",
    "    'AWS Lambda': (responses_df_2020['Q27_B_Part_2'].count()),\n",
    "    'Amazon Elastic Container Service' : (responses_df_2020['Q27_B_Part_3'].count()),\n",
    "    'Azure Cloud Services' : (responses_df_2020['Q27_B_Part_4'].count()),\n",
    "    'Microsoft Azure Container Instances' : (responses_df_2020['Q27_B_Part_5'].count()),\n",
    "    'Azure Functions' : (responses_df_2020['Q27_B_Part_6'].count()),\n",
    "    'Google Cloud Compute Engine' : (responses_df_2020['Q27_B_Part_7'].count()),\n",
    "    'Google Cloud Functions' : (responses_df_2020['Q27_B_Part_8'].count()),\n",
    "    'Google Cloud Run' : (responses_df_2020['Q27_B_Part_9'].count()),\n",
    "    'Google Cloud App Engine' : (responses_df_2020['Q27_B_Part_10'].count()),\n",
    "    'No / None' : (responses_df_2020['Q27_B_Part_11'].count()),\n",
    "    'Other' : (responses_df_2020['Q27_B_OTHER'].count())\n",
    "}\n",
    "\n",
    "q28a_dictionary_of_counts_2020 = {\n",
    "    'Amazon SageMaker' : (responses_df_2020['Q28_A_Part_1'].count()),\n",
    "    'Amazon Forecast': (responses_df_2020['Q28_A_Part_2'].count()),\n",
    "    'Amazon Rekognition' : (responses_df_2020['Q28_A_Part_3'].count()),\n",
    "    'Azure Machine Learning Studio' : (responses_df_2020['Q28_A_Part_4'].count()),\n",
    "    'Azure Cognitive Services' : (responses_df_2020['Q28_A_Part_5'].count()),\n",
    "    'Google Cloud AI Platform / Google Cloud ML Engine' : (responses_df_2020['Q28_A_Part_6'].count()),\n",
    "    'Google Cloud Video AI' : (responses_df_2020['Q28_A_Part_7'].count()),\n",
    "    'Google Cloud Natural Language' : (responses_df_2020['Q28_A_Part_8'].count()),\n",
    "    'Google Cloud Vision AI' : (responses_df_2020['Q28_A_Part_9'].count()),\n",
    "    'No / None' : (responses_df_2020['Q28_A_Part_10'].count()),\n",
    "    'Other' : (responses_df_2020['Q28_A_OTHER'].count())\n",
    "}\n",
    "\n",
    "q28b_dictionary_of_counts_2020 = {\n",
    "    'Amazon SageMaker' : (responses_df_2020['Q28_B_Part_1'].count()),\n",
    "    'Amazon Forecast': (responses_df_2020['Q28_B_Part_2'].count()),\n",
    "    'Amazon Rekognition' : (responses_df_2020['Q28_B_Part_3'].count()),\n",
    "    'Azure Machine Learning Studio' : (responses_df_2020['Q28_B_Part_4'].count()),\n",
    "    'Azure Cognitive Services' : (responses_df_2020['Q28_B_Part_5'].count()),\n",
    "    'Google Cloud AI Platform / Google Cloud ML Engine' : (responses_df_2020['Q28_B_Part_6'].count()),\n",
    "    'Google Cloud Video AI' : (responses_df_2020['Q28_B_Part_7'].count()),\n",
    "    'Google Cloud Natural Language' : (responses_df_2020['Q28_B_Part_8'].count()),\n",
    "    'Google Cloud Vision AI' : (responses_df_2020['Q28_B_Part_9'].count()),\n",
    "    'No / None' : (responses_df_2020['Q28_B_Part_10'].count()),\n",
    "    'Other' : (responses_df_2020['Q28_B_OTHER'].count())\n",
    "}\n",
    "\n",
    "\n",
    "q29a_dictionary_of_counts_2020 = {\n",
    "    'MySQL' : (responses_df_2020['Q29_A_Part_1'].count()),\n",
    "    'PostgreSQL': (responses_df_2020['Q29_A_Part_2'].count()),\n",
    "    'SQLite' : (responses_df_2020['Q29_A_Part_3'].count()),\n",
    "    'Oracle Database' : (responses_df_2020['Q29_A_Part_4'].count()),\n",
    "    'MongoDB' : (responses_df_2020['Q29_A_Part_5'].count()),\n",
    "    'Snowflake' : (responses_df_2020['Q29_A_Part_6'].count()),\n",
    "    'IBM Db2' : (responses_df_2020['Q29_A_Part_7'].count()),\n",
    "    'Microsoft SQL Server' : (responses_df_2020['Q29_A_Part_8'].count()),\n",
    "    'Microsoft Access' : (responses_df_2020['Q29_A_Part_9'].count()),\n",
    "    'Microsoft Azure Data Lake Storage' : (responses_df_2020['Q29_A_Part_10'].count()),\n",
    "    'Amazon Redshift' : (responses_df_2020['Q29_A_Part_11'].count()),\n",
    "    'Amazon Athena' : (responses_df_2020['Q29_A_Part_12'].count()),\n",
    "    'Amazon DynamoDB' : (responses_df_2020['Q29_A_Part_13'].count()),\n",
    "    'Google Cloud BigQuery' : (responses_df_2020['Q29_A_Part_14'].count()),\n",
    "    'Google Cloud SQL' : (responses_df_2020['Q29_A_Part_15'].count()),\n",
    "    'Google Cloud Firestore' : (responses_df_2020['Q29_A_Part_16'].count()),\n",
    "    'None' : (responses_df_2020['Q29_A_Part_17'].count()),\n",
    "    'Other' : (responses_df_2020['Q29_A_OTHER'].count())\n",
    "}\n",
    "\n",
    "\n",
    "q29b_dictionary_of_counts_2020 = {\n",
    "    'MySQL' : (responses_df_2020['Q29_B_Part_1'].count()),\n",
    "    'PostgreSQL': (responses_df_2020['Q29_B_Part_2'].count()),\n",
    "    'SQLite' : (responses_df_2020['Q29_B_Part_3'].count()),\n",
    "    'Oracle Database' : (responses_df_2020['Q29_B_Part_4'].count()),\n",
    "    'MongoDB' : (responses_df_2020['Q29_B_Part_5'].count()),\n",
    "    'Snowflake' : (responses_df_2020['Q29_B_Part_6'].count()),\n",
    "    'IBM Db2' : (responses_df_2020['Q29_B_Part_7'].count()),\n",
    "    'Microsoft SQL Server' : (responses_df_2020['Q29_B_Part_8'].count()),\n",
    "    'Microsoft Access' : (responses_df_2020['Q29_B_Part_9'].count()),\n",
    "    'Microsoft Azure Data Lake Storage' : (responses_df_2020['Q29_B_Part_10'].count()),\n",
    "    'Amazon Redshift' : (responses_df_2020['Q29_B_Part_11'].count()),\n",
    "    'Amazon Athena' : (responses_df_2020['Q29_B_Part_12'].count()),\n",
    "    'Amazon DynamoDB' : (responses_df_2020['Q29_B_Part_13'].count()),\n",
    "    'Google Cloud BigQuery' : (responses_df_2020['Q29_B_Part_14'].count()),\n",
    "    'Google Cloud SQL' : (responses_df_2020['Q29_B_Part_15'].count()),\n",
    "    'Google Cloud Firestore' : (responses_df_2020['Q29_B_Part_16'].count()),\n",
    "    'None' : (responses_df_2020['Q29_B_Part_17'].count()),\n",
    "    'Other' : (responses_df_2020['Q29_B_OTHER'].count())\n",
    "}\n",
    "\n",
    "q31a_dictionary_of_counts_2020 = {\n",
    "    'Amazon QuickSight' : (responses_df_2020['Q31_A_Part_1'].count()),\n",
    "    'Microsoft Power BI': (responses_df_2020['Q31_A_Part_2'].count()),\n",
    "    'Google Data Studio' : (responses_df_2020['Q31_A_Part_3'].count()),\n",
    "    'Looker' : (responses_df_2020['Q31_A_Part_4'].count()),\n",
    "    'Tableau' : (responses_df_2020['Q31_A_Part_5'].count()),\n",
    "    'Salesforce' : (responses_df_2020['Q31_A_Part_6'].count()),\n",
    "    'Einstein Analytics' : (responses_df_2020['Q31_A_Part_7'].count()),\n",
    "    'Qlik' : (responses_df_2020['Q31_A_Part_8'].count()),\n",
    "    'Domo' : (responses_df_2020['Q31_A_Part_9'].count()),\n",
    "    'TIBCO Spotfire' : (responses_df_2020['Q31_A_Part_10'].count()),\n",
    "    'Alteryx' : (responses_df_2020['Q31_A_Part_11'].count()),\n",
    "    'Sisense' : (responses_df_2020['Q31_A_Part_12'].count()),\n",
    "    'SAP Analytics Cloud' : (responses_df_2020['Q31_A_Part_13'].count()),\n",
    "    'None' : (responses_df_2020['Q31_A_Part_14'].count()),\n",
    "    'Other' : (responses_df_2020['Q31_A_OTHER'].count())\n",
    "}\n",
    "\n",
    "q31b_dictionary_of_counts_2020 = {\n",
    "    'Amazon QuickSight' : (responses_df_2020['Q31_B_Part_1'].count()),\n",
    "    'Microsoft Power BI': (responses_df_2020['Q31_B_Part_2'].count()),\n",
    "    'Google Data Studio' : (responses_df_2020['Q31_B_Part_3'].count()),\n",
    "    'Looker' : (responses_df_2020['Q31_B_Part_4'].count()),\n",
    "    'Tableau' : (responses_df_2020['Q31_B_Part_5'].count()),\n",
    "    'Salesforce' : (responses_df_2020['Q31_B_Part_6'].count()),\n",
    "    'Einstein Analytics' : (responses_df_2020['Q31_B_Part_7'].count()),\n",
    "    'Qlik' : (responses_df_2020['Q31_B_Part_8'].count()),\n",
    "    'Domo' : (responses_df_2020['Q31_B_Part_9'].count()),\n",
    "    'TIBCO Spotfire' : (responses_df_2020['Q31_B_Part_10'].count()),\n",
    "    'Alteryx' : (responses_df_2020['Q31_B_Part_11'].count()),\n",
    "    'Sisense' : (responses_df_2020['Q31_B_Part_12'].count()),\n",
    "    'SAP Analytics Cloud' : (responses_df_2020['Q31_B_Part_13'].count()),\n",
    "    'None' : (responses_df_2020['Q31_B_Part_14'].count()),\n",
    "    'Other' : (responses_df_2020['Q31_B_OTHER'].count())\n",
    "}\n",
    "\n",
    "q33a_dictionary_of_counts_2020 = {\n",
    "    'Automated data augmentation (e.g. imgaug, albumentations)' : (responses_df_2020['Q33_A_Part_1'].count()),\n",
    "    'Automated feature engineering/selection (e.g. tpot, boruta_py)': (responses_df_2020['Q33_A_Part_2'].count()),\n",
    "    'Automated model selection (e.g. auto-sklearn, xcessiv)' : (responses_df_2020['Q33_A_Part_3'].count()),\n",
    "    'Automated model architecture searches (e.g. darts, enas)' : (responses_df_2020['Q33_A_Part_4'].count()),\n",
    "    'Automated hyperparameter tuning (e.g. hyperopt, ray.tune, Vizier)' : (responses_df_2020['Q33_A_Part_5'].count()),\n",
    "    'Automation of full ML pipelines (e.g. Google AutoML, H20 Driverless AI)' : (responses_df_2020['Q33_A_Part_6'].count()),\n",
    "    'No / None' : (responses_df_2020['Q33_A_Part_7'].count()),\n",
    "    'Other' : (responses_df_2020['Q33_A_OTHER'].count())\n",
    "}\n",
    "\n",
    "q33b_dictionary_of_counts_2020 = {\n",
    "    'Automated data augmentation (e.g. imgaug, albumentations)' : (responses_df_2020['Q33_B_Part_1'].count()),\n",
    "    'Automated feature engineering/selection (e.g. tpot, boruta_py)': (responses_df_2020['Q33_B_Part_2'].count()),\n",
    "    'Automated model selection (e.g. auto-sklearn, xcessiv)' : (responses_df_2020['Q33_B_Part_3'].count()),\n",
    "    'Automated model architecture searches (e.g. darts, enas)' : (responses_df_2020['Q33_B_Part_4'].count()),\n",
    "    'Automated hyperparameter tuning (e.g. hyperopt, ray.tune, Vizier)' : (responses_df_2020['Q33_B_Part_5'].count()),\n",
    "    'Automation of full ML pipelines (e.g. Google AutoML, H20 Driverless AI)' : (responses_df_2020['Q33_B_Part_6'].count()),\n",
    "    'No / None' : (responses_df_2020['Q33_B_Part_7'].count()),\n",
    "    'Other' : (responses_df_2020['Q33_B_OTHER'].count())\n",
    "}\n",
    "\n",
    "q34a_dictionary_of_counts_2020 = {\n",
    "    'Google Cloud AutoML' : (responses_df_2020['Q34_A_Part_1'].count()),\n",
    "    'H20 Driverless AI': (responses_df_2020['Q34_A_Part_2'].count()),\n",
    "    'Databricks AutoML' : (responses_df_2020['Q34_A_Part_3'].count()),\n",
    "    'DataRobot AutoML' : (responses_df_2020['Q34_A_Part_4'].count()),\n",
    "    'Tpot' : (responses_df_2020['Q34_A_Part_5'].count()),\n",
    "    'Auto-Keras' : (responses_df_2020['Q34_A_Part_6'].count()),\n",
    "    'Auto-Sklearn' : (responses_df_2020['Q34_A_Part_7'].count()),\n",
    "    'Auto_ml' : (responses_df_2020['Q34_A_Part_8'].count()),\n",
    "    'Xcessiv' : (responses_df_2020['Q34_A_Part_9'].count()),\n",
    "    'MLbox' : (responses_df_2020['Q34_A_Part_10'].count()),\n",
    "    'No / None' : (responses_df_2020['Q34_A_Part_11'].count()),\n",
    "    'Other' : (responses_df_2020['Q34_A_OTHER'].count())\n",
    "}\n",
    "\n",
    "q34b_dictionary_of_counts_2020 = {\n",
    "    'Google Cloud AutoML' : (responses_df_2020['Q34_B_Part_1'].count()),\n",
    "    'H20 Driverless AI': (responses_df_2020['Q34_B_Part_2'].count()),\n",
    "    'Databricks AutoML' : (responses_df_2020['Q34_B_Part_3'].count()),\n",
    "    'DataRobot AutoML' : (responses_df_2020['Q34_B_Part_4'].count()),\n",
    "    'Tpot' : (responses_df_2020['Q34_B_Part_5'].count()),\n",
    "    'Auto-Keras' : (responses_df_2020['Q34_B_Part_6'].count()),\n",
    "    'Auto-Sklearn' : (responses_df_2020['Q34_B_Part_7'].count()),\n",
    "    'Auto_ml' : (responses_df_2020['Q34_B_Part_8'].count()),\n",
    "    'Xcessiv' : (responses_df_2020['Q34_B_Part_9'].count()),\n",
    "    'MLbox' : (responses_df_2020['Q34_B_Part_10'].count()),\n",
    "    'No / None' : (responses_df_2020['Q34_B_Part_11'].count()),\n",
    "    'Other' : (responses_df_2020['Q34_B_OTHER'].count())\n",
    "}\n",
    "\n",
    "\n",
    "q35a_dictionary_of_counts_2020 = {\n",
    "    'Neptune.ai' : (responses_df_2020['Q35_A_Part_1'].count()),\n",
    "    'Weights & Biases': (responses_df_2020['Q35_A_Part_2'].count()),\n",
    "    'Comet.ml' : (responses_df_2020['Q35_A_Part_3'].count()),\n",
    "    'Sacred + Omniboard' : (responses_df_2020['Q35_A_Part_4'].count()),\n",
    "    'TensorBoard' : (responses_df_2020['Q35_A_Part_5'].count()),\n",
    "    'Guild.ai' : (responses_df_2020['Q35_A_Part_6'].count()),\n",
    "    'Polyaxon' : (responses_df_2020['Q35_A_Part_7'].count()),\n",
    "    'Trains' : (responses_df_2020['Q35_A_Part_8'].count()),\n",
    "    'Domino Model Monitor' : (responses_df_2020['Q35_A_Part_9'].count()),\n",
    "    'No / None' : (responses_df_2020['Q35_A_Part_10'].count()),\n",
    "    'Other' : (responses_df_2020['Q35_A_OTHER'].count())\n",
    "}\n",
    "\n",
    "\n",
    "q35b_dictionary_of_counts_2020 = {\n",
    "    'Neptune.ai' : (responses_df_2020['Q35_B_Part_1'].count()),\n",
    "    'Weights & Biases': (responses_df_2020['Q35_B_Part_2'].count()),\n",
    "    'Comet.ml' : (responses_df_2020['Q35_B_Part_3'].count()),\n",
    "    'Sacred + Omniboard' : (responses_df_2020['Q35_B_Part_4'].count()),\n",
    "    'TensorBoard' : (responses_df_2020['Q35_B_Part_5'].count()),\n",
    "    'Guild.ai' : (responses_df_2020['Q35_B_Part_6'].count()),\n",
    "    'Polyaxon' : (responses_df_2020['Q35_B_Part_7'].count()),\n",
    "    'Trains' : (responses_df_2020['Q35_B_Part_8'].count()),\n",
    "    'Domino Model Monitor' : (responses_df_2020['Q35_B_Part_9'].count()),\n",
    "    'No / None' : (responses_df_2020['Q35_B_Part_10'].count()),\n",
    "    'Other' : (responses_df_2020['Q35_B_OTHER'].count())\n",
    "}\n",
    "\n",
    "q36_dictionary_of_counts_2020 = {\n",
    "    'Plotly Dash' : (responses_df_2020['Q36_Part_1'].count()),\n",
    "    'Streamlit': (responses_df_2020['Q36_Part_2'].count()),\n",
    "    'NBViewer' : (responses_df_2020['Q36_Part_3'].count()),\n",
    "    'GitHub' : (responses_df_2020['Q36_Part_4'].count()),\n",
    "    'Personal Blog' : (responses_df_2020['Q36_Part_5'].count()),\n",
    "    'Kaggle' : (responses_df_2020['Q36_Part_6'].count()),\n",
    "    'Colab' : (responses_df_2020['Q36_Part_7'].count()),\n",
    "    'Shiny' : (responses_df_2020['Q36_Part_8'].count()),\n",
    "    'None / I do not share my work publicly' : (responses_df_2020['Q36_Part_9'].count()),\n",
    "    'Other' : (responses_df_2020['Q36_OTHER'].count())\n",
    "}\n",
    "\n",
    "\n",
    "q37_dictionary_of_counts_2020 = {\n",
    "    'Coursera' : (responses_df_2020['Q37_Part_1'].count()),\n",
    "    'EdX': (responses_df_2020['Q37_Part_2'].count()),\n",
    "    'Kaggle Learn Courses' : (responses_df_2020['Q37_Part_3'].count()),\n",
    "    'DataCamp' : (responses_df_2020['Q37_Part_4'].count()),\n",
    "    'Fast.ai' : (responses_df_2020['Q37_Part_5'].count()),\n",
    "    'Udacity' : (responses_df_2020['Q37_Part_6'].count()),\n",
    "    'Udemy' : (responses_df_2020['Q37_Part_7'].count()),\n",
    "    'LinkedIn Learning' : (responses_df_2020['Q37_Part_8'].count()),\n",
    "    'Cloud-certification programs' : (responses_df_2020['Q37_Part_9'].count()),\n",
    "    'University Courses' : (responses_df_2020['Q37_Part_10'].count()),\n",
    "    'None' : (responses_df_2020['Q37_Part_11'].count()),\n",
    "    'Other' : (responses_df_2020['Q37_OTHER'].count())\n",
    "}\n",
    "\n",
    "\n",
    "q39_dictionary_of_counts_2020 = {\n",
    "    'Twitter (data science influencers)' : (responses_df_2020['Q39_Part_1'].count()),\n",
    "    'Email newsletters (Data Elixir, OReilly Data & AI, etc)': (responses_df_2020['Q39_Part_2'].count()),\n",
    "    'Reddit (r/machinelearning, etc)' : (responses_df_2020['Q39_Part_3'].count()),\n",
    "    'Kaggle (notebooks, forums, etc)' : (responses_df_2020['Q39_Part_4'].count()),\n",
    "    'Course Forums (forums.fast.ai, Coursera forums, etc)' : (responses_df_2020['Q39_Part_5'].count()),\n",
    "    'YouTube (Kaggle YouTube, Cloud AI Adventures, etc)' : (responses_df_2020['Q39_Part_6'].count()),\n",
    "    'Podcasts (Chai Time Data Science, OReilly Data Show, etc)' : (responses_df_2020['Q39_Part_7'].count()),\n",
    "    'Blogs (Towards Data Science, Analytics Vidhya, etc)' : (responses_df_2020['Q39_Part_8'].count()),\n",
    "    'Journal Publications (peer-reviewed journals, conference proceedings, etc)' : (responses_df_2020['Q39_Part_9'].count()),\n",
    "    'Slack Communities (ods.ai, kagglenoobs, etc)' : (responses_df_2020['Q39_Part_10'].count()),\n",
    "    'None' : (responses_df_2020['Q39_Part_11'].count()),\n",
    "    'Other' : (responses_df_2020['Q39_OTHER'].count())\n",
    "}\n",
    "\n",
    "# Questions where respondents can select more than one answer choice have been split into multiple columns.\n",
    "# These dictionaries contain value counts for every answer choice for every multiple-column question.\n",
    "\n",
    "q7_dictionary_of_counts_2021 = {\n",
    "    'Python' : (responses_df_2021['Q7_Part_1'].count()),\n",
    "    'R': (responses_df_2021['Q7_Part_2'].count()),\n",
    "    'SQL' : (responses_df_2021['Q7_Part_3'].count()),\n",
    "    'C' : (responses_df_2021['Q7_Part_4'].count()),\n",
    "    'C++' : (responses_df_2021['Q7_Part_5'].count()),\n",
    "    'Java' : (responses_df_2021['Q7_Part_6'].count()),\n",
    "    'Javascript' : (responses_df_2021['Q7_Part_7'].count()),\n",
    "    'Julia' : (responses_df_2021['Q7_Part_8'].count()),\n",
    "    'Swift' : (responses_df_2021['Q7_Part_9'].count()),\n",
    "    'Bash' : (responses_df_2021['Q7_Part_10'].count()),\n",
    "    'MATLAB' : (responses_df_2021['Q7_Part_11'].count()),\n",
    "    'None' : (responses_df_2021['Q7_Part_12'].count()),\n",
    "    'Other' : (responses_df_2021['Q7_OTHER'].count())\n",
    "}\n",
    "\n",
    "q9_dictionary_of_counts_2021 = {\n",
    "    'JupyterLab' : (responses_df_2021['Q9_Part_1'].count()),\n",
    "    'RStudio': (responses_df_2021['Q9_Part_2'].count()),\n",
    "    'Visual Studio' : (responses_df_2021['Q9_Part_3'].count()),\n",
    "    'Visual Studio Code (VSCode)' : (responses_df_2021['Q9_Part_4'].count()),\n",
    "    'PyCharm' : (responses_df_2021['Q9_Part_5'].count()),\n",
    "    'Spyder' : (responses_df_2021['Q9_Part_6'].count()),\n",
    "    'Notepad++' : (responses_df_2021['Q9_Part_7'].count()),\n",
    "    'Sublime Text' : (responses_df_2021['Q9_Part_8'].count()),\n",
    "    'Vim, Emacs, or similar' : (responses_df_2021['Q9_Part_9'].count()),\n",
    "    'MATLAB' : (responses_df_2021['Q9_Part_10'].count()),\n",
    "    'Jupyter Notebook' : (responses_df_2021['Q9_Part_11'].count()),    \n",
    "    'None' : (responses_df_2021['Q9_Part_12'].count()),\n",
    "    'Other' : (responses_df_2021['Q9_OTHER'].count())\n",
    "}\n",
    "\n",
    "q10_dictionary_of_counts_2021 = {\n",
    "    'Kaggle Notebooks' : (responses_df_2021['Q10_Part_1'].count()),\n",
    "    'Colab Notebooks': (responses_df_2021['Q10_Part_2'].count()),\n",
    "    'Azure Notebooks' : (responses_df_2021['Q10_Part_3'].count()),\n",
    "    'Paperspace / Gradient' : (responses_df_2021['Q10_Part_4'].count()),\n",
    "    'Binder / JupyterHub' : (responses_df_2021['Q10_Part_5'].count()),\n",
    "    'Code Ocean' : (responses_df_2021['Q10_Part_6'].count()),\n",
    "    'IBM Watson Studio' : (responses_df_2021['Q10_Part_7'].count()),\n",
    "    'Amazon Sagemaker Studio Notebooks' : (responses_df_2021['Q10_Part_8'].count()),\n",
    "    'Amazon EMR Notebooks' : (responses_df_2021['Q10_Part_9'].count()),\n",
    "    'Google Cloud Notebooks (AI Platform / Vertex AI)' : (responses_df_2021['Q10_Part_10'].count()),\n",
    "    'Google Cloud Datalab' : (responses_df_2021['Q10_Part_11'].count()),\n",
    "    'Databricks Collaborative Notebooks' : (responses_df_2021['Q10_Part_12'].count()),\n",
    "    'Zeppelin / Zepl Notebooks' : (responses_df_2021['Q10_Part_13'].count()),\n",
    "    'Deepnote Notebooks' : (responses_df_2021['Q10_Part_14'].count()),\n",
    "    'Observable Notebooks' : (responses_df_2021['Q10_Part_15'].count()),\n",
    "    'None' : (responses_df_2021['Q10_Part_16'].count()),\n",
    "    'Other' : (responses_df_2021['Q10_OTHER'].count())\n",
    "}\n",
    "\n",
    "q12_dictionary_of_counts_2021 = {\n",
    "    'NVIDIA GPUs' : (responses_df_2021['Q12_Part_1'].count()),\n",
    "    'Google Cloud TPUs': (responses_df_2021['Q12_Part_2'].count()),\n",
    "    'AWS Trainium Chips': (responses_df_2021['Q12_Part_3'].count()),\n",
    "    'AWS Inferentia Chips': (responses_df_2021['Q12_Part_4'].count()),\n",
    "    'None' : (responses_df_2021['Q12_Part_5'].count()),\n",
    "    'Other' : (responses_df_2021['Q12_OTHER'].count())\n",
    "}\n",
    "\n",
    "q14_dictionary_of_counts_2021 = {\n",
    "    'Matplotlib' : (responses_df_2021['Q14_Part_1'].count()),\n",
    "    'Seaborn': (responses_df_2021['Q14_Part_2'].count()),\n",
    "    'Plotly / Plotly Express' : (responses_df_2021['Q14_Part_3'].count()),\n",
    "    'Ggplot / ggplot2' : (responses_df_2021['Q14_Part_4'].count()),\n",
    "    'Shiny' : (responses_df_2021['Q14_Part_5'].count()),\n",
    "    'D3.js' : (responses_df_2021['Q14_Part_6'].count()),\n",
    "    'Altair' : (responses_df_2021['Q14_Part_7'].count()),\n",
    "    'Bokeh' : (responses_df_2021['Q14_Part_8'].count()),\n",
    "    'Geoplotlib' : (responses_df_2021['Q14_Part_9'].count()),\n",
    "    'Leaflet / Folium' : (responses_df_2021['Q14_Part_10'].count()),\n",
    "    'None' : (responses_df_2021['Q14_Part_11'].count()),\n",
    "    'Other' : (responses_df_2021['Q14_OTHER'].count())\n",
    "}\n",
    "\n",
    "q16_dictionary_of_counts_2021 = {\n",
    "    'Scikit-learn' : (responses_df_2021['Q16_Part_1'].count()),\n",
    "    'TensorFlow': (responses_df_2021['Q16_Part_2'].count()),\n",
    "    'Keras' : (responses_df_2021['Q16_Part_3'].count()),\n",
    "    'PyTorch' : (responses_df_2021['Q16_Part_4'].count()),\n",
    "    'Fast.ai' : (responses_df_2021['Q16_Part_5'].count()),\n",
    "    'MXNet' : (responses_df_2021['Q16_Part_6'].count()),\n",
    "    'Xgboost' : (responses_df_2021['Q16_Part_7'].count()),\n",
    "    'LightGBM' : (responses_df_2021['Q16_Part_8'].count()),\n",
    "    'CatBoost' : (responses_df_2021['Q16_Part_9'].count()),\n",
    "    'Prophet' : (responses_df_2021['Q16_Part_10'].count()),\n",
    "    'H20-3' : (responses_df_2021['Q16_Part_11'].count()),\n",
    "    'Caret' : (responses_df_2021['Q16_Part_12'].count()),\n",
    "    'Tidymodels' : (responses_df_2021['Q16_Part_13'].count()),\n",
    "    'JAX' : (responses_df_2021['Q16_Part_14'].count()),\n",
    "    'PyTorch Lightning' : (responses_df_2021['Q16_Part_15'].count()),\\\n",
    "    'Huggingface' : (responses_df_2021['Q16_Part_16'].count()),\n",
    "    'None' : (responses_df_2021['Q16_Part_17'].count()),\n",
    "    'Other' : (responses_df_2021['Q16_OTHER'].count())\n",
    "}\n",
    "\n",
    "q17_dictionary_of_counts_2021 = {\n",
    "    'Linear or Logistic Regression' : (responses_df_2021['Q17_Part_1'].count()),\n",
    "    'Decision Trees or Random Forests': (responses_df_2021['Q17_Part_2'].count()),\n",
    "    'Gradient Boosting Machines (xgboost, lightgbm, etc)' : (responses_df_2021['Q17_Part_3'].count()),\n",
    "    'Bayesian Approaches' : (responses_df_2021['Q17_Part_4'].count()),\n",
    "    'Evolutionary Approaches' : (responses_df_2021['Q17_Part_5'].count()),\n",
    "    'Dense Neural Networks (MLPs, etc)' : (responses_df_2021['Q17_Part_6'].count()),\n",
    "    'Convolutional Neural Networks' : (responses_df_2021['Q17_Part_7'].count()),\n",
    "    'Generative Adversarial Networks' : (responses_df_2021['Q17_Part_8'].count()),\n",
    "    'Recurrent Neural Networks' : (responses_df_2021['Q17_Part_9'].count()),\n",
    "    'Transformer Networks (BERT, gpt-3, etc)' : (responses_df_2021['Q17_Part_10'].count()),\n",
    "    'None' : (responses_df_2021['Q17_Part_11'].count()),\n",
    "    'Other' : (responses_df_2021['Q17_OTHER'].count())\n",
    "}\n",
    "\n",
    "\n",
    "q18_dictionary_of_counts_2021 = {\n",
    "    'General purpose image/video tools (PIL, cv2, skimage, etc)' : (responses_df_2021['Q18_Part_1'].count()),\n",
    "    'Image segmentation methods (U-Net, Mask R-CNN, etc)': (responses_df_2021['Q18_Part_2'].count()),\n",
    "    'Object detection methods (YOLOv3, RetinaNet, etc)' : (responses_df_2021['Q18_Part_3'].count()),\n",
    "    'Image classification and other general purpose networks (VGG, Inception, ResNet, ResNeXt, NASNet, EfficientNet, etc)' : (responses_df_2021['Q18_Part_4'].count()),\n",
    "    'Generative Networks (GAN, VAE, etc)' : (responses_df_2021['Q18_Part_5'].count()),\n",
    "    'None' : (responses_df_2021['Q18_Part_6'].count()),\n",
    "    'Other' : (responses_df_2021['Q18_OTHER'].count())\n",
    "}\n",
    "\n",
    "\n",
    "q19_dictionary_of_counts_2021 = {\n",
    "    'Word embeddings/vectors (GLoVe, fastText, word2vec)' : (responses_df_2021['Q19_Part_1'].count()),\n",
    "    'Encoder-decoder models (seq2seq, vanilla transformers)': (responses_df_2021['Q19_Part_2'].count()),\n",
    "    'Contextualized embeddings (ELMo, CoVe)' : (responses_df_2021['Q19_Part_3'].count()),\n",
    "    'Transformer language models (GPT-3, BERT, XLnet, etc)' : (responses_df_2021['Q19_Part_4'].count()),\n",
    "    'None' : (responses_df_2021['Q19_Part_5'].count()),\n",
    "    'Other' : (responses_df_2021['Q19_OTHER'].count())\n",
    "}\n",
    "\n",
    "\n",
    "q24_dictionary_of_counts_2021 = {\n",
    "    'Analyze and understand data to influence product or business decisions' : (responses_df_2021['Q24_Part_1'].count()),\n",
    "    'Build and/or run the data infrastructure that my business uses for storing, analyzing, and operationalizing data': (responses_df_2021['Q24_Part_2'].count()),\n",
    "    'Build prototypes to explore applying machine learning to new areas' : (responses_df_2021['Q24_Part_3'].count()),\n",
    "    'Build and/or run a machine learning service that operationally improves my product or workflows' : (responses_df_2021['Q24_Part_4'].count()),\n",
    "    'Experimentation and iteration to improve existing ML models' : (responses_df_2021['Q24_Part_5'].count()),\n",
    "    'Do research that advances the state of the art of machine learning' : (responses_df_2021['Q24_Part_6'].count()),\n",
    "    'None of these activities are an important part of my role at work' : (responses_df_2021['Q24_Part_7'].count()),\n",
    "    'Other' : (responses_df_2021['Q24_OTHER'].count())\n",
    "}\n",
    "\n",
    "\n",
    "q27a_dictionary_of_counts_2021 = {\n",
    "    'Amazon Web Services (AWS)' : (responses_df_2021['Q27_A_Part_1'].count()),\n",
    "    'Microsoft Azure': (responses_df_2021['Q27_A_Part_2'].count()),\n",
    "    'Google Cloud Platform (GCP)' : (responses_df_2021['Q27_A_Part_3'].count()),\n",
    "    'IBM Cloud / Red Hat' : (responses_df_2021['Q27_A_Part_4'].count()),\n",
    "    'Oracle Cloud' : (responses_df_2021['Q27_A_Part_5'].count()),\n",
    "    'SAP Cloud' : (responses_df_2021['Q27_A_Part_6'].count()),\n",
    "    'Salesforce Cloud' : (responses_df_2021['Q27_A_Part_7'].count()),\n",
    "    'VMware Cloud' : (responses_df_2021['Q27_A_Part_8'].count()),\n",
    "    'Alibaba Cloud' : (responses_df_2021['Q27_A_Part_9'].count()),\n",
    "    'Tencent Cloud' : (responses_df_2021['Q27_A_Part_10'].count()),\n",
    "    'None' : (responses_df_2021['Q27_A_Part_11'].count()),\n",
    "    'Other' : (responses_df_2021['Q27_A_OTHER'].count())\n",
    "}\n",
    "\n",
    "q27b_dictionary_of_counts_2021 = {\n",
    "    'Amazon Web Services (AWS)' : (responses_df_2021['Q27_B_Part_1'].count()),\n",
    "    'Microsoft Azure': (responses_df_2021['Q27_B_Part_2'].count()),\n",
    "    'Google Cloud Platform (GCP)' : (responses_df_2021['Q27_B_Part_3'].count()),\n",
    "    'IBM Cloud / Red Hat' : (responses_df_2021['Q27_B_Part_4'].count()),\n",
    "    'Oracle Cloud' : (responses_df_2021['Q27_B_Part_5'].count()),\n",
    "    'SAP Cloud' : (responses_df_2021['Q27_B_Part_6'].count()),\n",
    "    'Salesforce Cloud' : (responses_df_2021['Q27_B_Part_7'].count()),\n",
    "    'VMware Cloud' : (responses_df_2021['Q27_B_Part_8'].count()),\n",
    "    'Alibaba Cloud' : (responses_df_2021['Q27_B_Part_9'].count()),\n",
    "    'Tencent Cloud' : (responses_df_2021['Q27_B_Part_10'].count()),\n",
    "    'None' : (responses_df_2021['Q27_B_Part_11'].count()),\n",
    "    'Other' : (responses_df_2021['Q27_B_OTHER'].count())\n",
    "}\n",
    "\n",
    "q29a_dictionary_of_counts_2021 = {\n",
    "    'Amazon Elastic Compute Cloud (EC2)' : (responses_df_2021['Q29_A_Part_1'].count()),\n",
    "    'Microsoft Azure Virtual Machines' : (responses_df_2021['Q29_A_Part_2'].count()),\n",
    "    'Google Cloud Compute Engine' : (responses_df_2021['Q29_A_Part_3'].count()),\n",
    "    'No / None' : (responses_df_2021['Q29_A_Part_4'].count()),\n",
    "    'Other' : (responses_df_2021['Q29_A_OTHER'].count())\n",
    "}\n",
    "\n",
    "q29b_dictionary_of_counts_2021 = {\n",
    "    'Amazon Elastic Compute Cloud (EC2)' : (responses_df_2021['Q29_B_Part_1'].count()),\n",
    "    'Microsoft Azure Virtual Machines' : (responses_df_2021['Q29_B_Part_2'].count()),\n",
    "    'Google Cloud Compute Engine' : (responses_df_2021['Q29_B_Part_3'].count()),\n",
    "    'No / None' : (responses_df_2021['Q29_B_Part_4'].count()),\n",
    "    'Other' : (responses_df_2021['Q29_B_OTHER'].count())\n",
    "}\n",
    "\n",
    "q30a_dictionary_of_counts_2021 = {\n",
    "    'Microsoft Azure Data Lake Storage' : (responses_df_2021['Q30_A_Part_1'].count()),\n",
    "    'Microsoft Azure Disk Storage': (responses_df_2021['Q30_A_Part_2'].count()),\n",
    "    'Amazon Simple Storage Service (S3) ' : (responses_df_2021['Q30_A_Part_3'].count()),\n",
    "    'Amazon Elastic File System (EFS) ' : (responses_df_2021['Q30_A_Part_4'].count()),\n",
    "    'Google Cloud Storage (GCS) ' : (responses_df_2021['Q30_A_Part_5'].count()),\n",
    "    'Google Cloud Filestore' : (responses_df_2021['Q30_A_Part_6'].count()),\n",
    "    'No / None' : (responses_df_2021['Q30_A_Part_7'].count()),\n",
    "    'Other' : (responses_df_2021['Q30_A_OTHER'].count())\n",
    "}\n",
    "\n",
    "q30b_dictionary_of_counts_2021 = {\n",
    "    'Microsoft Azure Data Lake Storage' : (responses_df_2021['Q30_B_Part_1'].count()),\n",
    "    'Microsoft Azure Disk Storage': (responses_df_2021['Q30_B_Part_2'].count()),\n",
    "    'Amazon Simple Storage Service (S3) ' : (responses_df_2021['Q30_B_Part_3'].count()),\n",
    "    'Amazon Elastic File System (EFS) ' : (responses_df_2021['Q30_B_Part_4'].count()),\n",
    "    'Google Cloud Storage (GCS) ' : (responses_df_2021['Q30_B_Part_5'].count()),\n",
    "    'Google Cloud Filestore' : (responses_df_2021['Q30_B_Part_6'].count()),\n",
    "    'No / None' : (responses_df_2021['Q30_B_Part_7'].count()),\n",
    "    'Other' : (responses_df_2021['Q30_B_OTHER'].count())\n",
    "}\n",
    "\n",
    "q31a_dictionary_of_counts_2021 = {\n",
    "    'Amazon SageMaker' : (responses_df_2021['Q31_A_Part_1'].count()),\n",
    "    'Azure Machine Learning Studio': (responses_df_2021['Q31_A_Part_2'].count()),\n",
    "    'Google Cloud Vertex AI' : (responses_df_2021['Q31_A_Part_3'].count()),\n",
    "    'DataRobot' : (responses_df_2021['Q31_A_Part_4'].count()),\n",
    "    'Databricks' : (responses_df_2021['Q31_A_Part_5'].count()),\n",
    "    'Dataiku' : (responses_df_2021['Q31_A_Part_6'].count()),\n",
    "    'Alteryx' : (responses_df_2021['Q31_A_Part_7'].count()),\n",
    "    'Rapidminer' : (responses_df_2021['Q31_A_Part_8'].count()),\n",
    "    'No / None' : (responses_df_2021['Q31_A_Part_9'].count()),\n",
    "    'Other' : (responses_df_2021['Q31_A_OTHER'].count())\n",
    "}\n",
    "\n",
    "q31b_dictionary_of_counts_2021 = {\n",
    "    'Amazon SageMaker' : (responses_df_2021['Q31_B_Part_1'].count()),\n",
    "    'Azure Machine Learning Studio': (responses_df_2021['Q31_B_Part_2'].count()),\n",
    "    'Google Cloud Vertex AI' : (responses_df_2021['Q31_B_Part_3'].count()),\n",
    "    'DataRobot' : (responses_df_2021['Q31_B_Part_4'].count()),\n",
    "    'Databricks' : (responses_df_2021['Q31_B_Part_5'].count()),\n",
    "    'Dataiku' : (responses_df_2021['Q31_B_Part_6'].count()),\n",
    "    'Alteryx' : (responses_df_2021['Q31_B_Part_7'].count()),\n",
    "    'Rapidminer' : (responses_df_2021['Q31_B_Part_8'].count()),\n",
    "    'No / None' : (responses_df_2021['Q31_B_Part_9'].count()),\n",
    "    'Other' : (responses_df_2021['Q31_B_OTHER'].count())\n",
    "}\n",
    "\n",
    "q32a_dictionary_of_counts_2021 = { \n",
    "    'MySQL' : (responses_df_2021['Q32_A_Part_1'].count()),\n",
    "    'PostgreSQL': (responses_df_2021['Q32_A_Part_2'].count()),\n",
    "    'SQLite' : (responses_df_2021['Q32_A_Part_3'].count()),\n",
    "    'Oracle Database' : (responses_df_2021['Q32_A_Part_4'].count()),\n",
    "    'MongoDB' : (responses_df_2021['Q32_A_Part_5'].count()),\n",
    "    'Snowflake' : (responses_df_2021['Q32_A_Part_6'].count()),\n",
    "    'IBM Db2' : (responses_df_2021['Q32_A_Part_7'].count()),\n",
    "    'Microsoft SQL Server' : (responses_df_2021['Q32_A_Part_8'].count()),\n",
    "    'Microsoft Azure SQL Database' : (responses_df_2021['Q32_A_Part_9'].count()), \n",
    "    'Microsoft Azure Cosmos DB' : (responses_df_2021['Q32_A_Part_10'].count()),\n",
    "    'Amazon Redshift' : (responses_df_2021['Q32_A_Part_11'].count()), \n",
    "    'Amazon Aurora' : (responses_df_2021['Q32_A_Part_12'].count()),\n",
    "    'Amazon RDS' : (responses_df_2021['Q32_A_Part_13'].count()),\n",
    "    'Amazon DynamoDB' : (responses_df_2021['Q32_A_Part_14'].count()),\n",
    "    'Google Cloud BigQuery' : (responses_df_2021['Q32_A_Part_15'].count()),\n",
    "    'Google Cloud SQL' : (responses_df_2021['Q32_A_Part_16'].count()),\n",
    "    'Google Cloud Firestore' : (responses_df_2021['Q32_A_Part_17'].count()),\n",
    "    'Google Cloud BigTable' : (responses_df_2021['Q32_A_Part_18'].count()),\n",
    "    'Google Cloud Spanner' : (responses_df_2021['Q32_A_Part_19'].count()),\n",
    "    'None' : (responses_df_2021['Q32_A_Part_20'].count()),\n",
    "    'Other' : (responses_df_2021['Q32_A_OTHER'].count())\n",
    "}\n",
    "\n",
    "\n",
    "q32b_dictionary_of_counts_2021 = {\n",
    "    'MySQL' : (responses_df_2021['Q32_B_Part_1'].count()),\n",
    "    'PostgreSQL': (responses_df_2021['Q32_B_Part_2'].count()),\n",
    "    'SQLite' : (responses_df_2021['Q32_B_Part_3'].count()),\n",
    "    'Oracle Database' : (responses_df_2021['Q32_B_Part_4'].count()),\n",
    "    'MongoDB' : (responses_df_2021['Q32_B_Part_5'].count()),\n",
    "    'Snowflake' : (responses_df_2021['Q32_B_Part_6'].count()),\n",
    "    'IBM Db2' : (responses_df_2021['Q32_B_Part_7'].count()),\n",
    "    'Microsoft SQL Server' : (responses_df_2021['Q32_B_Part_8'].count()),\n",
    "    'Microsoft Azure SQL Database' : (responses_df_2021['Q32_B_Part_9'].count()), \n",
    "    'Microsoft Azure Cosmos DB' : (responses_df_2021['Q32_B_Part_10'].count()),\n",
    "    'Amazon Redshift' : (responses_df_2021['Q32_B_Part_11'].count()), \n",
    "    'Amazon Aurora' : (responses_df_2021['Q32_B_Part_12'].count()),\n",
    "    'Amazon RDS' : (responses_df_2021['Q32_B_Part_13'].count()),\n",
    "    'Amazon DynamoDB' : (responses_df_2021['Q32_B_Part_14'].count()),\n",
    "    'Google Cloud BigQuery' : (responses_df_2021['Q32_B_Part_15'].count()),\n",
    "    'Google Cloud SQL' : (responses_df_2021['Q32_B_Part_16'].count()),\n",
    "    'Google Cloud Firestore' : (responses_df_2021['Q32_B_Part_17'].count()),\n",
    "    'Google Cloud BigTable' : (responses_df_2021['Q32_B_Part_18'].count()),\n",
    "    'Google Cloud Spanner' : (responses_df_2021['Q32_B_Part_19'].count()),\n",
    "    'None' : (responses_df_2021['Q32_B_Part_20'].count()),\n",
    "    'Other' : (responses_df_2021['Q32_B_OTHER'].count())\n",
    "}\n",
    "\n",
    "q34a_dictionary_of_counts_2021 = { \n",
    "    'Amazon QuickSight' : (responses_df_2021['Q34_A_Part_1'].count()),\n",
    "    'Microsoft Power BI': (responses_df_2021['Q34_A_Part_2'].count()),\n",
    "    'Google Data Studio' : (responses_df_2021['Q34_A_Part_3'].count()),\n",
    "    'Looker' : (responses_df_2021['Q34_A_Part_4'].count()),\n",
    "    'Tableau' : (responses_df_2021['Q34_A_Part_5'].count()),\n",
    "    'Salesforce' : (responses_df_2021['Q34_A_Part_6'].count()),\n",
    "    'Tableau CRM' : (responses_df_2021['Q34_A_Part_7'].count()),\n",
    "    'Qlik' : (responses_df_2021['Q34_A_Part_8'].count()),\n",
    "    'Domo' : (responses_df_2021['Q34_A_Part_9'].count()),\n",
    "    'TIBCO Spotfire' : (responses_df_2021['Q34_A_Part_10'].count()),\n",
    "    'Alteryx' : (responses_df_2021['Q34_A_Part_11'].count()),\n",
    "    'Sisense' : (responses_df_2021['Q34_A_Part_12'].count()),\n",
    "    'SAP Analytics Cloud' : (responses_df_2021['Q34_A_Part_13'].count()),\n",
    "    'Microsoft Azure Synapse' : (responses_df_2021['Q34_A_Part_14'].count()),\n",
    "    'Thoughtspot' : (responses_df_2021['Q34_A_Part_15'].count()),\n",
    "    'None' : (responses_df_2021['Q34_A_Part_16'].count()),\n",
    "    'Other' : (responses_df_2021['Q34_A_OTHER'].count())\n",
    "}\n",
    "\n",
    "q34b_dictionary_of_counts_2021 = {\n",
    "    'Amazon QuickSight' : (responses_df_2021['Q34_B_Part_1'].count()),\n",
    "    'Microsoft Power BI': (responses_df_2021['Q34_B_Part_2'].count()),\n",
    "    'Google Data Studio' : (responses_df_2021['Q34_B_Part_3'].count()),\n",
    "    'Looker' : (responses_df_2021['Q34_B_Part_4'].count()),\n",
    "    'Tableau' : (responses_df_2021['Q34_B_Part_5'].count()),\n",
    "    'Salesforce' : (responses_df_2021['Q34_B_Part_6'].count()),\n",
    "    'Tableau CRM' : (responses_df_2021['Q34_B_Part_7'].count()),\n",
    "    'Qlik' : (responses_df_2021['Q34_B_Part_8'].count()),\n",
    "    'Domo' : (responses_df_2021['Q34_B_Part_9'].count()),\n",
    "    'TIBCO Spotfire' : (responses_df_2021['Q34_B_Part_10'].count()),\n",
    "    'Alteryx' : (responses_df_2021['Q34_B_Part_11'].count()),\n",
    "    'Sisense' : (responses_df_2021['Q34_B_Part_12'].count()),\n",
    "    'SAP Analytics Cloud' : (responses_df_2021['Q34_B_Part_13'].count()),\n",
    "    'Microsoft Azure Synapse' : (responses_df_2021['Q34_B_Part_14'].count()),\n",
    "    'Thoughtspot' : (responses_df_2021['Q34_B_Part_15'].count()),\n",
    "    'None' : (responses_df_2021['Q34_B_Part_16'].count()),\n",
    "    'Other' : (responses_df_2021['Q34_B_OTHER'].count())\n",
    "}\n",
    "\n",
    "q36a_dictionary_of_counts_2021 = {\n",
    "    'Automated data augmentation (e.g. imgaug, albumentations)' : (responses_df_2021['Q36_A_Part_1'].count()),\n",
    "    'Automated feature engineering/selection (e.g. tpot, boruta_py)': (responses_df_2021['Q36_A_Part_2'].count()),\n",
    "    'Automated model selection (e.g. auto-sklearn, xcessiv)' : (responses_df_2021['Q36_A_Part_3'].count()),\n",
    "    'Automated model architecture searches (e.g. darts, enas)' : (responses_df_2021['Q36_A_Part_4'].count()),\n",
    "    'Automated hyperparameter tuning (e.g. hyperopt, ray.tune, Vizier)' : (responses_df_2021['Q36_A_Part_5'].count()),\n",
    "    'Automation of full ML pipelines (e.g. Google AutoML, H20 Driverless AI)' : (responses_df_2021['Q36_A_Part_6'].count()),\n",
    "    'No / None' : (responses_df_2021['Q36_A_Part_7'].count()),\n",
    "    'Other' : (responses_df_2021['Q36_A_OTHER'].count())\n",
    "}\n",
    "\n",
    "q36b_dictionary_of_counts_2021 = {\n",
    "    'Automated data augmentation (e.g. imgaug, albumentations)' : (responses_df_2021['Q36_B_Part_1'].count()),\n",
    "    'Automated feature engineering/selection (e.g. tpot, boruta_py)': (responses_df_2021['Q36_B_Part_2'].count()),\n",
    "    'Automated model selection (e.g. auto-sklearn, xcessiv)' : (responses_df_2021['Q36_B_Part_3'].count()),\n",
    "    'Automated model architecture searches (e.g. darts, enas)' : (responses_df_2021['Q36_B_Part_4'].count()),\n",
    "    'Automated hyperparameter tuning (e.g. hyperopt, ray.tune, Vizier)' : (responses_df_2021['Q36_B_Part_5'].count()),\n",
    "    'Automation of full ML pipelines (e.g. Google AutoML, H20 Driverless AI)' : (responses_df_2021['Q36_B_Part_6'].count()),\n",
    "    'No / None' : (responses_df_2021['Q36_B_Part_7'].count()),\n",
    "    'Other' : (responses_df_2021['Q36_B_OTHER'].count())\n",
    "}\n",
    "\n",
    "q37a_dictionary_of_counts_2021 = {\n",
    "    'Google Cloud AutoML' : (responses_df_2021['Q37_A_Part_1'].count()),\n",
    "    'H20 Driverless AI': (responses_df_2021['Q37_A_Part_2'].count()),\n",
    "    'Databricks AutoML' : (responses_df_2021['Q37_A_Part_3'].count()),\n",
    "    'DataRobot AutoML' : (responses_df_2021['Q37_A_Part_4'].count()),\n",
    "    'Amazon Sagemaker Autopilot' : (responses_df_2021['Q37_A_Part_5'].count()),\n",
    "    'Azure Automated Machine Learning' : (responses_df_2021['Q37_A_Part_6'].count()),\n",
    "    'No / None' : (responses_df_2021['Q37_A_Part_7'].count()),\n",
    "    'Other' : (responses_df_2021['Q37_A_OTHER'].count())\n",
    "}\n",
    "\n",
    "q37b_dictionary_of_counts_2021 = {\n",
    "    'Google Cloud AutoML' : (responses_df_2021['Q37_B_Part_1'].count()),\n",
    "    'H20 Driverless AI': (responses_df_2021['Q37_B_Part_2'].count()),\n",
    "    'Databricks AutoML' : (responses_df_2021['Q37_B_Part_3'].count()),\n",
    "    'DataRobot AutoML' : (responses_df_2021['Q37_B_Part_4'].count()),\n",
    "    'Amazon Sagemaker Autopilot' : (responses_df_2021['Q37_B_Part_5'].count()),\n",
    "    'Azure Automated Machine Learning' : (responses_df_2021['Q37_B_Part_6'].count()),\n",
    "    'No / None' : (responses_df_2021['Q37_B_Part_7'].count()),\n",
    "    'Other' : (responses_df_2021['Q37_B_OTHER'].count())\n",
    "}\n",
    "\n",
    "\n",
    "q38a_dictionary_of_counts_2021 = {\n",
    "    'Neptune.ai' : (responses_df_2021['Q38_A_Part_1'].count()),\n",
    "    'Weights & Biases': (responses_df_2021['Q38_A_Part_2'].count()),\n",
    "    'Comet.ml' : (responses_df_2021['Q38_A_Part_3'].count()),\n",
    "    'Sacred + Omniboard' : (responses_df_2021['Q38_A_Part_4'].count()),\n",
    "    'TensorBoard' : (responses_df_2021['Q38_A_Part_5'].count()),\n",
    "    'Guild.ai' : (responses_df_2021['Q38_A_Part_6'].count()),\n",
    "    'Polyaxon' : (responses_df_2021['Q38_A_Part_7'].count()),\n",
    "    'ClearML' : (responses_df_2021['Q38_A_Part_8'].count()),\n",
    "    'Domino Model Monitor' : (responses_df_2021['Q38_A_Part_9'].count()),\n",
    "    'MLflow' : (responses_df_2021['Q38_A_Part_10'].count()),\n",
    "    'No / None' : (responses_df_2021['Q38_A_Part_11'].count()),\n",
    "    'Other' : (responses_df_2021['Q38_A_OTHER'].count())\n",
    "}\n",
    "\n",
    "\n",
    "q38b_dictionary_of_counts_2021 = {\n",
    "    'Neptune.ai' : (responses_df_2021['Q38_B_Part_1'].count()),\n",
    "    'Weights & Biases': (responses_df_2021['Q38_B_Part_2'].count()),\n",
    "    'Comet.ml' : (responses_df_2021['Q38_B_Part_3'].count()),\n",
    "    'Sacred + Omniboard' : (responses_df_2021['Q38_B_Part_4'].count()),\n",
    "    'TensorBoard' : (responses_df_2021['Q38_B_Part_5'].count()),\n",
    "    'Guild.ai' : (responses_df_2021['Q38_B_Part_6'].count()),\n",
    "    'Polyaxon' : (responses_df_2021['Q38_B_Part_7'].count()),\n",
    "    'ClearML' : (responses_df_2021['Q38_B_Part_8'].count()),\n",
    "    'Domino Model Monitor' : (responses_df_2021['Q38_B_Part_9'].count()),\n",
    "    'MLflow' : (responses_df_2021['Q38_B_Part_10'].count()),\n",
    "    'No / None' : (responses_df_2021['Q38_B_Part_11'].count()),\n",
    "    'Other' : (responses_df_2021['Q38_B_OTHER'].count())\n",
    "}\n",
    "\n",
    "q39_dictionary_of_counts_2021 = {\n",
    "    'Plotly Dash' : (responses_df_2021['Q39_Part_1'].count()),\n",
    "    'Streamlit': (responses_df_2021['Q39_Part_2'].count()),\n",
    "    'NBViewer' : (responses_df_2021['Q39_Part_3'].count()),\n",
    "    'GitHub' : (responses_df_2021['Q39_Part_4'].count()),\n",
    "    'Personal Blog' : (responses_df_2021['Q39_Part_5'].count()),\n",
    "    'Kaggle' : (responses_df_2021['Q39_Part_6'].count()),\n",
    "    'Colab' : (responses_df_2021['Q39_Part_7'].count()),\n",
    "    'Shiny' : (responses_df_2021['Q39_Part_8'].count()),\n",
    "    'None / I do not share my work publicly' : (responses_df_2021['Q39_Part_9'].count()),\n",
    "    'Other' : (responses_df_2021['Q39_OTHER'].count())\n",
    "}\n",
    "\n",
    "\n",
    "q40_dictionary_of_counts_2021 = {\n",
    "    'Coursera' : (responses_df_2021['Q40_Part_1'].count()),\n",
    "    'EdX': (responses_df_2021['Q40_Part_2'].count()),\n",
    "    'Kaggle Learn Courses' : (responses_df_2021['Q40_Part_3'].count()),\n",
    "    'DataCamp' : (responses_df_2021['Q40_Part_4'].count()),\n",
    "    'Fast.ai' : (responses_df_2021['Q40_Part_5'].count()),\n",
    "    'Udacity' : (responses_df_2021['Q40_Part_6'].count()),\n",
    "    'Udemy' : (responses_df_2021['Q40_Part_7'].count()),\n",
    "    'LinkedIn Learning' : (responses_df_2021['Q40_Part_8'].count()),\n",
    "    'Cloud-certification programs' : (responses_df_2021['Q40_Part_9'].count()),\n",
    "    'University Courses' : (responses_df_2021['Q40_Part_10'].count()),\n",
    "    'None' : (responses_df_2021['Q40_Part_11'].count()),\n",
    "    'Other' : (responses_df_2021['Q40_OTHER'].count())\n",
    "}\n",
    "\n",
    "\n",
    "q42_dictionary_of_counts_2021 = {\n",
    "    'Twitter (data science influencers)' : (responses_df_2021['Q42_Part_1'].count()),\n",
    "    'Email newsletters (Data Elixir, OReilly Data & AI, etc)': (responses_df_2021['Q42_Part_2'].count()),\n",
    "    'Reddit (r/machinelearning, etc)' : (responses_df_2021['Q42_Part_3'].count()),\n",
    "    'Kaggle (notebooks, forums, etc)' : (responses_df_2021['Q42_Part_4'].count()),\n",
    "    'Course Forums (forums.fast.ai, Coursera forums, etc)' : (responses_df_2021['Q42_Part_5'].count()),\n",
    "    'YouTube (Kaggle YouTube, Cloud AI Adventures, etc)' : (responses_df_2021['Q42_Part_6'].count()),\n",
    "    'Podcasts (Chai Time Data Science, OReilly Data Show, etc)' : (responses_df_2021['Q42_Part_7'].count()),\n",
    "    'Blogs (Towards Data Science, Analytics Vidhya, etc)' : (responses_df_2021['Q42_Part_8'].count()),\n",
    "    'Journal Publications (peer-reviewed journals, conference proceedings, etc)' : (responses_df_2021['Q42_Part_9'].count()),\n",
    "    'Slack Communities (ods.ai, kagglenoobs, etc)' : (responses_df_2021['Q42_Part_10'].count()),\n",
    "    'None' : (responses_df_2021['Q42_Part_11'].count()),\n",
    "    'Other' : (responses_df_2021['Q42_OTHER'].count())\n",
    "}\n",
    "\n",
    "# Questions where respondents can select more than one answer choice have been split into multiple columns.\n",
    "# These lists delineate every sub-column for every multiple-column question.\n",
    "\n",
    "\n",
    "q7_list_of_columns_2018 = ['Q16_Part_1',\n",
    "                      'Q16_Part_2',\n",
    "                      'Q16_Part_3',\n",
    "                      'Q16_Part_4',\n",
    "                      'Q16_Part_5',\n",
    "                      'Q16_Part_6',\n",
    "                      'Q16_Part_7',\n",
    "                      'Q16_Part_8',\n",
    "                      'Q16_Part_9',\n",
    "                      'Q16_Part_10',\n",
    "                      'Q16_Part_11',\n",
    "                      'Q16_Part_12']\n",
    "\n",
    "q9_list_of_columns_2018 = ['Q13_Part_1',\n",
    "                      'Q13_Part_2',\n",
    "                      'Q13_Part_3',\n",
    "                      'Q13_Part_4',\n",
    "                      'Q13_Part_5',\n",
    "                      'Q13_Part_6',\n",
    "                      'Q13_Part_7',\n",
    "                      'Q13_Part_8',\n",
    "                      'Q13_Part_9',\n",
    "                      'Q13_Part_10',\n",
    "                      'Q13_Part_11',\n",
    "                      'Q13_Part_12']\n",
    "\n",
    "\n",
    "q10_list_of_columns_2018 = ['Q14_Part_1',\n",
    "                       'Q14_Part_2',\n",
    "                       'Q14_Part_3',\n",
    "                       'Q14_Part_4',\n",
    "                       'Q14_Part_5',\n",
    "                       'Q14_Part_6',\n",
    "                       'Q14_Part_7',\n",
    "                       'Q14_Part_8',\n",
    "                       'Q14_Part_9',\n",
    "                       'Q14_Part_10',\n",
    "                       'Q14_Part_11']\n",
    "\n",
    "q14_list_of_columns_2018 = ['Q21_Part_1',\n",
    "                            'Q21_Part_2',\n",
    "                            'Q21_Part_3',\n",
    "                            'Q21_Part_4',\n",
    "                            'Q21_Part_5',\n",
    "                            'Q21_Part_6',\n",
    "                            'Q21_Part_7',\n",
    "                            'Q21_Part_8',\n",
    "                            'Q21_Part_9',\n",
    "                            'Q21_Part_10',\n",
    "                            'Q21_Part_11',\n",
    "                            'Q21_Part_12']\n",
    "\n",
    "q16_list_of_columns_2018 = ['Q19_Part_1',\n",
    "                       'Q19_Part_2',\n",
    "                       'Q19_Part_3',\n",
    "                       'Q19_Part_4',\n",
    "                       'Q19_Part_5',\n",
    "                       'Q19_Part_6',\n",
    "                       'Q19_Part_7',\n",
    "                       'Q19_Part_8',\n",
    "                       'Q19_Part_9',\n",
    "                       'Q19_Part_10',\n",
    "                       'Q19_Part_11',\n",
    "                       'Q19_Part_12']\n",
    "\n",
    "\n",
    "\n",
    "q26a_list_of_columns_2018 = ['Q15_Part_1',\n",
    "                        'Q15_Part_2',\n",
    "                        'Q15_Part_3',\n",
    "                        'Q15_Part_4',\n",
    "                        'Q15_Part_5',\n",
    "                        'Q15_Part_6',\n",
    "                        'Q15_Part_7']\n",
    "\n",
    "\n",
    "q29a_list_of_columns_2018 = ['Q29_Part_1',\n",
    "                        'Q29_Part_2',\n",
    "                        'Q29_Part_3',\n",
    "                        'Q29_Part_4',\n",
    "                        'Q29_Part_5',\n",
    "                        'Q29_Part_6',\n",
    "                        'Q29_Part_7',\n",
    "                        'Q29_Part_8',\n",
    "                        'Q29_Part_9',\n",
    "                        'Q29_Part_10',\n",
    "                        'Q29_Part_11',\n",
    "                        'Q29_Part_12']\n",
    "\n",
    "\n",
    "# Questions where respondents can select more than one answer choice have been split into multiple columns.\n",
    "# These lists delineate every sub-column for every multiple-column question.\n",
    "\n",
    "q7_list_of_columns_2019 = ['Q18_Part_1',\n",
    "                      'Q18_Part_2',\n",
    "                      'Q18_Part_3',\n",
    "                      'Q18_Part_4',\n",
    "                      'Q18_Part_5',\n",
    "                      'Q18_Part_6',\n",
    "                      'Q18_Part_7',\n",
    "                      'Q18_Part_8',\n",
    "                      'Q18_Part_9',\n",
    "                      'Q18_Part_10',\n",
    "                      'Q18_Part_11',\n",
    "                      'Q18_Part_12']\n",
    "\n",
    "\n",
    "q9_list_of_columns_2019 = ['Q16_Part_1',\n",
    "                      'Q16_Part_2',\n",
    "                      'Q16_Part_3',\n",
    "                      'Q16_Part_4',\n",
    "                      'Q16_Part_5',\n",
    "                      'Q16_Part_6',\n",
    "                      'Q16_Part_7',\n",
    "                      'Q16_Part_8',\n",
    "                      'Q16_Part_9',\n",
    "                      'Q16_Part_10',\n",
    "                      'Q16_Part_11',\n",
    "                      'Q16_Part_12']\n",
    "\n",
    "\n",
    "q10_list_of_columns_2019 = ['Q17_Part_1',\n",
    "                       'Q17_Part_2',\n",
    "                       'Q17_Part_3',\n",
    "                       'Q17_Part_4',\n",
    "                       'Q17_Part_5',\n",
    "                       'Q17_Part_6',\n",
    "                       'Q17_Part_7',\n",
    "                       'Q17_Part_8',\n",
    "                       'Q17_Part_9',\n",
    "                       'Q17_Part_10',\n",
    "                       'Q17_Part_11',\n",
    "                       'Q17_Part_12']\n",
    "\n",
    "\n",
    "q12_list_of_columns_2019 = ['Q21_Part_1',\n",
    "                            'Q21_Part_2',\n",
    "                            'Q21_Part_3',\n",
    "                            'Q21_Part_4',\n",
    "                            'Q21_Part_5']\n",
    "\n",
    "q14_list_of_columns_2019 = ['Q20_Part_1',\n",
    "                            'Q20_Part_2',\n",
    "                            'Q20_Part_3',\n",
    "                            'Q20_Part_4',\n",
    "                            'Q20_Part_5',\n",
    "                            'Q20_Part_6',\n",
    "                            'Q20_Part_7',\n",
    "                            'Q20_Part_8',\n",
    "                            'Q20_Part_9',\n",
    "                            'Q20_Part_10',\n",
    "                            'Q20_Part_11',\n",
    "                            'Q20_Part_12']\n",
    "\n",
    "\n",
    "q16_list_of_columns_2019 = ['Q28_Part_1',\n",
    "                       'Q28_Part_2',\n",
    "                       'Q28_Part_3',\n",
    "                       'Q28_Part_4',\n",
    "                       'Q28_Part_5',\n",
    "                       'Q28_Part_6',\n",
    "                       'Q28_Part_7',\n",
    "                       'Q28_Part_8',\n",
    "                       'Q28_Part_9',\n",
    "                       'Q28_Part_10',\n",
    "                       'Q28_Part_11',\n",
    "                       'Q28_Part_12']\n",
    "\n",
    "\n",
    "q17_list_of_columns_2019 = ['Q24_Part_1',\n",
    "                       'Q24_Part_2',\n",
    "                       'Q24_Part_3',\n",
    "                       'Q24_Part_4',\n",
    "                       'Q24_Part_5',\n",
    "                       'Q24_Part_6',\n",
    "                       'Q24_Part_7',\n",
    "                       'Q24_Part_8',\n",
    "                       'Q24_Part_9',\n",
    "                       'Q24_Part_10',\n",
    "                       'Q24_Part_11',\n",
    "                       'Q24_Part_12']\n",
    "\n",
    "q18_list_of_columns_2019 = ['Q26_Part_1',\n",
    "                       'Q26_Part_2',\n",
    "                       'Q26_Part_3',\n",
    "                       'Q26_Part_4',\n",
    "                       'Q26_Part_5',\n",
    "                       'Q26_Part_6',\n",
    "                       'Q26_Part_7']\n",
    "\n",
    "q19_list_of_columns_2019 = ['Q27_Part_1',\n",
    "                       'Q27_Part_2',\n",
    "                       'Q27_Part_3',\n",
    "                       'Q27_Part_4',\n",
    "                       'Q27_Part_5',\n",
    "                       'Q27_Part_6']\n",
    "\n",
    "q26a_list_of_columns_2019 = ['Q29_Part_1',\n",
    "                        'Q29_Part_2',\n",
    "                        'Q29_Part_3',\n",
    "                        'Q29_Part_4',\n",
    "                        'Q29_Part_5',\n",
    "                        'Q29_Part_6',\n",
    "                        'Q29_Part_7',\n",
    "                        'Q29_Part_8',\n",
    "                        'Q29_Part_9',\n",
    "                        'Q29_Part_10',\n",
    "                        'Q29_Part_11',\n",
    "                        'Q29_Part_12']\n",
    "\n",
    "q27a_list_of_columns_2019 = ['Q27_A_Part_1',\n",
    "                        'Q27_A_Part_2',\n",
    "                        'Q27_A_Part_3',\n",
    "                        'Q27_A_Part_4',\n",
    "                        'Q27_A_Part_5',\n",
    "                        'Q27_A_Part_6',\n",
    "                        'Q27_A_Part_7',\n",
    "                        'Q27_A_Part_8',\n",
    "                        'Q27_A_Part_9',\n",
    "                        'Q27_A_Part_10',\n",
    "                        'Q27_A_Part_11',\n",
    "                        'Q27_A_OTHER']\n",
    "\n",
    "q29a_list_of_columns_2019 = ['Q34_Part_1',\n",
    "                        'Q34_Part_2',\n",
    "                        'Q34_Part_3',\n",
    "                        'Q34_Part_4',\n",
    "                        'Q34_Part_5',\n",
    "                        'Q34_Part_6',\n",
    "                        'Q34_Part_7',\n",
    "                        'Q34_Part_8',\n",
    "                        'Q34_Part_9',\n",
    "                        'Q34_Part_10',\n",
    "                        'Q34_Part_11',\n",
    "                        'Q34_Part_12']\n",
    "\n",
    "q37a_list_of_columns_2019 = ['Q33_Part_1',\n",
    "                        'Q33_Part_2',\n",
    "                        'Q33_Part_3',\n",
    "                        'Q33_Part_4',\n",
    "                        'Q33_Part_5',\n",
    "                        'Q33_Part_6',\n",
    "                        'Q33_Part_7',\n",
    "                        'Q33_Part_8',\n",
    "                        'Q33_Part_9',\n",
    "                        'Q33_Part_10',\n",
    "                        'Q33_Part_11',\n",
    "                        'Q33_Part_12']\n",
    "\n",
    "# Questions where respondents can select more than one answer choice have been split into multiple columns.\n",
    "# These lists delineate every sub-column for every multiple-column question.\n",
    "\n",
    "q7_list_of_columns_2020 = ['Q7_Part_1',\n",
    "                      'Q7_Part_2',\n",
    "                      'Q7_Part_3',\n",
    "                      'Q7_Part_4',\n",
    "                      'Q7_Part_5',\n",
    "                      'Q7_Part_6',\n",
    "                      'Q7_Part_7',\n",
    "                      'Q7_Part_8',\n",
    "                      'Q7_Part_9',\n",
    "                      'Q7_Part_10',\n",
    "                      'Q7_Part_11',\n",
    "                      'Q7_Part_12',\n",
    "                      'Q7_OTHER']\n",
    "\n",
    "q9_list_of_columns_2020 = ['Q9_Part_1',\n",
    "                      'Q9_Part_2',\n",
    "                      'Q9_Part_3',\n",
    "                      'Q9_Part_4',\n",
    "                      'Q9_Part_5',\n",
    "                      'Q9_Part_6',\n",
    "                      'Q9_Part_7',\n",
    "                      'Q9_Part_8',\n",
    "                      'Q9_Part_9',\n",
    "                      'Q9_Part_10',\n",
    "                      'Q9_Part_11',\n",
    "                      'Q9_OTHER']\n",
    "\n",
    "q10_list_of_columns_2020 = ['Q10_Part_1',\n",
    "                       'Q10_Part_2',\n",
    "                       'Q10_Part_3',\n",
    "                       'Q10_Part_4',\n",
    "                       'Q10_Part_5',\n",
    "                       'Q10_Part_6',\n",
    "                       'Q10_Part_7',\n",
    "                       'Q10_Part_8',\n",
    "                       'Q10_Part_9',\n",
    "                       'Q10_Part_10',\n",
    "                       'Q10_Part_11',\n",
    "                       'Q10_Part_12',\n",
    "                       'Q10_Part_13',\n",
    "                       'Q10_OTHER']\n",
    "\n",
    "q12_list_of_columns_2020 = ['Q12_Part_1',\n",
    "                            'Q12_Part_2',\n",
    "                            'Q12_Part_3',\n",
    "                            'Q12_OTHER']\n",
    "\n",
    "q14_list_of_columns_2020 = ['Q14_Part_1',\n",
    "                            'Q14_Part_2',\n",
    "                            'Q14_Part_3',\n",
    "                            'Q14_Part_4',\n",
    "                            'Q14_Part_5',\n",
    "                            'Q14_Part_6',\n",
    "                            'Q14_Part_7',\n",
    "                            'Q14_Part_8',\n",
    "                            'Q14_Part_9',\n",
    "                            'Q14_Part_10',\n",
    "                            'Q14_Part_11',\n",
    "                            'Q14_OTHER']\n",
    "\n",
    "q16_list_of_columns_2020 = ['Q16_Part_1',\n",
    "                       'Q16_Part_2',\n",
    "                       'Q16_Part_3',\n",
    "                       'Q16_Part_4',\n",
    "                       'Q16_Part_5',\n",
    "                       'Q16_Part_6',\n",
    "                       'Q16_Part_7',\n",
    "                       'Q16_Part_8',\n",
    "                       'Q16_Part_9',\n",
    "                       'Q16_Part_10',\n",
    "                       'Q16_Part_11',\n",
    "                       'Q16_Part_12',\n",
    "                       'Q16_Part_13',\n",
    "                       'Q16_Part_14',\n",
    "                       'Q16_Part_15',\n",
    "                       'Q16_OTHER']\n",
    "\n",
    "q17_list_of_columns_2020 = ['Q17_Part_1',\n",
    "                       'Q17_Part_2',\n",
    "                       'Q17_Part_3',\n",
    "                       'Q17_Part_4',\n",
    "                       'Q17_Part_5',\n",
    "                       'Q17_Part_6',\n",
    "                       'Q17_Part_7',\n",
    "                       'Q17_Part_8',\n",
    "                       'Q17_Part_9',\n",
    "                       'Q17_Part_10',\n",
    "                       'Q17_Part_11',\n",
    "                       'Q17_OTHER']\n",
    "\n",
    "q18_list_of_columns_2020 = ['Q18_Part_1',\n",
    "                       'Q18_Part_2',\n",
    "                       'Q18_Part_3',\n",
    "                       'Q18_Part_4',\n",
    "                       'Q18_Part_5',\n",
    "                       'Q18_Part_6',\n",
    "                       'Q18_OTHER']\n",
    "\n",
    "q19_list_of_columns_2020 = ['Q19_Part_1',\n",
    "                       'Q19_Part_2',\n",
    "                       'Q19_Part_3',\n",
    "                       'Q19_Part_4',\n",
    "                       'Q19_Part_5',\n",
    "                       'Q19_OTHER']\n",
    "\n",
    "q23_list_of_columns_2020 = ['Q23_Part_1',\n",
    "                       'Q23_Part_2',\n",
    "                       'Q23_Part_3',\n",
    "                       'Q23_Part_4',\n",
    "                       'Q23_Part_5',\n",
    "                       'Q23_Part_6',\n",
    "                       'Q23_Part_7',\n",
    "                       'Q23_OTHER']\n",
    "\n",
    "q26a_list_of_columns_2020 = ['Q26_A_Part_1',\n",
    "                        'Q26_A_Part_2',\n",
    "                        'Q26_A_Part_3',\n",
    "                        'Q26_A_Part_4',\n",
    "                        'Q26_A_Part_5',\n",
    "                        'Q26_A_Part_6',\n",
    "                        'Q26_A_Part_7',\n",
    "                        'Q26_A_Part_8',\n",
    "                        'Q26_A_Part_9',\n",
    "                        'Q26_A_Part_10',\n",
    "                        'Q26_A_Part_11',\n",
    "                        'Q26_A_OTHER']\n",
    "\n",
    "q26b_list_of_columns_2020 = ['Q26_B_Part_1',\n",
    "                        'Q26_B_Part_2',\n",
    "                        'Q26_B_Part_3',\n",
    "                        'Q26_B_Part_4',\n",
    "                        'Q26_B_Part_5',\n",
    "                        'Q26_B_Part_6',\n",
    "                        'Q26_B_Part_7',\n",
    "                        'Q26_B_Part_8',\n",
    "                        'Q26_B_Part_9',\n",
    "                        'Q26_B_Part_10',\n",
    "                        'Q26_B_Part_11',\n",
    "                        'Q26_B_OTHER']\n",
    "\n",
    "q27a_list_of_columns_2020 = ['Q27_A_Part_1',\n",
    "                        'Q27_A_Part_2',\n",
    "                        'Q27_A_Part_3',\n",
    "                        'Q27_A_Part_4',\n",
    "                        'Q27_A_Part_5',\n",
    "                        'Q27_A_Part_6',\n",
    "                        'Q27_A_Part_7',\n",
    "                        'Q27_A_Part_8',\n",
    "                        'Q27_A_Part_9',\n",
    "                        'Q27_A_Part_10',\n",
    "                        'Q27_A_Part_11',\n",
    "                        'Q27_A_OTHER']\n",
    "\n",
    "q27b_dictionary_of_counts_2020 = ['Q27_B_Part_1',\n",
    "                             'Q27_B_Part_2',\n",
    "                             'Q27_B_Part_3',\n",
    "                             'Q27_B_Part_4',\n",
    "                             'Q27_B_Part_5',\n",
    "                             'Q27_B_Part_6',\n",
    "                             'Q27_B_Part_7',\n",
    "                             'Q27_B_Part_8',\n",
    "                             'Q27_B_Part_9',\n",
    "                             'Q27_B_Part_10',\n",
    "                             'Q27_B_Part_11',\n",
    "                             'Q27_B_OTHER']\n",
    "\n",
    "q28a_list_of_columns_2020 = ['Q28_A_Part_1',\n",
    "                        'Q28_A_Part_2',\n",
    "                        'Q28_A_Part_3',\n",
    "                        'Q28_A_Part_4',\n",
    "                        'Q28_A_Part_5',\n",
    "                        'Q28_A_Part_6',\n",
    "                        'Q28_A_Part_7',\n",
    "                        'Q28_A_Part_8',\n",
    "                        'Q28_A_Part_9',\n",
    "                        'Q28_A_Part_10',\n",
    "                        'Q28_A_OTHER']\n",
    "\n",
    "q28b_list_of_columns_2020 = ['Q28_B_Part_1',\n",
    "                        'Q28_B_Part_2',\n",
    "                        'Q28_B_Part_3',\n",
    "                        'Q28_B_Part_4',\n",
    "                        'Q28_B_Part_5',\n",
    "                        'Q28_B_Part_6',\n",
    "                        'Q28_B_Part_7',\n",
    "                        'Q28_B_Part_8',\n",
    "                        'Q28_B_Part_9',\n",
    "                        'Q28_B_Part_10',\n",
    "                        'Q28_B_OTHER']\n",
    "\n",
    "q29a_list_of_columns_2020 = ['Q29_A_Part_1',\n",
    "                        'Q29_A_Part_2',\n",
    "                        'Q29_A_Part_3',\n",
    "                        'Q29_A_Part_4',\n",
    "                        'Q29_A_Part_5',\n",
    "                        'Q29_A_Part_6',\n",
    "                        'Q29_A_Part_7',\n",
    "                        'Q29_A_Part_8',\n",
    "                        'Q29_A_Part_9',\n",
    "                        'Q29_A_Part_10',\n",
    "                        'Q29_A_Part_11',\n",
    "                        'Q29_A_Part_12',\n",
    "                        'Q29_A_Part_13',\n",
    "                        'Q29_A_Part_14',\n",
    "                        'Q29_A_Part_15',\n",
    "                        'Q29_A_Part_16',\n",
    "                        'Q29_A_Part_17',\n",
    "                        'Q29_A_OTHER']\n",
    "\n",
    "q29b_list_of_columns_2020 = ['Q29_B_Part_1',\n",
    "                        'Q29_B_Part_2',\n",
    "                        'Q29_B_Part_3',\n",
    "                        'Q29_B_Part_4',\n",
    "                        'Q29_B_Part_5',\n",
    "                        'Q29_B_Part_6',\n",
    "                        'Q29_B_Part_7',\n",
    "                        'Q29_B_Part_8',\n",
    "                        'Q29_B_Part_9',\n",
    "                        'Q29_B_Part_10',\n",
    "                        'Q29_B_Part_11',\n",
    "                        'Q29_B_Part_12',\n",
    "                        'Q29_B_Part_13',\n",
    "                        'Q29_B_Part_14',\n",
    "                        'Q29_B_Part_15',\n",
    "                        'Q29_B_Part_16',\n",
    "                        'Q29_B_Part_17',\n",
    "                        'Q29_B_OTHER']\n",
    "\n",
    "q31a_list_of_columns_2020 = ['Q31_A_Part_1',\n",
    "                        'Q31_A_Part_2',\n",
    "                        'Q31_A_Part_3',\n",
    "                        'Q31_A_Part_4',\n",
    "                        'Q31_A_Part_5',\n",
    "                        'Q31_A_Part_6',\n",
    "                        'Q31_A_Part_7',\n",
    "                        'Q31_A_Part_8',\n",
    "                        'Q31_A_Part_9',\n",
    "                        'Q31_A_Part_10',\n",
    "                        'Q31_A_Part_11',\n",
    "                        'Q31_A_Part_12',\n",
    "                        'Q31_A_Part_13',\n",
    "                        'Q31_A_Part_14',\n",
    "                        'Q31_A_OTHER']\n",
    "\n",
    "q31b_list_of_columns_2020 = ['Q31_B_Part_1',\n",
    "                        'Q31_B_Part_2',\n",
    "                        'Q31_B_Part_3',\n",
    "                        'Q31_B_Part_4',\n",
    "                        'Q31_B_Part_5',\n",
    "                        'Q31_B_Part_6',\n",
    "                        'Q31_B_Part_7',\n",
    "                        'Q31_B_Part_8',\n",
    "                        'Q31_B_Part_9',\n",
    "                        'Q31_B_Part_10',\n",
    "                        'Q31_B_Part_11',\n",
    "                        'Q31_B_Part_12',\n",
    "                        'Q31_B_Part_13',\n",
    "                        'Q31_B_Part_14',\n",
    "                        'Q31_B_OTHER']\n",
    "\n",
    "q33a_list_of_columns_2020 = ['Q33_A_Part_1',\n",
    "                        'Q33_A_Part_2',\n",
    "                        'Q33_A_Part_3',\n",
    "                        'Q33_A_Part_4',\n",
    "                        'Q33_A_Part_5',\n",
    "                        'Q33_A_Part_6',\n",
    "                        'Q33_A_Part_7',\n",
    "                        'Q33_A_OTHER']\n",
    "\n",
    "q33b_list_of_columns_2020 = ['Q33_B_Part_1',\n",
    "                        'Q33_B_Part_2',\n",
    "                        'Q33_B_Part_3',\n",
    "                        'Q33_B_Part_4',\n",
    "                        'Q33_B_Part_5',\n",
    "                        'Q33_B_Part_6',\n",
    "                        'Q33_B_Part_7',\n",
    "                        'Q33_B_OTHER']\n",
    "\n",
    "q34a_list_of_columns_2020 = ['Q34_A_Part_1',\n",
    "                        'Q34_A_Part_2',\n",
    "                        'Q34_A_Part_3',\n",
    "                        'Q34_A_Part_4',\n",
    "                        'Q34_A_Part_5',\n",
    "                        'Q34_A_Part_6',\n",
    "                        'Q34_A_Part_7',\n",
    "                        'Q34_A_Part_8',\n",
    "                        'Q34_A_Part_9',\n",
    "                        'Q34_A_Part_10',\n",
    "                        'Q34_A_Part_11',\n",
    "                        'Q34_A_OTHER']\n",
    "\n",
    "q34b_list_of_columns_2020 = ['Q34_B_Part_1',\n",
    "                        'Q34_B_Part_2',\n",
    "                        'Q34_B_Part_3',\n",
    "                        'Q34_B_Part_4',\n",
    "                        'Q34_B_Part_5',\n",
    "                        'Q34_B_Part_6',\n",
    "                        'Q34_B_Part_7',\n",
    "                        'Q34_B_Part_8',\n",
    "                        'Q34_B_Part_9',\n",
    "                        'Q34_B_Part_10',\n",
    "                        'Q34_B_Part_11',\n",
    "                        'Q34_B_OTHER']\n",
    "\n",
    "\n",
    "q35a_list_of_columns_2020 = ['Q35_A_Part_1',\n",
    "                        'Q35_A_Part_2',\n",
    "                        'Q35_A_Part_3',\n",
    "                        'Q35_A_Part_4',\n",
    "                        'Q35_A_Part_5',\n",
    "                        'Q35_A_Part_6',\n",
    "                        'Q35_A_Part_7',\n",
    "                        'Q35_A_Part_8',\n",
    "                        'Q35_A_Part_9',\n",
    "                        'Q35_A_Part_10',\n",
    "                        'Q35_A_OTHER']\n",
    "\n",
    "q35b_list_of_columns_2020 = ['Q35_B_Part_1',\n",
    "                        'Q35_B_Part_2',\n",
    "                        'Q35_B_Part_3',\n",
    "                        'Q35_B_Part_4',\n",
    "                        'Q35_B_Part_5',\n",
    "                        'Q35_B_Part_6',\n",
    "                        'Q35_B_Part_7',\n",
    "                        'Q35_B_Part_8',\n",
    "                        'Q35_B_Part_9',\n",
    "                        'Q35_B_Part_10',\n",
    "                        'Q35_B_OTHER']\n",
    "\n",
    "q36_list_of_columns_2020 = ['Q36_Part_1',\n",
    "                       'Q36_Part_2',\n",
    "                       'Q36_Part_3',\n",
    "                       'Q36_Part_4',\n",
    "                       'Q36_Part_5',\n",
    "                       'Q36_Part_6',\n",
    "                       'Q36_Part_7',\n",
    "                       'Q36_Part_8',\n",
    "                       'Q36_Part_9',\n",
    "                       'Q36_OTHER']\n",
    "\n",
    "q37_list_of_columns_2020 = ['Q37_Part_1',\n",
    "                       'Q37_Part_2',\n",
    "                       'Q37_Part_3',\n",
    "                       'Q37_Part_4',\n",
    "                       'Q37_Part_5',\n",
    "                       'Q37_Part_6',\n",
    "                       'Q37_Part_7',\n",
    "                       'Q37_Part_8',\n",
    "                       'Q37_Part_9',\n",
    "                       'Q37_Part_10',\n",
    "                       'Q37_Part_11',\n",
    "                       'Q37_OTHER']\n",
    "\n",
    "q39_list_of_columns_2020 = ['Q39_Part_1',\n",
    "                       'Q39_Part_2',\n",
    "                       'Q39_Part_3',\n",
    "                       'Q39_Part_4',\n",
    "                       'Q39_Part_5',\n",
    "                       'Q39_Part_6',\n",
    "                       'Q39_Part_7',\n",
    "                       'Q39_Part_8',\n",
    "                       'Q39_Part_9',\n",
    "                       'Q39_Part_10',\n",
    "                       'Q39_Part_11',\n",
    "                       'Q39_OTHER']\n",
    "\n",
    "# Questions where respondents can select more than one answer choice have been split into multiple columns.\n",
    "# These lists delineate every sub-column for every multiple-column question.\n",
    "\n",
    "q7_list_of_columns_2021 = ['Q7_Part_1',\n",
    "                      'Q7_Part_2',\n",
    "                      'Q7_Part_3',\n",
    "                      'Q7_Part_4',\n",
    "                      'Q7_Part_5',\n",
    "                      'Q7_Part_6',\n",
    "                      'Q7_Part_7',\n",
    "                      'Q7_Part_8',\n",
    "                      'Q7_Part_9',\n",
    "                      'Q7_Part_10',\n",
    "                      'Q7_Part_11',\n",
    "                      'Q7_Part_12',\n",
    "                      'Q7_OTHER']\n",
    "\n",
    "q9_list_of_columns_2021 = ['Q9_Part_1',\n",
    "                      'Q9_Part_2',\n",
    "                      'Q9_Part_3',\n",
    "                      'Q9_Part_4',\n",
    "                      'Q9_Part_5',\n",
    "                      'Q9_Part_6',\n",
    "                      'Q9_Part_7',\n",
    "                      'Q9_Part_8',\n",
    "                      'Q9_Part_9',\n",
    "                      'Q9_Part_10',\n",
    "                      'Q9_Part_11',\n",
    "                      'Q9_Part_12',\n",
    "                      'Q9_OTHER']\n",
    "\n",
    "q10_list_of_columns_2021 = ['Q10_Part_1',\n",
    "                       'Q10_Part_2',\n",
    "                       'Q10_Part_3',\n",
    "                       'Q10_Part_4',\n",
    "                       'Q10_Part_5',\n",
    "                       'Q10_Part_6',\n",
    "                       'Q10_Part_7',\n",
    "                       'Q10_Part_8',\n",
    "                       'Q10_Part_9',\n",
    "                       'Q10_Part_10',\n",
    "                       'Q10_Part_11',\n",
    "                       'Q10_Part_12',\n",
    "                       'Q10_Part_13',\n",
    "                       'Q10_Part_14',\n",
    "                       'Q10_Part_15',\n",
    "                       'Q10_Part_16',\n",
    "                       'Q10_OTHER']\n",
    "\n",
    "q12_list_of_columns_2021 = ['Q12_Part_1',\n",
    "                            'Q12_Part_2',\n",
    "                            'Q12_Part_3',\n",
    "                            'Q12_Part_4',\n",
    "                            'Q12_Part_5',\n",
    "                            'Q12_OTHER']\n",
    "\n",
    "q14_list_of_columns_2021 = ['Q14_Part_1',\n",
    "                            'Q14_Part_2',\n",
    "                            'Q14_Part_3',\n",
    "                            'Q14_Part_4',\n",
    "                            'Q14_Part_5',\n",
    "                            'Q14_Part_6',\n",
    "                            'Q14_Part_7',\n",
    "                            'Q14_Part_8',\n",
    "                            'Q14_Part_9',\n",
    "                            'Q14_Part_10',\n",
    "                            'Q14_Part_11',\n",
    "                            'Q14_OTHER']\n",
    "\n",
    "q16_list_of_columns_2021 = ['Q16_Part_1',\n",
    "                       'Q16_Part_2',\n",
    "                       'Q16_Part_3',\n",
    "                       'Q16_Part_4',\n",
    "                       'Q16_Part_5',\n",
    "                       'Q16_Part_6',\n",
    "                       'Q16_Part_7',\n",
    "                       'Q16_Part_8',\n",
    "                       'Q16_Part_9',\n",
    "                       'Q16_Part_10',\n",
    "                       'Q16_Part_11',\n",
    "                       'Q16_Part_12',\n",
    "                       'Q16_Part_13',\n",
    "                       'Q16_Part_14',\n",
    "                       'Q16_Part_15',\n",
    "                       'Q16_Part_16',\n",
    "                       'Q16_Part_17',\n",
    "                       'Q16_OTHER']\n",
    "\n",
    "q17_list_of_columns_2021 = ['Q17_Part_1',\n",
    "                       'Q17_Part_2',\n",
    "                       'Q17_Part_3',\n",
    "                       'Q17_Part_4',\n",
    "                       'Q17_Part_5',\n",
    "                       'Q17_Part_6',\n",
    "                       'Q17_Part_7',\n",
    "                       'Q17_Part_8',\n",
    "                       'Q17_Part_9',\n",
    "                       'Q17_Part_10',\n",
    "                       'Q17_Part_11',\n",
    "                       'Q17_OTHER']\n",
    "\n",
    "q18_list_of_columns_2021 = ['Q18_Part_1',\n",
    "                       'Q18_Part_2',\n",
    "                       'Q18_Part_3',\n",
    "                       'Q18_Part_4',\n",
    "                       'Q18_Part_5',\n",
    "                       'Q18_Part_6',\n",
    "                       'Q18_OTHER']\n",
    "\n",
    "q19_list_of_columns_2021 = ['Q19_Part_1',\n",
    "                       'Q19_Part_2',\n",
    "                       'Q19_Part_3',\n",
    "                       'Q19_Part_4',\n",
    "                       'Q19_Part_5',\n",
    "                       'Q19_OTHER']\n",
    "\n",
    "q24_list_of_columns_2021 = ['Q24_Part_1',\n",
    "                       'Q24_Part_2',\n",
    "                       'Q24_Part_3',\n",
    "                       'Q24_Part_4',\n",
    "                       'Q24_Part_5',\n",
    "                       'Q24_Part_6',\n",
    "                       'Q24_Part_7',\n",
    "                       'Q24_OTHER']\n",
    "\n",
    "q27a_list_of_columns_2021 = ['Q27_A_Part_1',\n",
    "                        'Q27_A_Part_2',\n",
    "                        'Q27_A_Part_3',\n",
    "                        'Q27_A_Part_4',\n",
    "                        'Q27_A_Part_5',\n",
    "                        'Q27_A_Part_6',\n",
    "                        'Q27_A_Part_7',\n",
    "                        'Q27_A_Part_8',\n",
    "                        'Q27_A_Part_9',\n",
    "                        'Q27_A_Part_10',\n",
    "                        'Q27_A_Part_11',\n",
    "                        'Q27_A_OTHER']\n",
    "\n",
    "q27b_list_of_columns_2021 = ['Q27_B_Part_1',\n",
    "                        'Q27_B_Part_2',\n",
    "                        'Q27_B_Part_3',\n",
    "                        'Q27_B_Part_4',\n",
    "                        'Q27_B_Part_5',\n",
    "                        'Q27_B_Part_6',\n",
    "                        'Q27_B_Part_7',\n",
    "                        'Q27_B_Part_8',\n",
    "                        'Q27_B_Part_9',\n",
    "                        'Q27_B_Part_10',\n",
    "                        'Q27_B_Part_11',\n",
    "                        'Q27_B_OTHER']\n",
    "\n",
    "q29a_list_of_columns_2021 = ['Q29_A_Part_1',\n",
    "                        'Q29_A_Part_2',\n",
    "                        'Q29_A_Part_3',\n",
    "                        'Q29_A_Part_4',\n",
    "                        'Q29_A_OTHER']\n",
    "\n",
    "q29b_list_of_columns_2021 = ['Q29_B_Part_1',\n",
    "                             'Q29_B_Part_2',\n",
    "                             'Q29_B_Part_3',\n",
    "                             'Q29_B_Part_4',\n",
    "                             'Q29_B_OTHER']\n",
    "\n",
    "q30a_list_of_columns_2021 = ['Q30_A_Part_1',\n",
    "                        'Q30_A_Part_2',\n",
    "                        'Q30_A_Part_3',\n",
    "                        'Q30_A_Part_4',\n",
    "                        'Q30_A_Part_5',\n",
    "                        'Q30_A_Part_6',\n",
    "                        'Q30_A_Part_7',\n",
    "                        'Q30_A_OTHER']\n",
    "\n",
    "q30b_list_of_columns_2021 = ['Q30_B_Part_1',\n",
    "                        'Q30_B_Part_2',\n",
    "                        'Q30_B_Part_3',\n",
    "                        'Q30_B_Part_4',\n",
    "                        'Q30_B_Part_5',\n",
    "                        'Q30_B_Part_6',\n",
    "                        'Q30_B_Part_7',\n",
    "                        'Q30_B_OTHER']\n",
    "\n",
    "q31a_list_of_columns_2021 = ['Q31_A_Part_1',\n",
    "                        'Q31_A_Part_2',\n",
    "                        'Q31_A_Part_3',\n",
    "                        'Q31_A_Part_4',\n",
    "                        'Q31_A_Part_5',\n",
    "                        'Q31_A_Part_6',\n",
    "                        'Q31_A_Part_7',\n",
    "                        'Q31_A_Part_8',\n",
    "                        'Q31_A_Part_9',\n",
    "                        'Q31_A_OTHER']\n",
    "\n",
    "q31b_list_of_columns_2021 = ['Q31_B_Part_1',\n",
    "                        'Q31_B_Part_2',\n",
    "                        'Q31_B_Part_3',\n",
    "                        'Q31_B_Part_4',\n",
    "                        'Q31_B_Part_5',\n",
    "                        'Q31_B_Part_6',\n",
    "                        'Q31_B_Part_7',\n",
    "                        'Q31_B_Part_8',\n",
    "                        'Q31_B_Part_9',\n",
    "                        'Q31_B_OTHER']\n",
    "\n",
    "q32a_list_of_columns_2021 = ['Q32_A_Part_1',\n",
    "                        'Q32_A_Part_2',\n",
    "                        'Q32_A_Part_3',\n",
    "                        'Q32_A_Part_4',\n",
    "                        'Q32_A_Part_5',\n",
    "                        'Q32_A_Part_6',\n",
    "                        'Q32_A_Part_7',\n",
    "                        'Q32_A_Part_8',\n",
    "                        'Q32_A_Part_9',\n",
    "                        'Q32_A_Part_10',\n",
    "                        'Q32_A_Part_11',\n",
    "                        'Q32_A_Part_12',\n",
    "                        'Q32_A_Part_13',\n",
    "                        'Q32_A_Part_14',\n",
    "                        'Q32_A_Part_15',\n",
    "                        'Q32_A_Part_16',\n",
    "                        'Q32_A_Part_17',\n",
    "                        'Q32_A_Part_18',\n",
    "                        'Q32_A_Part_19',\n",
    "                        'Q32_A_Part_20',\n",
    "                        'Q32_A_OTHER']\n",
    "\n",
    "q32b_list_of_columns_2021 = ['Q32_B_Part_1',\n",
    "                        'Q32_B_Part_2',\n",
    "                        'Q32_B_Part_3',\n",
    "                        'Q32_B_Part_4',\n",
    "                        'Q32_B_Part_5',\n",
    "                        'Q32_B_Part_6',\n",
    "                        'Q32_B_Part_7',\n",
    "                        'Q32_B_Part_8',\n",
    "                        'Q32_B_Part_9',\n",
    "                        'Q32_B_Part_10',\n",
    "                        'Q32_B_Part_11',\n",
    "                        'Q32_B_Part_12',\n",
    "                        'Q32_B_Part_13',\n",
    "                        'Q32_B_Part_14',\n",
    "                        'Q32_B_Part_15',\n",
    "                        'Q32_B_Part_16',\n",
    "                        'Q32_B_Part_17',\n",
    "                        'Q32_B_Part_18',\n",
    "                        'Q32_B_Part_19',\n",
    "                        'Q32_B_Part_20',\n",
    "                        'Q32_B_OTHER']\n",
    "\n",
    "q34a_list_of_columns_2021 = ['Q34_A_Part_1',\n",
    "                        'Q34_A_Part_2',\n",
    "                        'Q34_A_Part_3',\n",
    "                        'Q34_A_Part_4',\n",
    "                        'Q34_A_Part_5',\n",
    "                        'Q34_A_Part_6',\n",
    "                        'Q34_A_Part_7',\n",
    "                        'Q34_A_Part_8',\n",
    "                        'Q34_A_Part_9',\n",
    "                        'Q34_A_Part_10',\n",
    "                        'Q34_A_Part_11',\n",
    "                        'Q34_A_Part_12',\n",
    "                        'Q34_A_Part_13',\n",
    "                        'Q34_A_Part_14',\n",
    "                        'Q34_A_Part_15',\n",
    "                        'Q34_A_Part_16',\n",
    "                        'Q34_A_OTHER']\n",
    "\n",
    "q34b_list_of_columns_2021 = ['Q34_B_Part_1',\n",
    "                        'Q34_B_Part_2',\n",
    "                        'Q34_B_Part_3',\n",
    "                        'Q34_B_Part_4',\n",
    "                        'Q34_B_Part_5',\n",
    "                        'Q34_B_Part_6',\n",
    "                        'Q34_B_Part_7',\n",
    "                        'Q34_B_Part_8',\n",
    "                        'Q34_B_Part_9',\n",
    "                        'Q34_B_Part_10',\n",
    "                        'Q34_B_Part_11',\n",
    "                        'Q34_B_Part_12',\n",
    "                        'Q34_B_Part_13',\n",
    "                        'Q34_B_Part_14',\n",
    "                        'Q34_B_Part_15',\n",
    "                        'Q34_B_Part_16',\n",
    "                        'Q34_B_OTHER']\n",
    "\n",
    "q36a_list_of_columns_2021 = ['Q36_A_Part_1',\n",
    "                        'Q36_A_Part_2',\n",
    "                        'Q36_A_Part_3',\n",
    "                        'Q36_A_Part_4',\n",
    "                        'Q36_A_Part_5',\n",
    "                        'Q36_A_Part_6',\n",
    "                        'Q36_A_Part_7',\n",
    "                        'Q36_A_OTHER']\n",
    "\n",
    "q36b_list_of_columns_2021 = ['Q36_B_Part_1',\n",
    "                        'Q36_B_Part_2',\n",
    "                        'Q36_B_Part_3',\n",
    "                        'Q36_B_Part_4',\n",
    "                        'Q36_B_Part_5',\n",
    "                        'Q36_B_Part_6',\n",
    "                        'Q36_B_Part_7',\n",
    "                        'Q36_B_OTHER']\n",
    "\n",
    "\n",
    "q37a_list_of_columns_2021 = ['Q37_A_Part_1',\n",
    "                        'Q37_A_Part_2',\n",
    "                        'Q37_A_Part_3',\n",
    "                        'Q37_A_Part_4',\n",
    "                        'Q37_A_Part_5',\n",
    "                        'Q37_A_Part_6',\n",
    "                        'Q37_A_Part_7',\n",
    "                        'Q37_A_OTHER']\n",
    "\n",
    "q37b_list_of_columns_2021 = ['Q37_B_Part_1',\n",
    "                        'Q37_B_Part_2',\n",
    "                        'Q37_B_Part_3',\n",
    "                        'Q37_B_Part_4',\n",
    "                        'Q37_B_Part_5',\n",
    "                        'Q37_B_Part_6',\n",
    "                        'Q37_B_Part_7',\n",
    "                        'Q37_B_OTHER']\n",
    "\n",
    "q38a_list_of_columns_2021 = ['Q38_A_Part_1',\n",
    "                       'Q38_A_Part_2',\n",
    "                       'Q38_A_Part_3',\n",
    "                       'Q38_A_Part_4',\n",
    "                       'Q38_A_Part_5',\n",
    "                       'Q38_A_Part_6',\n",
    "                       'Q38_A_Part_7',\n",
    "                       'Q38_A_Part_8',\n",
    "                       'Q38_A_Part_9',\n",
    "                       'Q38_A_Part_10',\n",
    "                       'Q38_A_Part_11',\n",
    "                       'Q38_A_OTHER']\n",
    "\n",
    "q38b_list_of_columns_2021 = ['Q38_B_Part_1',\n",
    "                       'Q38_B_Part_2',\n",
    "                       'Q38_B_Part_3',\n",
    "                       'Q38_B_Part_4',\n",
    "                       'Q38_B_Part_5',\n",
    "                       'Q38_B_Part_6',\n",
    "                       'Q38_B_Part_7',\n",
    "                       'Q38_B_Part_8',\n",
    "                       'Q38_B_Part_9',\n",
    "                       'Q38_B_Part_10',\n",
    "                       'Q38_B_Part_11',\n",
    "                       'Q38_A_OTHER']\n",
    "\n",
    "q39_list_of_columns_2021 = ['Q37_Part_1',\n",
    "                       'Q37_Part_2',\n",
    "                       'Q37_Part_3',\n",
    "                       'Q37_Part_4',\n",
    "                       'Q37_Part_5',\n",
    "                       'Q37_Part_6',\n",
    "                       'Q37_Part_7',\n",
    "                       'Q37_Part_8',\n",
    "                       'Q37_Part_9',\n",
    "                       'Q37_OTHER']\n",
    "\n",
    "q39_list_of_columns_2021 = ['Q39_Part_1',\n",
    "                       'Q39_Part_2',\n",
    "                       'Q39_Part_3',\n",
    "                       'Q39_Part_4',\n",
    "                       'Q39_Part_5',\n",
    "                       'Q39_Part_6',\n",
    "                       'Q39_Part_7',\n",
    "                       'Q39_Part_8',\n",
    "                       'Q39_Part_9',\n",
    "                       'Q39_OTHER']\n",
    "\n",
    "q40_list_of_columns_2021 = ['Q40_Part_1',\n",
    "                       'Q40_Part_2',\n",
    "                       'Q40_Part_3',\n",
    "                       'Q40_Part_4',\n",
    "                       'Q40_Part_5',\n",
    "                       'Q40_Part_6',\n",
    "                       'Q40_Part_7',\n",
    "                       'Q40_Part_8',\n",
    "                       'Q40_Part_9',\n",
    "                       'Q40_Part_10',\n",
    "                       'Q40_Part_11',\n",
    "                       'Q40_OTHER']\n",
    "\n",
    "q42_list_of_columns_2021 = ['Q42_Part_1',\n",
    "                       'Q42_Part_2',\n",
    "                       'Q42_Part_3',\n",
    "                       'Q42_Part_4',\n",
    "                       'Q42_Part_5',\n",
    "                       'Q42_Part_6',\n",
    "                       'Q42_Part_7',\n",
    "                       'Q42_Part_8',\n",
    "                       'Q42_Part_9',\n",
    "                       'Q42_Part_10',\n",
    "                       'Q42_Part_11',\n",
    "                       'Q39_OTHER']"
   ]
  },
  {
   "cell_type": "code",
   "execution_count": 13,
   "id": "f069e0f1",
   "metadata": {},
   "outputs": [
    {
     "data": {
      "application/vnd.plotly.v1+json": {
       "config": {
        "plotlyServerURL": "https://plot.ly"
       },
       "data": [
        {
         "coloraxis": "coloraxis",
         "geo": "geo",
         "hovertemplate": "country=%{location}<br># of respondents=%{z}<extra></extra>",
         "locationmode": "country names",
         "locations": [
          "India",
          "United States of America",
          "Other",
          "Brazil",
          "United Kingdom of Great Britain and Northern Ireland",
          "Russia",
          "France",
          "Japan",
          "Germany",
          "Nigeria",
          "Spain",
          "Canada",
          "Turkey",
          "Australia",
          "Poland",
          "Netherlands",
          "Pakistan",
          "Indonesia",
          "Mexico",
          "Italy",
          "Ukraine",
          "Israel",
          "Kenya",
          "South Africa",
          "Taiwan",
          "Colombia",
          "Portugal",
          "Singapore",
          "Morocco",
          "Argentina",
          "China",
          "Egypt",
          "Switzerland",
          "Iran, Islamic Republic of...",
          "Chile",
          "Tunisia",
          "Sweden",
          "Thailand",
          "Greece",
          "South Korea",
          "Viet Nam",
          "Romania",
          "Saudi Arabia",
          "Belgium",
          "Malaysia",
          "Bangladesh",
          "United Arab Emirates",
          "Belarus",
          "Philippines",
          "Peru",
          "Republic of Korea",
          "Ireland",
          "Nepal",
          "Ghana",
          "Sri Lanka"
         ],
         "name": "",
         "type": "choropleth",
         "z": [
          583,
          389,
          180,
          123,
          112,
          88,
          79,
          76,
          74,
          70,
          64,
          55,
          49,
          40,
          38,
          35,
          34,
          34,
          32,
          31,
          29,
          26,
          25,
          24,
          23,
          23,
          21,
          20,
          19,
          19,
          18,
          17,
          15,
          14,
          14,
          14,
          13,
          12,
          12,
          12,
          12,
          12,
          11,
          11,
          10,
          9,
          9,
          8,
          8,
          8,
          7,
          6,
          4,
          3,
          2
         ]
        }
       ],
       "layout": {
        "coloraxis": {
         "cmax": 200,
         "cmin": 0,
         "colorbar": {
          "title": {
           "text": "# of respondents"
          }
         },
         "colorscale": [
          [
           0,
           "#440154"
          ],
          [
           0.1111111111111111,
           "#482878"
          ],
          [
           0.2222222222222222,
           "#3e4989"
          ],
          [
           0.3333333333333333,
           "#31688e"
          ],
          [
           0.4444444444444444,
           "#26828e"
          ],
          [
           0.5555555555555556,
           "#1f9e89"
          ],
          [
           0.6666666666666666,
           "#35b779"
          ],
          [
           0.7777777777777778,
           "#6ece58"
          ],
          [
           0.8888888888888888,
           "#b5de2b"
          ],
          [
           1,
           "#fde725"
          ]
         ]
        },
        "geo": {
         "center": {},
         "domain": {
          "x": [
           0,
           1
          ],
          "y": [
           0,
           1
          ]
         }
        },
        "legend": {
         "tracegroupgap": 0
        },
        "template": {
         "data": {
          "bar": [
           {
            "error_x": {
             "color": "#2a3f5f"
            },
            "error_y": {
             "color": "#2a3f5f"
            },
            "marker": {
             "line": {
              "color": "#E5ECF6",
              "width": 0.5
             },
             "pattern": {
              "fillmode": "overlay",
              "size": 10,
              "solidity": 0.2
             }
            },
            "type": "bar"
           }
          ],
          "barpolar": [
           {
            "marker": {
             "line": {
              "color": "#E5ECF6",
              "width": 0.5
             },
             "pattern": {
              "fillmode": "overlay",
              "size": 10,
              "solidity": 0.2
             }
            },
            "type": "barpolar"
           }
          ],
          "carpet": [
           {
            "aaxis": {
             "endlinecolor": "#2a3f5f",
             "gridcolor": "white",
             "linecolor": "white",
             "minorgridcolor": "white",
             "startlinecolor": "#2a3f5f"
            },
            "baxis": {
             "endlinecolor": "#2a3f5f",
             "gridcolor": "white",
             "linecolor": "white",
             "minorgridcolor": "white",
             "startlinecolor": "#2a3f5f"
            },
            "type": "carpet"
           }
          ],
          "choropleth": [
           {
            "colorbar": {
             "outlinewidth": 0,
             "ticks": ""
            },
            "type": "choropleth"
           }
          ],
          "contour": [
           {
            "colorbar": {
             "outlinewidth": 0,
             "ticks": ""
            },
            "colorscale": [
             [
              0,
              "#0d0887"
             ],
             [
              0.1111111111111111,
              "#46039f"
             ],
             [
              0.2222222222222222,
              "#7201a8"
             ],
             [
              0.3333333333333333,
              "#9c179e"
             ],
             [
              0.4444444444444444,
              "#bd3786"
             ],
             [
              0.5555555555555556,
              "#d8576b"
             ],
             [
              0.6666666666666666,
              "#ed7953"
             ],
             [
              0.7777777777777778,
              "#fb9f3a"
             ],
             [
              0.8888888888888888,
              "#fdca26"
             ],
             [
              1,
              "#f0f921"
             ]
            ],
            "type": "contour"
           }
          ],
          "contourcarpet": [
           {
            "colorbar": {
             "outlinewidth": 0,
             "ticks": ""
            },
            "type": "contourcarpet"
           }
          ],
          "heatmap": [
           {
            "colorbar": {
             "outlinewidth": 0,
             "ticks": ""
            },
            "colorscale": [
             [
              0,
              "#0d0887"
             ],
             [
              0.1111111111111111,
              "#46039f"
             ],
             [
              0.2222222222222222,
              "#7201a8"
             ],
             [
              0.3333333333333333,
              "#9c179e"
             ],
             [
              0.4444444444444444,
              "#bd3786"
             ],
             [
              0.5555555555555556,
              "#d8576b"
             ],
             [
              0.6666666666666666,
              "#ed7953"
             ],
             [
              0.7777777777777778,
              "#fb9f3a"
             ],
             [
              0.8888888888888888,
              "#fdca26"
             ],
             [
              1,
              "#f0f921"
             ]
            ],
            "type": "heatmap"
           }
          ],
          "heatmapgl": [
           {
            "colorbar": {
             "outlinewidth": 0,
             "ticks": ""
            },
            "colorscale": [
             [
              0,
              "#0d0887"
             ],
             [
              0.1111111111111111,
              "#46039f"
             ],
             [
              0.2222222222222222,
              "#7201a8"
             ],
             [
              0.3333333333333333,
              "#9c179e"
             ],
             [
              0.4444444444444444,
              "#bd3786"
             ],
             [
              0.5555555555555556,
              "#d8576b"
             ],
             [
              0.6666666666666666,
              "#ed7953"
             ],
             [
              0.7777777777777778,
              "#fb9f3a"
             ],
             [
              0.8888888888888888,
              "#fdca26"
             ],
             [
              1,
              "#f0f921"
             ]
            ],
            "type": "heatmapgl"
           }
          ],
          "histogram": [
           {
            "marker": {
             "pattern": {
              "fillmode": "overlay",
              "size": 10,
              "solidity": 0.2
             }
            },
            "type": "histogram"
           }
          ],
          "histogram2d": [
           {
            "colorbar": {
             "outlinewidth": 0,
             "ticks": ""
            },
            "colorscale": [
             [
              0,
              "#0d0887"
             ],
             [
              0.1111111111111111,
              "#46039f"
             ],
             [
              0.2222222222222222,
              "#7201a8"
             ],
             [
              0.3333333333333333,
              "#9c179e"
             ],
             [
              0.4444444444444444,
              "#bd3786"
             ],
             [
              0.5555555555555556,
              "#d8576b"
             ],
             [
              0.6666666666666666,
              "#ed7953"
             ],
             [
              0.7777777777777778,
              "#fb9f3a"
             ],
             [
              0.8888888888888888,
              "#fdca26"
             ],
             [
              1,
              "#f0f921"
             ]
            ],
            "type": "histogram2d"
           }
          ],
          "histogram2dcontour": [
           {
            "colorbar": {
             "outlinewidth": 0,
             "ticks": ""
            },
            "colorscale": [
             [
              0,
              "#0d0887"
             ],
             [
              0.1111111111111111,
              "#46039f"
             ],
             [
              0.2222222222222222,
              "#7201a8"
             ],
             [
              0.3333333333333333,
              "#9c179e"
             ],
             [
              0.4444444444444444,
              "#bd3786"
             ],
             [
              0.5555555555555556,
              "#d8576b"
             ],
             [
              0.6666666666666666,
              "#ed7953"
             ],
             [
              0.7777777777777778,
              "#fb9f3a"
             ],
             [
              0.8888888888888888,
              "#fdca26"
             ],
             [
              1,
              "#f0f921"
             ]
            ],
            "type": "histogram2dcontour"
           }
          ],
          "mesh3d": [
           {
            "colorbar": {
             "outlinewidth": 0,
             "ticks": ""
            },
            "type": "mesh3d"
           }
          ],
          "parcoords": [
           {
            "line": {
             "colorbar": {
              "outlinewidth": 0,
              "ticks": ""
             }
            },
            "type": "parcoords"
           }
          ],
          "pie": [
           {
            "automargin": true,
            "type": "pie"
           }
          ],
          "scatter": [
           {
            "fillpattern": {
             "fillmode": "overlay",
             "size": 10,
             "solidity": 0.2
            },
            "type": "scatter"
           }
          ],
          "scatter3d": [
           {
            "line": {
             "colorbar": {
              "outlinewidth": 0,
              "ticks": ""
             }
            },
            "marker": {
             "colorbar": {
              "outlinewidth": 0,
              "ticks": ""
             }
            },
            "type": "scatter3d"
           }
          ],
          "scattercarpet": [
           {
            "marker": {
             "colorbar": {
              "outlinewidth": 0,
              "ticks": ""
             }
            },
            "type": "scattercarpet"
           }
          ],
          "scattergeo": [
           {
            "marker": {
             "colorbar": {
              "outlinewidth": 0,
              "ticks": ""
             }
            },
            "type": "scattergeo"
           }
          ],
          "scattergl": [
           {
            "marker": {
             "colorbar": {
              "outlinewidth": 0,
              "ticks": ""
             }
            },
            "type": "scattergl"
           }
          ],
          "scattermapbox": [
           {
            "marker": {
             "colorbar": {
              "outlinewidth": 0,
              "ticks": ""
             }
            },
            "type": "scattermapbox"
           }
          ],
          "scatterpolar": [
           {
            "marker": {
             "colorbar": {
              "outlinewidth": 0,
              "ticks": ""
             }
            },
            "type": "scatterpolar"
           }
          ],
          "scatterpolargl": [
           {
            "marker": {
             "colorbar": {
              "outlinewidth": 0,
              "ticks": ""
             }
            },
            "type": "scatterpolargl"
           }
          ],
          "scatterternary": [
           {
            "marker": {
             "colorbar": {
              "outlinewidth": 0,
              "ticks": ""
             }
            },
            "type": "scatterternary"
           }
          ],
          "surface": [
           {
            "colorbar": {
             "outlinewidth": 0,
             "ticks": ""
            },
            "colorscale": [
             [
              0,
              "#0d0887"
             ],
             [
              0.1111111111111111,
              "#46039f"
             ],
             [
              0.2222222222222222,
              "#7201a8"
             ],
             [
              0.3333333333333333,
              "#9c179e"
             ],
             [
              0.4444444444444444,
              "#bd3786"
             ],
             [
              0.5555555555555556,
              "#d8576b"
             ],
             [
              0.6666666666666666,
              "#ed7953"
             ],
             [
              0.7777777777777778,
              "#fb9f3a"
             ],
             [
              0.8888888888888888,
              "#fdca26"
             ],
             [
              1,
              "#f0f921"
             ]
            ],
            "type": "surface"
           }
          ],
          "table": [
           {
            "cells": {
             "fill": {
              "color": "#EBF0F8"
             },
             "line": {
              "color": "white"
             }
            },
            "header": {
             "fill": {
              "color": "#C8D4E3"
             },
             "line": {
              "color": "white"
             }
            },
            "type": "table"
           }
          ]
         },
         "layout": {
          "annotationdefaults": {
           "arrowcolor": "#2a3f5f",
           "arrowhead": 0,
           "arrowwidth": 1
          },
          "autotypenumbers": "strict",
          "coloraxis": {
           "colorbar": {
            "outlinewidth": 0,
            "ticks": ""
           }
          },
          "colorscale": {
           "diverging": [
            [
             0,
             "#8e0152"
            ],
            [
             0.1,
             "#c51b7d"
            ],
            [
             0.2,
             "#de77ae"
            ],
            [
             0.3,
             "#f1b6da"
            ],
            [
             0.4,
             "#fde0ef"
            ],
            [
             0.5,
             "#f7f7f7"
            ],
            [
             0.6,
             "#e6f5d0"
            ],
            [
             0.7,
             "#b8e186"
            ],
            [
             0.8,
             "#7fbc41"
            ],
            [
             0.9,
             "#4d9221"
            ],
            [
             1,
             "#276419"
            ]
           ],
           "sequential": [
            [
             0,
             "#0d0887"
            ],
            [
             0.1111111111111111,
             "#46039f"
            ],
            [
             0.2222222222222222,
             "#7201a8"
            ],
            [
             0.3333333333333333,
             "#9c179e"
            ],
            [
             0.4444444444444444,
             "#bd3786"
            ],
            [
             0.5555555555555556,
             "#d8576b"
            ],
            [
             0.6666666666666666,
             "#ed7953"
            ],
            [
             0.7777777777777778,
             "#fb9f3a"
            ],
            [
             0.8888888888888888,
             "#fdca26"
            ],
            [
             1,
             "#f0f921"
            ]
           ],
           "sequentialminus": [
            [
             0,
             "#0d0887"
            ],
            [
             0.1111111111111111,
             "#46039f"
            ],
            [
             0.2222222222222222,
             "#7201a8"
            ],
            [
             0.3333333333333333,
             "#9c179e"
            ],
            [
             0.4444444444444444,
             "#bd3786"
            ],
            [
             0.5555555555555556,
             "#d8576b"
            ],
            [
             0.6666666666666666,
             "#ed7953"
            ],
            [
             0.7777777777777778,
             "#fb9f3a"
            ],
            [
             0.8888888888888888,
             "#fdca26"
            ],
            [
             1,
             "#f0f921"
            ]
           ]
          },
          "colorway": [
           "#636efa",
           "#EF553B",
           "#00cc96",
           "#ab63fa",
           "#FFA15A",
           "#19d3f3",
           "#FF6692",
           "#B6E880",
           "#FF97FF",
           "#FECB52"
          ],
          "font": {
           "color": "#2a3f5f"
          },
          "geo": {
           "bgcolor": "white",
           "lakecolor": "white",
           "landcolor": "#E5ECF6",
           "showlakes": true,
           "showland": true,
           "subunitcolor": "white"
          },
          "hoverlabel": {
           "align": "left"
          },
          "hovermode": "closest",
          "mapbox": {
           "style": "light"
          },
          "paper_bgcolor": "white",
          "plot_bgcolor": "#E5ECF6",
          "polar": {
           "angularaxis": {
            "gridcolor": "white",
            "linecolor": "white",
            "ticks": ""
           },
           "bgcolor": "#E5ECF6",
           "radialaxis": {
            "gridcolor": "white",
            "linecolor": "white",
            "ticks": ""
           }
          },
          "scene": {
           "xaxis": {
            "backgroundcolor": "#E5ECF6",
            "gridcolor": "white",
            "gridwidth": 2,
            "linecolor": "white",
            "showbackground": true,
            "ticks": "",
            "zerolinecolor": "white"
           },
           "yaxis": {
            "backgroundcolor": "#E5ECF6",
            "gridcolor": "white",
            "gridwidth": 2,
            "linecolor": "white",
            "showbackground": true,
            "ticks": "",
            "zerolinecolor": "white"
           },
           "zaxis": {
            "backgroundcolor": "#E5ECF6",
            "gridcolor": "white",
            "gridwidth": 2,
            "linecolor": "white",
            "showbackground": true,
            "ticks": "",
            "zerolinecolor": "white"
           }
          },
          "shapedefaults": {
           "line": {
            "color": "#2a3f5f"
           }
          },
          "ternary": {
           "aaxis": {
            "gridcolor": "white",
            "linecolor": "white",
            "ticks": ""
           },
           "baxis": {
            "gridcolor": "white",
            "linecolor": "white",
            "ticks": ""
           },
           "bgcolor": "#E5ECF6",
           "caxis": {
            "gridcolor": "white",
            "linecolor": "white",
            "ticks": ""
           }
          },
          "title": {
           "x": 0.05
          },
          "xaxis": {
           "automargin": true,
           "gridcolor": "white",
           "linecolor": "white",
           "ticks": "",
           "title": {
            "standoff": 15
           },
           "zerolinecolor": "white",
           "zerolinewidth": 2
          },
          "yaxis": {
           "automargin": true,
           "gridcolor": "white",
           "linecolor": "white",
           "ticks": "",
           "title": {
            "standoff": 15
           },
           "zerolinecolor": "white",
           "zerolinewidth": 2
          }
         }
        },
        "title": {
         "text": "Total number of responses per country in 2021",
         "x": 0.5
        }
       }
      },
      "text/html": [
       "<div>                            <div id=\"1b86a1b0-1c0f-4237-be97-e3caa10d2761\" class=\"plotly-graph-div\" style=\"height:525px; width:100%;\"></div>            <script type=\"text/javascript\">                require([\"plotly\"], function(Plotly) {                    window.PLOTLYENV=window.PLOTLYENV || {};                                    if (document.getElementById(\"1b86a1b0-1c0f-4237-be97-e3caa10d2761\")) {                    Plotly.newPlot(                        \"1b86a1b0-1c0f-4237-be97-e3caa10d2761\",                        [{\"coloraxis\":\"coloraxis\",\"geo\":\"geo\",\"hovertemplate\":\"country=%{location}<br># of respondents=%{z}<extra></extra>\",\"locationmode\":\"country names\",\"locations\":[\"India\",\"United States of America\",\"Other\",\"Brazil\",\"United Kingdom of Great Britain and Northern Ireland\",\"Russia\",\"France\",\"Japan\",\"Germany\",\"Nigeria\",\"Spain\",\"Canada\",\"Turkey\",\"Australia\",\"Poland\",\"Netherlands\",\"Pakistan\",\"Indonesia\",\"Mexico\",\"Italy\",\"Ukraine\",\"Israel\",\"Kenya\",\"South Africa\",\"Taiwan\",\"Colombia\",\"Portugal\",\"Singapore\",\"Morocco\",\"Argentina\",\"China\",\"Egypt\",\"Switzerland\",\"Iran, Islamic Republic of...\",\"Chile\",\"Tunisia\",\"Sweden\",\"Thailand\",\"Greece\",\"South Korea\",\"Viet Nam\",\"Romania\",\"Saudi Arabia\",\"Belgium\",\"Malaysia\",\"Bangladesh\",\"United Arab Emirates\",\"Belarus\",\"Philippines\",\"Peru\",\"Republic of Korea\",\"Ireland\",\"Nepal\",\"Ghana\",\"Sri Lanka\"],\"name\":\"\",\"z\":[583,389,180,123,112,88,79,76,74,70,64,55,49,40,38,35,34,34,32,31,29,26,25,24,23,23,21,20,19,19,18,17,15,14,14,14,13,12,12,12,12,12,11,11,10,9,9,8,8,8,7,6,4,3,2],\"type\":\"choropleth\"}],                        {\"template\":{\"data\":{\"histogram2dcontour\":[{\"type\":\"histogram2dcontour\",\"colorbar\":{\"outlinewidth\":0,\"ticks\":\"\"},\"colorscale\":[[0.0,\"#0d0887\"],[0.1111111111111111,\"#46039f\"],[0.2222222222222222,\"#7201a8\"],[0.3333333333333333,\"#9c179e\"],[0.4444444444444444,\"#bd3786\"],[0.5555555555555556,\"#d8576b\"],[0.6666666666666666,\"#ed7953\"],[0.7777777777777778,\"#fb9f3a\"],[0.8888888888888888,\"#fdca26\"],[1.0,\"#f0f921\"]]}],\"choropleth\":[{\"type\":\"choropleth\",\"colorbar\":{\"outlinewidth\":0,\"ticks\":\"\"}}],\"histogram2d\":[{\"type\":\"histogram2d\",\"colorbar\":{\"outlinewidth\":0,\"ticks\":\"\"},\"colorscale\":[[0.0,\"#0d0887\"],[0.1111111111111111,\"#46039f\"],[0.2222222222222222,\"#7201a8\"],[0.3333333333333333,\"#9c179e\"],[0.4444444444444444,\"#bd3786\"],[0.5555555555555556,\"#d8576b\"],[0.6666666666666666,\"#ed7953\"],[0.7777777777777778,\"#fb9f3a\"],[0.8888888888888888,\"#fdca26\"],[1.0,\"#f0f921\"]]}],\"heatmap\":[{\"type\":\"heatmap\",\"colorbar\":{\"outlinewidth\":0,\"ticks\":\"\"},\"colorscale\":[[0.0,\"#0d0887\"],[0.1111111111111111,\"#46039f\"],[0.2222222222222222,\"#7201a8\"],[0.3333333333333333,\"#9c179e\"],[0.4444444444444444,\"#bd3786\"],[0.5555555555555556,\"#d8576b\"],[0.6666666666666666,\"#ed7953\"],[0.7777777777777778,\"#fb9f3a\"],[0.8888888888888888,\"#fdca26\"],[1.0,\"#f0f921\"]]}],\"heatmapgl\":[{\"type\":\"heatmapgl\",\"colorbar\":{\"outlinewidth\":0,\"ticks\":\"\"},\"colorscale\":[[0.0,\"#0d0887\"],[0.1111111111111111,\"#46039f\"],[0.2222222222222222,\"#7201a8\"],[0.3333333333333333,\"#9c179e\"],[0.4444444444444444,\"#bd3786\"],[0.5555555555555556,\"#d8576b\"],[0.6666666666666666,\"#ed7953\"],[0.7777777777777778,\"#fb9f3a\"],[0.8888888888888888,\"#fdca26\"],[1.0,\"#f0f921\"]]}],\"contourcarpet\":[{\"type\":\"contourcarpet\",\"colorbar\":{\"outlinewidth\":0,\"ticks\":\"\"}}],\"contour\":[{\"type\":\"contour\",\"colorbar\":{\"outlinewidth\":0,\"ticks\":\"\"},\"colorscale\":[[0.0,\"#0d0887\"],[0.1111111111111111,\"#46039f\"],[0.2222222222222222,\"#7201a8\"],[0.3333333333333333,\"#9c179e\"],[0.4444444444444444,\"#bd3786\"],[0.5555555555555556,\"#d8576b\"],[0.6666666666666666,\"#ed7953\"],[0.7777777777777778,\"#fb9f3a\"],[0.8888888888888888,\"#fdca26\"],[1.0,\"#f0f921\"]]}],\"surface\":[{\"type\":\"surface\",\"colorbar\":{\"outlinewidth\":0,\"ticks\":\"\"},\"colorscale\":[[0.0,\"#0d0887\"],[0.1111111111111111,\"#46039f\"],[0.2222222222222222,\"#7201a8\"],[0.3333333333333333,\"#9c179e\"],[0.4444444444444444,\"#bd3786\"],[0.5555555555555556,\"#d8576b\"],[0.6666666666666666,\"#ed7953\"],[0.7777777777777778,\"#fb9f3a\"],[0.8888888888888888,\"#fdca26\"],[1.0,\"#f0f921\"]]}],\"mesh3d\":[{\"type\":\"mesh3d\",\"colorbar\":{\"outlinewidth\":0,\"ticks\":\"\"}}],\"scatter\":[{\"fillpattern\":{\"fillmode\":\"overlay\",\"size\":10,\"solidity\":0.2},\"type\":\"scatter\"}],\"parcoords\":[{\"type\":\"parcoords\",\"line\":{\"colorbar\":{\"outlinewidth\":0,\"ticks\":\"\"}}}],\"scatterpolargl\":[{\"type\":\"scatterpolargl\",\"marker\":{\"colorbar\":{\"outlinewidth\":0,\"ticks\":\"\"}}}],\"bar\":[{\"error_x\":{\"color\":\"#2a3f5f\"},\"error_y\":{\"color\":\"#2a3f5f\"},\"marker\":{\"line\":{\"color\":\"#E5ECF6\",\"width\":0.5},\"pattern\":{\"fillmode\":\"overlay\",\"size\":10,\"solidity\":0.2}},\"type\":\"bar\"}],\"scattergeo\":[{\"type\":\"scattergeo\",\"marker\":{\"colorbar\":{\"outlinewidth\":0,\"ticks\":\"\"}}}],\"scatterpolar\":[{\"type\":\"scatterpolar\",\"marker\":{\"colorbar\":{\"outlinewidth\":0,\"ticks\":\"\"}}}],\"histogram\":[{\"marker\":{\"pattern\":{\"fillmode\":\"overlay\",\"size\":10,\"solidity\":0.2}},\"type\":\"histogram\"}],\"scattergl\":[{\"type\":\"scattergl\",\"marker\":{\"colorbar\":{\"outlinewidth\":0,\"ticks\":\"\"}}}],\"scatter3d\":[{\"type\":\"scatter3d\",\"line\":{\"colorbar\":{\"outlinewidth\":0,\"ticks\":\"\"}},\"marker\":{\"colorbar\":{\"outlinewidth\":0,\"ticks\":\"\"}}}],\"scattermapbox\":[{\"type\":\"scattermapbox\",\"marker\":{\"colorbar\":{\"outlinewidth\":0,\"ticks\":\"\"}}}],\"scatterternary\":[{\"type\":\"scatterternary\",\"marker\":{\"colorbar\":{\"outlinewidth\":0,\"ticks\":\"\"}}}],\"scattercarpet\":[{\"type\":\"scattercarpet\",\"marker\":{\"colorbar\":{\"outlinewidth\":0,\"ticks\":\"\"}}}],\"carpet\":[{\"aaxis\":{\"endlinecolor\":\"#2a3f5f\",\"gridcolor\":\"white\",\"linecolor\":\"white\",\"minorgridcolor\":\"white\",\"startlinecolor\":\"#2a3f5f\"},\"baxis\":{\"endlinecolor\":\"#2a3f5f\",\"gridcolor\":\"white\",\"linecolor\":\"white\",\"minorgridcolor\":\"white\",\"startlinecolor\":\"#2a3f5f\"},\"type\":\"carpet\"}],\"table\":[{\"cells\":{\"fill\":{\"color\":\"#EBF0F8\"},\"line\":{\"color\":\"white\"}},\"header\":{\"fill\":{\"color\":\"#C8D4E3\"},\"line\":{\"color\":\"white\"}},\"type\":\"table\"}],\"barpolar\":[{\"marker\":{\"line\":{\"color\":\"#E5ECF6\",\"width\":0.5},\"pattern\":{\"fillmode\":\"overlay\",\"size\":10,\"solidity\":0.2}},\"type\":\"barpolar\"}],\"pie\":[{\"automargin\":true,\"type\":\"pie\"}]},\"layout\":{\"autotypenumbers\":\"strict\",\"colorway\":[\"#636efa\",\"#EF553B\",\"#00cc96\",\"#ab63fa\",\"#FFA15A\",\"#19d3f3\",\"#FF6692\",\"#B6E880\",\"#FF97FF\",\"#FECB52\"],\"font\":{\"color\":\"#2a3f5f\"},\"hovermode\":\"closest\",\"hoverlabel\":{\"align\":\"left\"},\"paper_bgcolor\":\"white\",\"plot_bgcolor\":\"#E5ECF6\",\"polar\":{\"bgcolor\":\"#E5ECF6\",\"angularaxis\":{\"gridcolor\":\"white\",\"linecolor\":\"white\",\"ticks\":\"\"},\"radialaxis\":{\"gridcolor\":\"white\",\"linecolor\":\"white\",\"ticks\":\"\"}},\"ternary\":{\"bgcolor\":\"#E5ECF6\",\"aaxis\":{\"gridcolor\":\"white\",\"linecolor\":\"white\",\"ticks\":\"\"},\"baxis\":{\"gridcolor\":\"white\",\"linecolor\":\"white\",\"ticks\":\"\"},\"caxis\":{\"gridcolor\":\"white\",\"linecolor\":\"white\",\"ticks\":\"\"}},\"coloraxis\":{\"colorbar\":{\"outlinewidth\":0,\"ticks\":\"\"}},\"colorscale\":{\"sequential\":[[0.0,\"#0d0887\"],[0.1111111111111111,\"#46039f\"],[0.2222222222222222,\"#7201a8\"],[0.3333333333333333,\"#9c179e\"],[0.4444444444444444,\"#bd3786\"],[0.5555555555555556,\"#d8576b\"],[0.6666666666666666,\"#ed7953\"],[0.7777777777777778,\"#fb9f3a\"],[0.8888888888888888,\"#fdca26\"],[1.0,\"#f0f921\"]],\"sequentialminus\":[[0.0,\"#0d0887\"],[0.1111111111111111,\"#46039f\"],[0.2222222222222222,\"#7201a8\"],[0.3333333333333333,\"#9c179e\"],[0.4444444444444444,\"#bd3786\"],[0.5555555555555556,\"#d8576b\"],[0.6666666666666666,\"#ed7953\"],[0.7777777777777778,\"#fb9f3a\"],[0.8888888888888888,\"#fdca26\"],[1.0,\"#f0f921\"]],\"diverging\":[[0,\"#8e0152\"],[0.1,\"#c51b7d\"],[0.2,\"#de77ae\"],[0.3,\"#f1b6da\"],[0.4,\"#fde0ef\"],[0.5,\"#f7f7f7\"],[0.6,\"#e6f5d0\"],[0.7,\"#b8e186\"],[0.8,\"#7fbc41\"],[0.9,\"#4d9221\"],[1,\"#276419\"]]},\"xaxis\":{\"gridcolor\":\"white\",\"linecolor\":\"white\",\"ticks\":\"\",\"title\":{\"standoff\":15},\"zerolinecolor\":\"white\",\"automargin\":true,\"zerolinewidth\":2},\"yaxis\":{\"gridcolor\":\"white\",\"linecolor\":\"white\",\"ticks\":\"\",\"title\":{\"standoff\":15},\"zerolinecolor\":\"white\",\"automargin\":true,\"zerolinewidth\":2},\"scene\":{\"xaxis\":{\"backgroundcolor\":\"#E5ECF6\",\"gridcolor\":\"white\",\"linecolor\":\"white\",\"showbackground\":true,\"ticks\":\"\",\"zerolinecolor\":\"white\",\"gridwidth\":2},\"yaxis\":{\"backgroundcolor\":\"#E5ECF6\",\"gridcolor\":\"white\",\"linecolor\":\"white\",\"showbackground\":true,\"ticks\":\"\",\"zerolinecolor\":\"white\",\"gridwidth\":2},\"zaxis\":{\"backgroundcolor\":\"#E5ECF6\",\"gridcolor\":\"white\",\"linecolor\":\"white\",\"showbackground\":true,\"ticks\":\"\",\"zerolinecolor\":\"white\",\"gridwidth\":2}},\"shapedefaults\":{\"line\":{\"color\":\"#2a3f5f\"}},\"annotationdefaults\":{\"arrowcolor\":\"#2a3f5f\",\"arrowhead\":0,\"arrowwidth\":1},\"geo\":{\"bgcolor\":\"white\",\"landcolor\":\"#E5ECF6\",\"subunitcolor\":\"white\",\"showland\":true,\"showlakes\":true,\"lakecolor\":\"white\"},\"title\":{\"x\":0.05},\"mapbox\":{\"style\":\"light\"}}},\"geo\":{\"domain\":{\"x\":[0.0,1.0],\"y\":[0.0,1.0]},\"center\":{}},\"coloraxis\":{\"colorbar\":{\"title\":{\"text\":\"# of respondents\"}},\"colorscale\":[[0.0,\"#440154\"],[0.1111111111111111,\"#482878\"],[0.2222222222222222,\"#3e4989\"],[0.3333333333333333,\"#31688e\"],[0.4444444444444444,\"#26828e\"],[0.5555555555555556,\"#1f9e89\"],[0.6666666666666666,\"#35b779\"],[0.7777777777777778,\"#6ece58\"],[0.8888888888888888,\"#b5de2b\"],[1.0,\"#fde725\"]],\"cmin\":0,\"cmax\":200},\"legend\":{\"tracegroupgap\":0},\"title\":{\"text\":\"Total number of responses per country in 2021\",\"x\":0.5}},                        {\"responsive\": true}                    ).then(function(){\n",
       "                            \n",
       "var gd = document.getElementById('1b86a1b0-1c0f-4237-be97-e3caa10d2761');\n",
       "var x = new MutationObserver(function (mutations, observer) {{\n",
       "        var display = window.getComputedStyle(gd).display;\n",
       "        if (!display || display === 'none') {{\n",
       "            console.log([gd, 'removed!']);\n",
       "            Plotly.purge(gd);\n",
       "            observer.disconnect();\n",
       "        }}\n",
       "}});\n",
       "\n",
       "// Listen for the removal of the full notebook cells\n",
       "var notebookContainer = gd.closest('#notebook-container');\n",
       "if (notebookContainer) {{\n",
       "    x.observe(notebookContainer, {childList: true});\n",
       "}}\n",
       "\n",
       "// Listen for the clearing of the current output cell\n",
       "var outputEl = gd.closest('.output');\n",
       "if (outputEl) {{\n",
       "    x.observe(outputEl, {childList: true});\n",
       "}}\n",
       "\n",
       "                        })                };                });            </script>        </div>"
      ]
     },
     "metadata": {},
     "output_type": "display_data"
    },
    {
     "data": {
      "application/vnd.plotly.v1+json": {
       "config": {
        "plotlyServerURL": "https://plot.ly"
       },
       "data": [
        {
         "coloraxis": "coloraxis",
         "geo": "geo",
         "hovertemplate": "country=%{location}<br>% of respondents=%{z}<extra></extra>",
         "locationmode": "country names",
         "locations": [
          "India",
          "United States of America",
          "Other",
          "Brazil",
          "United Kingdom of Great Britain and Northern Ireland",
          "Russia",
          "France",
          "Japan",
          "Germany",
          "Nigeria",
          "Spain",
          "Canada",
          "Turkey",
          "Australia",
          "Poland",
          "Netherlands",
          "Pakistan",
          "Indonesia",
          "Mexico",
          "Italy",
          "Ukraine",
          "Israel",
          "Kenya",
          "South Africa",
          "Taiwan",
          "Colombia",
          "Portugal",
          "Singapore",
          "Morocco",
          "Argentina",
          "China",
          "Egypt",
          "Switzerland",
          "Iran, Islamic Republic of...",
          "Chile",
          "Tunisia",
          "Sweden",
          "Thailand",
          "Greece",
          "South Korea",
          "Viet Nam",
          "Romania",
          "Saudi Arabia",
          "Belgium",
          "Malaysia",
          "Bangladesh",
          "United Arab Emirates",
          "Belarus",
          "Philippines",
          "Peru",
          "Republic of Korea",
          "Ireland",
          "Nepal",
          "Ghana",
          "Sri Lanka"
         ],
         "name": "",
         "type": "choropleth",
         "z": [
          21.78624813153961,
          14.53662182361734,
          6.726457399103139,
          4.596412556053812,
          4.185351270553064,
          3.288490284005979,
          2.9521674140508223,
          2.8400597907324365,
          2.765321375186846,
          2.615844544095665,
          2.391629297458894,
          2.0553064275037367,
          1.8310911808669657,
          1.4947683109118086,
          1.4200298953662183,
          1.3079222720478325,
          1.2705530642750373,
          1.2705530642750373,
          1.195814648729447,
          1.1584454409566518,
          1.0837070254110612,
          0.9715994020926756,
          0.9342301943198804,
          0.8968609865470852,
          0.85949177877429,
          0.85949177877429,
          0.7847533632286996,
          0.7473841554559043,
          0.7100149476831091,
          0.7100149476831091,
          0.672645739910314,
          0.6352765321375187,
          0.5605381165919282,
          0.523168908819133,
          0.523168908819133,
          0.523168908819133,
          0.4857997010463378,
          0.4484304932735426,
          0.4484304932735426,
          0.4484304932735426,
          0.4484304932735426,
          0.4484304932735426,
          0.4110612855007474,
          0.4110612855007474,
          0.37369207772795215,
          0.336322869955157,
          0.336322869955157,
          0.29895366218236175,
          0.29895366218236175,
          0.29895366218236175,
          0.2615844544095665,
          0.2242152466367713,
          0.14947683109118087,
          0.11210762331838565,
          0.07473841554559044
         ]
        }
       ],
       "layout": {
        "coloraxis": {
         "cmax": 5,
         "cmin": 0,
         "colorbar": {
          "title": {
           "text": "% of respondents"
          }
         },
         "colorscale": [
          [
           0,
           "#440154"
          ],
          [
           0.1111111111111111,
           "#482878"
          ],
          [
           0.2222222222222222,
           "#3e4989"
          ],
          [
           0.3333333333333333,
           "#31688e"
          ],
          [
           0.4444444444444444,
           "#26828e"
          ],
          [
           0.5555555555555556,
           "#1f9e89"
          ],
          [
           0.6666666666666666,
           "#35b779"
          ],
          [
           0.7777777777777778,
           "#6ece58"
          ],
          [
           0.8888888888888888,
           "#b5de2b"
          ],
          [
           1,
           "#fde725"
          ]
         ]
        },
        "geo": {
         "center": {},
         "domain": {
          "x": [
           0,
           1
          ],
          "y": [
           0,
           1
          ]
         }
        },
        "legend": {
         "tracegroupgap": 0
        },
        "template": {
         "data": {
          "bar": [
           {
            "error_x": {
             "color": "#2a3f5f"
            },
            "error_y": {
             "color": "#2a3f5f"
            },
            "marker": {
             "line": {
              "color": "#E5ECF6",
              "width": 0.5
             },
             "pattern": {
              "fillmode": "overlay",
              "size": 10,
              "solidity": 0.2
             }
            },
            "type": "bar"
           }
          ],
          "barpolar": [
           {
            "marker": {
             "line": {
              "color": "#E5ECF6",
              "width": 0.5
             },
             "pattern": {
              "fillmode": "overlay",
              "size": 10,
              "solidity": 0.2
             }
            },
            "type": "barpolar"
           }
          ],
          "carpet": [
           {
            "aaxis": {
             "endlinecolor": "#2a3f5f",
             "gridcolor": "white",
             "linecolor": "white",
             "minorgridcolor": "white",
             "startlinecolor": "#2a3f5f"
            },
            "baxis": {
             "endlinecolor": "#2a3f5f",
             "gridcolor": "white",
             "linecolor": "white",
             "minorgridcolor": "white",
             "startlinecolor": "#2a3f5f"
            },
            "type": "carpet"
           }
          ],
          "choropleth": [
           {
            "colorbar": {
             "outlinewidth": 0,
             "ticks": ""
            },
            "type": "choropleth"
           }
          ],
          "contour": [
           {
            "colorbar": {
             "outlinewidth": 0,
             "ticks": ""
            },
            "colorscale": [
             [
              0,
              "#0d0887"
             ],
             [
              0.1111111111111111,
              "#46039f"
             ],
             [
              0.2222222222222222,
              "#7201a8"
             ],
             [
              0.3333333333333333,
              "#9c179e"
             ],
             [
              0.4444444444444444,
              "#bd3786"
             ],
             [
              0.5555555555555556,
              "#d8576b"
             ],
             [
              0.6666666666666666,
              "#ed7953"
             ],
             [
              0.7777777777777778,
              "#fb9f3a"
             ],
             [
              0.8888888888888888,
              "#fdca26"
             ],
             [
              1,
              "#f0f921"
             ]
            ],
            "type": "contour"
           }
          ],
          "contourcarpet": [
           {
            "colorbar": {
             "outlinewidth": 0,
             "ticks": ""
            },
            "type": "contourcarpet"
           }
          ],
          "heatmap": [
           {
            "colorbar": {
             "outlinewidth": 0,
             "ticks": ""
            },
            "colorscale": [
             [
              0,
              "#0d0887"
             ],
             [
              0.1111111111111111,
              "#46039f"
             ],
             [
              0.2222222222222222,
              "#7201a8"
             ],
             [
              0.3333333333333333,
              "#9c179e"
             ],
             [
              0.4444444444444444,
              "#bd3786"
             ],
             [
              0.5555555555555556,
              "#d8576b"
             ],
             [
              0.6666666666666666,
              "#ed7953"
             ],
             [
              0.7777777777777778,
              "#fb9f3a"
             ],
             [
              0.8888888888888888,
              "#fdca26"
             ],
             [
              1,
              "#f0f921"
             ]
            ],
            "type": "heatmap"
           }
          ],
          "heatmapgl": [
           {
            "colorbar": {
             "outlinewidth": 0,
             "ticks": ""
            },
            "colorscale": [
             [
              0,
              "#0d0887"
             ],
             [
              0.1111111111111111,
              "#46039f"
             ],
             [
              0.2222222222222222,
              "#7201a8"
             ],
             [
              0.3333333333333333,
              "#9c179e"
             ],
             [
              0.4444444444444444,
              "#bd3786"
             ],
             [
              0.5555555555555556,
              "#d8576b"
             ],
             [
              0.6666666666666666,
              "#ed7953"
             ],
             [
              0.7777777777777778,
              "#fb9f3a"
             ],
             [
              0.8888888888888888,
              "#fdca26"
             ],
             [
              1,
              "#f0f921"
             ]
            ],
            "type": "heatmapgl"
           }
          ],
          "histogram": [
           {
            "marker": {
             "pattern": {
              "fillmode": "overlay",
              "size": 10,
              "solidity": 0.2
             }
            },
            "type": "histogram"
           }
          ],
          "histogram2d": [
           {
            "colorbar": {
             "outlinewidth": 0,
             "ticks": ""
            },
            "colorscale": [
             [
              0,
              "#0d0887"
             ],
             [
              0.1111111111111111,
              "#46039f"
             ],
             [
              0.2222222222222222,
              "#7201a8"
             ],
             [
              0.3333333333333333,
              "#9c179e"
             ],
             [
              0.4444444444444444,
              "#bd3786"
             ],
             [
              0.5555555555555556,
              "#d8576b"
             ],
             [
              0.6666666666666666,
              "#ed7953"
             ],
             [
              0.7777777777777778,
              "#fb9f3a"
             ],
             [
              0.8888888888888888,
              "#fdca26"
             ],
             [
              1,
              "#f0f921"
             ]
            ],
            "type": "histogram2d"
           }
          ],
          "histogram2dcontour": [
           {
            "colorbar": {
             "outlinewidth": 0,
             "ticks": ""
            },
            "colorscale": [
             [
              0,
              "#0d0887"
             ],
             [
              0.1111111111111111,
              "#46039f"
             ],
             [
              0.2222222222222222,
              "#7201a8"
             ],
             [
              0.3333333333333333,
              "#9c179e"
             ],
             [
              0.4444444444444444,
              "#bd3786"
             ],
             [
              0.5555555555555556,
              "#d8576b"
             ],
             [
              0.6666666666666666,
              "#ed7953"
             ],
             [
              0.7777777777777778,
              "#fb9f3a"
             ],
             [
              0.8888888888888888,
              "#fdca26"
             ],
             [
              1,
              "#f0f921"
             ]
            ],
            "type": "histogram2dcontour"
           }
          ],
          "mesh3d": [
           {
            "colorbar": {
             "outlinewidth": 0,
             "ticks": ""
            },
            "type": "mesh3d"
           }
          ],
          "parcoords": [
           {
            "line": {
             "colorbar": {
              "outlinewidth": 0,
              "ticks": ""
             }
            },
            "type": "parcoords"
           }
          ],
          "pie": [
           {
            "automargin": true,
            "type": "pie"
           }
          ],
          "scatter": [
           {
            "fillpattern": {
             "fillmode": "overlay",
             "size": 10,
             "solidity": 0.2
            },
            "type": "scatter"
           }
          ],
          "scatter3d": [
           {
            "line": {
             "colorbar": {
              "outlinewidth": 0,
              "ticks": ""
             }
            },
            "marker": {
             "colorbar": {
              "outlinewidth": 0,
              "ticks": ""
             }
            },
            "type": "scatter3d"
           }
          ],
          "scattercarpet": [
           {
            "marker": {
             "colorbar": {
              "outlinewidth": 0,
              "ticks": ""
             }
            },
            "type": "scattercarpet"
           }
          ],
          "scattergeo": [
           {
            "marker": {
             "colorbar": {
              "outlinewidth": 0,
              "ticks": ""
             }
            },
            "type": "scattergeo"
           }
          ],
          "scattergl": [
           {
            "marker": {
             "colorbar": {
              "outlinewidth": 0,
              "ticks": ""
             }
            },
            "type": "scattergl"
           }
          ],
          "scattermapbox": [
           {
            "marker": {
             "colorbar": {
              "outlinewidth": 0,
              "ticks": ""
             }
            },
            "type": "scattermapbox"
           }
          ],
          "scatterpolar": [
           {
            "marker": {
             "colorbar": {
              "outlinewidth": 0,
              "ticks": ""
             }
            },
            "type": "scatterpolar"
           }
          ],
          "scatterpolargl": [
           {
            "marker": {
             "colorbar": {
              "outlinewidth": 0,
              "ticks": ""
             }
            },
            "type": "scatterpolargl"
           }
          ],
          "scatterternary": [
           {
            "marker": {
             "colorbar": {
              "outlinewidth": 0,
              "ticks": ""
             }
            },
            "type": "scatterternary"
           }
          ],
          "surface": [
           {
            "colorbar": {
             "outlinewidth": 0,
             "ticks": ""
            },
            "colorscale": [
             [
              0,
              "#0d0887"
             ],
             [
              0.1111111111111111,
              "#46039f"
             ],
             [
              0.2222222222222222,
              "#7201a8"
             ],
             [
              0.3333333333333333,
              "#9c179e"
             ],
             [
              0.4444444444444444,
              "#bd3786"
             ],
             [
              0.5555555555555556,
              "#d8576b"
             ],
             [
              0.6666666666666666,
              "#ed7953"
             ],
             [
              0.7777777777777778,
              "#fb9f3a"
             ],
             [
              0.8888888888888888,
              "#fdca26"
             ],
             [
              1,
              "#f0f921"
             ]
            ],
            "type": "surface"
           }
          ],
          "table": [
           {
            "cells": {
             "fill": {
              "color": "#EBF0F8"
             },
             "line": {
              "color": "white"
             }
            },
            "header": {
             "fill": {
              "color": "#C8D4E3"
             },
             "line": {
              "color": "white"
             }
            },
            "type": "table"
           }
          ]
         },
         "layout": {
          "annotationdefaults": {
           "arrowcolor": "#2a3f5f",
           "arrowhead": 0,
           "arrowwidth": 1
          },
          "autotypenumbers": "strict",
          "coloraxis": {
           "colorbar": {
            "outlinewidth": 0,
            "ticks": ""
           }
          },
          "colorscale": {
           "diverging": [
            [
             0,
             "#8e0152"
            ],
            [
             0.1,
             "#c51b7d"
            ],
            [
             0.2,
             "#de77ae"
            ],
            [
             0.3,
             "#f1b6da"
            ],
            [
             0.4,
             "#fde0ef"
            ],
            [
             0.5,
             "#f7f7f7"
            ],
            [
             0.6,
             "#e6f5d0"
            ],
            [
             0.7,
             "#b8e186"
            ],
            [
             0.8,
             "#7fbc41"
            ],
            [
             0.9,
             "#4d9221"
            ],
            [
             1,
             "#276419"
            ]
           ],
           "sequential": [
            [
             0,
             "#0d0887"
            ],
            [
             0.1111111111111111,
             "#46039f"
            ],
            [
             0.2222222222222222,
             "#7201a8"
            ],
            [
             0.3333333333333333,
             "#9c179e"
            ],
            [
             0.4444444444444444,
             "#bd3786"
            ],
            [
             0.5555555555555556,
             "#d8576b"
            ],
            [
             0.6666666666666666,
             "#ed7953"
            ],
            [
             0.7777777777777778,
             "#fb9f3a"
            ],
            [
             0.8888888888888888,
             "#fdca26"
            ],
            [
             1,
             "#f0f921"
            ]
           ],
           "sequentialminus": [
            [
             0,
             "#0d0887"
            ],
            [
             0.1111111111111111,
             "#46039f"
            ],
            [
             0.2222222222222222,
             "#7201a8"
            ],
            [
             0.3333333333333333,
             "#9c179e"
            ],
            [
             0.4444444444444444,
             "#bd3786"
            ],
            [
             0.5555555555555556,
             "#d8576b"
            ],
            [
             0.6666666666666666,
             "#ed7953"
            ],
            [
             0.7777777777777778,
             "#fb9f3a"
            ],
            [
             0.8888888888888888,
             "#fdca26"
            ],
            [
             1,
             "#f0f921"
            ]
           ]
          },
          "colorway": [
           "#636efa",
           "#EF553B",
           "#00cc96",
           "#ab63fa",
           "#FFA15A",
           "#19d3f3",
           "#FF6692",
           "#B6E880",
           "#FF97FF",
           "#FECB52"
          ],
          "font": {
           "color": "#2a3f5f"
          },
          "geo": {
           "bgcolor": "white",
           "lakecolor": "white",
           "landcolor": "#E5ECF6",
           "showlakes": true,
           "showland": true,
           "subunitcolor": "white"
          },
          "hoverlabel": {
           "align": "left"
          },
          "hovermode": "closest",
          "mapbox": {
           "style": "light"
          },
          "paper_bgcolor": "white",
          "plot_bgcolor": "#E5ECF6",
          "polar": {
           "angularaxis": {
            "gridcolor": "white",
            "linecolor": "white",
            "ticks": ""
           },
           "bgcolor": "#E5ECF6",
           "radialaxis": {
            "gridcolor": "white",
            "linecolor": "white",
            "ticks": ""
           }
          },
          "scene": {
           "xaxis": {
            "backgroundcolor": "#E5ECF6",
            "gridcolor": "white",
            "gridwidth": 2,
            "linecolor": "white",
            "showbackground": true,
            "ticks": "",
            "zerolinecolor": "white"
           },
           "yaxis": {
            "backgroundcolor": "#E5ECF6",
            "gridcolor": "white",
            "gridwidth": 2,
            "linecolor": "white",
            "showbackground": true,
            "ticks": "",
            "zerolinecolor": "white"
           },
           "zaxis": {
            "backgroundcolor": "#E5ECF6",
            "gridcolor": "white",
            "gridwidth": 2,
            "linecolor": "white",
            "showbackground": true,
            "ticks": "",
            "zerolinecolor": "white"
           }
          },
          "shapedefaults": {
           "line": {
            "color": "#2a3f5f"
           }
          },
          "ternary": {
           "aaxis": {
            "gridcolor": "white",
            "linecolor": "white",
            "ticks": ""
           },
           "baxis": {
            "gridcolor": "white",
            "linecolor": "white",
            "ticks": ""
           },
           "bgcolor": "#E5ECF6",
           "caxis": {
            "gridcolor": "white",
            "linecolor": "white",
            "ticks": ""
           }
          },
          "title": {
           "x": 0.05
          },
          "xaxis": {
           "automargin": true,
           "gridcolor": "white",
           "linecolor": "white",
           "ticks": "",
           "title": {
            "standoff": 15
           },
           "zerolinecolor": "white",
           "zerolinewidth": 2
          },
          "yaxis": {
           "automargin": true,
           "gridcolor": "white",
           "linecolor": "white",
           "ticks": "",
           "title": {
            "standoff": 15
           },
           "zerolinecolor": "white",
           "zerolinewidth": 2
          }
         }
        },
        "title": {
         "text": "Percentage of total responses for most common countries in 2021",
         "x": 0.5
        }
       }
      },
      "text/html": [
       "<div>                            <div id=\"506a6292-4437-4f32-964c-2f3ebfbb19cf\" class=\"plotly-graph-div\" style=\"height:525px; width:100%;\"></div>            <script type=\"text/javascript\">                require([\"plotly\"], function(Plotly) {                    window.PLOTLYENV=window.PLOTLYENV || {};                                    if (document.getElementById(\"506a6292-4437-4f32-964c-2f3ebfbb19cf\")) {                    Plotly.newPlot(                        \"506a6292-4437-4f32-964c-2f3ebfbb19cf\",                        [{\"coloraxis\":\"coloraxis\",\"geo\":\"geo\",\"hovertemplate\":\"country=%{location}<br>% of respondents=%{z}<extra></extra>\",\"locationmode\":\"country names\",\"locations\":[\"India\",\"United States of America\",\"Other\",\"Brazil\",\"United Kingdom of Great Britain and Northern Ireland\",\"Russia\",\"France\",\"Japan\",\"Germany\",\"Nigeria\",\"Spain\",\"Canada\",\"Turkey\",\"Australia\",\"Poland\",\"Netherlands\",\"Pakistan\",\"Indonesia\",\"Mexico\",\"Italy\",\"Ukraine\",\"Israel\",\"Kenya\",\"South Africa\",\"Taiwan\",\"Colombia\",\"Portugal\",\"Singapore\",\"Morocco\",\"Argentina\",\"China\",\"Egypt\",\"Switzerland\",\"Iran, Islamic Republic of...\",\"Chile\",\"Tunisia\",\"Sweden\",\"Thailand\",\"Greece\",\"South Korea\",\"Viet Nam\",\"Romania\",\"Saudi Arabia\",\"Belgium\",\"Malaysia\",\"Bangladesh\",\"United Arab Emirates\",\"Belarus\",\"Philippines\",\"Peru\",\"Republic of Korea\",\"Ireland\",\"Nepal\",\"Ghana\",\"Sri Lanka\"],\"name\":\"\",\"z\":[21.78624813153961,14.53662182361734,6.726457399103139,4.596412556053812,4.185351270553064,3.288490284005979,2.9521674140508223,2.8400597907324365,2.765321375186846,2.615844544095665,2.391629297458894,2.0553064275037367,1.8310911808669657,1.4947683109118086,1.4200298953662183,1.3079222720478325,1.2705530642750373,1.2705530642750373,1.195814648729447,1.1584454409566518,1.0837070254110612,0.9715994020926756,0.9342301943198804,0.8968609865470852,0.85949177877429,0.85949177877429,0.7847533632286996,0.7473841554559043,0.7100149476831091,0.7100149476831091,0.672645739910314,0.6352765321375187,0.5605381165919282,0.523168908819133,0.523168908819133,0.523168908819133,0.4857997010463378,0.4484304932735426,0.4484304932735426,0.4484304932735426,0.4484304932735426,0.4484304932735426,0.4110612855007474,0.4110612855007474,0.37369207772795215,0.336322869955157,0.336322869955157,0.29895366218236175,0.29895366218236175,0.29895366218236175,0.2615844544095665,0.2242152466367713,0.14947683109118087,0.11210762331838565,0.07473841554559044],\"type\":\"choropleth\"}],                        {\"template\":{\"data\":{\"histogram2dcontour\":[{\"type\":\"histogram2dcontour\",\"colorbar\":{\"outlinewidth\":0,\"ticks\":\"\"},\"colorscale\":[[0.0,\"#0d0887\"],[0.1111111111111111,\"#46039f\"],[0.2222222222222222,\"#7201a8\"],[0.3333333333333333,\"#9c179e\"],[0.4444444444444444,\"#bd3786\"],[0.5555555555555556,\"#d8576b\"],[0.6666666666666666,\"#ed7953\"],[0.7777777777777778,\"#fb9f3a\"],[0.8888888888888888,\"#fdca26\"],[1.0,\"#f0f921\"]]}],\"choropleth\":[{\"type\":\"choropleth\",\"colorbar\":{\"outlinewidth\":0,\"ticks\":\"\"}}],\"histogram2d\":[{\"type\":\"histogram2d\",\"colorbar\":{\"outlinewidth\":0,\"ticks\":\"\"},\"colorscale\":[[0.0,\"#0d0887\"],[0.1111111111111111,\"#46039f\"],[0.2222222222222222,\"#7201a8\"],[0.3333333333333333,\"#9c179e\"],[0.4444444444444444,\"#bd3786\"],[0.5555555555555556,\"#d8576b\"],[0.6666666666666666,\"#ed7953\"],[0.7777777777777778,\"#fb9f3a\"],[0.8888888888888888,\"#fdca26\"],[1.0,\"#f0f921\"]]}],\"heatmap\":[{\"type\":\"heatmap\",\"colorbar\":{\"outlinewidth\":0,\"ticks\":\"\"},\"colorscale\":[[0.0,\"#0d0887\"],[0.1111111111111111,\"#46039f\"],[0.2222222222222222,\"#7201a8\"],[0.3333333333333333,\"#9c179e\"],[0.4444444444444444,\"#bd3786\"],[0.5555555555555556,\"#d8576b\"],[0.6666666666666666,\"#ed7953\"],[0.7777777777777778,\"#fb9f3a\"],[0.8888888888888888,\"#fdca26\"],[1.0,\"#f0f921\"]]}],\"heatmapgl\":[{\"type\":\"heatmapgl\",\"colorbar\":{\"outlinewidth\":0,\"ticks\":\"\"},\"colorscale\":[[0.0,\"#0d0887\"],[0.1111111111111111,\"#46039f\"],[0.2222222222222222,\"#7201a8\"],[0.3333333333333333,\"#9c179e\"],[0.4444444444444444,\"#bd3786\"],[0.5555555555555556,\"#d8576b\"],[0.6666666666666666,\"#ed7953\"],[0.7777777777777778,\"#fb9f3a\"],[0.8888888888888888,\"#fdca26\"],[1.0,\"#f0f921\"]]}],\"contourcarpet\":[{\"type\":\"contourcarpet\",\"colorbar\":{\"outlinewidth\":0,\"ticks\":\"\"}}],\"contour\":[{\"type\":\"contour\",\"colorbar\":{\"outlinewidth\":0,\"ticks\":\"\"},\"colorscale\":[[0.0,\"#0d0887\"],[0.1111111111111111,\"#46039f\"],[0.2222222222222222,\"#7201a8\"],[0.3333333333333333,\"#9c179e\"],[0.4444444444444444,\"#bd3786\"],[0.5555555555555556,\"#d8576b\"],[0.6666666666666666,\"#ed7953\"],[0.7777777777777778,\"#fb9f3a\"],[0.8888888888888888,\"#fdca26\"],[1.0,\"#f0f921\"]]}],\"surface\":[{\"type\":\"surface\",\"colorbar\":{\"outlinewidth\":0,\"ticks\":\"\"},\"colorscale\":[[0.0,\"#0d0887\"],[0.1111111111111111,\"#46039f\"],[0.2222222222222222,\"#7201a8\"],[0.3333333333333333,\"#9c179e\"],[0.4444444444444444,\"#bd3786\"],[0.5555555555555556,\"#d8576b\"],[0.6666666666666666,\"#ed7953\"],[0.7777777777777778,\"#fb9f3a\"],[0.8888888888888888,\"#fdca26\"],[1.0,\"#f0f921\"]]}],\"mesh3d\":[{\"type\":\"mesh3d\",\"colorbar\":{\"outlinewidth\":0,\"ticks\":\"\"}}],\"scatter\":[{\"fillpattern\":{\"fillmode\":\"overlay\",\"size\":10,\"solidity\":0.2},\"type\":\"scatter\"}],\"parcoords\":[{\"type\":\"parcoords\",\"line\":{\"colorbar\":{\"outlinewidth\":0,\"ticks\":\"\"}}}],\"scatterpolargl\":[{\"type\":\"scatterpolargl\",\"marker\":{\"colorbar\":{\"outlinewidth\":0,\"ticks\":\"\"}}}],\"bar\":[{\"error_x\":{\"color\":\"#2a3f5f\"},\"error_y\":{\"color\":\"#2a3f5f\"},\"marker\":{\"line\":{\"color\":\"#E5ECF6\",\"width\":0.5},\"pattern\":{\"fillmode\":\"overlay\",\"size\":10,\"solidity\":0.2}},\"type\":\"bar\"}],\"scattergeo\":[{\"type\":\"scattergeo\",\"marker\":{\"colorbar\":{\"outlinewidth\":0,\"ticks\":\"\"}}}],\"scatterpolar\":[{\"type\":\"scatterpolar\",\"marker\":{\"colorbar\":{\"outlinewidth\":0,\"ticks\":\"\"}}}],\"histogram\":[{\"marker\":{\"pattern\":{\"fillmode\":\"overlay\",\"size\":10,\"solidity\":0.2}},\"type\":\"histogram\"}],\"scattergl\":[{\"type\":\"scattergl\",\"marker\":{\"colorbar\":{\"outlinewidth\":0,\"ticks\":\"\"}}}],\"scatter3d\":[{\"type\":\"scatter3d\",\"line\":{\"colorbar\":{\"outlinewidth\":0,\"ticks\":\"\"}},\"marker\":{\"colorbar\":{\"outlinewidth\":0,\"ticks\":\"\"}}}],\"scattermapbox\":[{\"type\":\"scattermapbox\",\"marker\":{\"colorbar\":{\"outlinewidth\":0,\"ticks\":\"\"}}}],\"scatterternary\":[{\"type\":\"scatterternary\",\"marker\":{\"colorbar\":{\"outlinewidth\":0,\"ticks\":\"\"}}}],\"scattercarpet\":[{\"type\":\"scattercarpet\",\"marker\":{\"colorbar\":{\"outlinewidth\":0,\"ticks\":\"\"}}}],\"carpet\":[{\"aaxis\":{\"endlinecolor\":\"#2a3f5f\",\"gridcolor\":\"white\",\"linecolor\":\"white\",\"minorgridcolor\":\"white\",\"startlinecolor\":\"#2a3f5f\"},\"baxis\":{\"endlinecolor\":\"#2a3f5f\",\"gridcolor\":\"white\",\"linecolor\":\"white\",\"minorgridcolor\":\"white\",\"startlinecolor\":\"#2a3f5f\"},\"type\":\"carpet\"}],\"table\":[{\"cells\":{\"fill\":{\"color\":\"#EBF0F8\"},\"line\":{\"color\":\"white\"}},\"header\":{\"fill\":{\"color\":\"#C8D4E3\"},\"line\":{\"color\":\"white\"}},\"type\":\"table\"}],\"barpolar\":[{\"marker\":{\"line\":{\"color\":\"#E5ECF6\",\"width\":0.5},\"pattern\":{\"fillmode\":\"overlay\",\"size\":10,\"solidity\":0.2}},\"type\":\"barpolar\"}],\"pie\":[{\"automargin\":true,\"type\":\"pie\"}]},\"layout\":{\"autotypenumbers\":\"strict\",\"colorway\":[\"#636efa\",\"#EF553B\",\"#00cc96\",\"#ab63fa\",\"#FFA15A\",\"#19d3f3\",\"#FF6692\",\"#B6E880\",\"#FF97FF\",\"#FECB52\"],\"font\":{\"color\":\"#2a3f5f\"},\"hovermode\":\"closest\",\"hoverlabel\":{\"align\":\"left\"},\"paper_bgcolor\":\"white\",\"plot_bgcolor\":\"#E5ECF6\",\"polar\":{\"bgcolor\":\"#E5ECF6\",\"angularaxis\":{\"gridcolor\":\"white\",\"linecolor\":\"white\",\"ticks\":\"\"},\"radialaxis\":{\"gridcolor\":\"white\",\"linecolor\":\"white\",\"ticks\":\"\"}},\"ternary\":{\"bgcolor\":\"#E5ECF6\",\"aaxis\":{\"gridcolor\":\"white\",\"linecolor\":\"white\",\"ticks\":\"\"},\"baxis\":{\"gridcolor\":\"white\",\"linecolor\":\"white\",\"ticks\":\"\"},\"caxis\":{\"gridcolor\":\"white\",\"linecolor\":\"white\",\"ticks\":\"\"}},\"coloraxis\":{\"colorbar\":{\"outlinewidth\":0,\"ticks\":\"\"}},\"colorscale\":{\"sequential\":[[0.0,\"#0d0887\"],[0.1111111111111111,\"#46039f\"],[0.2222222222222222,\"#7201a8\"],[0.3333333333333333,\"#9c179e\"],[0.4444444444444444,\"#bd3786\"],[0.5555555555555556,\"#d8576b\"],[0.6666666666666666,\"#ed7953\"],[0.7777777777777778,\"#fb9f3a\"],[0.8888888888888888,\"#fdca26\"],[1.0,\"#f0f921\"]],\"sequentialminus\":[[0.0,\"#0d0887\"],[0.1111111111111111,\"#46039f\"],[0.2222222222222222,\"#7201a8\"],[0.3333333333333333,\"#9c179e\"],[0.4444444444444444,\"#bd3786\"],[0.5555555555555556,\"#d8576b\"],[0.6666666666666666,\"#ed7953\"],[0.7777777777777778,\"#fb9f3a\"],[0.8888888888888888,\"#fdca26\"],[1.0,\"#f0f921\"]],\"diverging\":[[0,\"#8e0152\"],[0.1,\"#c51b7d\"],[0.2,\"#de77ae\"],[0.3,\"#f1b6da\"],[0.4,\"#fde0ef\"],[0.5,\"#f7f7f7\"],[0.6,\"#e6f5d0\"],[0.7,\"#b8e186\"],[0.8,\"#7fbc41\"],[0.9,\"#4d9221\"],[1,\"#276419\"]]},\"xaxis\":{\"gridcolor\":\"white\",\"linecolor\":\"white\",\"ticks\":\"\",\"title\":{\"standoff\":15},\"zerolinecolor\":\"white\",\"automargin\":true,\"zerolinewidth\":2},\"yaxis\":{\"gridcolor\":\"white\",\"linecolor\":\"white\",\"ticks\":\"\",\"title\":{\"standoff\":15},\"zerolinecolor\":\"white\",\"automargin\":true,\"zerolinewidth\":2},\"scene\":{\"xaxis\":{\"backgroundcolor\":\"#E5ECF6\",\"gridcolor\":\"white\",\"linecolor\":\"white\",\"showbackground\":true,\"ticks\":\"\",\"zerolinecolor\":\"white\",\"gridwidth\":2},\"yaxis\":{\"backgroundcolor\":\"#E5ECF6\",\"gridcolor\":\"white\",\"linecolor\":\"white\",\"showbackground\":true,\"ticks\":\"\",\"zerolinecolor\":\"white\",\"gridwidth\":2},\"zaxis\":{\"backgroundcolor\":\"#E5ECF6\",\"gridcolor\":\"white\",\"linecolor\":\"white\",\"showbackground\":true,\"ticks\":\"\",\"zerolinecolor\":\"white\",\"gridwidth\":2}},\"shapedefaults\":{\"line\":{\"color\":\"#2a3f5f\"}},\"annotationdefaults\":{\"arrowcolor\":\"#2a3f5f\",\"arrowhead\":0,\"arrowwidth\":1},\"geo\":{\"bgcolor\":\"white\",\"landcolor\":\"#E5ECF6\",\"subunitcolor\":\"white\",\"showland\":true,\"showlakes\":true,\"lakecolor\":\"white\"},\"title\":{\"x\":0.05},\"mapbox\":{\"style\":\"light\"}}},\"geo\":{\"domain\":{\"x\":[0.0,1.0],\"y\":[0.0,1.0]},\"center\":{}},\"coloraxis\":{\"colorbar\":{\"title\":{\"text\":\"% of respondents\"}},\"colorscale\":[[0.0,\"#440154\"],[0.1111111111111111,\"#482878\"],[0.2222222222222222,\"#3e4989\"],[0.3333333333333333,\"#31688e\"],[0.4444444444444444,\"#26828e\"],[0.5555555555555556,\"#1f9e89\"],[0.6666666666666666,\"#35b779\"],[0.7777777777777778,\"#6ece58\"],[0.8888888888888888,\"#b5de2b\"],[1.0,\"#fde725\"]],\"cmin\":0,\"cmax\":5},\"legend\":{\"tracegroupgap\":0},\"title\":{\"text\":\"Percentage of total responses for most common countries in 2021\",\"x\":0.5}},                        {\"responsive\": true}                    ).then(function(){\n",
       "                            \n",
       "var gd = document.getElementById('506a6292-4437-4f32-964c-2f3ebfbb19cf');\n",
       "var x = new MutationObserver(function (mutations, observer) {{\n",
       "        var display = window.getComputedStyle(gd).display;\n",
       "        if (!display || display === 'none') {{\n",
       "            console.log([gd, 'removed!']);\n",
       "            Plotly.purge(gd);\n",
       "            observer.disconnect();\n",
       "        }}\n",
       "}});\n",
       "\n",
       "// Listen for the removal of the full notebook cells\n",
       "var notebookContainer = gd.closest('#notebook-container');\n",
       "if (notebookContainer) {{\n",
       "    x.observe(notebookContainer, {childList: true});\n",
       "}}\n",
       "\n",
       "// Listen for the clearing of the current output cell\n",
       "var outputEl = gd.closest('.output');\n",
       "if (outputEl) {{\n",
       "    x.observe(outputEl, {childList: true});\n",
       "}}\n",
       "\n",
       "                        })                };                });            </script>        </div>"
      ]
     },
     "metadata": {},
     "output_type": "display_data"
    },
    {
     "name": "stdout",
     "output_type": "stream",
     "text": [
      "Note that countries with less than 50 responses were replaced with the country name \"other\" (which does not show up on this map)\n"
     ]
    }
   ],
   "source": [
    "responses_per_country_df = create_dataframe_of_counts(survey_df_2020,'Q3','country','# of respondents',return_percentages=False)\n",
    "percentages_per_country_df = create_dataframe_of_counts(survey_df_2020,'Q3','country','% of respondents',return_percentages=True)\n",
    "\n",
    "plotly_choropleth_map(responses_per_country_df, \n",
    "                       '# of respondents', \n",
    "                       'Total number of responses per country in 2021',\n",
    "                        max_value = 200)\n",
    "plotly_choropleth_map(percentages_per_country_df, \n",
    "                       '% of respondents', \n",
    "                       'Percentage of total responses for most common countries in 2021',\n",
    "                        max_value = 5)\n",
    "print('Note that countries with less than 50 responses were replaced with the country name \"other\" (which does not show up on this map)')"
   ]
  },
  {
   "cell_type": "code",
   "execution_count": 17,
   "id": "40e78da7",
   "metadata": {},
   "outputs": [
    {
     "data": {
      "application/vnd.plotly.v1+json": {
       "config": {
        "plotlyServerURL": "https://plot.ly"
       },
       "data": [
        {
         "name": "2018 Kaggle Survey",
         "type": "bar",
         "x": [
          "18-21",
          "22-24",
          "25-29",
          "30-34",
          "35-39",
          "40-44",
          "45-49",
          "50-54",
          "55-59",
          "60-69",
          "70-79",
          "80+"
         ],
         "y": [
          5.4,
          17.3,
          33.1,
          21.1,
          11.2,
          5.3,
          2.7,
          1.8,
          1.3,
          0.7,
          0.1,
          0.1
         ]
        },
        {
         "name": "2019 Kaggle Survey",
         "type": "bar",
         "x": [
          "18-21",
          "22-24",
          "25-29",
          "30-34",
          "35-39",
          "40-44",
          "45-49",
          "50-54",
          "55-59",
          "60-69",
          "70+"
         ],
         "y": [
          5.3,
          15.1,
          27.8,
          21.3,
          13,
          7.1,
          3.8,
          3.2,
          1.8,
          1.2,
          0.3
         ]
        },
        {
         "name": "2020 Kaggle Survey",
         "type": "bar",
         "x": [
          "18-21",
          "22-24",
          "25-29",
          "30-34",
          "35-39",
          "40-44",
          "45-49",
          "50-54",
          "55-59",
          "60-69",
          "70+"
         ],
         "y": [
          6.9,
          13.7,
          25.2,
          20.1,
          13.5,
          8.6,
          5,
          3.1,
          1.5,
          1.8,
          0.6
         ]
        },
        {
         "name": "2021 Kaggle Survey",
         "type": "bar",
         "x": [
          "18-21",
          "22-24",
          "25-29",
          "30-34",
          "35-39",
          "40-44",
          "45-49",
          "50-54",
          "55-59",
          "60-69",
          "70+"
         ],
         "y": [
          9.5,
          16.4,
          25.1,
          17.3,
          11.5,
          8.8,
          4.8,
          3.2,
          1.8,
          1.4,
          0.3
         ]
        }
       ],
       "layout": {
        "barmode": "group",
        "template": {
         "data": {
          "bar": [
           {
            "error_x": {
             "color": "#2a3f5f"
            },
            "error_y": {
             "color": "#2a3f5f"
            },
            "marker": {
             "line": {
              "color": "#E5ECF6",
              "width": 0.5
             },
             "pattern": {
              "fillmode": "overlay",
              "size": 10,
              "solidity": 0.2
             }
            },
            "type": "bar"
           }
          ],
          "barpolar": [
           {
            "marker": {
             "line": {
              "color": "#E5ECF6",
              "width": 0.5
             },
             "pattern": {
              "fillmode": "overlay",
              "size": 10,
              "solidity": 0.2
             }
            },
            "type": "barpolar"
           }
          ],
          "carpet": [
           {
            "aaxis": {
             "endlinecolor": "#2a3f5f",
             "gridcolor": "white",
             "linecolor": "white",
             "minorgridcolor": "white",
             "startlinecolor": "#2a3f5f"
            },
            "baxis": {
             "endlinecolor": "#2a3f5f",
             "gridcolor": "white",
             "linecolor": "white",
             "minorgridcolor": "white",
             "startlinecolor": "#2a3f5f"
            },
            "type": "carpet"
           }
          ],
          "choropleth": [
           {
            "colorbar": {
             "outlinewidth": 0,
             "ticks": ""
            },
            "type": "choropleth"
           }
          ],
          "contour": [
           {
            "colorbar": {
             "outlinewidth": 0,
             "ticks": ""
            },
            "colorscale": [
             [
              0,
              "#0d0887"
             ],
             [
              0.1111111111111111,
              "#46039f"
             ],
             [
              0.2222222222222222,
              "#7201a8"
             ],
             [
              0.3333333333333333,
              "#9c179e"
             ],
             [
              0.4444444444444444,
              "#bd3786"
             ],
             [
              0.5555555555555556,
              "#d8576b"
             ],
             [
              0.6666666666666666,
              "#ed7953"
             ],
             [
              0.7777777777777778,
              "#fb9f3a"
             ],
             [
              0.8888888888888888,
              "#fdca26"
             ],
             [
              1,
              "#f0f921"
             ]
            ],
            "type": "contour"
           }
          ],
          "contourcarpet": [
           {
            "colorbar": {
             "outlinewidth": 0,
             "ticks": ""
            },
            "type": "contourcarpet"
           }
          ],
          "heatmap": [
           {
            "colorbar": {
             "outlinewidth": 0,
             "ticks": ""
            },
            "colorscale": [
             [
              0,
              "#0d0887"
             ],
             [
              0.1111111111111111,
              "#46039f"
             ],
             [
              0.2222222222222222,
              "#7201a8"
             ],
             [
              0.3333333333333333,
              "#9c179e"
             ],
             [
              0.4444444444444444,
              "#bd3786"
             ],
             [
              0.5555555555555556,
              "#d8576b"
             ],
             [
              0.6666666666666666,
              "#ed7953"
             ],
             [
              0.7777777777777778,
              "#fb9f3a"
             ],
             [
              0.8888888888888888,
              "#fdca26"
             ],
             [
              1,
              "#f0f921"
             ]
            ],
            "type": "heatmap"
           }
          ],
          "heatmapgl": [
           {
            "colorbar": {
             "outlinewidth": 0,
             "ticks": ""
            },
            "colorscale": [
             [
              0,
              "#0d0887"
             ],
             [
              0.1111111111111111,
              "#46039f"
             ],
             [
              0.2222222222222222,
              "#7201a8"
             ],
             [
              0.3333333333333333,
              "#9c179e"
             ],
             [
              0.4444444444444444,
              "#bd3786"
             ],
             [
              0.5555555555555556,
              "#d8576b"
             ],
             [
              0.6666666666666666,
              "#ed7953"
             ],
             [
              0.7777777777777778,
              "#fb9f3a"
             ],
             [
              0.8888888888888888,
              "#fdca26"
             ],
             [
              1,
              "#f0f921"
             ]
            ],
            "type": "heatmapgl"
           }
          ],
          "histogram": [
           {
            "marker": {
             "pattern": {
              "fillmode": "overlay",
              "size": 10,
              "solidity": 0.2
             }
            },
            "type": "histogram"
           }
          ],
          "histogram2d": [
           {
            "colorbar": {
             "outlinewidth": 0,
             "ticks": ""
            },
            "colorscale": [
             [
              0,
              "#0d0887"
             ],
             [
              0.1111111111111111,
              "#46039f"
             ],
             [
              0.2222222222222222,
              "#7201a8"
             ],
             [
              0.3333333333333333,
              "#9c179e"
             ],
             [
              0.4444444444444444,
              "#bd3786"
             ],
             [
              0.5555555555555556,
              "#d8576b"
             ],
             [
              0.6666666666666666,
              "#ed7953"
             ],
             [
              0.7777777777777778,
              "#fb9f3a"
             ],
             [
              0.8888888888888888,
              "#fdca26"
             ],
             [
              1,
              "#f0f921"
             ]
            ],
            "type": "histogram2d"
           }
          ],
          "histogram2dcontour": [
           {
            "colorbar": {
             "outlinewidth": 0,
             "ticks": ""
            },
            "colorscale": [
             [
              0,
              "#0d0887"
             ],
             [
              0.1111111111111111,
              "#46039f"
             ],
             [
              0.2222222222222222,
              "#7201a8"
             ],
             [
              0.3333333333333333,
              "#9c179e"
             ],
             [
              0.4444444444444444,
              "#bd3786"
             ],
             [
              0.5555555555555556,
              "#d8576b"
             ],
             [
              0.6666666666666666,
              "#ed7953"
             ],
             [
              0.7777777777777778,
              "#fb9f3a"
             ],
             [
              0.8888888888888888,
              "#fdca26"
             ],
             [
              1,
              "#f0f921"
             ]
            ],
            "type": "histogram2dcontour"
           }
          ],
          "mesh3d": [
           {
            "colorbar": {
             "outlinewidth": 0,
             "ticks": ""
            },
            "type": "mesh3d"
           }
          ],
          "parcoords": [
           {
            "line": {
             "colorbar": {
              "outlinewidth": 0,
              "ticks": ""
             }
            },
            "type": "parcoords"
           }
          ],
          "pie": [
           {
            "automargin": true,
            "type": "pie"
           }
          ],
          "scatter": [
           {
            "fillpattern": {
             "fillmode": "overlay",
             "size": 10,
             "solidity": 0.2
            },
            "type": "scatter"
           }
          ],
          "scatter3d": [
           {
            "line": {
             "colorbar": {
              "outlinewidth": 0,
              "ticks": ""
             }
            },
            "marker": {
             "colorbar": {
              "outlinewidth": 0,
              "ticks": ""
             }
            },
            "type": "scatter3d"
           }
          ],
          "scattercarpet": [
           {
            "marker": {
             "colorbar": {
              "outlinewidth": 0,
              "ticks": ""
             }
            },
            "type": "scattercarpet"
           }
          ],
          "scattergeo": [
           {
            "marker": {
             "colorbar": {
              "outlinewidth": 0,
              "ticks": ""
             }
            },
            "type": "scattergeo"
           }
          ],
          "scattergl": [
           {
            "marker": {
             "colorbar": {
              "outlinewidth": 0,
              "ticks": ""
             }
            },
            "type": "scattergl"
           }
          ],
          "scattermapbox": [
           {
            "marker": {
             "colorbar": {
              "outlinewidth": 0,
              "ticks": ""
             }
            },
            "type": "scattermapbox"
           }
          ],
          "scatterpolar": [
           {
            "marker": {
             "colorbar": {
              "outlinewidth": 0,
              "ticks": ""
             }
            },
            "type": "scatterpolar"
           }
          ],
          "scatterpolargl": [
           {
            "marker": {
             "colorbar": {
              "outlinewidth": 0,
              "ticks": ""
             }
            },
            "type": "scatterpolargl"
           }
          ],
          "scatterternary": [
           {
            "marker": {
             "colorbar": {
              "outlinewidth": 0,
              "ticks": ""
             }
            },
            "type": "scatterternary"
           }
          ],
          "surface": [
           {
            "colorbar": {
             "outlinewidth": 0,
             "ticks": ""
            },
            "colorscale": [
             [
              0,
              "#0d0887"
             ],
             [
              0.1111111111111111,
              "#46039f"
             ],
             [
              0.2222222222222222,
              "#7201a8"
             ],
             [
              0.3333333333333333,
              "#9c179e"
             ],
             [
              0.4444444444444444,
              "#bd3786"
             ],
             [
              0.5555555555555556,
              "#d8576b"
             ],
             [
              0.6666666666666666,
              "#ed7953"
             ],
             [
              0.7777777777777778,
              "#fb9f3a"
             ],
             [
              0.8888888888888888,
              "#fdca26"
             ],
             [
              1,
              "#f0f921"
             ]
            ],
            "type": "surface"
           }
          ],
          "table": [
           {
            "cells": {
             "fill": {
              "color": "#EBF0F8"
             },
             "line": {
              "color": "white"
             }
            },
            "header": {
             "fill": {
              "color": "#C8D4E3"
             },
             "line": {
              "color": "white"
             }
            },
            "type": "table"
           }
          ]
         },
         "layout": {
          "annotationdefaults": {
           "arrowcolor": "#2a3f5f",
           "arrowhead": 0,
           "arrowwidth": 1
          },
          "autotypenumbers": "strict",
          "coloraxis": {
           "colorbar": {
            "outlinewidth": 0,
            "ticks": ""
           }
          },
          "colorscale": {
           "diverging": [
            [
             0,
             "#8e0152"
            ],
            [
             0.1,
             "#c51b7d"
            ],
            [
             0.2,
             "#de77ae"
            ],
            [
             0.3,
             "#f1b6da"
            ],
            [
             0.4,
             "#fde0ef"
            ],
            [
             0.5,
             "#f7f7f7"
            ],
            [
             0.6,
             "#e6f5d0"
            ],
            [
             0.7,
             "#b8e186"
            ],
            [
             0.8,
             "#7fbc41"
            ],
            [
             0.9,
             "#4d9221"
            ],
            [
             1,
             "#276419"
            ]
           ],
           "sequential": [
            [
             0,
             "#0d0887"
            ],
            [
             0.1111111111111111,
             "#46039f"
            ],
            [
             0.2222222222222222,
             "#7201a8"
            ],
            [
             0.3333333333333333,
             "#9c179e"
            ],
            [
             0.4444444444444444,
             "#bd3786"
            ],
            [
             0.5555555555555556,
             "#d8576b"
            ],
            [
             0.6666666666666666,
             "#ed7953"
            ],
            [
             0.7777777777777778,
             "#fb9f3a"
            ],
            [
             0.8888888888888888,
             "#fdca26"
            ],
            [
             1,
             "#f0f921"
            ]
           ],
           "sequentialminus": [
            [
             0,
             "#0d0887"
            ],
            [
             0.1111111111111111,
             "#46039f"
            ],
            [
             0.2222222222222222,
             "#7201a8"
            ],
            [
             0.3333333333333333,
             "#9c179e"
            ],
            [
             0.4444444444444444,
             "#bd3786"
            ],
            [
             0.5555555555555556,
             "#d8576b"
            ],
            [
             0.6666666666666666,
             "#ed7953"
            ],
            [
             0.7777777777777778,
             "#fb9f3a"
            ],
            [
             0.8888888888888888,
             "#fdca26"
            ],
            [
             1,
             "#f0f921"
            ]
           ]
          },
          "colorway": [
           "#636efa",
           "#EF553B",
           "#00cc96",
           "#ab63fa",
           "#FFA15A",
           "#19d3f3",
           "#FF6692",
           "#B6E880",
           "#FF97FF",
           "#FECB52"
          ],
          "font": {
           "color": "#2a3f5f"
          },
          "geo": {
           "bgcolor": "white",
           "lakecolor": "white",
           "landcolor": "#E5ECF6",
           "showlakes": true,
           "showland": true,
           "subunitcolor": "white"
          },
          "hoverlabel": {
           "align": "left"
          },
          "hovermode": "closest",
          "mapbox": {
           "style": "light"
          },
          "paper_bgcolor": "white",
          "plot_bgcolor": "#E5ECF6",
          "polar": {
           "angularaxis": {
            "gridcolor": "white",
            "linecolor": "white",
            "ticks": ""
           },
           "bgcolor": "#E5ECF6",
           "radialaxis": {
            "gridcolor": "white",
            "linecolor": "white",
            "ticks": ""
           }
          },
          "scene": {
           "xaxis": {
            "backgroundcolor": "#E5ECF6",
            "gridcolor": "white",
            "gridwidth": 2,
            "linecolor": "white",
            "showbackground": true,
            "ticks": "",
            "zerolinecolor": "white"
           },
           "yaxis": {
            "backgroundcolor": "#E5ECF6",
            "gridcolor": "white",
            "gridwidth": 2,
            "linecolor": "white",
            "showbackground": true,
            "ticks": "",
            "zerolinecolor": "white"
           },
           "zaxis": {
            "backgroundcolor": "#E5ECF6",
            "gridcolor": "white",
            "gridwidth": 2,
            "linecolor": "white",
            "showbackground": true,
            "ticks": "",
            "zerolinecolor": "white"
           }
          },
          "shapedefaults": {
           "line": {
            "color": "#2a3f5f"
           }
          },
          "ternary": {
           "aaxis": {
            "gridcolor": "white",
            "linecolor": "white",
            "ticks": ""
           },
           "baxis": {
            "gridcolor": "white",
            "linecolor": "white",
            "ticks": ""
           },
           "bgcolor": "#E5ECF6",
           "caxis": {
            "gridcolor": "white",
            "linecolor": "white",
            "ticks": ""
           }
          },
          "title": {
           "x": 0.05
          },
          "xaxis": {
           "automargin": true,
           "gridcolor": "white",
           "linecolor": "white",
           "ticks": "",
           "title": {
            "standoff": 15
           },
           "zerolinecolor": "white",
           "zerolinewidth": 2
          },
          "yaxis": {
           "automargin": true,
           "gridcolor": "white",
           "linecolor": "white",
           "ticks": "",
           "title": {
            "standoff": 15
           },
           "zerolinecolor": "white",
           "zerolinewidth": 2
          }
         }
        },
        "title": {
         "text": "Age Distributions on Kaggle from 2018-2021"
        },
        "yaxis": {
         "title": {
          "text": "% of respondents"
         }
        }
       }
      },
      "text/html": [
       "<div>                            <div id=\"5967788e-8234-496a-8c49-be250e8ec711\" class=\"plotly-graph-div\" style=\"height:525px; width:100%;\"></div>            <script type=\"text/javascript\">                require([\"plotly\"], function(Plotly) {                    window.PLOTLYENV=window.PLOTLYENV || {};                                    if (document.getElementById(\"5967788e-8234-496a-8c49-be250e8ec711\")) {                    Plotly.newPlot(                        \"5967788e-8234-496a-8c49-be250e8ec711\",                        [{\"name\":\"2018 Kaggle Survey\",\"x\":[\"18-21\",\"22-24\",\"25-29\",\"30-34\",\"35-39\",\"40-44\",\"45-49\",\"50-54\",\"55-59\",\"60-69\",\"70-79\",\"80+\"],\"y\":[5.4,17.3,33.1,21.1,11.2,5.3,2.7,1.8,1.3,0.7,0.1,0.1],\"type\":\"bar\"},{\"name\":\"2019 Kaggle Survey\",\"x\":[\"18-21\",\"22-24\",\"25-29\",\"30-34\",\"35-39\",\"40-44\",\"45-49\",\"50-54\",\"55-59\",\"60-69\",\"70+\"],\"y\":[5.3,15.1,27.8,21.3,13.0,7.1,3.8,3.2,1.8,1.2,0.3],\"type\":\"bar\"},{\"name\":\"2020 Kaggle Survey\",\"x\":[\"18-21\",\"22-24\",\"25-29\",\"30-34\",\"35-39\",\"40-44\",\"45-49\",\"50-54\",\"55-59\",\"60-69\",\"70+\"],\"y\":[6.9,13.7,25.2,20.1,13.5,8.6,5.0,3.1,1.5,1.8,0.6],\"type\":\"bar\"},{\"name\":\"2021 Kaggle Survey\",\"x\":[\"18-21\",\"22-24\",\"25-29\",\"30-34\",\"35-39\",\"40-44\",\"45-49\",\"50-54\",\"55-59\",\"60-69\",\"70+\"],\"y\":[9.5,16.4,25.1,17.3,11.5,8.8,4.8,3.2,1.8,1.4,0.3],\"type\":\"bar\"}],                        {\"template\":{\"data\":{\"histogram2dcontour\":[{\"type\":\"histogram2dcontour\",\"colorbar\":{\"outlinewidth\":0,\"ticks\":\"\"},\"colorscale\":[[0.0,\"#0d0887\"],[0.1111111111111111,\"#46039f\"],[0.2222222222222222,\"#7201a8\"],[0.3333333333333333,\"#9c179e\"],[0.4444444444444444,\"#bd3786\"],[0.5555555555555556,\"#d8576b\"],[0.6666666666666666,\"#ed7953\"],[0.7777777777777778,\"#fb9f3a\"],[0.8888888888888888,\"#fdca26\"],[1.0,\"#f0f921\"]]}],\"choropleth\":[{\"type\":\"choropleth\",\"colorbar\":{\"outlinewidth\":0,\"ticks\":\"\"}}],\"histogram2d\":[{\"type\":\"histogram2d\",\"colorbar\":{\"outlinewidth\":0,\"ticks\":\"\"},\"colorscale\":[[0.0,\"#0d0887\"],[0.1111111111111111,\"#46039f\"],[0.2222222222222222,\"#7201a8\"],[0.3333333333333333,\"#9c179e\"],[0.4444444444444444,\"#bd3786\"],[0.5555555555555556,\"#d8576b\"],[0.6666666666666666,\"#ed7953\"],[0.7777777777777778,\"#fb9f3a\"],[0.8888888888888888,\"#fdca26\"],[1.0,\"#f0f921\"]]}],\"heatmap\":[{\"type\":\"heatmap\",\"colorbar\":{\"outlinewidth\":0,\"ticks\":\"\"},\"colorscale\":[[0.0,\"#0d0887\"],[0.1111111111111111,\"#46039f\"],[0.2222222222222222,\"#7201a8\"],[0.3333333333333333,\"#9c179e\"],[0.4444444444444444,\"#bd3786\"],[0.5555555555555556,\"#d8576b\"],[0.6666666666666666,\"#ed7953\"],[0.7777777777777778,\"#fb9f3a\"],[0.8888888888888888,\"#fdca26\"],[1.0,\"#f0f921\"]]}],\"heatmapgl\":[{\"type\":\"heatmapgl\",\"colorbar\":{\"outlinewidth\":0,\"ticks\":\"\"},\"colorscale\":[[0.0,\"#0d0887\"],[0.1111111111111111,\"#46039f\"],[0.2222222222222222,\"#7201a8\"],[0.3333333333333333,\"#9c179e\"],[0.4444444444444444,\"#bd3786\"],[0.5555555555555556,\"#d8576b\"],[0.6666666666666666,\"#ed7953\"],[0.7777777777777778,\"#fb9f3a\"],[0.8888888888888888,\"#fdca26\"],[1.0,\"#f0f921\"]]}],\"contourcarpet\":[{\"type\":\"contourcarpet\",\"colorbar\":{\"outlinewidth\":0,\"ticks\":\"\"}}],\"contour\":[{\"type\":\"contour\",\"colorbar\":{\"outlinewidth\":0,\"ticks\":\"\"},\"colorscale\":[[0.0,\"#0d0887\"],[0.1111111111111111,\"#46039f\"],[0.2222222222222222,\"#7201a8\"],[0.3333333333333333,\"#9c179e\"],[0.4444444444444444,\"#bd3786\"],[0.5555555555555556,\"#d8576b\"],[0.6666666666666666,\"#ed7953\"],[0.7777777777777778,\"#fb9f3a\"],[0.8888888888888888,\"#fdca26\"],[1.0,\"#f0f921\"]]}],\"surface\":[{\"type\":\"surface\",\"colorbar\":{\"outlinewidth\":0,\"ticks\":\"\"},\"colorscale\":[[0.0,\"#0d0887\"],[0.1111111111111111,\"#46039f\"],[0.2222222222222222,\"#7201a8\"],[0.3333333333333333,\"#9c179e\"],[0.4444444444444444,\"#bd3786\"],[0.5555555555555556,\"#d8576b\"],[0.6666666666666666,\"#ed7953\"],[0.7777777777777778,\"#fb9f3a\"],[0.8888888888888888,\"#fdca26\"],[1.0,\"#f0f921\"]]}],\"mesh3d\":[{\"type\":\"mesh3d\",\"colorbar\":{\"outlinewidth\":0,\"ticks\":\"\"}}],\"scatter\":[{\"fillpattern\":{\"fillmode\":\"overlay\",\"size\":10,\"solidity\":0.2},\"type\":\"scatter\"}],\"parcoords\":[{\"type\":\"parcoords\",\"line\":{\"colorbar\":{\"outlinewidth\":0,\"ticks\":\"\"}}}],\"scatterpolargl\":[{\"type\":\"scatterpolargl\",\"marker\":{\"colorbar\":{\"outlinewidth\":0,\"ticks\":\"\"}}}],\"bar\":[{\"error_x\":{\"color\":\"#2a3f5f\"},\"error_y\":{\"color\":\"#2a3f5f\"},\"marker\":{\"line\":{\"color\":\"#E5ECF6\",\"width\":0.5},\"pattern\":{\"fillmode\":\"overlay\",\"size\":10,\"solidity\":0.2}},\"type\":\"bar\"}],\"scattergeo\":[{\"type\":\"scattergeo\",\"marker\":{\"colorbar\":{\"outlinewidth\":0,\"ticks\":\"\"}}}],\"scatterpolar\":[{\"type\":\"scatterpolar\",\"marker\":{\"colorbar\":{\"outlinewidth\":0,\"ticks\":\"\"}}}],\"histogram\":[{\"marker\":{\"pattern\":{\"fillmode\":\"overlay\",\"size\":10,\"solidity\":0.2}},\"type\":\"histogram\"}],\"scattergl\":[{\"type\":\"scattergl\",\"marker\":{\"colorbar\":{\"outlinewidth\":0,\"ticks\":\"\"}}}],\"scatter3d\":[{\"type\":\"scatter3d\",\"line\":{\"colorbar\":{\"outlinewidth\":0,\"ticks\":\"\"}},\"marker\":{\"colorbar\":{\"outlinewidth\":0,\"ticks\":\"\"}}}],\"scattermapbox\":[{\"type\":\"scattermapbox\",\"marker\":{\"colorbar\":{\"outlinewidth\":0,\"ticks\":\"\"}}}],\"scatterternary\":[{\"type\":\"scatterternary\",\"marker\":{\"colorbar\":{\"outlinewidth\":0,\"ticks\":\"\"}}}],\"scattercarpet\":[{\"type\":\"scattercarpet\",\"marker\":{\"colorbar\":{\"outlinewidth\":0,\"ticks\":\"\"}}}],\"carpet\":[{\"aaxis\":{\"endlinecolor\":\"#2a3f5f\",\"gridcolor\":\"white\",\"linecolor\":\"white\",\"minorgridcolor\":\"white\",\"startlinecolor\":\"#2a3f5f\"},\"baxis\":{\"endlinecolor\":\"#2a3f5f\",\"gridcolor\":\"white\",\"linecolor\":\"white\",\"minorgridcolor\":\"white\",\"startlinecolor\":\"#2a3f5f\"},\"type\":\"carpet\"}],\"table\":[{\"cells\":{\"fill\":{\"color\":\"#EBF0F8\"},\"line\":{\"color\":\"white\"}},\"header\":{\"fill\":{\"color\":\"#C8D4E3\"},\"line\":{\"color\":\"white\"}},\"type\":\"table\"}],\"barpolar\":[{\"marker\":{\"line\":{\"color\":\"#E5ECF6\",\"width\":0.5},\"pattern\":{\"fillmode\":\"overlay\",\"size\":10,\"solidity\":0.2}},\"type\":\"barpolar\"}],\"pie\":[{\"automargin\":true,\"type\":\"pie\"}]},\"layout\":{\"autotypenumbers\":\"strict\",\"colorway\":[\"#636efa\",\"#EF553B\",\"#00cc96\",\"#ab63fa\",\"#FFA15A\",\"#19d3f3\",\"#FF6692\",\"#B6E880\",\"#FF97FF\",\"#FECB52\"],\"font\":{\"color\":\"#2a3f5f\"},\"hovermode\":\"closest\",\"hoverlabel\":{\"align\":\"left\"},\"paper_bgcolor\":\"white\",\"plot_bgcolor\":\"#E5ECF6\",\"polar\":{\"bgcolor\":\"#E5ECF6\",\"angularaxis\":{\"gridcolor\":\"white\",\"linecolor\":\"white\",\"ticks\":\"\"},\"radialaxis\":{\"gridcolor\":\"white\",\"linecolor\":\"white\",\"ticks\":\"\"}},\"ternary\":{\"bgcolor\":\"#E5ECF6\",\"aaxis\":{\"gridcolor\":\"white\",\"linecolor\":\"white\",\"ticks\":\"\"},\"baxis\":{\"gridcolor\":\"white\",\"linecolor\":\"white\",\"ticks\":\"\"},\"caxis\":{\"gridcolor\":\"white\",\"linecolor\":\"white\",\"ticks\":\"\"}},\"coloraxis\":{\"colorbar\":{\"outlinewidth\":0,\"ticks\":\"\"}},\"colorscale\":{\"sequential\":[[0.0,\"#0d0887\"],[0.1111111111111111,\"#46039f\"],[0.2222222222222222,\"#7201a8\"],[0.3333333333333333,\"#9c179e\"],[0.4444444444444444,\"#bd3786\"],[0.5555555555555556,\"#d8576b\"],[0.6666666666666666,\"#ed7953\"],[0.7777777777777778,\"#fb9f3a\"],[0.8888888888888888,\"#fdca26\"],[1.0,\"#f0f921\"]],\"sequentialminus\":[[0.0,\"#0d0887\"],[0.1111111111111111,\"#46039f\"],[0.2222222222222222,\"#7201a8\"],[0.3333333333333333,\"#9c179e\"],[0.4444444444444444,\"#bd3786\"],[0.5555555555555556,\"#d8576b\"],[0.6666666666666666,\"#ed7953\"],[0.7777777777777778,\"#fb9f3a\"],[0.8888888888888888,\"#fdca26\"],[1.0,\"#f0f921\"]],\"diverging\":[[0,\"#8e0152\"],[0.1,\"#c51b7d\"],[0.2,\"#de77ae\"],[0.3,\"#f1b6da\"],[0.4,\"#fde0ef\"],[0.5,\"#f7f7f7\"],[0.6,\"#e6f5d0\"],[0.7,\"#b8e186\"],[0.8,\"#7fbc41\"],[0.9,\"#4d9221\"],[1,\"#276419\"]]},\"xaxis\":{\"gridcolor\":\"white\",\"linecolor\":\"white\",\"ticks\":\"\",\"title\":{\"standoff\":15},\"zerolinecolor\":\"white\",\"automargin\":true,\"zerolinewidth\":2},\"yaxis\":{\"gridcolor\":\"white\",\"linecolor\":\"white\",\"ticks\":\"\",\"title\":{\"standoff\":15},\"zerolinecolor\":\"white\",\"automargin\":true,\"zerolinewidth\":2},\"scene\":{\"xaxis\":{\"backgroundcolor\":\"#E5ECF6\",\"gridcolor\":\"white\",\"linecolor\":\"white\",\"showbackground\":true,\"ticks\":\"\",\"zerolinecolor\":\"white\",\"gridwidth\":2},\"yaxis\":{\"backgroundcolor\":\"#E5ECF6\",\"gridcolor\":\"white\",\"linecolor\":\"white\",\"showbackground\":true,\"ticks\":\"\",\"zerolinecolor\":\"white\",\"gridwidth\":2},\"zaxis\":{\"backgroundcolor\":\"#E5ECF6\",\"gridcolor\":\"white\",\"linecolor\":\"white\",\"showbackground\":true,\"ticks\":\"\",\"zerolinecolor\":\"white\",\"gridwidth\":2}},\"shapedefaults\":{\"line\":{\"color\":\"#2a3f5f\"}},\"annotationdefaults\":{\"arrowcolor\":\"#2a3f5f\",\"arrowhead\":0,\"arrowwidth\":1},\"geo\":{\"bgcolor\":\"white\",\"landcolor\":\"#E5ECF6\",\"subunitcolor\":\"white\",\"showland\":true,\"showlakes\":true,\"lakecolor\":\"white\"},\"title\":{\"x\":0.05},\"mapbox\":{\"style\":\"light\"}}},\"barmode\":\"group\",\"title\":{\"text\":\"Age Distributions on Kaggle from 2018-2021\"},\"yaxis\":{\"title\":{\"text\":\"% of respondents\"}}},                        {\"responsive\": true}                    ).then(function(){\n",
       "                            \n",
       "var gd = document.getElementById('5967788e-8234-496a-8c49-be250e8ec711');\n",
       "var x = new MutationObserver(function (mutations, observer) {{\n",
       "        var display = window.getComputedStyle(gd).display;\n",
       "        if (!display || display === 'none') {{\n",
       "            console.log([gd, 'removed!']);\n",
       "            Plotly.purge(gd);\n",
       "            observer.disconnect();\n",
       "        }}\n",
       "}});\n",
       "\n",
       "// Listen for the removal of the full notebook cells\n",
       "var notebookContainer = gd.closest('#notebook-container');\n",
       "if (notebookContainer) {{\n",
       "    x.observe(notebookContainer, {childList: true});\n",
       "}}\n",
       "\n",
       "// Listen for the clearing of the current output cell\n",
       "var outputEl = gd.closest('.output');\n",
       "if (outputEl) {{\n",
       "    x.observe(outputEl, {childList: true});\n",
       "}}\n",
       "\n",
       "                        })                };                });            </script>        </div>"
      ]
     },
     "metadata": {},
     "output_type": "display_data"
    }
   ],
   "source": [
    "question_name = 'Q1'\n",
    "\n",
    "percentages_2018 = count_then_return_percent(responses_df_2018,'Q2').sort_index()\n",
    "percentages_2019 = count_then_return_percent(responses_df_2019,question_name).sort_index()\n",
    "percentages_2020 = count_then_return_percent(responses_df_2020,question_name).sort_index()\n",
    "percentages_2021 = count_then_return_percent(responses_df_2021,question_name).sort_index()\n",
    "\n",
    "title_for_chart = 'Age Distributions on Kaggle from 2018-2021'\n",
    "title_for_y_axis = '% of respondents'\n",
    "\n",
    "fig = go.Figure(data=[\n",
    "     \n",
    "    go.Bar(name='2018 Kaggle Survey', x=pd.Series(percentages_2018.index), y=pd.Series(percentages_2018)),\n",
    "    go.Bar(name='2019 Kaggle Survey', x=pd.Series(percentages_2019.index), y=pd.Series(percentages_2019)),\n",
    "    go.Bar(name='2020 Kaggle Survey', x=pd.Series(percentages_2020.index), y=pd.Series(percentages_2020)),\n",
    "    go.Bar(name='2021 Kaggle Survey', x=pd.Series(percentages_2021.index), y=pd.Series(percentages_2021))\n",
    "           ])\n",
    "fig.update_layout(barmode='group') \n",
    "fig.update_layout(title=title_for_chart,yaxis=dict(title=title_for_y_axis))\n",
    "fig.show()"
   ]
  },
  {
   "cell_type": "code",
   "execution_count": 40,
   "id": "3e6e94f5",
   "metadata": {},
   "outputs": [
    {
     "name": "stderr",
     "output_type": "stream",
     "text": [
      "/Users/shreelekhamittinti/opt/anaconda3/lib/python3.9/site-packages/pandas/core/generic.py:6619: SettingWithCopyWarning:\n",
      "\n",
      "\n",
      "A value is trying to be set on a copy of a slice from a DataFrame\n",
      "\n",
      "See the caveats in the documentation: https://pandas.pydata.org/pandas-docs/stable/user_guide/indexing.html#returning-a-view-versus-a-copy\n",
      "\n"
     ]
    },
    {
     "data": {
      "application/vnd.plotly.v1+json": {
       "config": {
        "plotlyServerURL": "https://plot.ly"
       },
       "data": [
        {
         "name": "2018 Kaggle Survey",
         "type": "bar",
         "x": [
          "Prefer to self-describe",
          "Woman",
          "Male"
         ],
         "y": [
          1.5,
          16.6,
          81.9
         ]
        },
        {
         "name": "2019 Kaggle Survey",
         "type": "bar",
         "x": [
          "Prefer to self-describe",
          "Woman",
          "Man"
         ],
         "y": [
          1.2,
          14.8,
          84
         ]
        },
        {
         "name": "2020 Kaggle Survey",
         "type": "bar",
         "x": [
          "Prefer to self-describe",
          "Woman",
          "Man"
         ],
         "y": [
          1.6,
          16.4,
          82
         ]
        },
        {
         "name": "2021 Kaggle Survey",
         "type": "bar",
         "x": [
          "Prefer to self-describe",
          "Woman",
          "Man"
         ],
         "y": [
          1.7,
          16.2,
          82.2
         ]
        }
       ],
       "layout": {
        "barmode": "group",
        "template": {
         "data": {
          "bar": [
           {
            "error_x": {
             "color": "#2a3f5f"
            },
            "error_y": {
             "color": "#2a3f5f"
            },
            "marker": {
             "line": {
              "color": "#E5ECF6",
              "width": 0.5
             },
             "pattern": {
              "fillmode": "overlay",
              "size": 10,
              "solidity": 0.2
             }
            },
            "type": "bar"
           }
          ],
          "barpolar": [
           {
            "marker": {
             "line": {
              "color": "#E5ECF6",
              "width": 0.5
             },
             "pattern": {
              "fillmode": "overlay",
              "size": 10,
              "solidity": 0.2
             }
            },
            "type": "barpolar"
           }
          ],
          "carpet": [
           {
            "aaxis": {
             "endlinecolor": "#2a3f5f",
             "gridcolor": "white",
             "linecolor": "white",
             "minorgridcolor": "white",
             "startlinecolor": "#2a3f5f"
            },
            "baxis": {
             "endlinecolor": "#2a3f5f",
             "gridcolor": "white",
             "linecolor": "white",
             "minorgridcolor": "white",
             "startlinecolor": "#2a3f5f"
            },
            "type": "carpet"
           }
          ],
          "choropleth": [
           {
            "colorbar": {
             "outlinewidth": 0,
             "ticks": ""
            },
            "type": "choropleth"
           }
          ],
          "contour": [
           {
            "colorbar": {
             "outlinewidth": 0,
             "ticks": ""
            },
            "colorscale": [
             [
              0,
              "#0d0887"
             ],
             [
              0.1111111111111111,
              "#46039f"
             ],
             [
              0.2222222222222222,
              "#7201a8"
             ],
             [
              0.3333333333333333,
              "#9c179e"
             ],
             [
              0.4444444444444444,
              "#bd3786"
             ],
             [
              0.5555555555555556,
              "#d8576b"
             ],
             [
              0.6666666666666666,
              "#ed7953"
             ],
             [
              0.7777777777777778,
              "#fb9f3a"
             ],
             [
              0.8888888888888888,
              "#fdca26"
             ],
             [
              1,
              "#f0f921"
             ]
            ],
            "type": "contour"
           }
          ],
          "contourcarpet": [
           {
            "colorbar": {
             "outlinewidth": 0,
             "ticks": ""
            },
            "type": "contourcarpet"
           }
          ],
          "heatmap": [
           {
            "colorbar": {
             "outlinewidth": 0,
             "ticks": ""
            },
            "colorscale": [
             [
              0,
              "#0d0887"
             ],
             [
              0.1111111111111111,
              "#46039f"
             ],
             [
              0.2222222222222222,
              "#7201a8"
             ],
             [
              0.3333333333333333,
              "#9c179e"
             ],
             [
              0.4444444444444444,
              "#bd3786"
             ],
             [
              0.5555555555555556,
              "#d8576b"
             ],
             [
              0.6666666666666666,
              "#ed7953"
             ],
             [
              0.7777777777777778,
              "#fb9f3a"
             ],
             [
              0.8888888888888888,
              "#fdca26"
             ],
             [
              1,
              "#f0f921"
             ]
            ],
            "type": "heatmap"
           }
          ],
          "heatmapgl": [
           {
            "colorbar": {
             "outlinewidth": 0,
             "ticks": ""
            },
            "colorscale": [
             [
              0,
              "#0d0887"
             ],
             [
              0.1111111111111111,
              "#46039f"
             ],
             [
              0.2222222222222222,
              "#7201a8"
             ],
             [
              0.3333333333333333,
              "#9c179e"
             ],
             [
              0.4444444444444444,
              "#bd3786"
             ],
             [
              0.5555555555555556,
              "#d8576b"
             ],
             [
              0.6666666666666666,
              "#ed7953"
             ],
             [
              0.7777777777777778,
              "#fb9f3a"
             ],
             [
              0.8888888888888888,
              "#fdca26"
             ],
             [
              1,
              "#f0f921"
             ]
            ],
            "type": "heatmapgl"
           }
          ],
          "histogram": [
           {
            "marker": {
             "pattern": {
              "fillmode": "overlay",
              "size": 10,
              "solidity": 0.2
             }
            },
            "type": "histogram"
           }
          ],
          "histogram2d": [
           {
            "colorbar": {
             "outlinewidth": 0,
             "ticks": ""
            },
            "colorscale": [
             [
              0,
              "#0d0887"
             ],
             [
              0.1111111111111111,
              "#46039f"
             ],
             [
              0.2222222222222222,
              "#7201a8"
             ],
             [
              0.3333333333333333,
              "#9c179e"
             ],
             [
              0.4444444444444444,
              "#bd3786"
             ],
             [
              0.5555555555555556,
              "#d8576b"
             ],
             [
              0.6666666666666666,
              "#ed7953"
             ],
             [
              0.7777777777777778,
              "#fb9f3a"
             ],
             [
              0.8888888888888888,
              "#fdca26"
             ],
             [
              1,
              "#f0f921"
             ]
            ],
            "type": "histogram2d"
           }
          ],
          "histogram2dcontour": [
           {
            "colorbar": {
             "outlinewidth": 0,
             "ticks": ""
            },
            "colorscale": [
             [
              0,
              "#0d0887"
             ],
             [
              0.1111111111111111,
              "#46039f"
             ],
             [
              0.2222222222222222,
              "#7201a8"
             ],
             [
              0.3333333333333333,
              "#9c179e"
             ],
             [
              0.4444444444444444,
              "#bd3786"
             ],
             [
              0.5555555555555556,
              "#d8576b"
             ],
             [
              0.6666666666666666,
              "#ed7953"
             ],
             [
              0.7777777777777778,
              "#fb9f3a"
             ],
             [
              0.8888888888888888,
              "#fdca26"
             ],
             [
              1,
              "#f0f921"
             ]
            ],
            "type": "histogram2dcontour"
           }
          ],
          "mesh3d": [
           {
            "colorbar": {
             "outlinewidth": 0,
             "ticks": ""
            },
            "type": "mesh3d"
           }
          ],
          "parcoords": [
           {
            "line": {
             "colorbar": {
              "outlinewidth": 0,
              "ticks": ""
             }
            },
            "type": "parcoords"
           }
          ],
          "pie": [
           {
            "automargin": true,
            "type": "pie"
           }
          ],
          "scatter": [
           {
            "fillpattern": {
             "fillmode": "overlay",
             "size": 10,
             "solidity": 0.2
            },
            "type": "scatter"
           }
          ],
          "scatter3d": [
           {
            "line": {
             "colorbar": {
              "outlinewidth": 0,
              "ticks": ""
             }
            },
            "marker": {
             "colorbar": {
              "outlinewidth": 0,
              "ticks": ""
             }
            },
            "type": "scatter3d"
           }
          ],
          "scattercarpet": [
           {
            "marker": {
             "colorbar": {
              "outlinewidth": 0,
              "ticks": ""
             }
            },
            "type": "scattercarpet"
           }
          ],
          "scattergeo": [
           {
            "marker": {
             "colorbar": {
              "outlinewidth": 0,
              "ticks": ""
             }
            },
            "type": "scattergeo"
           }
          ],
          "scattergl": [
           {
            "marker": {
             "colorbar": {
              "outlinewidth": 0,
              "ticks": ""
             }
            },
            "type": "scattergl"
           }
          ],
          "scattermapbox": [
           {
            "marker": {
             "colorbar": {
              "outlinewidth": 0,
              "ticks": ""
             }
            },
            "type": "scattermapbox"
           }
          ],
          "scatterpolar": [
           {
            "marker": {
             "colorbar": {
              "outlinewidth": 0,
              "ticks": ""
             }
            },
            "type": "scatterpolar"
           }
          ],
          "scatterpolargl": [
           {
            "marker": {
             "colorbar": {
              "outlinewidth": 0,
              "ticks": ""
             }
            },
            "type": "scatterpolargl"
           }
          ],
          "scatterternary": [
           {
            "marker": {
             "colorbar": {
              "outlinewidth": 0,
              "ticks": ""
             }
            },
            "type": "scatterternary"
           }
          ],
          "surface": [
           {
            "colorbar": {
             "outlinewidth": 0,
             "ticks": ""
            },
            "colorscale": [
             [
              0,
              "#0d0887"
             ],
             [
              0.1111111111111111,
              "#46039f"
             ],
             [
              0.2222222222222222,
              "#7201a8"
             ],
             [
              0.3333333333333333,
              "#9c179e"
             ],
             [
              0.4444444444444444,
              "#bd3786"
             ],
             [
              0.5555555555555556,
              "#d8576b"
             ],
             [
              0.6666666666666666,
              "#ed7953"
             ],
             [
              0.7777777777777778,
              "#fb9f3a"
             ],
             [
              0.8888888888888888,
              "#fdca26"
             ],
             [
              1,
              "#f0f921"
             ]
            ],
            "type": "surface"
           }
          ],
          "table": [
           {
            "cells": {
             "fill": {
              "color": "#EBF0F8"
             },
             "line": {
              "color": "white"
             }
            },
            "header": {
             "fill": {
              "color": "#C8D4E3"
             },
             "line": {
              "color": "white"
             }
            },
            "type": "table"
           }
          ]
         },
         "layout": {
          "annotationdefaults": {
           "arrowcolor": "#2a3f5f",
           "arrowhead": 0,
           "arrowwidth": 1
          },
          "autotypenumbers": "strict",
          "coloraxis": {
           "colorbar": {
            "outlinewidth": 0,
            "ticks": ""
           }
          },
          "colorscale": {
           "diverging": [
            [
             0,
             "#8e0152"
            ],
            [
             0.1,
             "#c51b7d"
            ],
            [
             0.2,
             "#de77ae"
            ],
            [
             0.3,
             "#f1b6da"
            ],
            [
             0.4,
             "#fde0ef"
            ],
            [
             0.5,
             "#f7f7f7"
            ],
            [
             0.6,
             "#e6f5d0"
            ],
            [
             0.7,
             "#b8e186"
            ],
            [
             0.8,
             "#7fbc41"
            ],
            [
             0.9,
             "#4d9221"
            ],
            [
             1,
             "#276419"
            ]
           ],
           "sequential": [
            [
             0,
             "#0d0887"
            ],
            [
             0.1111111111111111,
             "#46039f"
            ],
            [
             0.2222222222222222,
             "#7201a8"
            ],
            [
             0.3333333333333333,
             "#9c179e"
            ],
            [
             0.4444444444444444,
             "#bd3786"
            ],
            [
             0.5555555555555556,
             "#d8576b"
            ],
            [
             0.6666666666666666,
             "#ed7953"
            ],
            [
             0.7777777777777778,
             "#fb9f3a"
            ],
            [
             0.8888888888888888,
             "#fdca26"
            ],
            [
             1,
             "#f0f921"
            ]
           ],
           "sequentialminus": [
            [
             0,
             "#0d0887"
            ],
            [
             0.1111111111111111,
             "#46039f"
            ],
            [
             0.2222222222222222,
             "#7201a8"
            ],
            [
             0.3333333333333333,
             "#9c179e"
            ],
            [
             0.4444444444444444,
             "#bd3786"
            ],
            [
             0.5555555555555556,
             "#d8576b"
            ],
            [
             0.6666666666666666,
             "#ed7953"
            ],
            [
             0.7777777777777778,
             "#fb9f3a"
            ],
            [
             0.8888888888888888,
             "#fdca26"
            ],
            [
             1,
             "#f0f921"
            ]
           ]
          },
          "colorway": [
           "#636efa",
           "#EF553B",
           "#00cc96",
           "#ab63fa",
           "#FFA15A",
           "#19d3f3",
           "#FF6692",
           "#B6E880",
           "#FF97FF",
           "#FECB52"
          ],
          "font": {
           "color": "#2a3f5f"
          },
          "geo": {
           "bgcolor": "white",
           "lakecolor": "white",
           "landcolor": "#E5ECF6",
           "showlakes": true,
           "showland": true,
           "subunitcolor": "white"
          },
          "hoverlabel": {
           "align": "left"
          },
          "hovermode": "closest",
          "mapbox": {
           "style": "light"
          },
          "paper_bgcolor": "white",
          "plot_bgcolor": "#E5ECF6",
          "polar": {
           "angularaxis": {
            "gridcolor": "white",
            "linecolor": "white",
            "ticks": ""
           },
           "bgcolor": "#E5ECF6",
           "radialaxis": {
            "gridcolor": "white",
            "linecolor": "white",
            "ticks": ""
           }
          },
          "scene": {
           "xaxis": {
            "backgroundcolor": "#E5ECF6",
            "gridcolor": "white",
            "gridwidth": 2,
            "linecolor": "white",
            "showbackground": true,
            "ticks": "",
            "zerolinecolor": "white"
           },
           "yaxis": {
            "backgroundcolor": "#E5ECF6",
            "gridcolor": "white",
            "gridwidth": 2,
            "linecolor": "white",
            "showbackground": true,
            "ticks": "",
            "zerolinecolor": "white"
           },
           "zaxis": {
            "backgroundcolor": "#E5ECF6",
            "gridcolor": "white",
            "gridwidth": 2,
            "linecolor": "white",
            "showbackground": true,
            "ticks": "",
            "zerolinecolor": "white"
           }
          },
          "shapedefaults": {
           "line": {
            "color": "#2a3f5f"
           }
          },
          "ternary": {
           "aaxis": {
            "gridcolor": "white",
            "linecolor": "white",
            "ticks": ""
           },
           "baxis": {
            "gridcolor": "white",
            "linecolor": "white",
            "ticks": ""
           },
           "bgcolor": "#E5ECF6",
           "caxis": {
            "gridcolor": "white",
            "linecolor": "white",
            "ticks": ""
           }
          },
          "title": {
           "x": 0.05
          },
          "xaxis": {
           "automargin": true,
           "gridcolor": "white",
           "linecolor": "white",
           "ticks": "",
           "title": {
            "standoff": 15
           },
           "zerolinecolor": "white",
           "zerolinewidth": 2
          },
          "yaxis": {
           "automargin": true,
           "gridcolor": "white",
           "linecolor": "white",
           "ticks": "",
           "title": {
            "standoff": 15
           },
           "zerolinecolor": "white",
           "zerolinewidth": 2
          }
         }
        },
        "title": {
         "text": "Gender Distributions on Kaggle from 2018 to 2021"
        },
        "yaxis": {
         "title": {
          "text": "% of respondents"
         }
        }
       }
      },
      "text/html": [
       "<div>                            <div id=\"4e7d027b-63ee-4947-9b58-82c92fb91360\" class=\"plotly-graph-div\" style=\"height:525px; width:100%;\"></div>            <script type=\"text/javascript\">                require([\"plotly\"], function(Plotly) {                    window.PLOTLYENV=window.PLOTLYENV || {};                                    if (document.getElementById(\"4e7d027b-63ee-4947-9b58-82c92fb91360\")) {                    Plotly.newPlot(                        \"4e7d027b-63ee-4947-9b58-82c92fb91360\",                        [{\"name\":\"2018 Kaggle Survey\",\"x\":[\"Prefer to self-describe\",\"Woman\",\"Male\"],\"y\":[1.5,16.6,81.9],\"type\":\"bar\"},{\"name\":\"2019 Kaggle Survey\",\"x\":[\"Prefer to self-describe\",\"Woman\",\"Man\"],\"y\":[1.2,14.8,84.0],\"type\":\"bar\"},{\"name\":\"2020 Kaggle Survey\",\"x\":[\"Prefer to self-describe\",\"Woman\",\"Man\"],\"y\":[1.6,16.4,82.0],\"type\":\"bar\"},{\"name\":\"2021 Kaggle Survey\",\"x\":[\"Prefer to self-describe\",\"Woman\",\"Man\"],\"y\":[1.7,16.2,82.2],\"type\":\"bar\"}],                        {\"template\":{\"data\":{\"histogram2dcontour\":[{\"type\":\"histogram2dcontour\",\"colorbar\":{\"outlinewidth\":0,\"ticks\":\"\"},\"colorscale\":[[0.0,\"#0d0887\"],[0.1111111111111111,\"#46039f\"],[0.2222222222222222,\"#7201a8\"],[0.3333333333333333,\"#9c179e\"],[0.4444444444444444,\"#bd3786\"],[0.5555555555555556,\"#d8576b\"],[0.6666666666666666,\"#ed7953\"],[0.7777777777777778,\"#fb9f3a\"],[0.8888888888888888,\"#fdca26\"],[1.0,\"#f0f921\"]]}],\"choropleth\":[{\"type\":\"choropleth\",\"colorbar\":{\"outlinewidth\":0,\"ticks\":\"\"}}],\"histogram2d\":[{\"type\":\"histogram2d\",\"colorbar\":{\"outlinewidth\":0,\"ticks\":\"\"},\"colorscale\":[[0.0,\"#0d0887\"],[0.1111111111111111,\"#46039f\"],[0.2222222222222222,\"#7201a8\"],[0.3333333333333333,\"#9c179e\"],[0.4444444444444444,\"#bd3786\"],[0.5555555555555556,\"#d8576b\"],[0.6666666666666666,\"#ed7953\"],[0.7777777777777778,\"#fb9f3a\"],[0.8888888888888888,\"#fdca26\"],[1.0,\"#f0f921\"]]}],\"heatmap\":[{\"type\":\"heatmap\",\"colorbar\":{\"outlinewidth\":0,\"ticks\":\"\"},\"colorscale\":[[0.0,\"#0d0887\"],[0.1111111111111111,\"#46039f\"],[0.2222222222222222,\"#7201a8\"],[0.3333333333333333,\"#9c179e\"],[0.4444444444444444,\"#bd3786\"],[0.5555555555555556,\"#d8576b\"],[0.6666666666666666,\"#ed7953\"],[0.7777777777777778,\"#fb9f3a\"],[0.8888888888888888,\"#fdca26\"],[1.0,\"#f0f921\"]]}],\"heatmapgl\":[{\"type\":\"heatmapgl\",\"colorbar\":{\"outlinewidth\":0,\"ticks\":\"\"},\"colorscale\":[[0.0,\"#0d0887\"],[0.1111111111111111,\"#46039f\"],[0.2222222222222222,\"#7201a8\"],[0.3333333333333333,\"#9c179e\"],[0.4444444444444444,\"#bd3786\"],[0.5555555555555556,\"#d8576b\"],[0.6666666666666666,\"#ed7953\"],[0.7777777777777778,\"#fb9f3a\"],[0.8888888888888888,\"#fdca26\"],[1.0,\"#f0f921\"]]}],\"contourcarpet\":[{\"type\":\"contourcarpet\",\"colorbar\":{\"outlinewidth\":0,\"ticks\":\"\"}}],\"contour\":[{\"type\":\"contour\",\"colorbar\":{\"outlinewidth\":0,\"ticks\":\"\"},\"colorscale\":[[0.0,\"#0d0887\"],[0.1111111111111111,\"#46039f\"],[0.2222222222222222,\"#7201a8\"],[0.3333333333333333,\"#9c179e\"],[0.4444444444444444,\"#bd3786\"],[0.5555555555555556,\"#d8576b\"],[0.6666666666666666,\"#ed7953\"],[0.7777777777777778,\"#fb9f3a\"],[0.8888888888888888,\"#fdca26\"],[1.0,\"#f0f921\"]]}],\"surface\":[{\"type\":\"surface\",\"colorbar\":{\"outlinewidth\":0,\"ticks\":\"\"},\"colorscale\":[[0.0,\"#0d0887\"],[0.1111111111111111,\"#46039f\"],[0.2222222222222222,\"#7201a8\"],[0.3333333333333333,\"#9c179e\"],[0.4444444444444444,\"#bd3786\"],[0.5555555555555556,\"#d8576b\"],[0.6666666666666666,\"#ed7953\"],[0.7777777777777778,\"#fb9f3a\"],[0.8888888888888888,\"#fdca26\"],[1.0,\"#f0f921\"]]}],\"mesh3d\":[{\"type\":\"mesh3d\",\"colorbar\":{\"outlinewidth\":0,\"ticks\":\"\"}}],\"scatter\":[{\"fillpattern\":{\"fillmode\":\"overlay\",\"size\":10,\"solidity\":0.2},\"type\":\"scatter\"}],\"parcoords\":[{\"type\":\"parcoords\",\"line\":{\"colorbar\":{\"outlinewidth\":0,\"ticks\":\"\"}}}],\"scatterpolargl\":[{\"type\":\"scatterpolargl\",\"marker\":{\"colorbar\":{\"outlinewidth\":0,\"ticks\":\"\"}}}],\"bar\":[{\"error_x\":{\"color\":\"#2a3f5f\"},\"error_y\":{\"color\":\"#2a3f5f\"},\"marker\":{\"line\":{\"color\":\"#E5ECF6\",\"width\":0.5},\"pattern\":{\"fillmode\":\"overlay\",\"size\":10,\"solidity\":0.2}},\"type\":\"bar\"}],\"scattergeo\":[{\"type\":\"scattergeo\",\"marker\":{\"colorbar\":{\"outlinewidth\":0,\"ticks\":\"\"}}}],\"scatterpolar\":[{\"type\":\"scatterpolar\",\"marker\":{\"colorbar\":{\"outlinewidth\":0,\"ticks\":\"\"}}}],\"histogram\":[{\"marker\":{\"pattern\":{\"fillmode\":\"overlay\",\"size\":10,\"solidity\":0.2}},\"type\":\"histogram\"}],\"scattergl\":[{\"type\":\"scattergl\",\"marker\":{\"colorbar\":{\"outlinewidth\":0,\"ticks\":\"\"}}}],\"scatter3d\":[{\"type\":\"scatter3d\",\"line\":{\"colorbar\":{\"outlinewidth\":0,\"ticks\":\"\"}},\"marker\":{\"colorbar\":{\"outlinewidth\":0,\"ticks\":\"\"}}}],\"scattermapbox\":[{\"type\":\"scattermapbox\",\"marker\":{\"colorbar\":{\"outlinewidth\":0,\"ticks\":\"\"}}}],\"scatterternary\":[{\"type\":\"scatterternary\",\"marker\":{\"colorbar\":{\"outlinewidth\":0,\"ticks\":\"\"}}}],\"scattercarpet\":[{\"type\":\"scattercarpet\",\"marker\":{\"colorbar\":{\"outlinewidth\":0,\"ticks\":\"\"}}}],\"carpet\":[{\"aaxis\":{\"endlinecolor\":\"#2a3f5f\",\"gridcolor\":\"white\",\"linecolor\":\"white\",\"minorgridcolor\":\"white\",\"startlinecolor\":\"#2a3f5f\"},\"baxis\":{\"endlinecolor\":\"#2a3f5f\",\"gridcolor\":\"white\",\"linecolor\":\"white\",\"minorgridcolor\":\"white\",\"startlinecolor\":\"#2a3f5f\"},\"type\":\"carpet\"}],\"table\":[{\"cells\":{\"fill\":{\"color\":\"#EBF0F8\"},\"line\":{\"color\":\"white\"}},\"header\":{\"fill\":{\"color\":\"#C8D4E3\"},\"line\":{\"color\":\"white\"}},\"type\":\"table\"}],\"barpolar\":[{\"marker\":{\"line\":{\"color\":\"#E5ECF6\",\"width\":0.5},\"pattern\":{\"fillmode\":\"overlay\",\"size\":10,\"solidity\":0.2}},\"type\":\"barpolar\"}],\"pie\":[{\"automargin\":true,\"type\":\"pie\"}]},\"layout\":{\"autotypenumbers\":\"strict\",\"colorway\":[\"#636efa\",\"#EF553B\",\"#00cc96\",\"#ab63fa\",\"#FFA15A\",\"#19d3f3\",\"#FF6692\",\"#B6E880\",\"#FF97FF\",\"#FECB52\"],\"font\":{\"color\":\"#2a3f5f\"},\"hovermode\":\"closest\",\"hoverlabel\":{\"align\":\"left\"},\"paper_bgcolor\":\"white\",\"plot_bgcolor\":\"#E5ECF6\",\"polar\":{\"bgcolor\":\"#E5ECF6\",\"angularaxis\":{\"gridcolor\":\"white\",\"linecolor\":\"white\",\"ticks\":\"\"},\"radialaxis\":{\"gridcolor\":\"white\",\"linecolor\":\"white\",\"ticks\":\"\"}},\"ternary\":{\"bgcolor\":\"#E5ECF6\",\"aaxis\":{\"gridcolor\":\"white\",\"linecolor\":\"white\",\"ticks\":\"\"},\"baxis\":{\"gridcolor\":\"white\",\"linecolor\":\"white\",\"ticks\":\"\"},\"caxis\":{\"gridcolor\":\"white\",\"linecolor\":\"white\",\"ticks\":\"\"}},\"coloraxis\":{\"colorbar\":{\"outlinewidth\":0,\"ticks\":\"\"}},\"colorscale\":{\"sequential\":[[0.0,\"#0d0887\"],[0.1111111111111111,\"#46039f\"],[0.2222222222222222,\"#7201a8\"],[0.3333333333333333,\"#9c179e\"],[0.4444444444444444,\"#bd3786\"],[0.5555555555555556,\"#d8576b\"],[0.6666666666666666,\"#ed7953\"],[0.7777777777777778,\"#fb9f3a\"],[0.8888888888888888,\"#fdca26\"],[1.0,\"#f0f921\"]],\"sequentialminus\":[[0.0,\"#0d0887\"],[0.1111111111111111,\"#46039f\"],[0.2222222222222222,\"#7201a8\"],[0.3333333333333333,\"#9c179e\"],[0.4444444444444444,\"#bd3786\"],[0.5555555555555556,\"#d8576b\"],[0.6666666666666666,\"#ed7953\"],[0.7777777777777778,\"#fb9f3a\"],[0.8888888888888888,\"#fdca26\"],[1.0,\"#f0f921\"]],\"diverging\":[[0,\"#8e0152\"],[0.1,\"#c51b7d\"],[0.2,\"#de77ae\"],[0.3,\"#f1b6da\"],[0.4,\"#fde0ef\"],[0.5,\"#f7f7f7\"],[0.6,\"#e6f5d0\"],[0.7,\"#b8e186\"],[0.8,\"#7fbc41\"],[0.9,\"#4d9221\"],[1,\"#276419\"]]},\"xaxis\":{\"gridcolor\":\"white\",\"linecolor\":\"white\",\"ticks\":\"\",\"title\":{\"standoff\":15},\"zerolinecolor\":\"white\",\"automargin\":true,\"zerolinewidth\":2},\"yaxis\":{\"gridcolor\":\"white\",\"linecolor\":\"white\",\"ticks\":\"\",\"title\":{\"standoff\":15},\"zerolinecolor\":\"white\",\"automargin\":true,\"zerolinewidth\":2},\"scene\":{\"xaxis\":{\"backgroundcolor\":\"#E5ECF6\",\"gridcolor\":\"white\",\"linecolor\":\"white\",\"showbackground\":true,\"ticks\":\"\",\"zerolinecolor\":\"white\",\"gridwidth\":2},\"yaxis\":{\"backgroundcolor\":\"#E5ECF6\",\"gridcolor\":\"white\",\"linecolor\":\"white\",\"showbackground\":true,\"ticks\":\"\",\"zerolinecolor\":\"white\",\"gridwidth\":2},\"zaxis\":{\"backgroundcolor\":\"#E5ECF6\",\"gridcolor\":\"white\",\"linecolor\":\"white\",\"showbackground\":true,\"ticks\":\"\",\"zerolinecolor\":\"white\",\"gridwidth\":2}},\"shapedefaults\":{\"line\":{\"color\":\"#2a3f5f\"}},\"annotationdefaults\":{\"arrowcolor\":\"#2a3f5f\",\"arrowhead\":0,\"arrowwidth\":1},\"geo\":{\"bgcolor\":\"white\",\"landcolor\":\"#E5ECF6\",\"subunitcolor\":\"white\",\"showland\":true,\"showlakes\":true,\"lakecolor\":\"white\"},\"title\":{\"x\":0.05},\"mapbox\":{\"style\":\"light\"}}},\"barmode\":\"group\",\"title\":{\"text\":\"Gender Distributions on Kaggle from 2018 to 2021\"},\"yaxis\":{\"title\":{\"text\":\"% of respondents\"}}},                        {\"responsive\": true}                    ).then(function(){\n",
       "                            \n",
       "var gd = document.getElementById('4e7d027b-63ee-4947-9b58-82c92fb91360');\n",
       "var x = new MutationObserver(function (mutations, observer) {{\n",
       "        var display = window.getComputedStyle(gd).display;\n",
       "        if (!display || display === 'none') {{\n",
       "            console.log([gd, 'removed!']);\n",
       "            Plotly.purge(gd);\n",
       "            observer.disconnect();\n",
       "        }}\n",
       "}});\n",
       "\n",
       "// Listen for the removal of the full notebook cells\n",
       "var notebookContainer = gd.closest('#notebook-container');\n",
       "if (notebookContainer) {{\n",
       "    x.observe(notebookContainer, {childList: true});\n",
       "}}\n",
       "\n",
       "// Listen for the clearing of the current output cell\n",
       "var outputEl = gd.closest('.output');\n",
       "if (outputEl) {{\n",
       "    x.observe(outputEl, {childList: true});\n",
       "}}\n",
       "\n",
       "                        })                };                });            </script>        </div>"
      ]
     },
     "metadata": {},
     "output_type": "display_data"
    }
   ],
   "source": [
    "\n",
    "responses_df_2018['Q1'].replace(['Female'], 'Woman',inplace=True)\n",
    "responses_df_2019['Q2'].replace(['Male'], 'Man',inplace=True)\n",
    "responses_df_2019['Q2'].replace(['Female'], 'Woman',inplace=True)\n",
    "\n",
    "\n",
    "responses_df_2018['Q1'].replace(['Nonbinary','Prefer not to say'], 'Prefer to self-describe',inplace=True)\n",
    "responses_df_2019['Q2'].replace(['Nonbinary','Prefer not to say'], 'Prefer to self-describe',inplace=True)\n",
    "responses_df_2020['Q2'].replace(['Nonbinary','Prefer not to say'], 'Prefer to self-describe',inplace=True)\n",
    "responses_df_2021['Q2'].replace(['Nonbinary','Prefer not to say'], 'Prefer to self-describe',inplace=True)\n",
    "\n",
    "\n",
    "sorted_percentages_2018 = count_then_return_percent(responses_df_2018,'Q1').iloc[::-1]\n",
    "sorted_percentages_2019 = count_then_return_percent(responses_df_2019,'Q2').iloc[::-1]\n",
    "sorted_percentages_2020 = count_then_return_percent(responses_df_2020,'Q2').iloc[::-1]\n",
    "sorted_percentages_2021 = count_then_return_percent(responses_df_2021,'Q2').iloc[::-1]\n",
    "\n",
    "title_for_chart = 'Gender Distributions on Kaggle from 2018 to 2021'\n",
    "title_for_y_axis = '% of respondents'\n",
    "\n",
    "fig = go.Figure(data=[\n",
    "    \n",
    "    go.Bar(name='2018 Kaggle Survey', x=pd.Series(sorted_percentages_2018.index), y=pd.Series(sorted_percentages_2018)),\n",
    "    go.Bar(name='2019 Kaggle Survey', x=pd.Series(sorted_percentages_2019.index), y=pd.Series(sorted_percentages_2019)),\n",
    "    go.Bar(name='2020 Kaggle Survey', x=pd.Series(sorted_percentages_2020.index), y=pd.Series(sorted_percentages_2020)),\n",
    "    go.Bar(name='2021 Kaggle Survey', x=pd.Series(sorted_percentages_2021.index), y=pd.Series(sorted_percentages_2021))\n",
    "           ])\n",
    "fig.update_layout(barmode='group') \n",
    "fig.update_layout(title=title_for_chart,yaxis=dict(title=title_for_y_axis))\n",
    "fig.show()"
   ]
  },
  {
   "cell_type": "code",
   "execution_count": 21,
   "id": "50af4fe9",
   "metadata": {},
   "outputs": [
    {
     "name": "stderr",
     "output_type": "stream",
     "text": [
      "/Users/shreelekhamittinti/opt/anaconda3/lib/python3.9/site-packages/pandas/core/generic.py:8870: SettingWithCopyWarning:\n",
      "\n",
      "\n",
      "A value is trying to be set on a copy of a slice from a DataFrame\n",
      "\n",
      "See the caveats in the documentation: https://pandas.pydata.org/pandas-docs/stable/user_guide/indexing.html#returning-a-view-versus-a-copy\n",
      "\n"
     ]
    }
   ],
   "source": [
    "responses_df_2021_backup = responses_df_2021.copy()\n",
    "\n",
    "\n",
    "subset_of_countries = ['India',\n",
    "                       'United States of America',\n",
    "                       'Brazil',\n",
    "                       'Russia',\n",
    "                       'United Kingdom of Great Britain and Northern Ireland',\n",
    "                       'France',\n",
    "                       'Nigeria',\n",
    "                       'Turkey',\n",
    "                       'Pakistan',\n",
    "                       'Japan']\n",
    "\n",
    "\n",
    "responses_df_2018.Q3[~responses_df_2018.Q3.isin(subset_of_countries)] = \"Other\"\n",
    "responses_df_2019.Q3[~responses_df_2019.Q3.isin(subset_of_countries)] = \"Other\"\n",
    "responses_df_2020.Q3[~responses_df_2020.Q3.isin(subset_of_countries)] = \"Other\"\n",
    "responses_df_2021.Q3[~responses_df_2021.Q3.isin(subset_of_countries)] = \"Other\""
   ]
  },
  {
   "cell_type": "code",
   "execution_count": 22,
   "id": "7ec37a50",
   "metadata": {},
   "outputs": [
    {
     "data": {
      "application/vnd.plotly.v1+json": {
       "config": {
        "plotlyServerURL": "https://plot.ly"
       },
       "data": [
        {
         "name": "2018 Kaggle Survey",
         "type": "bar",
         "x": [
          "Nigeria",
          "Pakistan",
          "Japan",
          "Turkey",
          "Brazil",
          "United Kingdom of Great Britain and Northern Ireland",
          "Russia",
          "France",
          "India",
          "United States of America",
          "Other"
         ],
         "y": [
          0.5,
          0.6,
          1.4,
          1.5,
          3,
          3.9,
          4.3,
          4.4,
          14.4,
          22.8,
          43.1
         ]
        },
        {
         "name": "2019 Kaggle Survey",
         "type": "bar",
         "x": [
          "Pakistan",
          "Turkey",
          "Nigeria",
          "Japan",
          "France",
          "United Kingdom of Great Britain and Northern Ireland",
          "Russia",
          "Brazil",
          "India",
          "United States of America",
          "Other"
         ],
         "y": [
          1,
          1.4,
          1.6,
          3.1,
          3.2,
          3.3,
          3.8,
          4,
          18.7,
          19.1,
          40.6
         ]
        },
        {
         "name": "2020 Kaggle Survey",
         "type": "bar",
         "x": [
          "Pakistan",
          "Turkey",
          "Nigeria",
          "Japan",
          "France",
          "Russia",
          "United Kingdom of Great Britain and Northern Ireland",
          "Brazil",
          "United States of America",
          "India",
          "Other"
         ],
         "y": [
          1.3,
          1.8,
          2.6,
          2.8,
          3,
          3.3,
          4.2,
          4.6,
          14.5,
          21.8,
          40.1
         ]
        },
        {
         "name": "2021 Kaggle Survey",
         "type": "bar",
         "x": [
          "Japan",
          "Pakistan",
          "Turkey",
          "Nigeria",
          "France",
          "United Kingdom of Great Britain and Northern Ireland",
          "Russia",
          "Brazil",
          "United States of America",
          "India",
          "Other"
         ],
         "y": [
          2.3,
          2.3,
          2.4,
          2.6,
          3,
          3,
          3.3,
          4.3,
          12.2,
          24.4,
          40.3
         ]
        }
       ],
       "layout": {
        "barmode": "group",
        "template": {
         "data": {
          "bar": [
           {
            "error_x": {
             "color": "#2a3f5f"
            },
            "error_y": {
             "color": "#2a3f5f"
            },
            "marker": {
             "line": {
              "color": "#E5ECF6",
              "width": 0.5
             },
             "pattern": {
              "fillmode": "overlay",
              "size": 10,
              "solidity": 0.2
             }
            },
            "type": "bar"
           }
          ],
          "barpolar": [
           {
            "marker": {
             "line": {
              "color": "#E5ECF6",
              "width": 0.5
             },
             "pattern": {
              "fillmode": "overlay",
              "size": 10,
              "solidity": 0.2
             }
            },
            "type": "barpolar"
           }
          ],
          "carpet": [
           {
            "aaxis": {
             "endlinecolor": "#2a3f5f",
             "gridcolor": "white",
             "linecolor": "white",
             "minorgridcolor": "white",
             "startlinecolor": "#2a3f5f"
            },
            "baxis": {
             "endlinecolor": "#2a3f5f",
             "gridcolor": "white",
             "linecolor": "white",
             "minorgridcolor": "white",
             "startlinecolor": "#2a3f5f"
            },
            "type": "carpet"
           }
          ],
          "choropleth": [
           {
            "colorbar": {
             "outlinewidth": 0,
             "ticks": ""
            },
            "type": "choropleth"
           }
          ],
          "contour": [
           {
            "colorbar": {
             "outlinewidth": 0,
             "ticks": ""
            },
            "colorscale": [
             [
              0,
              "#0d0887"
             ],
             [
              0.1111111111111111,
              "#46039f"
             ],
             [
              0.2222222222222222,
              "#7201a8"
             ],
             [
              0.3333333333333333,
              "#9c179e"
             ],
             [
              0.4444444444444444,
              "#bd3786"
             ],
             [
              0.5555555555555556,
              "#d8576b"
             ],
             [
              0.6666666666666666,
              "#ed7953"
             ],
             [
              0.7777777777777778,
              "#fb9f3a"
             ],
             [
              0.8888888888888888,
              "#fdca26"
             ],
             [
              1,
              "#f0f921"
             ]
            ],
            "type": "contour"
           }
          ],
          "contourcarpet": [
           {
            "colorbar": {
             "outlinewidth": 0,
             "ticks": ""
            },
            "type": "contourcarpet"
           }
          ],
          "heatmap": [
           {
            "colorbar": {
             "outlinewidth": 0,
             "ticks": ""
            },
            "colorscale": [
             [
              0,
              "#0d0887"
             ],
             [
              0.1111111111111111,
              "#46039f"
             ],
             [
              0.2222222222222222,
              "#7201a8"
             ],
             [
              0.3333333333333333,
              "#9c179e"
             ],
             [
              0.4444444444444444,
              "#bd3786"
             ],
             [
              0.5555555555555556,
              "#d8576b"
             ],
             [
              0.6666666666666666,
              "#ed7953"
             ],
             [
              0.7777777777777778,
              "#fb9f3a"
             ],
             [
              0.8888888888888888,
              "#fdca26"
             ],
             [
              1,
              "#f0f921"
             ]
            ],
            "type": "heatmap"
           }
          ],
          "heatmapgl": [
           {
            "colorbar": {
             "outlinewidth": 0,
             "ticks": ""
            },
            "colorscale": [
             [
              0,
              "#0d0887"
             ],
             [
              0.1111111111111111,
              "#46039f"
             ],
             [
              0.2222222222222222,
              "#7201a8"
             ],
             [
              0.3333333333333333,
              "#9c179e"
             ],
             [
              0.4444444444444444,
              "#bd3786"
             ],
             [
              0.5555555555555556,
              "#d8576b"
             ],
             [
              0.6666666666666666,
              "#ed7953"
             ],
             [
              0.7777777777777778,
              "#fb9f3a"
             ],
             [
              0.8888888888888888,
              "#fdca26"
             ],
             [
              1,
              "#f0f921"
             ]
            ],
            "type": "heatmapgl"
           }
          ],
          "histogram": [
           {
            "marker": {
             "pattern": {
              "fillmode": "overlay",
              "size": 10,
              "solidity": 0.2
             }
            },
            "type": "histogram"
           }
          ],
          "histogram2d": [
           {
            "colorbar": {
             "outlinewidth": 0,
             "ticks": ""
            },
            "colorscale": [
             [
              0,
              "#0d0887"
             ],
             [
              0.1111111111111111,
              "#46039f"
             ],
             [
              0.2222222222222222,
              "#7201a8"
             ],
             [
              0.3333333333333333,
              "#9c179e"
             ],
             [
              0.4444444444444444,
              "#bd3786"
             ],
             [
              0.5555555555555556,
              "#d8576b"
             ],
             [
              0.6666666666666666,
              "#ed7953"
             ],
             [
              0.7777777777777778,
              "#fb9f3a"
             ],
             [
              0.8888888888888888,
              "#fdca26"
             ],
             [
              1,
              "#f0f921"
             ]
            ],
            "type": "histogram2d"
           }
          ],
          "histogram2dcontour": [
           {
            "colorbar": {
             "outlinewidth": 0,
             "ticks": ""
            },
            "colorscale": [
             [
              0,
              "#0d0887"
             ],
             [
              0.1111111111111111,
              "#46039f"
             ],
             [
              0.2222222222222222,
              "#7201a8"
             ],
             [
              0.3333333333333333,
              "#9c179e"
             ],
             [
              0.4444444444444444,
              "#bd3786"
             ],
             [
              0.5555555555555556,
              "#d8576b"
             ],
             [
              0.6666666666666666,
              "#ed7953"
             ],
             [
              0.7777777777777778,
              "#fb9f3a"
             ],
             [
              0.8888888888888888,
              "#fdca26"
             ],
             [
              1,
              "#f0f921"
             ]
            ],
            "type": "histogram2dcontour"
           }
          ],
          "mesh3d": [
           {
            "colorbar": {
             "outlinewidth": 0,
             "ticks": ""
            },
            "type": "mesh3d"
           }
          ],
          "parcoords": [
           {
            "line": {
             "colorbar": {
              "outlinewidth": 0,
              "ticks": ""
             }
            },
            "type": "parcoords"
           }
          ],
          "pie": [
           {
            "automargin": true,
            "type": "pie"
           }
          ],
          "scatter": [
           {
            "fillpattern": {
             "fillmode": "overlay",
             "size": 10,
             "solidity": 0.2
            },
            "type": "scatter"
           }
          ],
          "scatter3d": [
           {
            "line": {
             "colorbar": {
              "outlinewidth": 0,
              "ticks": ""
             }
            },
            "marker": {
             "colorbar": {
              "outlinewidth": 0,
              "ticks": ""
             }
            },
            "type": "scatter3d"
           }
          ],
          "scattercarpet": [
           {
            "marker": {
             "colorbar": {
              "outlinewidth": 0,
              "ticks": ""
             }
            },
            "type": "scattercarpet"
           }
          ],
          "scattergeo": [
           {
            "marker": {
             "colorbar": {
              "outlinewidth": 0,
              "ticks": ""
             }
            },
            "type": "scattergeo"
           }
          ],
          "scattergl": [
           {
            "marker": {
             "colorbar": {
              "outlinewidth": 0,
              "ticks": ""
             }
            },
            "type": "scattergl"
           }
          ],
          "scattermapbox": [
           {
            "marker": {
             "colorbar": {
              "outlinewidth": 0,
              "ticks": ""
             }
            },
            "type": "scattermapbox"
           }
          ],
          "scatterpolar": [
           {
            "marker": {
             "colorbar": {
              "outlinewidth": 0,
              "ticks": ""
             }
            },
            "type": "scatterpolar"
           }
          ],
          "scatterpolargl": [
           {
            "marker": {
             "colorbar": {
              "outlinewidth": 0,
              "ticks": ""
             }
            },
            "type": "scatterpolargl"
           }
          ],
          "scatterternary": [
           {
            "marker": {
             "colorbar": {
              "outlinewidth": 0,
              "ticks": ""
             }
            },
            "type": "scatterternary"
           }
          ],
          "surface": [
           {
            "colorbar": {
             "outlinewidth": 0,
             "ticks": ""
            },
            "colorscale": [
             [
              0,
              "#0d0887"
             ],
             [
              0.1111111111111111,
              "#46039f"
             ],
             [
              0.2222222222222222,
              "#7201a8"
             ],
             [
              0.3333333333333333,
              "#9c179e"
             ],
             [
              0.4444444444444444,
              "#bd3786"
             ],
             [
              0.5555555555555556,
              "#d8576b"
             ],
             [
              0.6666666666666666,
              "#ed7953"
             ],
             [
              0.7777777777777778,
              "#fb9f3a"
             ],
             [
              0.8888888888888888,
              "#fdca26"
             ],
             [
              1,
              "#f0f921"
             ]
            ],
            "type": "surface"
           }
          ],
          "table": [
           {
            "cells": {
             "fill": {
              "color": "#EBF0F8"
             },
             "line": {
              "color": "white"
             }
            },
            "header": {
             "fill": {
              "color": "#C8D4E3"
             },
             "line": {
              "color": "white"
             }
            },
            "type": "table"
           }
          ]
         },
         "layout": {
          "annotationdefaults": {
           "arrowcolor": "#2a3f5f",
           "arrowhead": 0,
           "arrowwidth": 1
          },
          "autotypenumbers": "strict",
          "coloraxis": {
           "colorbar": {
            "outlinewidth": 0,
            "ticks": ""
           }
          },
          "colorscale": {
           "diverging": [
            [
             0,
             "#8e0152"
            ],
            [
             0.1,
             "#c51b7d"
            ],
            [
             0.2,
             "#de77ae"
            ],
            [
             0.3,
             "#f1b6da"
            ],
            [
             0.4,
             "#fde0ef"
            ],
            [
             0.5,
             "#f7f7f7"
            ],
            [
             0.6,
             "#e6f5d0"
            ],
            [
             0.7,
             "#b8e186"
            ],
            [
             0.8,
             "#7fbc41"
            ],
            [
             0.9,
             "#4d9221"
            ],
            [
             1,
             "#276419"
            ]
           ],
           "sequential": [
            [
             0,
             "#0d0887"
            ],
            [
             0.1111111111111111,
             "#46039f"
            ],
            [
             0.2222222222222222,
             "#7201a8"
            ],
            [
             0.3333333333333333,
             "#9c179e"
            ],
            [
             0.4444444444444444,
             "#bd3786"
            ],
            [
             0.5555555555555556,
             "#d8576b"
            ],
            [
             0.6666666666666666,
             "#ed7953"
            ],
            [
             0.7777777777777778,
             "#fb9f3a"
            ],
            [
             0.8888888888888888,
             "#fdca26"
            ],
            [
             1,
             "#f0f921"
            ]
           ],
           "sequentialminus": [
            [
             0,
             "#0d0887"
            ],
            [
             0.1111111111111111,
             "#46039f"
            ],
            [
             0.2222222222222222,
             "#7201a8"
            ],
            [
             0.3333333333333333,
             "#9c179e"
            ],
            [
             0.4444444444444444,
             "#bd3786"
            ],
            [
             0.5555555555555556,
             "#d8576b"
            ],
            [
             0.6666666666666666,
             "#ed7953"
            ],
            [
             0.7777777777777778,
             "#fb9f3a"
            ],
            [
             0.8888888888888888,
             "#fdca26"
            ],
            [
             1,
             "#f0f921"
            ]
           ]
          },
          "colorway": [
           "#636efa",
           "#EF553B",
           "#00cc96",
           "#ab63fa",
           "#FFA15A",
           "#19d3f3",
           "#FF6692",
           "#B6E880",
           "#FF97FF",
           "#FECB52"
          ],
          "font": {
           "color": "#2a3f5f"
          },
          "geo": {
           "bgcolor": "white",
           "lakecolor": "white",
           "landcolor": "#E5ECF6",
           "showlakes": true,
           "showland": true,
           "subunitcolor": "white"
          },
          "hoverlabel": {
           "align": "left"
          },
          "hovermode": "closest",
          "mapbox": {
           "style": "light"
          },
          "paper_bgcolor": "white",
          "plot_bgcolor": "#E5ECF6",
          "polar": {
           "angularaxis": {
            "gridcolor": "white",
            "linecolor": "white",
            "ticks": ""
           },
           "bgcolor": "#E5ECF6",
           "radialaxis": {
            "gridcolor": "white",
            "linecolor": "white",
            "ticks": ""
           }
          },
          "scene": {
           "xaxis": {
            "backgroundcolor": "#E5ECF6",
            "gridcolor": "white",
            "gridwidth": 2,
            "linecolor": "white",
            "showbackground": true,
            "ticks": "",
            "zerolinecolor": "white"
           },
           "yaxis": {
            "backgroundcolor": "#E5ECF6",
            "gridcolor": "white",
            "gridwidth": 2,
            "linecolor": "white",
            "showbackground": true,
            "ticks": "",
            "zerolinecolor": "white"
           },
           "zaxis": {
            "backgroundcolor": "#E5ECF6",
            "gridcolor": "white",
            "gridwidth": 2,
            "linecolor": "white",
            "showbackground": true,
            "ticks": "",
            "zerolinecolor": "white"
           }
          },
          "shapedefaults": {
           "line": {
            "color": "#2a3f5f"
           }
          },
          "ternary": {
           "aaxis": {
            "gridcolor": "white",
            "linecolor": "white",
            "ticks": ""
           },
           "baxis": {
            "gridcolor": "white",
            "linecolor": "white",
            "ticks": ""
           },
           "bgcolor": "#E5ECF6",
           "caxis": {
            "gridcolor": "white",
            "linecolor": "white",
            "ticks": ""
           }
          },
          "title": {
           "x": 0.05
          },
          "xaxis": {
           "automargin": true,
           "gridcolor": "white",
           "linecolor": "white",
           "ticks": "",
           "title": {
            "standoff": 15
           },
           "zerolinecolor": "white",
           "zerolinewidth": 2
          },
          "yaxis": {
           "automargin": true,
           "gridcolor": "white",
           "linecolor": "white",
           "ticks": "",
           "title": {
            "standoff": 15
           },
           "zerolinecolor": "white",
           "zerolinewidth": 2
          }
         }
        },
        "title": {
         "text": "Most Common Nationalities on Kaggle from 2018 to 2021"
        },
        "yaxis": {
         "title": {
          "text": "% of respondents"
         }
        }
       }
      },
      "text/html": [
       "<div>                            <div id=\"2a64b762-589e-42a8-b31f-54737fe251c2\" class=\"plotly-graph-div\" style=\"height:525px; width:100%;\"></div>            <script type=\"text/javascript\">                require([\"plotly\"], function(Plotly) {                    window.PLOTLYENV=window.PLOTLYENV || {};                                    if (document.getElementById(\"2a64b762-589e-42a8-b31f-54737fe251c2\")) {                    Plotly.newPlot(                        \"2a64b762-589e-42a8-b31f-54737fe251c2\",                        [{\"name\":\"2018 Kaggle Survey\",\"x\":[\"Nigeria\",\"Pakistan\",\"Japan\",\"Turkey\",\"Brazil\",\"United Kingdom of Great Britain and Northern Ireland\",\"Russia\",\"France\",\"India\",\"United States of America\",\"Other\"],\"y\":[0.5,0.6,1.4,1.5,3.0,3.9,4.3,4.4,14.4,22.8,43.1],\"type\":\"bar\"},{\"name\":\"2019 Kaggle Survey\",\"x\":[\"Pakistan\",\"Turkey\",\"Nigeria\",\"Japan\",\"France\",\"United Kingdom of Great Britain and Northern Ireland\",\"Russia\",\"Brazil\",\"India\",\"United States of America\",\"Other\"],\"y\":[1.0,1.4,1.6,3.1,3.2,3.3,3.8,4.0,18.7,19.1,40.6],\"type\":\"bar\"},{\"name\":\"2020 Kaggle Survey\",\"x\":[\"Pakistan\",\"Turkey\",\"Nigeria\",\"Japan\",\"France\",\"Russia\",\"United Kingdom of Great Britain and Northern Ireland\",\"Brazil\",\"United States of America\",\"India\",\"Other\"],\"y\":[1.3,1.8,2.6,2.8,3.0,3.3,4.2,4.6,14.5,21.8,40.1],\"type\":\"bar\"},{\"name\":\"2021 Kaggle Survey\",\"x\":[\"Japan\",\"Pakistan\",\"Turkey\",\"Nigeria\",\"France\",\"United Kingdom of Great Britain and Northern Ireland\",\"Russia\",\"Brazil\",\"United States of America\",\"India\",\"Other\"],\"y\":[2.3,2.3,2.4,2.6,3.0,3.0,3.3,4.3,12.2,24.4,40.3],\"type\":\"bar\"}],                        {\"template\":{\"data\":{\"histogram2dcontour\":[{\"type\":\"histogram2dcontour\",\"colorbar\":{\"outlinewidth\":0,\"ticks\":\"\"},\"colorscale\":[[0.0,\"#0d0887\"],[0.1111111111111111,\"#46039f\"],[0.2222222222222222,\"#7201a8\"],[0.3333333333333333,\"#9c179e\"],[0.4444444444444444,\"#bd3786\"],[0.5555555555555556,\"#d8576b\"],[0.6666666666666666,\"#ed7953\"],[0.7777777777777778,\"#fb9f3a\"],[0.8888888888888888,\"#fdca26\"],[1.0,\"#f0f921\"]]}],\"choropleth\":[{\"type\":\"choropleth\",\"colorbar\":{\"outlinewidth\":0,\"ticks\":\"\"}}],\"histogram2d\":[{\"type\":\"histogram2d\",\"colorbar\":{\"outlinewidth\":0,\"ticks\":\"\"},\"colorscale\":[[0.0,\"#0d0887\"],[0.1111111111111111,\"#46039f\"],[0.2222222222222222,\"#7201a8\"],[0.3333333333333333,\"#9c179e\"],[0.4444444444444444,\"#bd3786\"],[0.5555555555555556,\"#d8576b\"],[0.6666666666666666,\"#ed7953\"],[0.7777777777777778,\"#fb9f3a\"],[0.8888888888888888,\"#fdca26\"],[1.0,\"#f0f921\"]]}],\"heatmap\":[{\"type\":\"heatmap\",\"colorbar\":{\"outlinewidth\":0,\"ticks\":\"\"},\"colorscale\":[[0.0,\"#0d0887\"],[0.1111111111111111,\"#46039f\"],[0.2222222222222222,\"#7201a8\"],[0.3333333333333333,\"#9c179e\"],[0.4444444444444444,\"#bd3786\"],[0.5555555555555556,\"#d8576b\"],[0.6666666666666666,\"#ed7953\"],[0.7777777777777778,\"#fb9f3a\"],[0.8888888888888888,\"#fdca26\"],[1.0,\"#f0f921\"]]}],\"heatmapgl\":[{\"type\":\"heatmapgl\",\"colorbar\":{\"outlinewidth\":0,\"ticks\":\"\"},\"colorscale\":[[0.0,\"#0d0887\"],[0.1111111111111111,\"#46039f\"],[0.2222222222222222,\"#7201a8\"],[0.3333333333333333,\"#9c179e\"],[0.4444444444444444,\"#bd3786\"],[0.5555555555555556,\"#d8576b\"],[0.6666666666666666,\"#ed7953\"],[0.7777777777777778,\"#fb9f3a\"],[0.8888888888888888,\"#fdca26\"],[1.0,\"#f0f921\"]]}],\"contourcarpet\":[{\"type\":\"contourcarpet\",\"colorbar\":{\"outlinewidth\":0,\"ticks\":\"\"}}],\"contour\":[{\"type\":\"contour\",\"colorbar\":{\"outlinewidth\":0,\"ticks\":\"\"},\"colorscale\":[[0.0,\"#0d0887\"],[0.1111111111111111,\"#46039f\"],[0.2222222222222222,\"#7201a8\"],[0.3333333333333333,\"#9c179e\"],[0.4444444444444444,\"#bd3786\"],[0.5555555555555556,\"#d8576b\"],[0.6666666666666666,\"#ed7953\"],[0.7777777777777778,\"#fb9f3a\"],[0.8888888888888888,\"#fdca26\"],[1.0,\"#f0f921\"]]}],\"surface\":[{\"type\":\"surface\",\"colorbar\":{\"outlinewidth\":0,\"ticks\":\"\"},\"colorscale\":[[0.0,\"#0d0887\"],[0.1111111111111111,\"#46039f\"],[0.2222222222222222,\"#7201a8\"],[0.3333333333333333,\"#9c179e\"],[0.4444444444444444,\"#bd3786\"],[0.5555555555555556,\"#d8576b\"],[0.6666666666666666,\"#ed7953\"],[0.7777777777777778,\"#fb9f3a\"],[0.8888888888888888,\"#fdca26\"],[1.0,\"#f0f921\"]]}],\"mesh3d\":[{\"type\":\"mesh3d\",\"colorbar\":{\"outlinewidth\":0,\"ticks\":\"\"}}],\"scatter\":[{\"fillpattern\":{\"fillmode\":\"overlay\",\"size\":10,\"solidity\":0.2},\"type\":\"scatter\"}],\"parcoords\":[{\"type\":\"parcoords\",\"line\":{\"colorbar\":{\"outlinewidth\":0,\"ticks\":\"\"}}}],\"scatterpolargl\":[{\"type\":\"scatterpolargl\",\"marker\":{\"colorbar\":{\"outlinewidth\":0,\"ticks\":\"\"}}}],\"bar\":[{\"error_x\":{\"color\":\"#2a3f5f\"},\"error_y\":{\"color\":\"#2a3f5f\"},\"marker\":{\"line\":{\"color\":\"#E5ECF6\",\"width\":0.5},\"pattern\":{\"fillmode\":\"overlay\",\"size\":10,\"solidity\":0.2}},\"type\":\"bar\"}],\"scattergeo\":[{\"type\":\"scattergeo\",\"marker\":{\"colorbar\":{\"outlinewidth\":0,\"ticks\":\"\"}}}],\"scatterpolar\":[{\"type\":\"scatterpolar\",\"marker\":{\"colorbar\":{\"outlinewidth\":0,\"ticks\":\"\"}}}],\"histogram\":[{\"marker\":{\"pattern\":{\"fillmode\":\"overlay\",\"size\":10,\"solidity\":0.2}},\"type\":\"histogram\"}],\"scattergl\":[{\"type\":\"scattergl\",\"marker\":{\"colorbar\":{\"outlinewidth\":0,\"ticks\":\"\"}}}],\"scatter3d\":[{\"type\":\"scatter3d\",\"line\":{\"colorbar\":{\"outlinewidth\":0,\"ticks\":\"\"}},\"marker\":{\"colorbar\":{\"outlinewidth\":0,\"ticks\":\"\"}}}],\"scattermapbox\":[{\"type\":\"scattermapbox\",\"marker\":{\"colorbar\":{\"outlinewidth\":0,\"ticks\":\"\"}}}],\"scatterternary\":[{\"type\":\"scatterternary\",\"marker\":{\"colorbar\":{\"outlinewidth\":0,\"ticks\":\"\"}}}],\"scattercarpet\":[{\"type\":\"scattercarpet\",\"marker\":{\"colorbar\":{\"outlinewidth\":0,\"ticks\":\"\"}}}],\"carpet\":[{\"aaxis\":{\"endlinecolor\":\"#2a3f5f\",\"gridcolor\":\"white\",\"linecolor\":\"white\",\"minorgridcolor\":\"white\",\"startlinecolor\":\"#2a3f5f\"},\"baxis\":{\"endlinecolor\":\"#2a3f5f\",\"gridcolor\":\"white\",\"linecolor\":\"white\",\"minorgridcolor\":\"white\",\"startlinecolor\":\"#2a3f5f\"},\"type\":\"carpet\"}],\"table\":[{\"cells\":{\"fill\":{\"color\":\"#EBF0F8\"},\"line\":{\"color\":\"white\"}},\"header\":{\"fill\":{\"color\":\"#C8D4E3\"},\"line\":{\"color\":\"white\"}},\"type\":\"table\"}],\"barpolar\":[{\"marker\":{\"line\":{\"color\":\"#E5ECF6\",\"width\":0.5},\"pattern\":{\"fillmode\":\"overlay\",\"size\":10,\"solidity\":0.2}},\"type\":\"barpolar\"}],\"pie\":[{\"automargin\":true,\"type\":\"pie\"}]},\"layout\":{\"autotypenumbers\":\"strict\",\"colorway\":[\"#636efa\",\"#EF553B\",\"#00cc96\",\"#ab63fa\",\"#FFA15A\",\"#19d3f3\",\"#FF6692\",\"#B6E880\",\"#FF97FF\",\"#FECB52\"],\"font\":{\"color\":\"#2a3f5f\"},\"hovermode\":\"closest\",\"hoverlabel\":{\"align\":\"left\"},\"paper_bgcolor\":\"white\",\"plot_bgcolor\":\"#E5ECF6\",\"polar\":{\"bgcolor\":\"#E5ECF6\",\"angularaxis\":{\"gridcolor\":\"white\",\"linecolor\":\"white\",\"ticks\":\"\"},\"radialaxis\":{\"gridcolor\":\"white\",\"linecolor\":\"white\",\"ticks\":\"\"}},\"ternary\":{\"bgcolor\":\"#E5ECF6\",\"aaxis\":{\"gridcolor\":\"white\",\"linecolor\":\"white\",\"ticks\":\"\"},\"baxis\":{\"gridcolor\":\"white\",\"linecolor\":\"white\",\"ticks\":\"\"},\"caxis\":{\"gridcolor\":\"white\",\"linecolor\":\"white\",\"ticks\":\"\"}},\"coloraxis\":{\"colorbar\":{\"outlinewidth\":0,\"ticks\":\"\"}},\"colorscale\":{\"sequential\":[[0.0,\"#0d0887\"],[0.1111111111111111,\"#46039f\"],[0.2222222222222222,\"#7201a8\"],[0.3333333333333333,\"#9c179e\"],[0.4444444444444444,\"#bd3786\"],[0.5555555555555556,\"#d8576b\"],[0.6666666666666666,\"#ed7953\"],[0.7777777777777778,\"#fb9f3a\"],[0.8888888888888888,\"#fdca26\"],[1.0,\"#f0f921\"]],\"sequentialminus\":[[0.0,\"#0d0887\"],[0.1111111111111111,\"#46039f\"],[0.2222222222222222,\"#7201a8\"],[0.3333333333333333,\"#9c179e\"],[0.4444444444444444,\"#bd3786\"],[0.5555555555555556,\"#d8576b\"],[0.6666666666666666,\"#ed7953\"],[0.7777777777777778,\"#fb9f3a\"],[0.8888888888888888,\"#fdca26\"],[1.0,\"#f0f921\"]],\"diverging\":[[0,\"#8e0152\"],[0.1,\"#c51b7d\"],[0.2,\"#de77ae\"],[0.3,\"#f1b6da\"],[0.4,\"#fde0ef\"],[0.5,\"#f7f7f7\"],[0.6,\"#e6f5d0\"],[0.7,\"#b8e186\"],[0.8,\"#7fbc41\"],[0.9,\"#4d9221\"],[1,\"#276419\"]]},\"xaxis\":{\"gridcolor\":\"white\",\"linecolor\":\"white\",\"ticks\":\"\",\"title\":{\"standoff\":15},\"zerolinecolor\":\"white\",\"automargin\":true,\"zerolinewidth\":2},\"yaxis\":{\"gridcolor\":\"white\",\"linecolor\":\"white\",\"ticks\":\"\",\"title\":{\"standoff\":15},\"zerolinecolor\":\"white\",\"automargin\":true,\"zerolinewidth\":2},\"scene\":{\"xaxis\":{\"backgroundcolor\":\"#E5ECF6\",\"gridcolor\":\"white\",\"linecolor\":\"white\",\"showbackground\":true,\"ticks\":\"\",\"zerolinecolor\":\"white\",\"gridwidth\":2},\"yaxis\":{\"backgroundcolor\":\"#E5ECF6\",\"gridcolor\":\"white\",\"linecolor\":\"white\",\"showbackground\":true,\"ticks\":\"\",\"zerolinecolor\":\"white\",\"gridwidth\":2},\"zaxis\":{\"backgroundcolor\":\"#E5ECF6\",\"gridcolor\":\"white\",\"linecolor\":\"white\",\"showbackground\":true,\"ticks\":\"\",\"zerolinecolor\":\"white\",\"gridwidth\":2}},\"shapedefaults\":{\"line\":{\"color\":\"#2a3f5f\"}},\"annotationdefaults\":{\"arrowcolor\":\"#2a3f5f\",\"arrowhead\":0,\"arrowwidth\":1},\"geo\":{\"bgcolor\":\"white\",\"landcolor\":\"#E5ECF6\",\"subunitcolor\":\"white\",\"showland\":true,\"showlakes\":true,\"lakecolor\":\"white\"},\"title\":{\"x\":0.05},\"mapbox\":{\"style\":\"light\"}}},\"barmode\":\"group\",\"title\":{\"text\":\"Most Common Nationalities on Kaggle from 2018 to 2021\"},\"yaxis\":{\"title\":{\"text\":\"% of respondents\"}}},                        {\"responsive\": true}                    ).then(function(){\n",
       "                            \n",
       "var gd = document.getElementById('2a64b762-589e-42a8-b31f-54737fe251c2');\n",
       "var x = new MutationObserver(function (mutations, observer) {{\n",
       "        var display = window.getComputedStyle(gd).display;\n",
       "        if (!display || display === 'none') {{\n",
       "            console.log([gd, 'removed!']);\n",
       "            Plotly.purge(gd);\n",
       "            observer.disconnect();\n",
       "        }}\n",
       "}});\n",
       "\n",
       "// Listen for the removal of the full notebook cells\n",
       "var notebookContainer = gd.closest('#notebook-container');\n",
       "if (notebookContainer) {{\n",
       "    x.observe(notebookContainer, {childList: true});\n",
       "}}\n",
       "\n",
       "// Listen for the clearing of the current output cell\n",
       "var outputEl = gd.closest('.output');\n",
       "if (outputEl) {{\n",
       "    x.observe(outputEl, {childList: true});\n",
       "}}\n",
       "\n",
       "                        })                };                });            </script>        </div>"
      ]
     },
     "metadata": {},
     "output_type": "display_data"
    }
   ],
   "source": [
    "\n",
    "sorted_percentages_2018 = count_then_return_percent(responses_df_2018,'Q3').iloc[::-1]\n",
    "sorted_percentages_2019 = count_then_return_percent(responses_df_2019,'Q3').iloc[::-1]\n",
    "sorted_percentages_2020 = count_then_return_percent(responses_df_2020,'Q3').iloc[::-1]\n",
    "sorted_percentages_2021 = count_then_return_percent(responses_df_2021,'Q3').iloc[::-1]\n",
    "\n",
    "title_for_chart = 'Most Common Nationalities on Kaggle from 2018 to 2021'\n",
    "title_for_y_axis = '% of respondents'\n",
    "\n",
    "fig = go.Figure(data=[\n",
    "   \n",
    "    go.Bar(name='2018 Kaggle Survey', x=pd.Series(sorted_percentages_2018.index), y=pd.Series(sorted_percentages_2018)),\n",
    "    go.Bar(name='2019 Kaggle Survey', x=pd.Series(sorted_percentages_2019.index), y=pd.Series(sorted_percentages_2019)),\n",
    "    go.Bar(name='2020 Kaggle Survey', x=pd.Series(sorted_percentages_2020.index), y=pd.Series(sorted_percentages_2020)),\n",
    "    go.Bar(name='2021 Kaggle Survey', x=pd.Series(sorted_percentages_2021.index), y=pd.Series(sorted_percentages_2021))\n",
    "           ])\n",
    "fig.update_layout(barmode='group') \n",
    "fig.update_layout(title=title_for_chart,yaxis=dict(title=title_for_y_axis))\n",
    "fig.show()\n",
    "responses_df_2021 = responses_df_2021_backup.copy()"
   ]
  },
  {
   "cell_type": "code",
   "execution_count": 41,
   "id": "f3403b2e",
   "metadata": {},
   "outputs": [
    {
     "name": "stderr",
     "output_type": "stream",
     "text": [
      "/Users/shreelekhamittinti/opt/anaconda3/lib/python3.9/site-packages/pandas/core/generic.py:8870: SettingWithCopyWarning:\n",
      "\n",
      "\n",
      "A value is trying to be set on a copy of a slice from a DataFrame\n",
      "\n",
      "See the caveats in the documentation: https://pandas.pydata.org/pandas-docs/stable/user_guide/indexing.html#returning-a-view-versus-a-copy\n",
      "\n"
     ]
    },
    {
     "data": {
      "application/vnd.plotly.v1+json": {
       "config": {
        "plotlyServerURL": "https://plot.ly"
       },
       "data": [
        {
         "name": "2018 Kaggle Survey",
         "type": "bar",
         "x": [
          "Master's degree",
          "Bachelor's degree",
          "Doctoral degree",
          "Other"
         ],
         "y": [
          55.5,
          20.2,
          18.8,
          5.5
         ]
        },
        {
         "name": "2019 Kaggle Survey",
         "type": "bar",
         "x": [
          "Master's degree",
          "Bachelor's degree",
          "Doctoral degree",
          "Other"
         ],
         "y": [
          52.4,
          22.4,
          18.7,
          6.5
         ]
        },
        {
         "name": "2020 Kaggle Survey",
         "type": "bar",
         "x": [
          "Master's degree",
          "Bachelor's degree",
          "Doctoral degree",
          "Other"
         ],
         "y": [
          51.1,
          24.2,
          17.1,
          7.5
         ]
        },
        {
         "name": "2021 Kaggle Survey",
         "type": "bar",
         "x": [
          "Master's degree",
          "Bachelor's degree",
          "Doctoral degree",
          "Other"
         ],
         "y": [
          47.7,
          30.1,
          15,
          7.1
         ]
        }
       ],
       "layout": {
        "barmode": "group",
        "template": {
         "data": {
          "bar": [
           {
            "error_x": {
             "color": "#2a3f5f"
            },
            "error_y": {
             "color": "#2a3f5f"
            },
            "marker": {
             "line": {
              "color": "#E5ECF6",
              "width": 0.5
             },
             "pattern": {
              "fillmode": "overlay",
              "size": 10,
              "solidity": 0.2
             }
            },
            "type": "bar"
           }
          ],
          "barpolar": [
           {
            "marker": {
             "line": {
              "color": "#E5ECF6",
              "width": 0.5
             },
             "pattern": {
              "fillmode": "overlay",
              "size": 10,
              "solidity": 0.2
             }
            },
            "type": "barpolar"
           }
          ],
          "carpet": [
           {
            "aaxis": {
             "endlinecolor": "#2a3f5f",
             "gridcolor": "white",
             "linecolor": "white",
             "minorgridcolor": "white",
             "startlinecolor": "#2a3f5f"
            },
            "baxis": {
             "endlinecolor": "#2a3f5f",
             "gridcolor": "white",
             "linecolor": "white",
             "minorgridcolor": "white",
             "startlinecolor": "#2a3f5f"
            },
            "type": "carpet"
           }
          ],
          "choropleth": [
           {
            "colorbar": {
             "outlinewidth": 0,
             "ticks": ""
            },
            "type": "choropleth"
           }
          ],
          "contour": [
           {
            "colorbar": {
             "outlinewidth": 0,
             "ticks": ""
            },
            "colorscale": [
             [
              0,
              "#0d0887"
             ],
             [
              0.1111111111111111,
              "#46039f"
             ],
             [
              0.2222222222222222,
              "#7201a8"
             ],
             [
              0.3333333333333333,
              "#9c179e"
             ],
             [
              0.4444444444444444,
              "#bd3786"
             ],
             [
              0.5555555555555556,
              "#d8576b"
             ],
             [
              0.6666666666666666,
              "#ed7953"
             ],
             [
              0.7777777777777778,
              "#fb9f3a"
             ],
             [
              0.8888888888888888,
              "#fdca26"
             ],
             [
              1,
              "#f0f921"
             ]
            ],
            "type": "contour"
           }
          ],
          "contourcarpet": [
           {
            "colorbar": {
             "outlinewidth": 0,
             "ticks": ""
            },
            "type": "contourcarpet"
           }
          ],
          "heatmap": [
           {
            "colorbar": {
             "outlinewidth": 0,
             "ticks": ""
            },
            "colorscale": [
             [
              0,
              "#0d0887"
             ],
             [
              0.1111111111111111,
              "#46039f"
             ],
             [
              0.2222222222222222,
              "#7201a8"
             ],
             [
              0.3333333333333333,
              "#9c179e"
             ],
             [
              0.4444444444444444,
              "#bd3786"
             ],
             [
              0.5555555555555556,
              "#d8576b"
             ],
             [
              0.6666666666666666,
              "#ed7953"
             ],
             [
              0.7777777777777778,
              "#fb9f3a"
             ],
             [
              0.8888888888888888,
              "#fdca26"
             ],
             [
              1,
              "#f0f921"
             ]
            ],
            "type": "heatmap"
           }
          ],
          "heatmapgl": [
           {
            "colorbar": {
             "outlinewidth": 0,
             "ticks": ""
            },
            "colorscale": [
             [
              0,
              "#0d0887"
             ],
             [
              0.1111111111111111,
              "#46039f"
             ],
             [
              0.2222222222222222,
              "#7201a8"
             ],
             [
              0.3333333333333333,
              "#9c179e"
             ],
             [
              0.4444444444444444,
              "#bd3786"
             ],
             [
              0.5555555555555556,
              "#d8576b"
             ],
             [
              0.6666666666666666,
              "#ed7953"
             ],
             [
              0.7777777777777778,
              "#fb9f3a"
             ],
             [
              0.8888888888888888,
              "#fdca26"
             ],
             [
              1,
              "#f0f921"
             ]
            ],
            "type": "heatmapgl"
           }
          ],
          "histogram": [
           {
            "marker": {
             "pattern": {
              "fillmode": "overlay",
              "size": 10,
              "solidity": 0.2
             }
            },
            "type": "histogram"
           }
          ],
          "histogram2d": [
           {
            "colorbar": {
             "outlinewidth": 0,
             "ticks": ""
            },
            "colorscale": [
             [
              0,
              "#0d0887"
             ],
             [
              0.1111111111111111,
              "#46039f"
             ],
             [
              0.2222222222222222,
              "#7201a8"
             ],
             [
              0.3333333333333333,
              "#9c179e"
             ],
             [
              0.4444444444444444,
              "#bd3786"
             ],
             [
              0.5555555555555556,
              "#d8576b"
             ],
             [
              0.6666666666666666,
              "#ed7953"
             ],
             [
              0.7777777777777778,
              "#fb9f3a"
             ],
             [
              0.8888888888888888,
              "#fdca26"
             ],
             [
              1,
              "#f0f921"
             ]
            ],
            "type": "histogram2d"
           }
          ],
          "histogram2dcontour": [
           {
            "colorbar": {
             "outlinewidth": 0,
             "ticks": ""
            },
            "colorscale": [
             [
              0,
              "#0d0887"
             ],
             [
              0.1111111111111111,
              "#46039f"
             ],
             [
              0.2222222222222222,
              "#7201a8"
             ],
             [
              0.3333333333333333,
              "#9c179e"
             ],
             [
              0.4444444444444444,
              "#bd3786"
             ],
             [
              0.5555555555555556,
              "#d8576b"
             ],
             [
              0.6666666666666666,
              "#ed7953"
             ],
             [
              0.7777777777777778,
              "#fb9f3a"
             ],
             [
              0.8888888888888888,
              "#fdca26"
             ],
             [
              1,
              "#f0f921"
             ]
            ],
            "type": "histogram2dcontour"
           }
          ],
          "mesh3d": [
           {
            "colorbar": {
             "outlinewidth": 0,
             "ticks": ""
            },
            "type": "mesh3d"
           }
          ],
          "parcoords": [
           {
            "line": {
             "colorbar": {
              "outlinewidth": 0,
              "ticks": ""
             }
            },
            "type": "parcoords"
           }
          ],
          "pie": [
           {
            "automargin": true,
            "type": "pie"
           }
          ],
          "scatter": [
           {
            "fillpattern": {
             "fillmode": "overlay",
             "size": 10,
             "solidity": 0.2
            },
            "type": "scatter"
           }
          ],
          "scatter3d": [
           {
            "line": {
             "colorbar": {
              "outlinewidth": 0,
              "ticks": ""
             }
            },
            "marker": {
             "colorbar": {
              "outlinewidth": 0,
              "ticks": ""
             }
            },
            "type": "scatter3d"
           }
          ],
          "scattercarpet": [
           {
            "marker": {
             "colorbar": {
              "outlinewidth": 0,
              "ticks": ""
             }
            },
            "type": "scattercarpet"
           }
          ],
          "scattergeo": [
           {
            "marker": {
             "colorbar": {
              "outlinewidth": 0,
              "ticks": ""
             }
            },
            "type": "scattergeo"
           }
          ],
          "scattergl": [
           {
            "marker": {
             "colorbar": {
              "outlinewidth": 0,
              "ticks": ""
             }
            },
            "type": "scattergl"
           }
          ],
          "scattermapbox": [
           {
            "marker": {
             "colorbar": {
              "outlinewidth": 0,
              "ticks": ""
             }
            },
            "type": "scattermapbox"
           }
          ],
          "scatterpolar": [
           {
            "marker": {
             "colorbar": {
              "outlinewidth": 0,
              "ticks": ""
             }
            },
            "type": "scatterpolar"
           }
          ],
          "scatterpolargl": [
           {
            "marker": {
             "colorbar": {
              "outlinewidth": 0,
              "ticks": ""
             }
            },
            "type": "scatterpolargl"
           }
          ],
          "scatterternary": [
           {
            "marker": {
             "colorbar": {
              "outlinewidth": 0,
              "ticks": ""
             }
            },
            "type": "scatterternary"
           }
          ],
          "surface": [
           {
            "colorbar": {
             "outlinewidth": 0,
             "ticks": ""
            },
            "colorscale": [
             [
              0,
              "#0d0887"
             ],
             [
              0.1111111111111111,
              "#46039f"
             ],
             [
              0.2222222222222222,
              "#7201a8"
             ],
             [
              0.3333333333333333,
              "#9c179e"
             ],
             [
              0.4444444444444444,
              "#bd3786"
             ],
             [
              0.5555555555555556,
              "#d8576b"
             ],
             [
              0.6666666666666666,
              "#ed7953"
             ],
             [
              0.7777777777777778,
              "#fb9f3a"
             ],
             [
              0.8888888888888888,
              "#fdca26"
             ],
             [
              1,
              "#f0f921"
             ]
            ],
            "type": "surface"
           }
          ],
          "table": [
           {
            "cells": {
             "fill": {
              "color": "#EBF0F8"
             },
             "line": {
              "color": "white"
             }
            },
            "header": {
             "fill": {
              "color": "#C8D4E3"
             },
             "line": {
              "color": "white"
             }
            },
            "type": "table"
           }
          ]
         },
         "layout": {
          "annotationdefaults": {
           "arrowcolor": "#2a3f5f",
           "arrowhead": 0,
           "arrowwidth": 1
          },
          "autotypenumbers": "strict",
          "coloraxis": {
           "colorbar": {
            "outlinewidth": 0,
            "ticks": ""
           }
          },
          "colorscale": {
           "diverging": [
            [
             0,
             "#8e0152"
            ],
            [
             0.1,
             "#c51b7d"
            ],
            [
             0.2,
             "#de77ae"
            ],
            [
             0.3,
             "#f1b6da"
            ],
            [
             0.4,
             "#fde0ef"
            ],
            [
             0.5,
             "#f7f7f7"
            ],
            [
             0.6,
             "#e6f5d0"
            ],
            [
             0.7,
             "#b8e186"
            ],
            [
             0.8,
             "#7fbc41"
            ],
            [
             0.9,
             "#4d9221"
            ],
            [
             1,
             "#276419"
            ]
           ],
           "sequential": [
            [
             0,
             "#0d0887"
            ],
            [
             0.1111111111111111,
             "#46039f"
            ],
            [
             0.2222222222222222,
             "#7201a8"
            ],
            [
             0.3333333333333333,
             "#9c179e"
            ],
            [
             0.4444444444444444,
             "#bd3786"
            ],
            [
             0.5555555555555556,
             "#d8576b"
            ],
            [
             0.6666666666666666,
             "#ed7953"
            ],
            [
             0.7777777777777778,
             "#fb9f3a"
            ],
            [
             0.8888888888888888,
             "#fdca26"
            ],
            [
             1,
             "#f0f921"
            ]
           ],
           "sequentialminus": [
            [
             0,
             "#0d0887"
            ],
            [
             0.1111111111111111,
             "#46039f"
            ],
            [
             0.2222222222222222,
             "#7201a8"
            ],
            [
             0.3333333333333333,
             "#9c179e"
            ],
            [
             0.4444444444444444,
             "#bd3786"
            ],
            [
             0.5555555555555556,
             "#d8576b"
            ],
            [
             0.6666666666666666,
             "#ed7953"
            ],
            [
             0.7777777777777778,
             "#fb9f3a"
            ],
            [
             0.8888888888888888,
             "#fdca26"
            ],
            [
             1,
             "#f0f921"
            ]
           ]
          },
          "colorway": [
           "#636efa",
           "#EF553B",
           "#00cc96",
           "#ab63fa",
           "#FFA15A",
           "#19d3f3",
           "#FF6692",
           "#B6E880",
           "#FF97FF",
           "#FECB52"
          ],
          "font": {
           "color": "#2a3f5f"
          },
          "geo": {
           "bgcolor": "white",
           "lakecolor": "white",
           "landcolor": "#E5ECF6",
           "showlakes": true,
           "showland": true,
           "subunitcolor": "white"
          },
          "hoverlabel": {
           "align": "left"
          },
          "hovermode": "closest",
          "mapbox": {
           "style": "light"
          },
          "paper_bgcolor": "white",
          "plot_bgcolor": "#E5ECF6",
          "polar": {
           "angularaxis": {
            "gridcolor": "white",
            "linecolor": "white",
            "ticks": ""
           },
           "bgcolor": "#E5ECF6",
           "radialaxis": {
            "gridcolor": "white",
            "linecolor": "white",
            "ticks": ""
           }
          },
          "scene": {
           "xaxis": {
            "backgroundcolor": "#E5ECF6",
            "gridcolor": "white",
            "gridwidth": 2,
            "linecolor": "white",
            "showbackground": true,
            "ticks": "",
            "zerolinecolor": "white"
           },
           "yaxis": {
            "backgroundcolor": "#E5ECF6",
            "gridcolor": "white",
            "gridwidth": 2,
            "linecolor": "white",
            "showbackground": true,
            "ticks": "",
            "zerolinecolor": "white"
           },
           "zaxis": {
            "backgroundcolor": "#E5ECF6",
            "gridcolor": "white",
            "gridwidth": 2,
            "linecolor": "white",
            "showbackground": true,
            "ticks": "",
            "zerolinecolor": "white"
           }
          },
          "shapedefaults": {
           "line": {
            "color": "#2a3f5f"
           }
          },
          "ternary": {
           "aaxis": {
            "gridcolor": "white",
            "linecolor": "white",
            "ticks": ""
           },
           "baxis": {
            "gridcolor": "white",
            "linecolor": "white",
            "ticks": ""
           },
           "bgcolor": "#E5ECF6",
           "caxis": {
            "gridcolor": "white",
            "linecolor": "white",
            "ticks": ""
           }
          },
          "title": {
           "x": 0.05
          },
          "xaxis": {
           "automargin": true,
           "gridcolor": "white",
           "linecolor": "white",
           "ticks": "",
           "title": {
            "standoff": 15
           },
           "zerolinecolor": "white",
           "zerolinewidth": 2
          },
          "yaxis": {
           "automargin": true,
           "gridcolor": "white",
           "linecolor": "white",
           "ticks": "",
           "title": {
            "standoff": 15
           },
           "zerolinecolor": "white",
           "zerolinewidth": 2
          }
         }
        },
        "title": {
         "text": "Most Common Degree Type on Kaggle from 2018-2021"
        },
        "yaxis": {
         "title": {
          "text": "% of respondents"
         }
        }
       }
      },
      "text/html": [
       "<div>                            <div id=\"7d43320f-d87c-4ea1-8685-57269d9f4c99\" class=\"plotly-graph-div\" style=\"height:525px; width:100%;\"></div>            <script type=\"text/javascript\">                require([\"plotly\"], function(Plotly) {                    window.PLOTLYENV=window.PLOTLYENV || {};                                    if (document.getElementById(\"7d43320f-d87c-4ea1-8685-57269d9f4c99\")) {                    Plotly.newPlot(                        \"7d43320f-d87c-4ea1-8685-57269d9f4c99\",                        [{\"name\":\"2018 Kaggle Survey\",\"x\":[\"Master's degree\",\"Bachelor's degree\",\"Doctoral degree\",\"Other\"],\"y\":[55.5,20.2,18.8,5.5],\"type\":\"bar\"},{\"name\":\"2019 Kaggle Survey\",\"x\":[\"Master's degree\",\"Bachelor's degree\",\"Doctoral degree\",\"Other\"],\"y\":[52.4,22.4,18.7,6.5],\"type\":\"bar\"},{\"name\":\"2020 Kaggle Survey\",\"x\":[\"Master's degree\",\"Bachelor's degree\",\"Doctoral degree\",\"Other\"],\"y\":[51.1,24.2,17.1,7.5],\"type\":\"bar\"},{\"name\":\"2021 Kaggle Survey\",\"x\":[\"Master's degree\",\"Bachelor's degree\",\"Doctoral degree\",\"Other\"],\"y\":[47.7,30.1,15.0,7.1],\"type\":\"bar\"}],                        {\"template\":{\"data\":{\"histogram2dcontour\":[{\"type\":\"histogram2dcontour\",\"colorbar\":{\"outlinewidth\":0,\"ticks\":\"\"},\"colorscale\":[[0.0,\"#0d0887\"],[0.1111111111111111,\"#46039f\"],[0.2222222222222222,\"#7201a8\"],[0.3333333333333333,\"#9c179e\"],[0.4444444444444444,\"#bd3786\"],[0.5555555555555556,\"#d8576b\"],[0.6666666666666666,\"#ed7953\"],[0.7777777777777778,\"#fb9f3a\"],[0.8888888888888888,\"#fdca26\"],[1.0,\"#f0f921\"]]}],\"choropleth\":[{\"type\":\"choropleth\",\"colorbar\":{\"outlinewidth\":0,\"ticks\":\"\"}}],\"histogram2d\":[{\"type\":\"histogram2d\",\"colorbar\":{\"outlinewidth\":0,\"ticks\":\"\"},\"colorscale\":[[0.0,\"#0d0887\"],[0.1111111111111111,\"#46039f\"],[0.2222222222222222,\"#7201a8\"],[0.3333333333333333,\"#9c179e\"],[0.4444444444444444,\"#bd3786\"],[0.5555555555555556,\"#d8576b\"],[0.6666666666666666,\"#ed7953\"],[0.7777777777777778,\"#fb9f3a\"],[0.8888888888888888,\"#fdca26\"],[1.0,\"#f0f921\"]]}],\"heatmap\":[{\"type\":\"heatmap\",\"colorbar\":{\"outlinewidth\":0,\"ticks\":\"\"},\"colorscale\":[[0.0,\"#0d0887\"],[0.1111111111111111,\"#46039f\"],[0.2222222222222222,\"#7201a8\"],[0.3333333333333333,\"#9c179e\"],[0.4444444444444444,\"#bd3786\"],[0.5555555555555556,\"#d8576b\"],[0.6666666666666666,\"#ed7953\"],[0.7777777777777778,\"#fb9f3a\"],[0.8888888888888888,\"#fdca26\"],[1.0,\"#f0f921\"]]}],\"heatmapgl\":[{\"type\":\"heatmapgl\",\"colorbar\":{\"outlinewidth\":0,\"ticks\":\"\"},\"colorscale\":[[0.0,\"#0d0887\"],[0.1111111111111111,\"#46039f\"],[0.2222222222222222,\"#7201a8\"],[0.3333333333333333,\"#9c179e\"],[0.4444444444444444,\"#bd3786\"],[0.5555555555555556,\"#d8576b\"],[0.6666666666666666,\"#ed7953\"],[0.7777777777777778,\"#fb9f3a\"],[0.8888888888888888,\"#fdca26\"],[1.0,\"#f0f921\"]]}],\"contourcarpet\":[{\"type\":\"contourcarpet\",\"colorbar\":{\"outlinewidth\":0,\"ticks\":\"\"}}],\"contour\":[{\"type\":\"contour\",\"colorbar\":{\"outlinewidth\":0,\"ticks\":\"\"},\"colorscale\":[[0.0,\"#0d0887\"],[0.1111111111111111,\"#46039f\"],[0.2222222222222222,\"#7201a8\"],[0.3333333333333333,\"#9c179e\"],[0.4444444444444444,\"#bd3786\"],[0.5555555555555556,\"#d8576b\"],[0.6666666666666666,\"#ed7953\"],[0.7777777777777778,\"#fb9f3a\"],[0.8888888888888888,\"#fdca26\"],[1.0,\"#f0f921\"]]}],\"surface\":[{\"type\":\"surface\",\"colorbar\":{\"outlinewidth\":0,\"ticks\":\"\"},\"colorscale\":[[0.0,\"#0d0887\"],[0.1111111111111111,\"#46039f\"],[0.2222222222222222,\"#7201a8\"],[0.3333333333333333,\"#9c179e\"],[0.4444444444444444,\"#bd3786\"],[0.5555555555555556,\"#d8576b\"],[0.6666666666666666,\"#ed7953\"],[0.7777777777777778,\"#fb9f3a\"],[0.8888888888888888,\"#fdca26\"],[1.0,\"#f0f921\"]]}],\"mesh3d\":[{\"type\":\"mesh3d\",\"colorbar\":{\"outlinewidth\":0,\"ticks\":\"\"}}],\"scatter\":[{\"fillpattern\":{\"fillmode\":\"overlay\",\"size\":10,\"solidity\":0.2},\"type\":\"scatter\"}],\"parcoords\":[{\"type\":\"parcoords\",\"line\":{\"colorbar\":{\"outlinewidth\":0,\"ticks\":\"\"}}}],\"scatterpolargl\":[{\"type\":\"scatterpolargl\",\"marker\":{\"colorbar\":{\"outlinewidth\":0,\"ticks\":\"\"}}}],\"bar\":[{\"error_x\":{\"color\":\"#2a3f5f\"},\"error_y\":{\"color\":\"#2a3f5f\"},\"marker\":{\"line\":{\"color\":\"#E5ECF6\",\"width\":0.5},\"pattern\":{\"fillmode\":\"overlay\",\"size\":10,\"solidity\":0.2}},\"type\":\"bar\"}],\"scattergeo\":[{\"type\":\"scattergeo\",\"marker\":{\"colorbar\":{\"outlinewidth\":0,\"ticks\":\"\"}}}],\"scatterpolar\":[{\"type\":\"scatterpolar\",\"marker\":{\"colorbar\":{\"outlinewidth\":0,\"ticks\":\"\"}}}],\"histogram\":[{\"marker\":{\"pattern\":{\"fillmode\":\"overlay\",\"size\":10,\"solidity\":0.2}},\"type\":\"histogram\"}],\"scattergl\":[{\"type\":\"scattergl\",\"marker\":{\"colorbar\":{\"outlinewidth\":0,\"ticks\":\"\"}}}],\"scatter3d\":[{\"type\":\"scatter3d\",\"line\":{\"colorbar\":{\"outlinewidth\":0,\"ticks\":\"\"}},\"marker\":{\"colorbar\":{\"outlinewidth\":0,\"ticks\":\"\"}}}],\"scattermapbox\":[{\"type\":\"scattermapbox\",\"marker\":{\"colorbar\":{\"outlinewidth\":0,\"ticks\":\"\"}}}],\"scatterternary\":[{\"type\":\"scatterternary\",\"marker\":{\"colorbar\":{\"outlinewidth\":0,\"ticks\":\"\"}}}],\"scattercarpet\":[{\"type\":\"scattercarpet\",\"marker\":{\"colorbar\":{\"outlinewidth\":0,\"ticks\":\"\"}}}],\"carpet\":[{\"aaxis\":{\"endlinecolor\":\"#2a3f5f\",\"gridcolor\":\"white\",\"linecolor\":\"white\",\"minorgridcolor\":\"white\",\"startlinecolor\":\"#2a3f5f\"},\"baxis\":{\"endlinecolor\":\"#2a3f5f\",\"gridcolor\":\"white\",\"linecolor\":\"white\",\"minorgridcolor\":\"white\",\"startlinecolor\":\"#2a3f5f\"},\"type\":\"carpet\"}],\"table\":[{\"cells\":{\"fill\":{\"color\":\"#EBF0F8\"},\"line\":{\"color\":\"white\"}},\"header\":{\"fill\":{\"color\":\"#C8D4E3\"},\"line\":{\"color\":\"white\"}},\"type\":\"table\"}],\"barpolar\":[{\"marker\":{\"line\":{\"color\":\"#E5ECF6\",\"width\":0.5},\"pattern\":{\"fillmode\":\"overlay\",\"size\":10,\"solidity\":0.2}},\"type\":\"barpolar\"}],\"pie\":[{\"automargin\":true,\"type\":\"pie\"}]},\"layout\":{\"autotypenumbers\":\"strict\",\"colorway\":[\"#636efa\",\"#EF553B\",\"#00cc96\",\"#ab63fa\",\"#FFA15A\",\"#19d3f3\",\"#FF6692\",\"#B6E880\",\"#FF97FF\",\"#FECB52\"],\"font\":{\"color\":\"#2a3f5f\"},\"hovermode\":\"closest\",\"hoverlabel\":{\"align\":\"left\"},\"paper_bgcolor\":\"white\",\"plot_bgcolor\":\"#E5ECF6\",\"polar\":{\"bgcolor\":\"#E5ECF6\",\"angularaxis\":{\"gridcolor\":\"white\",\"linecolor\":\"white\",\"ticks\":\"\"},\"radialaxis\":{\"gridcolor\":\"white\",\"linecolor\":\"white\",\"ticks\":\"\"}},\"ternary\":{\"bgcolor\":\"#E5ECF6\",\"aaxis\":{\"gridcolor\":\"white\",\"linecolor\":\"white\",\"ticks\":\"\"},\"baxis\":{\"gridcolor\":\"white\",\"linecolor\":\"white\",\"ticks\":\"\"},\"caxis\":{\"gridcolor\":\"white\",\"linecolor\":\"white\",\"ticks\":\"\"}},\"coloraxis\":{\"colorbar\":{\"outlinewidth\":0,\"ticks\":\"\"}},\"colorscale\":{\"sequential\":[[0.0,\"#0d0887\"],[0.1111111111111111,\"#46039f\"],[0.2222222222222222,\"#7201a8\"],[0.3333333333333333,\"#9c179e\"],[0.4444444444444444,\"#bd3786\"],[0.5555555555555556,\"#d8576b\"],[0.6666666666666666,\"#ed7953\"],[0.7777777777777778,\"#fb9f3a\"],[0.8888888888888888,\"#fdca26\"],[1.0,\"#f0f921\"]],\"sequentialminus\":[[0.0,\"#0d0887\"],[0.1111111111111111,\"#46039f\"],[0.2222222222222222,\"#7201a8\"],[0.3333333333333333,\"#9c179e\"],[0.4444444444444444,\"#bd3786\"],[0.5555555555555556,\"#d8576b\"],[0.6666666666666666,\"#ed7953\"],[0.7777777777777778,\"#fb9f3a\"],[0.8888888888888888,\"#fdca26\"],[1.0,\"#f0f921\"]],\"diverging\":[[0,\"#8e0152\"],[0.1,\"#c51b7d\"],[0.2,\"#de77ae\"],[0.3,\"#f1b6da\"],[0.4,\"#fde0ef\"],[0.5,\"#f7f7f7\"],[0.6,\"#e6f5d0\"],[0.7,\"#b8e186\"],[0.8,\"#7fbc41\"],[0.9,\"#4d9221\"],[1,\"#276419\"]]},\"xaxis\":{\"gridcolor\":\"white\",\"linecolor\":\"white\",\"ticks\":\"\",\"title\":{\"standoff\":15},\"zerolinecolor\":\"white\",\"automargin\":true,\"zerolinewidth\":2},\"yaxis\":{\"gridcolor\":\"white\",\"linecolor\":\"white\",\"ticks\":\"\",\"title\":{\"standoff\":15},\"zerolinecolor\":\"white\",\"automargin\":true,\"zerolinewidth\":2},\"scene\":{\"xaxis\":{\"backgroundcolor\":\"#E5ECF6\",\"gridcolor\":\"white\",\"linecolor\":\"white\",\"showbackground\":true,\"ticks\":\"\",\"zerolinecolor\":\"white\",\"gridwidth\":2},\"yaxis\":{\"backgroundcolor\":\"#E5ECF6\",\"gridcolor\":\"white\",\"linecolor\":\"white\",\"showbackground\":true,\"ticks\":\"\",\"zerolinecolor\":\"white\",\"gridwidth\":2},\"zaxis\":{\"backgroundcolor\":\"#E5ECF6\",\"gridcolor\":\"white\",\"linecolor\":\"white\",\"showbackground\":true,\"ticks\":\"\",\"zerolinecolor\":\"white\",\"gridwidth\":2}},\"shapedefaults\":{\"line\":{\"color\":\"#2a3f5f\"}},\"annotationdefaults\":{\"arrowcolor\":\"#2a3f5f\",\"arrowhead\":0,\"arrowwidth\":1},\"geo\":{\"bgcolor\":\"white\",\"landcolor\":\"#E5ECF6\",\"subunitcolor\":\"white\",\"showland\":true,\"showlakes\":true,\"lakecolor\":\"white\"},\"title\":{\"x\":0.05},\"mapbox\":{\"style\":\"light\"}}},\"barmode\":\"group\",\"title\":{\"text\":\"Most Common Degree Type on Kaggle from 2018-2021\"},\"yaxis\":{\"title\":{\"text\":\"% of respondents\"}}},                        {\"responsive\": true}                    ).then(function(){\n",
       "                            \n",
       "var gd = document.getElementById('7d43320f-d87c-4ea1-8685-57269d9f4c99');\n",
       "var x = new MutationObserver(function (mutations, observer) {{\n",
       "        var display = window.getComputedStyle(gd).display;\n",
       "        if (!display || display === 'none') {{\n",
       "            console.log([gd, 'removed!']);\n",
       "            Plotly.purge(gd);\n",
       "            observer.disconnect();\n",
       "        }}\n",
       "}});\n",
       "\n",
       "// Listen for the removal of the full notebook cells\n",
       "var notebookContainer = gd.closest('#notebook-container');\n",
       "if (notebookContainer) {{\n",
       "    x.observe(notebookContainer, {childList: true});\n",
       "}}\n",
       "\n",
       "// Listen for the clearing of the current output cell\n",
       "var outputEl = gd.closest('.output');\n",
       "if (outputEl) {{\n",
       "    x.observe(outputEl, {childList: true});\n",
       "}}\n",
       "\n",
       "                        })                };                });            </script>        </div>"
      ]
     },
     "metadata": {},
     "output_type": "display_data"
    }
   ],
   "source": [
    "\n",
    "responses_df_2018['Q4'].replace([\"Masterâs degree\"], \"Master's degree\",inplace=True)\n",
    "responses_df_2019['Q4'].replace([\"Masterâs degree\"], \"Master's degree\",inplace=True)\n",
    "responses_df_2020['Q4'].replace([\"Masterâs degree\"], \"Master's degree\",inplace=True)\n",
    "responses_df_2021['Q4'].replace([\"Masterâs degree\"], \"Master's degree\",inplace=True)\n",
    "responses_df_2018['Q4'].replace([\"Bachelorâs degree\"], \"Bachelor's degree\",inplace=True)\n",
    "responses_df_2019['Q4'].replace([\"Bachelorâs degree\"], \"Bachelor's degree\",inplace=True)\n",
    "responses_df_2020['Q4'].replace([\"Bachelorâs degree\"], \"Bachelor's degree\",inplace=True)\n",
    "responses_df_2021['Q4'].replace([\"Bachelorâs degree\"], \"Bachelor's degree\",inplace=True)\n",
    "\n",
    "subset_of_degrees = [\"Bachelor's degree\",\"Master's degree\",\"Doctoral degree\"]\n",
    "\n",
    "responses_df_2018.Q4[~responses_df_2018.Q4.isin(subset_of_degrees)] = \"Other\"\n",
    "responses_df_2019.Q4[~responses_df_2019.Q4.isin(subset_of_degrees)] = \"Other\"\n",
    "responses_df_2020.Q4[~responses_df_2020.Q4.isin(subset_of_degrees)] = \"Other\"\n",
    "responses_df_2021.Q4[~responses_df_2021.Q4.isin(subset_of_degrees)] = \"Other\"\n",
    "\n",
    "question_name = 'Q4'\n",
    "\n",
    "sorted_percentages_2018 = count_then_return_percent(responses_df_2018,question_name)\n",
    "sorted_percentages_2019 = count_then_return_percent(responses_df_2019,question_name)#\n",
    "sorted_percentages_2020 = count_then_return_percent(responses_df_2020,question_name)\n",
    "sorted_percentages_2021 = count_then_return_percent(responses_df_2021,question_name)\n",
    "title_for_chart = 'Most Common Degree Type on Kaggle from 2018-2021'\n",
    "title_for_y_axis = '% of respondents'\n",
    "\n",
    "fig = go.Figure(data=[\n",
    "    \n",
    "    go.Bar(name='2018 Kaggle Survey', x=pd.Series(sorted_percentages_2018.index), y=pd.Series(sorted_percentages_2018)),\n",
    "    go.Bar(name='2019 Kaggle Survey', x=pd.Series(sorted_percentages_2019.index), y=pd.Series(sorted_percentages_2019)),\n",
    "    go.Bar(name='2020 Kaggle Survey', x=pd.Series(sorted_percentages_2020.index), y=pd.Series(sorted_percentages_2020)),\n",
    "    go.Bar(name='2021 Kaggle Survey', x=pd.Series(sorted_percentages_2021.index), y=pd.Series(sorted_percentages_2021))\n",
    "           ])\n",
    "fig.update_layout(barmode='group') \n",
    "fig.update_layout(title=title_for_chart,yaxis=dict(title=title_for_y_axis))\n",
    "fig.show()"
   ]
  },
  {
   "cell_type": "code",
   "execution_count": 25,
   "id": "26021c8d",
   "metadata": {},
   "outputs": [
    {
     "data": {
      "application/vnd.plotly.v1+json": {
       "config": {
        "plotlyServerURL": "https://plot.ly"
       },
       "data": [
        {
         "name": "2018 Kaggle Survey",
         "type": "bar",
         "x": [
          "Javascript",
          "R",
          "SQL",
          "Python"
         ],
         "y": [
          4.8,
          46.1,
          54.3,
          93.3
         ]
        },
        {
         "name": "2019 Kaggle Survey",
         "type": "bar",
         "x": [
          "Javascript",
          "R",
          "SQL",
          "Python"
         ],
         "y": [
          10.3,
          41.2,
          57.8,
          94.1
         ]
        },
        {
         "name": "2020 Kaggle Survey",
         "type": "bar",
         "x": [
          "Javascript",
          "R",
          "SQL",
          "Python"
         ],
         "y": [
          11.1,
          37.4,
          56.4,
          94
         ]
        },
        {
         "name": "2021 Kaggle Survey",
         "type": "bar",
         "x": [
          "Javascript",
          "R",
          "SQL",
          "Python"
         ],
         "y": [
          11.2,
          32.2,
          56.1,
          95.3
         ]
        }
       ],
       "layout": {
        "barmode": "group",
        "template": {
         "data": {
          "bar": [
           {
            "error_x": {
             "color": "#2a3f5f"
            },
            "error_y": {
             "color": "#2a3f5f"
            },
            "marker": {
             "line": {
              "color": "#E5ECF6",
              "width": 0.5
             },
             "pattern": {
              "fillmode": "overlay",
              "size": 10,
              "solidity": 0.2
             }
            },
            "type": "bar"
           }
          ],
          "barpolar": [
           {
            "marker": {
             "line": {
              "color": "#E5ECF6",
              "width": 0.5
             },
             "pattern": {
              "fillmode": "overlay",
              "size": 10,
              "solidity": 0.2
             }
            },
            "type": "barpolar"
           }
          ],
          "carpet": [
           {
            "aaxis": {
             "endlinecolor": "#2a3f5f",
             "gridcolor": "white",
             "linecolor": "white",
             "minorgridcolor": "white",
             "startlinecolor": "#2a3f5f"
            },
            "baxis": {
             "endlinecolor": "#2a3f5f",
             "gridcolor": "white",
             "linecolor": "white",
             "minorgridcolor": "white",
             "startlinecolor": "#2a3f5f"
            },
            "type": "carpet"
           }
          ],
          "choropleth": [
           {
            "colorbar": {
             "outlinewidth": 0,
             "ticks": ""
            },
            "type": "choropleth"
           }
          ],
          "contour": [
           {
            "colorbar": {
             "outlinewidth": 0,
             "ticks": ""
            },
            "colorscale": [
             [
              0,
              "#0d0887"
             ],
             [
              0.1111111111111111,
              "#46039f"
             ],
             [
              0.2222222222222222,
              "#7201a8"
             ],
             [
              0.3333333333333333,
              "#9c179e"
             ],
             [
              0.4444444444444444,
              "#bd3786"
             ],
             [
              0.5555555555555556,
              "#d8576b"
             ],
             [
              0.6666666666666666,
              "#ed7953"
             ],
             [
              0.7777777777777778,
              "#fb9f3a"
             ],
             [
              0.8888888888888888,
              "#fdca26"
             ],
             [
              1,
              "#f0f921"
             ]
            ],
            "type": "contour"
           }
          ],
          "contourcarpet": [
           {
            "colorbar": {
             "outlinewidth": 0,
             "ticks": ""
            },
            "type": "contourcarpet"
           }
          ],
          "heatmap": [
           {
            "colorbar": {
             "outlinewidth": 0,
             "ticks": ""
            },
            "colorscale": [
             [
              0,
              "#0d0887"
             ],
             [
              0.1111111111111111,
              "#46039f"
             ],
             [
              0.2222222222222222,
              "#7201a8"
             ],
             [
              0.3333333333333333,
              "#9c179e"
             ],
             [
              0.4444444444444444,
              "#bd3786"
             ],
             [
              0.5555555555555556,
              "#d8576b"
             ],
             [
              0.6666666666666666,
              "#ed7953"
             ],
             [
              0.7777777777777778,
              "#fb9f3a"
             ],
             [
              0.8888888888888888,
              "#fdca26"
             ],
             [
              1,
              "#f0f921"
             ]
            ],
            "type": "heatmap"
           }
          ],
          "heatmapgl": [
           {
            "colorbar": {
             "outlinewidth": 0,
             "ticks": ""
            },
            "colorscale": [
             [
              0,
              "#0d0887"
             ],
             [
              0.1111111111111111,
              "#46039f"
             ],
             [
              0.2222222222222222,
              "#7201a8"
             ],
             [
              0.3333333333333333,
              "#9c179e"
             ],
             [
              0.4444444444444444,
              "#bd3786"
             ],
             [
              0.5555555555555556,
              "#d8576b"
             ],
             [
              0.6666666666666666,
              "#ed7953"
             ],
             [
              0.7777777777777778,
              "#fb9f3a"
             ],
             [
              0.8888888888888888,
              "#fdca26"
             ],
             [
              1,
              "#f0f921"
             ]
            ],
            "type": "heatmapgl"
           }
          ],
          "histogram": [
           {
            "marker": {
             "pattern": {
              "fillmode": "overlay",
              "size": 10,
              "solidity": 0.2
             }
            },
            "type": "histogram"
           }
          ],
          "histogram2d": [
           {
            "colorbar": {
             "outlinewidth": 0,
             "ticks": ""
            },
            "colorscale": [
             [
              0,
              "#0d0887"
             ],
             [
              0.1111111111111111,
              "#46039f"
             ],
             [
              0.2222222222222222,
              "#7201a8"
             ],
             [
              0.3333333333333333,
              "#9c179e"
             ],
             [
              0.4444444444444444,
              "#bd3786"
             ],
             [
              0.5555555555555556,
              "#d8576b"
             ],
             [
              0.6666666666666666,
              "#ed7953"
             ],
             [
              0.7777777777777778,
              "#fb9f3a"
             ],
             [
              0.8888888888888888,
              "#fdca26"
             ],
             [
              1,
              "#f0f921"
             ]
            ],
            "type": "histogram2d"
           }
          ],
          "histogram2dcontour": [
           {
            "colorbar": {
             "outlinewidth": 0,
             "ticks": ""
            },
            "colorscale": [
             [
              0,
              "#0d0887"
             ],
             [
              0.1111111111111111,
              "#46039f"
             ],
             [
              0.2222222222222222,
              "#7201a8"
             ],
             [
              0.3333333333333333,
              "#9c179e"
             ],
             [
              0.4444444444444444,
              "#bd3786"
             ],
             [
              0.5555555555555556,
              "#d8576b"
             ],
             [
              0.6666666666666666,
              "#ed7953"
             ],
             [
              0.7777777777777778,
              "#fb9f3a"
             ],
             [
              0.8888888888888888,
              "#fdca26"
             ],
             [
              1,
              "#f0f921"
             ]
            ],
            "type": "histogram2dcontour"
           }
          ],
          "mesh3d": [
           {
            "colorbar": {
             "outlinewidth": 0,
             "ticks": ""
            },
            "type": "mesh3d"
           }
          ],
          "parcoords": [
           {
            "line": {
             "colorbar": {
              "outlinewidth": 0,
              "ticks": ""
             }
            },
            "type": "parcoords"
           }
          ],
          "pie": [
           {
            "automargin": true,
            "type": "pie"
           }
          ],
          "scatter": [
           {
            "fillpattern": {
             "fillmode": "overlay",
             "size": 10,
             "solidity": 0.2
            },
            "type": "scatter"
           }
          ],
          "scatter3d": [
           {
            "line": {
             "colorbar": {
              "outlinewidth": 0,
              "ticks": ""
             }
            },
            "marker": {
             "colorbar": {
              "outlinewidth": 0,
              "ticks": ""
             }
            },
            "type": "scatter3d"
           }
          ],
          "scattercarpet": [
           {
            "marker": {
             "colorbar": {
              "outlinewidth": 0,
              "ticks": ""
             }
            },
            "type": "scattercarpet"
           }
          ],
          "scattergeo": [
           {
            "marker": {
             "colorbar": {
              "outlinewidth": 0,
              "ticks": ""
             }
            },
            "type": "scattergeo"
           }
          ],
          "scattergl": [
           {
            "marker": {
             "colorbar": {
              "outlinewidth": 0,
              "ticks": ""
             }
            },
            "type": "scattergl"
           }
          ],
          "scattermapbox": [
           {
            "marker": {
             "colorbar": {
              "outlinewidth": 0,
              "ticks": ""
             }
            },
            "type": "scattermapbox"
           }
          ],
          "scatterpolar": [
           {
            "marker": {
             "colorbar": {
              "outlinewidth": 0,
              "ticks": ""
             }
            },
            "type": "scatterpolar"
           }
          ],
          "scatterpolargl": [
           {
            "marker": {
             "colorbar": {
              "outlinewidth": 0,
              "ticks": ""
             }
            },
            "type": "scatterpolargl"
           }
          ],
          "scatterternary": [
           {
            "marker": {
             "colorbar": {
              "outlinewidth": 0,
              "ticks": ""
             }
            },
            "type": "scatterternary"
           }
          ],
          "surface": [
           {
            "colorbar": {
             "outlinewidth": 0,
             "ticks": ""
            },
            "colorscale": [
             [
              0,
              "#0d0887"
             ],
             [
              0.1111111111111111,
              "#46039f"
             ],
             [
              0.2222222222222222,
              "#7201a8"
             ],
             [
              0.3333333333333333,
              "#9c179e"
             ],
             [
              0.4444444444444444,
              "#bd3786"
             ],
             [
              0.5555555555555556,
              "#d8576b"
             ],
             [
              0.6666666666666666,
              "#ed7953"
             ],
             [
              0.7777777777777778,
              "#fb9f3a"
             ],
             [
              0.8888888888888888,
              "#fdca26"
             ],
             [
              1,
              "#f0f921"
             ]
            ],
            "type": "surface"
           }
          ],
          "table": [
           {
            "cells": {
             "fill": {
              "color": "#EBF0F8"
             },
             "line": {
              "color": "white"
             }
            },
            "header": {
             "fill": {
              "color": "#C8D4E3"
             },
             "line": {
              "color": "white"
             }
            },
            "type": "table"
           }
          ]
         },
         "layout": {
          "annotationdefaults": {
           "arrowcolor": "#2a3f5f",
           "arrowhead": 0,
           "arrowwidth": 1
          },
          "autotypenumbers": "strict",
          "coloraxis": {
           "colorbar": {
            "outlinewidth": 0,
            "ticks": ""
           }
          },
          "colorscale": {
           "diverging": [
            [
             0,
             "#8e0152"
            ],
            [
             0.1,
             "#c51b7d"
            ],
            [
             0.2,
             "#de77ae"
            ],
            [
             0.3,
             "#f1b6da"
            ],
            [
             0.4,
             "#fde0ef"
            ],
            [
             0.5,
             "#f7f7f7"
            ],
            [
             0.6,
             "#e6f5d0"
            ],
            [
             0.7,
             "#b8e186"
            ],
            [
             0.8,
             "#7fbc41"
            ],
            [
             0.9,
             "#4d9221"
            ],
            [
             1,
             "#276419"
            ]
           ],
           "sequential": [
            [
             0,
             "#0d0887"
            ],
            [
             0.1111111111111111,
             "#46039f"
            ],
            [
             0.2222222222222222,
             "#7201a8"
            ],
            [
             0.3333333333333333,
             "#9c179e"
            ],
            [
             0.4444444444444444,
             "#bd3786"
            ],
            [
             0.5555555555555556,
             "#d8576b"
            ],
            [
             0.6666666666666666,
             "#ed7953"
            ],
            [
             0.7777777777777778,
             "#fb9f3a"
            ],
            [
             0.8888888888888888,
             "#fdca26"
            ],
            [
             1,
             "#f0f921"
            ]
           ],
           "sequentialminus": [
            [
             0,
             "#0d0887"
            ],
            [
             0.1111111111111111,
             "#46039f"
            ],
            [
             0.2222222222222222,
             "#7201a8"
            ],
            [
             0.3333333333333333,
             "#9c179e"
            ],
            [
             0.4444444444444444,
             "#bd3786"
            ],
            [
             0.5555555555555556,
             "#d8576b"
            ],
            [
             0.6666666666666666,
             "#ed7953"
            ],
            [
             0.7777777777777778,
             "#fb9f3a"
            ],
            [
             0.8888888888888888,
             "#fdca26"
            ],
            [
             1,
             "#f0f921"
            ]
           ]
          },
          "colorway": [
           "#636efa",
           "#EF553B",
           "#00cc96",
           "#ab63fa",
           "#FFA15A",
           "#19d3f3",
           "#FF6692",
           "#B6E880",
           "#FF97FF",
           "#FECB52"
          ],
          "font": {
           "color": "#2a3f5f"
          },
          "geo": {
           "bgcolor": "white",
           "lakecolor": "white",
           "landcolor": "#E5ECF6",
           "showlakes": true,
           "showland": true,
           "subunitcolor": "white"
          },
          "hoverlabel": {
           "align": "left"
          },
          "hovermode": "closest",
          "mapbox": {
           "style": "light"
          },
          "paper_bgcolor": "white",
          "plot_bgcolor": "#E5ECF6",
          "polar": {
           "angularaxis": {
            "gridcolor": "white",
            "linecolor": "white",
            "ticks": ""
           },
           "bgcolor": "#E5ECF6",
           "radialaxis": {
            "gridcolor": "white",
            "linecolor": "white",
            "ticks": ""
           }
          },
          "scene": {
           "xaxis": {
            "backgroundcolor": "#E5ECF6",
            "gridcolor": "white",
            "gridwidth": 2,
            "linecolor": "white",
            "showbackground": true,
            "ticks": "",
            "zerolinecolor": "white"
           },
           "yaxis": {
            "backgroundcolor": "#E5ECF6",
            "gridcolor": "white",
            "gridwidth": 2,
            "linecolor": "white",
            "showbackground": true,
            "ticks": "",
            "zerolinecolor": "white"
           },
           "zaxis": {
            "backgroundcolor": "#E5ECF6",
            "gridcolor": "white",
            "gridwidth": 2,
            "linecolor": "white",
            "showbackground": true,
            "ticks": "",
            "zerolinecolor": "white"
           }
          },
          "shapedefaults": {
           "line": {
            "color": "#2a3f5f"
           }
          },
          "ternary": {
           "aaxis": {
            "gridcolor": "white",
            "linecolor": "white",
            "ticks": ""
           },
           "baxis": {
            "gridcolor": "white",
            "linecolor": "white",
            "ticks": ""
           },
           "bgcolor": "#E5ECF6",
           "caxis": {
            "gridcolor": "white",
            "linecolor": "white",
            "ticks": ""
           }
          },
          "title": {
           "x": 0.05
          },
          "xaxis": {
           "automargin": true,
           "gridcolor": "white",
           "linecolor": "white",
           "ticks": "",
           "title": {
            "standoff": 15
           },
           "zerolinecolor": "white",
           "zerolinewidth": 2
          },
          "yaxis": {
           "automargin": true,
           "gridcolor": "white",
           "linecolor": "white",
           "ticks": "",
           "title": {
            "standoff": 15
           },
           "zerolinecolor": "white",
           "zerolinewidth": 2
          }
         }
        },
        "title": {
         "text": "Most Popular Progamming Languages on Kaggle from 2018-2020"
        },
        "yaxis": {
         "title": {
          "text": "% of respondents"
         }
        }
       }
      },
      "text/html": [
       "<div>                            <div id=\"1e83a391-5875-4d58-808b-5b03f1ce2567\" class=\"plotly-graph-div\" style=\"height:525px; width:100%;\"></div>            <script type=\"text/javascript\">                require([\"plotly\"], function(Plotly) {                    window.PLOTLYENV=window.PLOTLYENV || {};                                    if (document.getElementById(\"1e83a391-5875-4d58-808b-5b03f1ce2567\")) {                    Plotly.newPlot(                        \"1e83a391-5875-4d58-808b-5b03f1ce2567\",                        [{\"name\":\"2018 Kaggle Survey\",\"x\":[\"Javascript\",\"R\",\"SQL\",\"Python\"],\"y\":[4.8,46.1,54.3,93.3],\"type\":\"bar\"},{\"name\":\"2019 Kaggle Survey\",\"x\":[\"Javascript\",\"R\",\"SQL\",\"Python\"],\"y\":[10.3,41.2,57.8,94.1],\"type\":\"bar\"},{\"name\":\"2020 Kaggle Survey\",\"x\":[\"Javascript\",\"R\",\"SQL\",\"Python\"],\"y\":[11.1,37.4,56.4,94.0],\"type\":\"bar\"},{\"name\":\"2021 Kaggle Survey\",\"x\":[\"Javascript\",\"R\",\"SQL\",\"Python\"],\"y\":[11.2,32.2,56.1,95.3],\"type\":\"bar\"}],                        {\"template\":{\"data\":{\"histogram2dcontour\":[{\"type\":\"histogram2dcontour\",\"colorbar\":{\"outlinewidth\":0,\"ticks\":\"\"},\"colorscale\":[[0.0,\"#0d0887\"],[0.1111111111111111,\"#46039f\"],[0.2222222222222222,\"#7201a8\"],[0.3333333333333333,\"#9c179e\"],[0.4444444444444444,\"#bd3786\"],[0.5555555555555556,\"#d8576b\"],[0.6666666666666666,\"#ed7953\"],[0.7777777777777778,\"#fb9f3a\"],[0.8888888888888888,\"#fdca26\"],[1.0,\"#f0f921\"]]}],\"choropleth\":[{\"type\":\"choropleth\",\"colorbar\":{\"outlinewidth\":0,\"ticks\":\"\"}}],\"histogram2d\":[{\"type\":\"histogram2d\",\"colorbar\":{\"outlinewidth\":0,\"ticks\":\"\"},\"colorscale\":[[0.0,\"#0d0887\"],[0.1111111111111111,\"#46039f\"],[0.2222222222222222,\"#7201a8\"],[0.3333333333333333,\"#9c179e\"],[0.4444444444444444,\"#bd3786\"],[0.5555555555555556,\"#d8576b\"],[0.6666666666666666,\"#ed7953\"],[0.7777777777777778,\"#fb9f3a\"],[0.8888888888888888,\"#fdca26\"],[1.0,\"#f0f921\"]]}],\"heatmap\":[{\"type\":\"heatmap\",\"colorbar\":{\"outlinewidth\":0,\"ticks\":\"\"},\"colorscale\":[[0.0,\"#0d0887\"],[0.1111111111111111,\"#46039f\"],[0.2222222222222222,\"#7201a8\"],[0.3333333333333333,\"#9c179e\"],[0.4444444444444444,\"#bd3786\"],[0.5555555555555556,\"#d8576b\"],[0.6666666666666666,\"#ed7953\"],[0.7777777777777778,\"#fb9f3a\"],[0.8888888888888888,\"#fdca26\"],[1.0,\"#f0f921\"]]}],\"heatmapgl\":[{\"type\":\"heatmapgl\",\"colorbar\":{\"outlinewidth\":0,\"ticks\":\"\"},\"colorscale\":[[0.0,\"#0d0887\"],[0.1111111111111111,\"#46039f\"],[0.2222222222222222,\"#7201a8\"],[0.3333333333333333,\"#9c179e\"],[0.4444444444444444,\"#bd3786\"],[0.5555555555555556,\"#d8576b\"],[0.6666666666666666,\"#ed7953\"],[0.7777777777777778,\"#fb9f3a\"],[0.8888888888888888,\"#fdca26\"],[1.0,\"#f0f921\"]]}],\"contourcarpet\":[{\"type\":\"contourcarpet\",\"colorbar\":{\"outlinewidth\":0,\"ticks\":\"\"}}],\"contour\":[{\"type\":\"contour\",\"colorbar\":{\"outlinewidth\":0,\"ticks\":\"\"},\"colorscale\":[[0.0,\"#0d0887\"],[0.1111111111111111,\"#46039f\"],[0.2222222222222222,\"#7201a8\"],[0.3333333333333333,\"#9c179e\"],[0.4444444444444444,\"#bd3786\"],[0.5555555555555556,\"#d8576b\"],[0.6666666666666666,\"#ed7953\"],[0.7777777777777778,\"#fb9f3a\"],[0.8888888888888888,\"#fdca26\"],[1.0,\"#f0f921\"]]}],\"surface\":[{\"type\":\"surface\",\"colorbar\":{\"outlinewidth\":0,\"ticks\":\"\"},\"colorscale\":[[0.0,\"#0d0887\"],[0.1111111111111111,\"#46039f\"],[0.2222222222222222,\"#7201a8\"],[0.3333333333333333,\"#9c179e\"],[0.4444444444444444,\"#bd3786\"],[0.5555555555555556,\"#d8576b\"],[0.6666666666666666,\"#ed7953\"],[0.7777777777777778,\"#fb9f3a\"],[0.8888888888888888,\"#fdca26\"],[1.0,\"#f0f921\"]]}],\"mesh3d\":[{\"type\":\"mesh3d\",\"colorbar\":{\"outlinewidth\":0,\"ticks\":\"\"}}],\"scatter\":[{\"fillpattern\":{\"fillmode\":\"overlay\",\"size\":10,\"solidity\":0.2},\"type\":\"scatter\"}],\"parcoords\":[{\"type\":\"parcoords\",\"line\":{\"colorbar\":{\"outlinewidth\":0,\"ticks\":\"\"}}}],\"scatterpolargl\":[{\"type\":\"scatterpolargl\",\"marker\":{\"colorbar\":{\"outlinewidth\":0,\"ticks\":\"\"}}}],\"bar\":[{\"error_x\":{\"color\":\"#2a3f5f\"},\"error_y\":{\"color\":\"#2a3f5f\"},\"marker\":{\"line\":{\"color\":\"#E5ECF6\",\"width\":0.5},\"pattern\":{\"fillmode\":\"overlay\",\"size\":10,\"solidity\":0.2}},\"type\":\"bar\"}],\"scattergeo\":[{\"type\":\"scattergeo\",\"marker\":{\"colorbar\":{\"outlinewidth\":0,\"ticks\":\"\"}}}],\"scatterpolar\":[{\"type\":\"scatterpolar\",\"marker\":{\"colorbar\":{\"outlinewidth\":0,\"ticks\":\"\"}}}],\"histogram\":[{\"marker\":{\"pattern\":{\"fillmode\":\"overlay\",\"size\":10,\"solidity\":0.2}},\"type\":\"histogram\"}],\"scattergl\":[{\"type\":\"scattergl\",\"marker\":{\"colorbar\":{\"outlinewidth\":0,\"ticks\":\"\"}}}],\"scatter3d\":[{\"type\":\"scatter3d\",\"line\":{\"colorbar\":{\"outlinewidth\":0,\"ticks\":\"\"}},\"marker\":{\"colorbar\":{\"outlinewidth\":0,\"ticks\":\"\"}}}],\"scattermapbox\":[{\"type\":\"scattermapbox\",\"marker\":{\"colorbar\":{\"outlinewidth\":0,\"ticks\":\"\"}}}],\"scatterternary\":[{\"type\":\"scatterternary\",\"marker\":{\"colorbar\":{\"outlinewidth\":0,\"ticks\":\"\"}}}],\"scattercarpet\":[{\"type\":\"scattercarpet\",\"marker\":{\"colorbar\":{\"outlinewidth\":0,\"ticks\":\"\"}}}],\"carpet\":[{\"aaxis\":{\"endlinecolor\":\"#2a3f5f\",\"gridcolor\":\"white\",\"linecolor\":\"white\",\"minorgridcolor\":\"white\",\"startlinecolor\":\"#2a3f5f\"},\"baxis\":{\"endlinecolor\":\"#2a3f5f\",\"gridcolor\":\"white\",\"linecolor\":\"white\",\"minorgridcolor\":\"white\",\"startlinecolor\":\"#2a3f5f\"},\"type\":\"carpet\"}],\"table\":[{\"cells\":{\"fill\":{\"color\":\"#EBF0F8\"},\"line\":{\"color\":\"white\"}},\"header\":{\"fill\":{\"color\":\"#C8D4E3\"},\"line\":{\"color\":\"white\"}},\"type\":\"table\"}],\"barpolar\":[{\"marker\":{\"line\":{\"color\":\"#E5ECF6\",\"width\":0.5},\"pattern\":{\"fillmode\":\"overlay\",\"size\":10,\"solidity\":0.2}},\"type\":\"barpolar\"}],\"pie\":[{\"automargin\":true,\"type\":\"pie\"}]},\"layout\":{\"autotypenumbers\":\"strict\",\"colorway\":[\"#636efa\",\"#EF553B\",\"#00cc96\",\"#ab63fa\",\"#FFA15A\",\"#19d3f3\",\"#FF6692\",\"#B6E880\",\"#FF97FF\",\"#FECB52\"],\"font\":{\"color\":\"#2a3f5f\"},\"hovermode\":\"closest\",\"hoverlabel\":{\"align\":\"left\"},\"paper_bgcolor\":\"white\",\"plot_bgcolor\":\"#E5ECF6\",\"polar\":{\"bgcolor\":\"#E5ECF6\",\"angularaxis\":{\"gridcolor\":\"white\",\"linecolor\":\"white\",\"ticks\":\"\"},\"radialaxis\":{\"gridcolor\":\"white\",\"linecolor\":\"white\",\"ticks\":\"\"}},\"ternary\":{\"bgcolor\":\"#E5ECF6\",\"aaxis\":{\"gridcolor\":\"white\",\"linecolor\":\"white\",\"ticks\":\"\"},\"baxis\":{\"gridcolor\":\"white\",\"linecolor\":\"white\",\"ticks\":\"\"},\"caxis\":{\"gridcolor\":\"white\",\"linecolor\":\"white\",\"ticks\":\"\"}},\"coloraxis\":{\"colorbar\":{\"outlinewidth\":0,\"ticks\":\"\"}},\"colorscale\":{\"sequential\":[[0.0,\"#0d0887\"],[0.1111111111111111,\"#46039f\"],[0.2222222222222222,\"#7201a8\"],[0.3333333333333333,\"#9c179e\"],[0.4444444444444444,\"#bd3786\"],[0.5555555555555556,\"#d8576b\"],[0.6666666666666666,\"#ed7953\"],[0.7777777777777778,\"#fb9f3a\"],[0.8888888888888888,\"#fdca26\"],[1.0,\"#f0f921\"]],\"sequentialminus\":[[0.0,\"#0d0887\"],[0.1111111111111111,\"#46039f\"],[0.2222222222222222,\"#7201a8\"],[0.3333333333333333,\"#9c179e\"],[0.4444444444444444,\"#bd3786\"],[0.5555555555555556,\"#d8576b\"],[0.6666666666666666,\"#ed7953\"],[0.7777777777777778,\"#fb9f3a\"],[0.8888888888888888,\"#fdca26\"],[1.0,\"#f0f921\"]],\"diverging\":[[0,\"#8e0152\"],[0.1,\"#c51b7d\"],[0.2,\"#de77ae\"],[0.3,\"#f1b6da\"],[0.4,\"#fde0ef\"],[0.5,\"#f7f7f7\"],[0.6,\"#e6f5d0\"],[0.7,\"#b8e186\"],[0.8,\"#7fbc41\"],[0.9,\"#4d9221\"],[1,\"#276419\"]]},\"xaxis\":{\"gridcolor\":\"white\",\"linecolor\":\"white\",\"ticks\":\"\",\"title\":{\"standoff\":15},\"zerolinecolor\":\"white\",\"automargin\":true,\"zerolinewidth\":2},\"yaxis\":{\"gridcolor\":\"white\",\"linecolor\":\"white\",\"ticks\":\"\",\"title\":{\"standoff\":15},\"zerolinecolor\":\"white\",\"automargin\":true,\"zerolinewidth\":2},\"scene\":{\"xaxis\":{\"backgroundcolor\":\"#E5ECF6\",\"gridcolor\":\"white\",\"linecolor\":\"white\",\"showbackground\":true,\"ticks\":\"\",\"zerolinecolor\":\"white\",\"gridwidth\":2},\"yaxis\":{\"backgroundcolor\":\"#E5ECF6\",\"gridcolor\":\"white\",\"linecolor\":\"white\",\"showbackground\":true,\"ticks\":\"\",\"zerolinecolor\":\"white\",\"gridwidth\":2},\"zaxis\":{\"backgroundcolor\":\"#E5ECF6\",\"gridcolor\":\"white\",\"linecolor\":\"white\",\"showbackground\":true,\"ticks\":\"\",\"zerolinecolor\":\"white\",\"gridwidth\":2}},\"shapedefaults\":{\"line\":{\"color\":\"#2a3f5f\"}},\"annotationdefaults\":{\"arrowcolor\":\"#2a3f5f\",\"arrowhead\":0,\"arrowwidth\":1},\"geo\":{\"bgcolor\":\"white\",\"landcolor\":\"#E5ECF6\",\"subunitcolor\":\"white\",\"showland\":true,\"showlakes\":true,\"lakecolor\":\"white\"},\"title\":{\"x\":0.05},\"mapbox\":{\"style\":\"light\"}}},\"barmode\":\"group\",\"title\":{\"text\":\"Most Popular Progamming Languages on Kaggle from 2018-2020\"},\"yaxis\":{\"title\":{\"text\":\"% of respondents\"}}},                        {\"responsive\": true}                    ).then(function(){\n",
       "                            \n",
       "var gd = document.getElementById('1e83a391-5875-4d58-808b-5b03f1ce2567');\n",
       "var x = new MutationObserver(function (mutations, observer) {{\n",
       "        var display = window.getComputedStyle(gd).display;\n",
       "        if (!display || display === 'none') {{\n",
       "            console.log([gd, 'removed!']);\n",
       "            Plotly.purge(gd);\n",
       "            observer.disconnect();\n",
       "        }}\n",
       "}});\n",
       "\n",
       "// Listen for the removal of the full notebook cells\n",
       "var notebookContainer = gd.closest('#notebook-container');\n",
       "if (notebookContainer) {{\n",
       "    x.observe(notebookContainer, {childList: true});\n",
       "}}\n",
       "\n",
       "// Listen for the clearing of the current output cell\n",
       "var outputEl = gd.closest('.output');\n",
       "if (outputEl) {{\n",
       "    x.observe(outputEl, {childList: true});\n",
       "}}\n",
       "\n",
       "                        })                };                });            </script>        </div>"
      ]
     },
     "metadata": {},
     "output_type": "display_data"
    }
   ],
   "source": [
    "q7_dictionary_of_counts_2018_simplified = {\n",
    "    'Python' : (responses_df_2018['Q16_Part_1'].count()),\n",
    "    'SQL' : (responses_df_2018['Q16_Part_3'].count()),\n",
    "    'R': (responses_df_2018['Q16_Part_2'].count()),\n",
    "    'Javascript': (responses_df_2018['Q16_Part_7'].count())\n",
    "}\n",
    "\n",
    "q7_dictionary_of_counts_2019_simplified = {\n",
    "    'Python' : (responses_df_2019['Q18_Part_1'].count()),\n",
    "    'SQL' : (responses_df_2019['Q18_Part_3'].count()),\n",
    "    'R': (responses_df_2019['Q18_Part_2'].count()),\n",
    "    'Javascript': (responses_df_2019['Q18_Part_7'].count())\n",
    "}\n",
    "\n",
    "q7_dictionary_of_counts_2020_simplified = {\n",
    "    'Python' : (responses_df_2020['Q7_Part_1'].count()),\n",
    "    'SQL' : (responses_df_2020['Q7_Part_3'].count()),\n",
    "    'R': (responses_df_2020['Q7_Part_2'].count()),\n",
    "    'Javascript': (responses_df_2020['Q7_Part_7'].count())\n",
    "}\n",
    "\n",
    "q7_dictionary_of_counts_2021_simplified = {\n",
    "    'Python' : (responses_df_2021['Q7_Part_1'].count()),\n",
    "    'SQL' : (responses_df_2021['Q7_Part_3'].count()),\n",
    "    'R': (responses_df_2021['Q7_Part_2'].count()),\n",
    "    'Javascript': (responses_df_2021['Q7_Part_7'].count())\n",
    "}\n",
    "\n",
    "\n",
    "dictionary_of_counts_2018 = sort_dictionary_by_percent(responses_df_2018,\n",
    "                                                  q7_list_of_columns_2018,\n",
    "                                                  q7_dictionary_of_counts_2018_simplified)\n",
    "dictionary_of_counts_2019 = sort_dictionary_by_percent(responses_df_2019,\n",
    "                                                  q7_list_of_columns_2019,\n",
    "                                                  q7_dictionary_of_counts_2019_simplified)\n",
    "dictionary_of_counts_2020 = sort_dictionary_by_percent(responses_df_2020,\n",
    "                                                  q7_list_of_columns_2020,\n",
    "                                                  q7_dictionary_of_counts_2020_simplified)\n",
    "dictionary_of_counts_2021 = sort_dictionary_by_percent(responses_df_2021,\n",
    "                                                  q7_list_of_columns_2021,\n",
    "                                                  q7_dictionary_of_counts_2021_simplified)\n",
    "\n",
    "title_for_chart = 'Most Popular Progamming Languages on Kaggle from 2018-2020'\n",
    "title_for_y_axis = '% of respondents'\n",
    "\n",
    "fig = go.Figure(data=[\n",
    "    go.Bar(name='2018 Kaggle Survey', x=pd.Series(dictionary_of_counts_2018.keys()), y=pd.Series(dictionary_of_counts_2018.values())),\n",
    "    go.Bar(name='2019 Kaggle Survey', x=pd.Series(dictionary_of_counts_2019.keys()), y=pd.Series(dictionary_of_counts_2019.values())),\n",
    "    go.Bar(name='2020 Kaggle Survey', x=pd.Series(dictionary_of_counts_2020.keys()), y=pd.Series(dictionary_of_counts_2020.values())),\n",
    "    go.Bar(name='2021 Kaggle Survey', x=pd.Series(dictionary_of_counts_2021.keys()), y=pd.Series(dictionary_of_counts_2021.values()))\n",
    "           ])\n",
    "fig.update_layout(barmode='group') \n",
    "fig.update_layout(title=title_for_chart,yaxis=dict(title=title_for_y_axis))\n",
    "fig.show()"
   ]
  },
  {
   "cell_type": "code",
   "execution_count": 26,
   "id": "c930f024",
   "metadata": {},
   "outputs": [
    {
     "data": {
      "application/vnd.plotly.v1+json": {
       "config": {
        "plotlyServerURL": "https://plot.ly"
       },
       "data": [
        {
         "name": "2018 Kaggle Survey",
         "type": "bar",
         "x": [
          "Visual Studio Code (VSCode)",
          "MATLAB",
          "RStudio",
          "Jupyter/JupyterLab"
         ],
         "y": [
          23.7,
          26.4,
          58.7,
          88.4
         ]
        },
        {
         "name": "2019 Kaggle Survey",
         "type": "bar",
         "x": [
          "MATLAB",
          "Visual Studio Code (VSCode)",
          "RStudio",
          "Jupyter/JupyterLab"
         ],
         "y": [
          7.5,
          28.7,
          37.8,
          83.2
         ]
        },
        {
         "name": "2020 Kaggle Survey",
         "type": "bar",
         "x": [
          "MATLAB",
          "RStudio",
          "Visual Studio Code (VSCode)",
          "Jupyter/JupyterLab"
         ],
         "y": [
          5.8,
          31.5,
          33.2,
          74.1
         ]
        },
        {
         "name": "2021 Kaggle Survey",
         "type": "bar",
         "x": [
          "MATLAB",
          "RStudio",
          "Visual Studio Code (VSCode)",
          "Jupyter/JupyterLab"
         ],
         "y": [
          5.6,
          26.9,
          38.8,
          83
         ]
        }
       ],
       "layout": {
        "barmode": "group",
        "template": {
         "data": {
          "bar": [
           {
            "error_x": {
             "color": "#2a3f5f"
            },
            "error_y": {
             "color": "#2a3f5f"
            },
            "marker": {
             "line": {
              "color": "#E5ECF6",
              "width": 0.5
             },
             "pattern": {
              "fillmode": "overlay",
              "size": 10,
              "solidity": 0.2
             }
            },
            "type": "bar"
           }
          ],
          "barpolar": [
           {
            "marker": {
             "line": {
              "color": "#E5ECF6",
              "width": 0.5
             },
             "pattern": {
              "fillmode": "overlay",
              "size": 10,
              "solidity": 0.2
             }
            },
            "type": "barpolar"
           }
          ],
          "carpet": [
           {
            "aaxis": {
             "endlinecolor": "#2a3f5f",
             "gridcolor": "white",
             "linecolor": "white",
             "minorgridcolor": "white",
             "startlinecolor": "#2a3f5f"
            },
            "baxis": {
             "endlinecolor": "#2a3f5f",
             "gridcolor": "white",
             "linecolor": "white",
             "minorgridcolor": "white",
             "startlinecolor": "#2a3f5f"
            },
            "type": "carpet"
           }
          ],
          "choropleth": [
           {
            "colorbar": {
             "outlinewidth": 0,
             "ticks": ""
            },
            "type": "choropleth"
           }
          ],
          "contour": [
           {
            "colorbar": {
             "outlinewidth": 0,
             "ticks": ""
            },
            "colorscale": [
             [
              0,
              "#0d0887"
             ],
             [
              0.1111111111111111,
              "#46039f"
             ],
             [
              0.2222222222222222,
              "#7201a8"
             ],
             [
              0.3333333333333333,
              "#9c179e"
             ],
             [
              0.4444444444444444,
              "#bd3786"
             ],
             [
              0.5555555555555556,
              "#d8576b"
             ],
             [
              0.6666666666666666,
              "#ed7953"
             ],
             [
              0.7777777777777778,
              "#fb9f3a"
             ],
             [
              0.8888888888888888,
              "#fdca26"
             ],
             [
              1,
              "#f0f921"
             ]
            ],
            "type": "contour"
           }
          ],
          "contourcarpet": [
           {
            "colorbar": {
             "outlinewidth": 0,
             "ticks": ""
            },
            "type": "contourcarpet"
           }
          ],
          "heatmap": [
           {
            "colorbar": {
             "outlinewidth": 0,
             "ticks": ""
            },
            "colorscale": [
             [
              0,
              "#0d0887"
             ],
             [
              0.1111111111111111,
              "#46039f"
             ],
             [
              0.2222222222222222,
              "#7201a8"
             ],
             [
              0.3333333333333333,
              "#9c179e"
             ],
             [
              0.4444444444444444,
              "#bd3786"
             ],
             [
              0.5555555555555556,
              "#d8576b"
             ],
             [
              0.6666666666666666,
              "#ed7953"
             ],
             [
              0.7777777777777778,
              "#fb9f3a"
             ],
             [
              0.8888888888888888,
              "#fdca26"
             ],
             [
              1,
              "#f0f921"
             ]
            ],
            "type": "heatmap"
           }
          ],
          "heatmapgl": [
           {
            "colorbar": {
             "outlinewidth": 0,
             "ticks": ""
            },
            "colorscale": [
             [
              0,
              "#0d0887"
             ],
             [
              0.1111111111111111,
              "#46039f"
             ],
             [
              0.2222222222222222,
              "#7201a8"
             ],
             [
              0.3333333333333333,
              "#9c179e"
             ],
             [
              0.4444444444444444,
              "#bd3786"
             ],
             [
              0.5555555555555556,
              "#d8576b"
             ],
             [
              0.6666666666666666,
              "#ed7953"
             ],
             [
              0.7777777777777778,
              "#fb9f3a"
             ],
             [
              0.8888888888888888,
              "#fdca26"
             ],
             [
              1,
              "#f0f921"
             ]
            ],
            "type": "heatmapgl"
           }
          ],
          "histogram": [
           {
            "marker": {
             "pattern": {
              "fillmode": "overlay",
              "size": 10,
              "solidity": 0.2
             }
            },
            "type": "histogram"
           }
          ],
          "histogram2d": [
           {
            "colorbar": {
             "outlinewidth": 0,
             "ticks": ""
            },
            "colorscale": [
             [
              0,
              "#0d0887"
             ],
             [
              0.1111111111111111,
              "#46039f"
             ],
             [
              0.2222222222222222,
              "#7201a8"
             ],
             [
              0.3333333333333333,
              "#9c179e"
             ],
             [
              0.4444444444444444,
              "#bd3786"
             ],
             [
              0.5555555555555556,
              "#d8576b"
             ],
             [
              0.6666666666666666,
              "#ed7953"
             ],
             [
              0.7777777777777778,
              "#fb9f3a"
             ],
             [
              0.8888888888888888,
              "#fdca26"
             ],
             [
              1,
              "#f0f921"
             ]
            ],
            "type": "histogram2d"
           }
          ],
          "histogram2dcontour": [
           {
            "colorbar": {
             "outlinewidth": 0,
             "ticks": ""
            },
            "colorscale": [
             [
              0,
              "#0d0887"
             ],
             [
              0.1111111111111111,
              "#46039f"
             ],
             [
              0.2222222222222222,
              "#7201a8"
             ],
             [
              0.3333333333333333,
              "#9c179e"
             ],
             [
              0.4444444444444444,
              "#bd3786"
             ],
             [
              0.5555555555555556,
              "#d8576b"
             ],
             [
              0.6666666666666666,
              "#ed7953"
             ],
             [
              0.7777777777777778,
              "#fb9f3a"
             ],
             [
              0.8888888888888888,
              "#fdca26"
             ],
             [
              1,
              "#f0f921"
             ]
            ],
            "type": "histogram2dcontour"
           }
          ],
          "mesh3d": [
           {
            "colorbar": {
             "outlinewidth": 0,
             "ticks": ""
            },
            "type": "mesh3d"
           }
          ],
          "parcoords": [
           {
            "line": {
             "colorbar": {
              "outlinewidth": 0,
              "ticks": ""
             }
            },
            "type": "parcoords"
           }
          ],
          "pie": [
           {
            "automargin": true,
            "type": "pie"
           }
          ],
          "scatter": [
           {
            "fillpattern": {
             "fillmode": "overlay",
             "size": 10,
             "solidity": 0.2
            },
            "type": "scatter"
           }
          ],
          "scatter3d": [
           {
            "line": {
             "colorbar": {
              "outlinewidth": 0,
              "ticks": ""
             }
            },
            "marker": {
             "colorbar": {
              "outlinewidth": 0,
              "ticks": ""
             }
            },
            "type": "scatter3d"
           }
          ],
          "scattercarpet": [
           {
            "marker": {
             "colorbar": {
              "outlinewidth": 0,
              "ticks": ""
             }
            },
            "type": "scattercarpet"
           }
          ],
          "scattergeo": [
           {
            "marker": {
             "colorbar": {
              "outlinewidth": 0,
              "ticks": ""
             }
            },
            "type": "scattergeo"
           }
          ],
          "scattergl": [
           {
            "marker": {
             "colorbar": {
              "outlinewidth": 0,
              "ticks": ""
             }
            },
            "type": "scattergl"
           }
          ],
          "scattermapbox": [
           {
            "marker": {
             "colorbar": {
              "outlinewidth": 0,
              "ticks": ""
             }
            },
            "type": "scattermapbox"
           }
          ],
          "scatterpolar": [
           {
            "marker": {
             "colorbar": {
              "outlinewidth": 0,
              "ticks": ""
             }
            },
            "type": "scatterpolar"
           }
          ],
          "scatterpolargl": [
           {
            "marker": {
             "colorbar": {
              "outlinewidth": 0,
              "ticks": ""
             }
            },
            "type": "scatterpolargl"
           }
          ],
          "scatterternary": [
           {
            "marker": {
             "colorbar": {
              "outlinewidth": 0,
              "ticks": ""
             }
            },
            "type": "scatterternary"
           }
          ],
          "surface": [
           {
            "colorbar": {
             "outlinewidth": 0,
             "ticks": ""
            },
            "colorscale": [
             [
              0,
              "#0d0887"
             ],
             [
              0.1111111111111111,
              "#46039f"
             ],
             [
              0.2222222222222222,
              "#7201a8"
             ],
             [
              0.3333333333333333,
              "#9c179e"
             ],
             [
              0.4444444444444444,
              "#bd3786"
             ],
             [
              0.5555555555555556,
              "#d8576b"
             ],
             [
              0.6666666666666666,
              "#ed7953"
             ],
             [
              0.7777777777777778,
              "#fb9f3a"
             ],
             [
              0.8888888888888888,
              "#fdca26"
             ],
             [
              1,
              "#f0f921"
             ]
            ],
            "type": "surface"
           }
          ],
          "table": [
           {
            "cells": {
             "fill": {
              "color": "#EBF0F8"
             },
             "line": {
              "color": "white"
             }
            },
            "header": {
             "fill": {
              "color": "#C8D4E3"
             },
             "line": {
              "color": "white"
             }
            },
            "type": "table"
           }
          ]
         },
         "layout": {
          "annotationdefaults": {
           "arrowcolor": "#2a3f5f",
           "arrowhead": 0,
           "arrowwidth": 1
          },
          "autotypenumbers": "strict",
          "coloraxis": {
           "colorbar": {
            "outlinewidth": 0,
            "ticks": ""
           }
          },
          "colorscale": {
           "diverging": [
            [
             0,
             "#8e0152"
            ],
            [
             0.1,
             "#c51b7d"
            ],
            [
             0.2,
             "#de77ae"
            ],
            [
             0.3,
             "#f1b6da"
            ],
            [
             0.4,
             "#fde0ef"
            ],
            [
             0.5,
             "#f7f7f7"
            ],
            [
             0.6,
             "#e6f5d0"
            ],
            [
             0.7,
             "#b8e186"
            ],
            [
             0.8,
             "#7fbc41"
            ],
            [
             0.9,
             "#4d9221"
            ],
            [
             1,
             "#276419"
            ]
           ],
           "sequential": [
            [
             0,
             "#0d0887"
            ],
            [
             0.1111111111111111,
             "#46039f"
            ],
            [
             0.2222222222222222,
             "#7201a8"
            ],
            [
             0.3333333333333333,
             "#9c179e"
            ],
            [
             0.4444444444444444,
             "#bd3786"
            ],
            [
             0.5555555555555556,
             "#d8576b"
            ],
            [
             0.6666666666666666,
             "#ed7953"
            ],
            [
             0.7777777777777778,
             "#fb9f3a"
            ],
            [
             0.8888888888888888,
             "#fdca26"
            ],
            [
             1,
             "#f0f921"
            ]
           ],
           "sequentialminus": [
            [
             0,
             "#0d0887"
            ],
            [
             0.1111111111111111,
             "#46039f"
            ],
            [
             0.2222222222222222,
             "#7201a8"
            ],
            [
             0.3333333333333333,
             "#9c179e"
            ],
            [
             0.4444444444444444,
             "#bd3786"
            ],
            [
             0.5555555555555556,
             "#d8576b"
            ],
            [
             0.6666666666666666,
             "#ed7953"
            ],
            [
             0.7777777777777778,
             "#fb9f3a"
            ],
            [
             0.8888888888888888,
             "#fdca26"
            ],
            [
             1,
             "#f0f921"
            ]
           ]
          },
          "colorway": [
           "#636efa",
           "#EF553B",
           "#00cc96",
           "#ab63fa",
           "#FFA15A",
           "#19d3f3",
           "#FF6692",
           "#B6E880",
           "#FF97FF",
           "#FECB52"
          ],
          "font": {
           "color": "#2a3f5f"
          },
          "geo": {
           "bgcolor": "white",
           "lakecolor": "white",
           "landcolor": "#E5ECF6",
           "showlakes": true,
           "showland": true,
           "subunitcolor": "white"
          },
          "hoverlabel": {
           "align": "left"
          },
          "hovermode": "closest",
          "mapbox": {
           "style": "light"
          },
          "paper_bgcolor": "white",
          "plot_bgcolor": "#E5ECF6",
          "polar": {
           "angularaxis": {
            "gridcolor": "white",
            "linecolor": "white",
            "ticks": ""
           },
           "bgcolor": "#E5ECF6",
           "radialaxis": {
            "gridcolor": "white",
            "linecolor": "white",
            "ticks": ""
           }
          },
          "scene": {
           "xaxis": {
            "backgroundcolor": "#E5ECF6",
            "gridcolor": "white",
            "gridwidth": 2,
            "linecolor": "white",
            "showbackground": true,
            "ticks": "",
            "zerolinecolor": "white"
           },
           "yaxis": {
            "backgroundcolor": "#E5ECF6",
            "gridcolor": "white",
            "gridwidth": 2,
            "linecolor": "white",
            "showbackground": true,
            "ticks": "",
            "zerolinecolor": "white"
           },
           "zaxis": {
            "backgroundcolor": "#E5ECF6",
            "gridcolor": "white",
            "gridwidth": 2,
            "linecolor": "white",
            "showbackground": true,
            "ticks": "",
            "zerolinecolor": "white"
           }
          },
          "shapedefaults": {
           "line": {
            "color": "#2a3f5f"
           }
          },
          "ternary": {
           "aaxis": {
            "gridcolor": "white",
            "linecolor": "white",
            "ticks": ""
           },
           "baxis": {
            "gridcolor": "white",
            "linecolor": "white",
            "ticks": ""
           },
           "bgcolor": "#E5ECF6",
           "caxis": {
            "gridcolor": "white",
            "linecolor": "white",
            "ticks": ""
           }
          },
          "title": {
           "x": 0.05
          },
          "xaxis": {
           "automargin": true,
           "gridcolor": "white",
           "linecolor": "white",
           "ticks": "",
           "title": {
            "standoff": 15
           },
           "zerolinecolor": "white",
           "zerolinewidth": 2
          },
          "yaxis": {
           "automargin": true,
           "gridcolor": "white",
           "linecolor": "white",
           "ticks": "",
           "title": {
            "standoff": 15
           },
           "zerolinecolor": "white",
           "zerolinewidth": 2
          }
         }
        },
        "title": {
         "text": "Most Popular Data Science IDE's from 2018-2021"
        },
        "yaxis": {
         "title": {
          "text": "% of respondents"
         }
        }
       }
      },
      "text/html": [
       "<div>                            <div id=\"4587bf2d-6b1f-4e21-ba22-62a3f13bbada\" class=\"plotly-graph-div\" style=\"height:525px; width:100%;\"></div>            <script type=\"text/javascript\">                require([\"plotly\"], function(Plotly) {                    window.PLOTLYENV=window.PLOTLYENV || {};                                    if (document.getElementById(\"4587bf2d-6b1f-4e21-ba22-62a3f13bbada\")) {                    Plotly.newPlot(                        \"4587bf2d-6b1f-4e21-ba22-62a3f13bbada\",                        [{\"name\":\"2018 Kaggle Survey\",\"x\":[\"Visual Studio Code (VSCode)\",\"MATLAB\",\"RStudio\",\"Jupyter/JupyterLab\"],\"y\":[23.7,26.4,58.7,88.4],\"type\":\"bar\"},{\"name\":\"2019 Kaggle Survey\",\"x\":[\"MATLAB\",\"Visual Studio Code (VSCode)\",\"RStudio\",\"Jupyter/JupyterLab\"],\"y\":[7.5,28.7,37.8,83.2],\"type\":\"bar\"},{\"name\":\"2020 Kaggle Survey\",\"x\":[\"MATLAB\",\"RStudio\",\"Visual Studio Code (VSCode)\",\"Jupyter/JupyterLab\"],\"y\":[5.8,31.5,33.2,74.1],\"type\":\"bar\"},{\"name\":\"2021 Kaggle Survey\",\"x\":[\"MATLAB\",\"RStudio\",\"Visual Studio Code (VSCode)\",\"Jupyter/JupyterLab\"],\"y\":[5.6,26.9,38.8,83.0],\"type\":\"bar\"}],                        {\"template\":{\"data\":{\"histogram2dcontour\":[{\"type\":\"histogram2dcontour\",\"colorbar\":{\"outlinewidth\":0,\"ticks\":\"\"},\"colorscale\":[[0.0,\"#0d0887\"],[0.1111111111111111,\"#46039f\"],[0.2222222222222222,\"#7201a8\"],[0.3333333333333333,\"#9c179e\"],[0.4444444444444444,\"#bd3786\"],[0.5555555555555556,\"#d8576b\"],[0.6666666666666666,\"#ed7953\"],[0.7777777777777778,\"#fb9f3a\"],[0.8888888888888888,\"#fdca26\"],[1.0,\"#f0f921\"]]}],\"choropleth\":[{\"type\":\"choropleth\",\"colorbar\":{\"outlinewidth\":0,\"ticks\":\"\"}}],\"histogram2d\":[{\"type\":\"histogram2d\",\"colorbar\":{\"outlinewidth\":0,\"ticks\":\"\"},\"colorscale\":[[0.0,\"#0d0887\"],[0.1111111111111111,\"#46039f\"],[0.2222222222222222,\"#7201a8\"],[0.3333333333333333,\"#9c179e\"],[0.4444444444444444,\"#bd3786\"],[0.5555555555555556,\"#d8576b\"],[0.6666666666666666,\"#ed7953\"],[0.7777777777777778,\"#fb9f3a\"],[0.8888888888888888,\"#fdca26\"],[1.0,\"#f0f921\"]]}],\"heatmap\":[{\"type\":\"heatmap\",\"colorbar\":{\"outlinewidth\":0,\"ticks\":\"\"},\"colorscale\":[[0.0,\"#0d0887\"],[0.1111111111111111,\"#46039f\"],[0.2222222222222222,\"#7201a8\"],[0.3333333333333333,\"#9c179e\"],[0.4444444444444444,\"#bd3786\"],[0.5555555555555556,\"#d8576b\"],[0.6666666666666666,\"#ed7953\"],[0.7777777777777778,\"#fb9f3a\"],[0.8888888888888888,\"#fdca26\"],[1.0,\"#f0f921\"]]}],\"heatmapgl\":[{\"type\":\"heatmapgl\",\"colorbar\":{\"outlinewidth\":0,\"ticks\":\"\"},\"colorscale\":[[0.0,\"#0d0887\"],[0.1111111111111111,\"#46039f\"],[0.2222222222222222,\"#7201a8\"],[0.3333333333333333,\"#9c179e\"],[0.4444444444444444,\"#bd3786\"],[0.5555555555555556,\"#d8576b\"],[0.6666666666666666,\"#ed7953\"],[0.7777777777777778,\"#fb9f3a\"],[0.8888888888888888,\"#fdca26\"],[1.0,\"#f0f921\"]]}],\"contourcarpet\":[{\"type\":\"contourcarpet\",\"colorbar\":{\"outlinewidth\":0,\"ticks\":\"\"}}],\"contour\":[{\"type\":\"contour\",\"colorbar\":{\"outlinewidth\":0,\"ticks\":\"\"},\"colorscale\":[[0.0,\"#0d0887\"],[0.1111111111111111,\"#46039f\"],[0.2222222222222222,\"#7201a8\"],[0.3333333333333333,\"#9c179e\"],[0.4444444444444444,\"#bd3786\"],[0.5555555555555556,\"#d8576b\"],[0.6666666666666666,\"#ed7953\"],[0.7777777777777778,\"#fb9f3a\"],[0.8888888888888888,\"#fdca26\"],[1.0,\"#f0f921\"]]}],\"surface\":[{\"type\":\"surface\",\"colorbar\":{\"outlinewidth\":0,\"ticks\":\"\"},\"colorscale\":[[0.0,\"#0d0887\"],[0.1111111111111111,\"#46039f\"],[0.2222222222222222,\"#7201a8\"],[0.3333333333333333,\"#9c179e\"],[0.4444444444444444,\"#bd3786\"],[0.5555555555555556,\"#d8576b\"],[0.6666666666666666,\"#ed7953\"],[0.7777777777777778,\"#fb9f3a\"],[0.8888888888888888,\"#fdca26\"],[1.0,\"#f0f921\"]]}],\"mesh3d\":[{\"type\":\"mesh3d\",\"colorbar\":{\"outlinewidth\":0,\"ticks\":\"\"}}],\"scatter\":[{\"fillpattern\":{\"fillmode\":\"overlay\",\"size\":10,\"solidity\":0.2},\"type\":\"scatter\"}],\"parcoords\":[{\"type\":\"parcoords\",\"line\":{\"colorbar\":{\"outlinewidth\":0,\"ticks\":\"\"}}}],\"scatterpolargl\":[{\"type\":\"scatterpolargl\",\"marker\":{\"colorbar\":{\"outlinewidth\":0,\"ticks\":\"\"}}}],\"bar\":[{\"error_x\":{\"color\":\"#2a3f5f\"},\"error_y\":{\"color\":\"#2a3f5f\"},\"marker\":{\"line\":{\"color\":\"#E5ECF6\",\"width\":0.5},\"pattern\":{\"fillmode\":\"overlay\",\"size\":10,\"solidity\":0.2}},\"type\":\"bar\"}],\"scattergeo\":[{\"type\":\"scattergeo\",\"marker\":{\"colorbar\":{\"outlinewidth\":0,\"ticks\":\"\"}}}],\"scatterpolar\":[{\"type\":\"scatterpolar\",\"marker\":{\"colorbar\":{\"outlinewidth\":0,\"ticks\":\"\"}}}],\"histogram\":[{\"marker\":{\"pattern\":{\"fillmode\":\"overlay\",\"size\":10,\"solidity\":0.2}},\"type\":\"histogram\"}],\"scattergl\":[{\"type\":\"scattergl\",\"marker\":{\"colorbar\":{\"outlinewidth\":0,\"ticks\":\"\"}}}],\"scatter3d\":[{\"type\":\"scatter3d\",\"line\":{\"colorbar\":{\"outlinewidth\":0,\"ticks\":\"\"}},\"marker\":{\"colorbar\":{\"outlinewidth\":0,\"ticks\":\"\"}}}],\"scattermapbox\":[{\"type\":\"scattermapbox\",\"marker\":{\"colorbar\":{\"outlinewidth\":0,\"ticks\":\"\"}}}],\"scatterternary\":[{\"type\":\"scatterternary\",\"marker\":{\"colorbar\":{\"outlinewidth\":0,\"ticks\":\"\"}}}],\"scattercarpet\":[{\"type\":\"scattercarpet\",\"marker\":{\"colorbar\":{\"outlinewidth\":0,\"ticks\":\"\"}}}],\"carpet\":[{\"aaxis\":{\"endlinecolor\":\"#2a3f5f\",\"gridcolor\":\"white\",\"linecolor\":\"white\",\"minorgridcolor\":\"white\",\"startlinecolor\":\"#2a3f5f\"},\"baxis\":{\"endlinecolor\":\"#2a3f5f\",\"gridcolor\":\"white\",\"linecolor\":\"white\",\"minorgridcolor\":\"white\",\"startlinecolor\":\"#2a3f5f\"},\"type\":\"carpet\"}],\"table\":[{\"cells\":{\"fill\":{\"color\":\"#EBF0F8\"},\"line\":{\"color\":\"white\"}},\"header\":{\"fill\":{\"color\":\"#C8D4E3\"},\"line\":{\"color\":\"white\"}},\"type\":\"table\"}],\"barpolar\":[{\"marker\":{\"line\":{\"color\":\"#E5ECF6\",\"width\":0.5},\"pattern\":{\"fillmode\":\"overlay\",\"size\":10,\"solidity\":0.2}},\"type\":\"barpolar\"}],\"pie\":[{\"automargin\":true,\"type\":\"pie\"}]},\"layout\":{\"autotypenumbers\":\"strict\",\"colorway\":[\"#636efa\",\"#EF553B\",\"#00cc96\",\"#ab63fa\",\"#FFA15A\",\"#19d3f3\",\"#FF6692\",\"#B6E880\",\"#FF97FF\",\"#FECB52\"],\"font\":{\"color\":\"#2a3f5f\"},\"hovermode\":\"closest\",\"hoverlabel\":{\"align\":\"left\"},\"paper_bgcolor\":\"white\",\"plot_bgcolor\":\"#E5ECF6\",\"polar\":{\"bgcolor\":\"#E5ECF6\",\"angularaxis\":{\"gridcolor\":\"white\",\"linecolor\":\"white\",\"ticks\":\"\"},\"radialaxis\":{\"gridcolor\":\"white\",\"linecolor\":\"white\",\"ticks\":\"\"}},\"ternary\":{\"bgcolor\":\"#E5ECF6\",\"aaxis\":{\"gridcolor\":\"white\",\"linecolor\":\"white\",\"ticks\":\"\"},\"baxis\":{\"gridcolor\":\"white\",\"linecolor\":\"white\",\"ticks\":\"\"},\"caxis\":{\"gridcolor\":\"white\",\"linecolor\":\"white\",\"ticks\":\"\"}},\"coloraxis\":{\"colorbar\":{\"outlinewidth\":0,\"ticks\":\"\"}},\"colorscale\":{\"sequential\":[[0.0,\"#0d0887\"],[0.1111111111111111,\"#46039f\"],[0.2222222222222222,\"#7201a8\"],[0.3333333333333333,\"#9c179e\"],[0.4444444444444444,\"#bd3786\"],[0.5555555555555556,\"#d8576b\"],[0.6666666666666666,\"#ed7953\"],[0.7777777777777778,\"#fb9f3a\"],[0.8888888888888888,\"#fdca26\"],[1.0,\"#f0f921\"]],\"sequentialminus\":[[0.0,\"#0d0887\"],[0.1111111111111111,\"#46039f\"],[0.2222222222222222,\"#7201a8\"],[0.3333333333333333,\"#9c179e\"],[0.4444444444444444,\"#bd3786\"],[0.5555555555555556,\"#d8576b\"],[0.6666666666666666,\"#ed7953\"],[0.7777777777777778,\"#fb9f3a\"],[0.8888888888888888,\"#fdca26\"],[1.0,\"#f0f921\"]],\"diverging\":[[0,\"#8e0152\"],[0.1,\"#c51b7d\"],[0.2,\"#de77ae\"],[0.3,\"#f1b6da\"],[0.4,\"#fde0ef\"],[0.5,\"#f7f7f7\"],[0.6,\"#e6f5d0\"],[0.7,\"#b8e186\"],[0.8,\"#7fbc41\"],[0.9,\"#4d9221\"],[1,\"#276419\"]]},\"xaxis\":{\"gridcolor\":\"white\",\"linecolor\":\"white\",\"ticks\":\"\",\"title\":{\"standoff\":15},\"zerolinecolor\":\"white\",\"automargin\":true,\"zerolinewidth\":2},\"yaxis\":{\"gridcolor\":\"white\",\"linecolor\":\"white\",\"ticks\":\"\",\"title\":{\"standoff\":15},\"zerolinecolor\":\"white\",\"automargin\":true,\"zerolinewidth\":2},\"scene\":{\"xaxis\":{\"backgroundcolor\":\"#E5ECF6\",\"gridcolor\":\"white\",\"linecolor\":\"white\",\"showbackground\":true,\"ticks\":\"\",\"zerolinecolor\":\"white\",\"gridwidth\":2},\"yaxis\":{\"backgroundcolor\":\"#E5ECF6\",\"gridcolor\":\"white\",\"linecolor\":\"white\",\"showbackground\":true,\"ticks\":\"\",\"zerolinecolor\":\"white\",\"gridwidth\":2},\"zaxis\":{\"backgroundcolor\":\"#E5ECF6\",\"gridcolor\":\"white\",\"linecolor\":\"white\",\"showbackground\":true,\"ticks\":\"\",\"zerolinecolor\":\"white\",\"gridwidth\":2}},\"shapedefaults\":{\"line\":{\"color\":\"#2a3f5f\"}},\"annotationdefaults\":{\"arrowcolor\":\"#2a3f5f\",\"arrowhead\":0,\"arrowwidth\":1},\"geo\":{\"bgcolor\":\"white\",\"landcolor\":\"#E5ECF6\",\"subunitcolor\":\"white\",\"showland\":true,\"showlakes\":true,\"lakecolor\":\"white\"},\"title\":{\"x\":0.05},\"mapbox\":{\"style\":\"light\"}}},\"barmode\":\"group\",\"title\":{\"text\":\"Most Popular Data Science IDE's from 2018-2021\"},\"yaxis\":{\"title\":{\"text\":\"% of respondents\"}}},                        {\"responsive\": true}                    ).then(function(){\n",
       "                            \n",
       "var gd = document.getElementById('4587bf2d-6b1f-4e21-ba22-62a3f13bbada');\n",
       "var x = new MutationObserver(function (mutations, observer) {{\n",
       "        var display = window.getComputedStyle(gd).display;\n",
       "        if (!display || display === 'none') {{\n",
       "            console.log([gd, 'removed!']);\n",
       "            Plotly.purge(gd);\n",
       "            observer.disconnect();\n",
       "        }}\n",
       "}});\n",
       "\n",
       "// Listen for the removal of the full notebook cells\n",
       "var notebookContainer = gd.closest('#notebook-container');\n",
       "if (notebookContainer) {{\n",
       "    x.observe(notebookContainer, {childList: true});\n",
       "}}\n",
       "\n",
       "// Listen for the clearing of the current output cell\n",
       "var outputEl = gd.closest('.output');\n",
       "if (outputEl) {{\n",
       "    x.observe(outputEl, {childList: true});\n",
       "}}\n",
       "\n",
       "                        })                };                });            </script>        </div>"
      ]
     },
     "metadata": {},
     "output_type": "display_data"
    }
   ],
   "source": [
    "q9_dictionary_of_counts_2018_simplified = {\n",
    "    'Jupyter/JupyterLab' : (responses_df_2018['Q13_Part_1'].count()),\n",
    "    'RStudio': (responses_df_2018['Q13_Part_2'].count()),\n",
    "    'Visual Studio Code (VSCode)' : (responses_df_2018['Q13_Part_4'].count()),\n",
    "    'MATLAB' : (responses_df_2018['Q13_Part_7'].count()),\n",
    "}\n",
    "\n",
    "q9_dictionary_of_counts_2019_simplified = {\n",
    "    'Jupyter/JupyterLab' : (responses_df_2019['Q16_Part_1'].count()),\n",
    "    'RStudio': (responses_df_2019['Q16_Part_2'].count()),\n",
    "    'Visual Studio Code (VSCode)' : (responses_df_2019['Q16_Part_6'].count()),\n",
    "    'MATLAB' : (responses_df_2019['Q16_Part_5'].count()),\n",
    "}\n",
    "\n",
    "q9_dictionary_of_counts_2020_simplified = {\n",
    "    'Jupyter/JupyterLab' : (responses_df_2020['Q9_Part_1'].count()),\n",
    "    'RStudio': (responses_df_2020['Q9_Part_2'].count()),\n",
    "    'Visual Studio Code (VSCode)' : (responses_df_2020['Q9_Part_4'].count()),\n",
    "    'MATLAB' : (responses_df_2020['Q9_Part_10'].count()),\n",
    "}\n",
    "\n",
    "columns_to_combine = ['Q9_Part_1','Q9_Part_11'] # Make a \"either jupyter or jupyterlab column instead of just jupyter+jupyterlab\"\n",
    "responses_df_2021['Jupyter/Jupyterlab'] = (responses_df_2021[columns_to_combine].notna()).any(axis=\"columns\")\n",
    "responses_df_2021['Jupyter/Jupyterlab'].replace([True], \"Jupyter/JupyterLab\",inplace=True)\n",
    "responses_df_2021['Jupyter/Jupyterlab'].replace([False], np.nan,inplace=True)\n",
    "\n",
    "q9_dictionary_of_counts_2021_simplified = {\n",
    "    'Jupyter/JupyterLab' : (responses_df_2021['Jupyter/Jupyterlab'].count()),\n",
    "    'RStudio': (responses_df_2021['Q9_Part_2'].count()),\n",
    "    'Visual Studio Code (VSCode)' : (responses_df_2021['Q9_Part_4'].count()),\n",
    "    'MATLAB' : (responses_df_2021['Q9_Part_10'].count()),\n",
    "}\n",
    "\n",
    "dictionary_of_counts_2018 = sort_dictionary_by_percent(responses_df_2018,\n",
    "                                                  q9_list_of_columns_2018,\n",
    "                                                  q9_dictionary_of_counts_2018_simplified)\n",
    "dictionary_of_counts_2019 = sort_dictionary_by_percent(responses_df_2019,\n",
    "                                                  q9_list_of_columns_2019,\n",
    "                                                  q9_dictionary_of_counts_2019_simplified)\n",
    "dictionary_of_counts_2020 = sort_dictionary_by_percent(responses_df_2020,\n",
    "                                                  q9_list_of_columns_2020,\n",
    "                                                  q9_dictionary_of_counts_2020_simplified)\n",
    "dictionary_of_counts_2021 = sort_dictionary_by_percent(responses_df_2021,\n",
    "                                                  q9_list_of_columns_2021,\n",
    "                                                  q9_dictionary_of_counts_2021_simplified)\n",
    "\n",
    "title_for_chart = \"Most Popular Data Science IDE's from 2018-2021\"\n",
    "title_for_y_axis = '% of respondents'\n",
    "                                                       \n",
    "fig = go.Figure(data=[\n",
    "    go.Bar(name='2018 Kaggle Survey', x=pd.Series(dictionary_of_counts_2018.keys()), y=pd.Series(dictionary_of_counts_2018.values())),\n",
    "    go.Bar(name='2019 Kaggle Survey', x=pd.Series(dictionary_of_counts_2019.keys()), y=pd.Series(dictionary_of_counts_2019.values())),\n",
    "    go.Bar(name='2020 Kaggle Survey', x=pd.Series(dictionary_of_counts_2020.keys()), y=pd.Series(dictionary_of_counts_2020.values())),\n",
    "    go.Bar(name='2021 Kaggle Survey', x=pd.Series(dictionary_of_counts_2021.keys()), y=pd.Series(dictionary_of_counts_2021.values()))\n",
    "           ])\n",
    "fig.update_layout(barmode='group') \n",
    "fig.update_layout(title=title_for_chart,yaxis=dict(title=title_for_y_axis))\n",
    "fig.show()"
   ]
  },
  {
   "cell_type": "code",
   "execution_count": 27,
   "id": "06fc2ab5",
   "metadata": {},
   "outputs": [
    {
     "data": {
      "application/vnd.plotly.v1+json": {
       "config": {
        "plotlyServerURL": "https://plot.ly"
       },
       "data": [
        {
         "name": "2018 Kaggle Survey",
         "type": "bar",
         "x": [
          "Colab Notebooks",
          "Kaggle Notebooks"
         ],
         "y": [
          22.9,
          37
         ]
        },
        {
         "name": "2019 Kaggle Survey",
         "type": "bar",
         "x": [
          "Colab Notebooks",
          "Kaggle Notebooks"
         ],
         "y": [
          32.8,
          33.1
         ]
        },
        {
         "name": "2020 Kaggle Survey",
         "type": "bar",
         "x": [
          "Kaggle Notebooks",
          "Colab Notebooks"
         ],
         "y": [
          35.8,
          41.3
         ]
        },
        {
         "name": "2021 Kaggle Survey",
         "type": "bar",
         "x": [
          "Kaggle Notebooks",
          "Colab Notebooks"
         ],
         "y": [
          39.1,
          44.4
         ]
        }
       ],
       "layout": {
        "barmode": "group",
        "template": {
         "data": {
          "bar": [
           {
            "error_x": {
             "color": "#2a3f5f"
            },
            "error_y": {
             "color": "#2a3f5f"
            },
            "marker": {
             "line": {
              "color": "#E5ECF6",
              "width": 0.5
             },
             "pattern": {
              "fillmode": "overlay",
              "size": 10,
              "solidity": 0.2
             }
            },
            "type": "bar"
           }
          ],
          "barpolar": [
           {
            "marker": {
             "line": {
              "color": "#E5ECF6",
              "width": 0.5
             },
             "pattern": {
              "fillmode": "overlay",
              "size": 10,
              "solidity": 0.2
             }
            },
            "type": "barpolar"
           }
          ],
          "carpet": [
           {
            "aaxis": {
             "endlinecolor": "#2a3f5f",
             "gridcolor": "white",
             "linecolor": "white",
             "minorgridcolor": "white",
             "startlinecolor": "#2a3f5f"
            },
            "baxis": {
             "endlinecolor": "#2a3f5f",
             "gridcolor": "white",
             "linecolor": "white",
             "minorgridcolor": "white",
             "startlinecolor": "#2a3f5f"
            },
            "type": "carpet"
           }
          ],
          "choropleth": [
           {
            "colorbar": {
             "outlinewidth": 0,
             "ticks": ""
            },
            "type": "choropleth"
           }
          ],
          "contour": [
           {
            "colorbar": {
             "outlinewidth": 0,
             "ticks": ""
            },
            "colorscale": [
             [
              0,
              "#0d0887"
             ],
             [
              0.1111111111111111,
              "#46039f"
             ],
             [
              0.2222222222222222,
              "#7201a8"
             ],
             [
              0.3333333333333333,
              "#9c179e"
             ],
             [
              0.4444444444444444,
              "#bd3786"
             ],
             [
              0.5555555555555556,
              "#d8576b"
             ],
             [
              0.6666666666666666,
              "#ed7953"
             ],
             [
              0.7777777777777778,
              "#fb9f3a"
             ],
             [
              0.8888888888888888,
              "#fdca26"
             ],
             [
              1,
              "#f0f921"
             ]
            ],
            "type": "contour"
           }
          ],
          "contourcarpet": [
           {
            "colorbar": {
             "outlinewidth": 0,
             "ticks": ""
            },
            "type": "contourcarpet"
           }
          ],
          "heatmap": [
           {
            "colorbar": {
             "outlinewidth": 0,
             "ticks": ""
            },
            "colorscale": [
             [
              0,
              "#0d0887"
             ],
             [
              0.1111111111111111,
              "#46039f"
             ],
             [
              0.2222222222222222,
              "#7201a8"
             ],
             [
              0.3333333333333333,
              "#9c179e"
             ],
             [
              0.4444444444444444,
              "#bd3786"
             ],
             [
              0.5555555555555556,
              "#d8576b"
             ],
             [
              0.6666666666666666,
              "#ed7953"
             ],
             [
              0.7777777777777778,
              "#fb9f3a"
             ],
             [
              0.8888888888888888,
              "#fdca26"
             ],
             [
              1,
              "#f0f921"
             ]
            ],
            "type": "heatmap"
           }
          ],
          "heatmapgl": [
           {
            "colorbar": {
             "outlinewidth": 0,
             "ticks": ""
            },
            "colorscale": [
             [
              0,
              "#0d0887"
             ],
             [
              0.1111111111111111,
              "#46039f"
             ],
             [
              0.2222222222222222,
              "#7201a8"
             ],
             [
              0.3333333333333333,
              "#9c179e"
             ],
             [
              0.4444444444444444,
              "#bd3786"
             ],
             [
              0.5555555555555556,
              "#d8576b"
             ],
             [
              0.6666666666666666,
              "#ed7953"
             ],
             [
              0.7777777777777778,
              "#fb9f3a"
             ],
             [
              0.8888888888888888,
              "#fdca26"
             ],
             [
              1,
              "#f0f921"
             ]
            ],
            "type": "heatmapgl"
           }
          ],
          "histogram": [
           {
            "marker": {
             "pattern": {
              "fillmode": "overlay",
              "size": 10,
              "solidity": 0.2
             }
            },
            "type": "histogram"
           }
          ],
          "histogram2d": [
           {
            "colorbar": {
             "outlinewidth": 0,
             "ticks": ""
            },
            "colorscale": [
             [
              0,
              "#0d0887"
             ],
             [
              0.1111111111111111,
              "#46039f"
             ],
             [
              0.2222222222222222,
              "#7201a8"
             ],
             [
              0.3333333333333333,
              "#9c179e"
             ],
             [
              0.4444444444444444,
              "#bd3786"
             ],
             [
              0.5555555555555556,
              "#d8576b"
             ],
             [
              0.6666666666666666,
              "#ed7953"
             ],
             [
              0.7777777777777778,
              "#fb9f3a"
             ],
             [
              0.8888888888888888,
              "#fdca26"
             ],
             [
              1,
              "#f0f921"
             ]
            ],
            "type": "histogram2d"
           }
          ],
          "histogram2dcontour": [
           {
            "colorbar": {
             "outlinewidth": 0,
             "ticks": ""
            },
            "colorscale": [
             [
              0,
              "#0d0887"
             ],
             [
              0.1111111111111111,
              "#46039f"
             ],
             [
              0.2222222222222222,
              "#7201a8"
             ],
             [
              0.3333333333333333,
              "#9c179e"
             ],
             [
              0.4444444444444444,
              "#bd3786"
             ],
             [
              0.5555555555555556,
              "#d8576b"
             ],
             [
              0.6666666666666666,
              "#ed7953"
             ],
             [
              0.7777777777777778,
              "#fb9f3a"
             ],
             [
              0.8888888888888888,
              "#fdca26"
             ],
             [
              1,
              "#f0f921"
             ]
            ],
            "type": "histogram2dcontour"
           }
          ],
          "mesh3d": [
           {
            "colorbar": {
             "outlinewidth": 0,
             "ticks": ""
            },
            "type": "mesh3d"
           }
          ],
          "parcoords": [
           {
            "line": {
             "colorbar": {
              "outlinewidth": 0,
              "ticks": ""
             }
            },
            "type": "parcoords"
           }
          ],
          "pie": [
           {
            "automargin": true,
            "type": "pie"
           }
          ],
          "scatter": [
           {
            "fillpattern": {
             "fillmode": "overlay",
             "size": 10,
             "solidity": 0.2
            },
            "type": "scatter"
           }
          ],
          "scatter3d": [
           {
            "line": {
             "colorbar": {
              "outlinewidth": 0,
              "ticks": ""
             }
            },
            "marker": {
             "colorbar": {
              "outlinewidth": 0,
              "ticks": ""
             }
            },
            "type": "scatter3d"
           }
          ],
          "scattercarpet": [
           {
            "marker": {
             "colorbar": {
              "outlinewidth": 0,
              "ticks": ""
             }
            },
            "type": "scattercarpet"
           }
          ],
          "scattergeo": [
           {
            "marker": {
             "colorbar": {
              "outlinewidth": 0,
              "ticks": ""
             }
            },
            "type": "scattergeo"
           }
          ],
          "scattergl": [
           {
            "marker": {
             "colorbar": {
              "outlinewidth": 0,
              "ticks": ""
             }
            },
            "type": "scattergl"
           }
          ],
          "scattermapbox": [
           {
            "marker": {
             "colorbar": {
              "outlinewidth": 0,
              "ticks": ""
             }
            },
            "type": "scattermapbox"
           }
          ],
          "scatterpolar": [
           {
            "marker": {
             "colorbar": {
              "outlinewidth": 0,
              "ticks": ""
             }
            },
            "type": "scatterpolar"
           }
          ],
          "scatterpolargl": [
           {
            "marker": {
             "colorbar": {
              "outlinewidth": 0,
              "ticks": ""
             }
            },
            "type": "scatterpolargl"
           }
          ],
          "scatterternary": [
           {
            "marker": {
             "colorbar": {
              "outlinewidth": 0,
              "ticks": ""
             }
            },
            "type": "scatterternary"
           }
          ],
          "surface": [
           {
            "colorbar": {
             "outlinewidth": 0,
             "ticks": ""
            },
            "colorscale": [
             [
              0,
              "#0d0887"
             ],
             [
              0.1111111111111111,
              "#46039f"
             ],
             [
              0.2222222222222222,
              "#7201a8"
             ],
             [
              0.3333333333333333,
              "#9c179e"
             ],
             [
              0.4444444444444444,
              "#bd3786"
             ],
             [
              0.5555555555555556,
              "#d8576b"
             ],
             [
              0.6666666666666666,
              "#ed7953"
             ],
             [
              0.7777777777777778,
              "#fb9f3a"
             ],
             [
              0.8888888888888888,
              "#fdca26"
             ],
             [
              1,
              "#f0f921"
             ]
            ],
            "type": "surface"
           }
          ],
          "table": [
           {
            "cells": {
             "fill": {
              "color": "#EBF0F8"
             },
             "line": {
              "color": "white"
             }
            },
            "header": {
             "fill": {
              "color": "#C8D4E3"
             },
             "line": {
              "color": "white"
             }
            },
            "type": "table"
           }
          ]
         },
         "layout": {
          "annotationdefaults": {
           "arrowcolor": "#2a3f5f",
           "arrowhead": 0,
           "arrowwidth": 1
          },
          "autotypenumbers": "strict",
          "coloraxis": {
           "colorbar": {
            "outlinewidth": 0,
            "ticks": ""
           }
          },
          "colorscale": {
           "diverging": [
            [
             0,
             "#8e0152"
            ],
            [
             0.1,
             "#c51b7d"
            ],
            [
             0.2,
             "#de77ae"
            ],
            [
             0.3,
             "#f1b6da"
            ],
            [
             0.4,
             "#fde0ef"
            ],
            [
             0.5,
             "#f7f7f7"
            ],
            [
             0.6,
             "#e6f5d0"
            ],
            [
             0.7,
             "#b8e186"
            ],
            [
             0.8,
             "#7fbc41"
            ],
            [
             0.9,
             "#4d9221"
            ],
            [
             1,
             "#276419"
            ]
           ],
           "sequential": [
            [
             0,
             "#0d0887"
            ],
            [
             0.1111111111111111,
             "#46039f"
            ],
            [
             0.2222222222222222,
             "#7201a8"
            ],
            [
             0.3333333333333333,
             "#9c179e"
            ],
            [
             0.4444444444444444,
             "#bd3786"
            ],
            [
             0.5555555555555556,
             "#d8576b"
            ],
            [
             0.6666666666666666,
             "#ed7953"
            ],
            [
             0.7777777777777778,
             "#fb9f3a"
            ],
            [
             0.8888888888888888,
             "#fdca26"
            ],
            [
             1,
             "#f0f921"
            ]
           ],
           "sequentialminus": [
            [
             0,
             "#0d0887"
            ],
            [
             0.1111111111111111,
             "#46039f"
            ],
            [
             0.2222222222222222,
             "#7201a8"
            ],
            [
             0.3333333333333333,
             "#9c179e"
            ],
            [
             0.4444444444444444,
             "#bd3786"
            ],
            [
             0.5555555555555556,
             "#d8576b"
            ],
            [
             0.6666666666666666,
             "#ed7953"
            ],
            [
             0.7777777777777778,
             "#fb9f3a"
            ],
            [
             0.8888888888888888,
             "#fdca26"
            ],
            [
             1,
             "#f0f921"
            ]
           ]
          },
          "colorway": [
           "#636efa",
           "#EF553B",
           "#00cc96",
           "#ab63fa",
           "#FFA15A",
           "#19d3f3",
           "#FF6692",
           "#B6E880",
           "#FF97FF",
           "#FECB52"
          ],
          "font": {
           "color": "#2a3f5f"
          },
          "geo": {
           "bgcolor": "white",
           "lakecolor": "white",
           "landcolor": "#E5ECF6",
           "showlakes": true,
           "showland": true,
           "subunitcolor": "white"
          },
          "hoverlabel": {
           "align": "left"
          },
          "hovermode": "closest",
          "mapbox": {
           "style": "light"
          },
          "paper_bgcolor": "white",
          "plot_bgcolor": "#E5ECF6",
          "polar": {
           "angularaxis": {
            "gridcolor": "white",
            "linecolor": "white",
            "ticks": ""
           },
           "bgcolor": "#E5ECF6",
           "radialaxis": {
            "gridcolor": "white",
            "linecolor": "white",
            "ticks": ""
           }
          },
          "scene": {
           "xaxis": {
            "backgroundcolor": "#E5ECF6",
            "gridcolor": "white",
            "gridwidth": 2,
            "linecolor": "white",
            "showbackground": true,
            "ticks": "",
            "zerolinecolor": "white"
           },
           "yaxis": {
            "backgroundcolor": "#E5ECF6",
            "gridcolor": "white",
            "gridwidth": 2,
            "linecolor": "white",
            "showbackground": true,
            "ticks": "",
            "zerolinecolor": "white"
           },
           "zaxis": {
            "backgroundcolor": "#E5ECF6",
            "gridcolor": "white",
            "gridwidth": 2,
            "linecolor": "white",
            "showbackground": true,
            "ticks": "",
            "zerolinecolor": "white"
           }
          },
          "shapedefaults": {
           "line": {
            "color": "#2a3f5f"
           }
          },
          "ternary": {
           "aaxis": {
            "gridcolor": "white",
            "linecolor": "white",
            "ticks": ""
           },
           "baxis": {
            "gridcolor": "white",
            "linecolor": "white",
            "ticks": ""
           },
           "bgcolor": "#E5ECF6",
           "caxis": {
            "gridcolor": "white",
            "linecolor": "white",
            "ticks": ""
           }
          },
          "title": {
           "x": 0.05
          },
          "xaxis": {
           "automargin": true,
           "gridcolor": "white",
           "linecolor": "white",
           "ticks": "",
           "title": {
            "standoff": 15
           },
           "zerolinecolor": "white",
           "zerolinewidth": 2
          },
          "yaxis": {
           "automargin": true,
           "gridcolor": "white",
           "linecolor": "white",
           "ticks": "",
           "title": {
            "standoff": 15
           },
           "zerolinecolor": "white",
           "zerolinewidth": 2
          }
         }
        },
        "title": {
         "text": "Most Popular Hosted Notebook Products from 2018-2021"
        },
        "yaxis": {
         "title": {
          "text": "% of respondents"
         }
        }
       }
      },
      "text/html": [
       "<div>                            <div id=\"1e6248c2-3125-42d7-b02c-35cf9f62bba2\" class=\"plotly-graph-div\" style=\"height:525px; width:100%;\"></div>            <script type=\"text/javascript\">                require([\"plotly\"], function(Plotly) {                    window.PLOTLYENV=window.PLOTLYENV || {};                                    if (document.getElementById(\"1e6248c2-3125-42d7-b02c-35cf9f62bba2\")) {                    Plotly.newPlot(                        \"1e6248c2-3125-42d7-b02c-35cf9f62bba2\",                        [{\"name\":\"2018 Kaggle Survey\",\"x\":[\"Colab Notebooks\",\"Kaggle Notebooks\"],\"y\":[22.9,37.0],\"type\":\"bar\"},{\"name\":\"2019 Kaggle Survey\",\"x\":[\"Colab Notebooks\",\"Kaggle Notebooks\"],\"y\":[32.8,33.1],\"type\":\"bar\"},{\"name\":\"2020 Kaggle Survey\",\"x\":[\"Kaggle Notebooks\",\"Colab Notebooks\"],\"y\":[35.8,41.3],\"type\":\"bar\"},{\"name\":\"2021 Kaggle Survey\",\"x\":[\"Kaggle Notebooks\",\"Colab Notebooks\"],\"y\":[39.1,44.4],\"type\":\"bar\"}],                        {\"template\":{\"data\":{\"histogram2dcontour\":[{\"type\":\"histogram2dcontour\",\"colorbar\":{\"outlinewidth\":0,\"ticks\":\"\"},\"colorscale\":[[0.0,\"#0d0887\"],[0.1111111111111111,\"#46039f\"],[0.2222222222222222,\"#7201a8\"],[0.3333333333333333,\"#9c179e\"],[0.4444444444444444,\"#bd3786\"],[0.5555555555555556,\"#d8576b\"],[0.6666666666666666,\"#ed7953\"],[0.7777777777777778,\"#fb9f3a\"],[0.8888888888888888,\"#fdca26\"],[1.0,\"#f0f921\"]]}],\"choropleth\":[{\"type\":\"choropleth\",\"colorbar\":{\"outlinewidth\":0,\"ticks\":\"\"}}],\"histogram2d\":[{\"type\":\"histogram2d\",\"colorbar\":{\"outlinewidth\":0,\"ticks\":\"\"},\"colorscale\":[[0.0,\"#0d0887\"],[0.1111111111111111,\"#46039f\"],[0.2222222222222222,\"#7201a8\"],[0.3333333333333333,\"#9c179e\"],[0.4444444444444444,\"#bd3786\"],[0.5555555555555556,\"#d8576b\"],[0.6666666666666666,\"#ed7953\"],[0.7777777777777778,\"#fb9f3a\"],[0.8888888888888888,\"#fdca26\"],[1.0,\"#f0f921\"]]}],\"heatmap\":[{\"type\":\"heatmap\",\"colorbar\":{\"outlinewidth\":0,\"ticks\":\"\"},\"colorscale\":[[0.0,\"#0d0887\"],[0.1111111111111111,\"#46039f\"],[0.2222222222222222,\"#7201a8\"],[0.3333333333333333,\"#9c179e\"],[0.4444444444444444,\"#bd3786\"],[0.5555555555555556,\"#d8576b\"],[0.6666666666666666,\"#ed7953\"],[0.7777777777777778,\"#fb9f3a\"],[0.8888888888888888,\"#fdca26\"],[1.0,\"#f0f921\"]]}],\"heatmapgl\":[{\"type\":\"heatmapgl\",\"colorbar\":{\"outlinewidth\":0,\"ticks\":\"\"},\"colorscale\":[[0.0,\"#0d0887\"],[0.1111111111111111,\"#46039f\"],[0.2222222222222222,\"#7201a8\"],[0.3333333333333333,\"#9c179e\"],[0.4444444444444444,\"#bd3786\"],[0.5555555555555556,\"#d8576b\"],[0.6666666666666666,\"#ed7953\"],[0.7777777777777778,\"#fb9f3a\"],[0.8888888888888888,\"#fdca26\"],[1.0,\"#f0f921\"]]}],\"contourcarpet\":[{\"type\":\"contourcarpet\",\"colorbar\":{\"outlinewidth\":0,\"ticks\":\"\"}}],\"contour\":[{\"type\":\"contour\",\"colorbar\":{\"outlinewidth\":0,\"ticks\":\"\"},\"colorscale\":[[0.0,\"#0d0887\"],[0.1111111111111111,\"#46039f\"],[0.2222222222222222,\"#7201a8\"],[0.3333333333333333,\"#9c179e\"],[0.4444444444444444,\"#bd3786\"],[0.5555555555555556,\"#d8576b\"],[0.6666666666666666,\"#ed7953\"],[0.7777777777777778,\"#fb9f3a\"],[0.8888888888888888,\"#fdca26\"],[1.0,\"#f0f921\"]]}],\"surface\":[{\"type\":\"surface\",\"colorbar\":{\"outlinewidth\":0,\"ticks\":\"\"},\"colorscale\":[[0.0,\"#0d0887\"],[0.1111111111111111,\"#46039f\"],[0.2222222222222222,\"#7201a8\"],[0.3333333333333333,\"#9c179e\"],[0.4444444444444444,\"#bd3786\"],[0.5555555555555556,\"#d8576b\"],[0.6666666666666666,\"#ed7953\"],[0.7777777777777778,\"#fb9f3a\"],[0.8888888888888888,\"#fdca26\"],[1.0,\"#f0f921\"]]}],\"mesh3d\":[{\"type\":\"mesh3d\",\"colorbar\":{\"outlinewidth\":0,\"ticks\":\"\"}}],\"scatter\":[{\"fillpattern\":{\"fillmode\":\"overlay\",\"size\":10,\"solidity\":0.2},\"type\":\"scatter\"}],\"parcoords\":[{\"type\":\"parcoords\",\"line\":{\"colorbar\":{\"outlinewidth\":0,\"ticks\":\"\"}}}],\"scatterpolargl\":[{\"type\":\"scatterpolargl\",\"marker\":{\"colorbar\":{\"outlinewidth\":0,\"ticks\":\"\"}}}],\"bar\":[{\"error_x\":{\"color\":\"#2a3f5f\"},\"error_y\":{\"color\":\"#2a3f5f\"},\"marker\":{\"line\":{\"color\":\"#E5ECF6\",\"width\":0.5},\"pattern\":{\"fillmode\":\"overlay\",\"size\":10,\"solidity\":0.2}},\"type\":\"bar\"}],\"scattergeo\":[{\"type\":\"scattergeo\",\"marker\":{\"colorbar\":{\"outlinewidth\":0,\"ticks\":\"\"}}}],\"scatterpolar\":[{\"type\":\"scatterpolar\",\"marker\":{\"colorbar\":{\"outlinewidth\":0,\"ticks\":\"\"}}}],\"histogram\":[{\"marker\":{\"pattern\":{\"fillmode\":\"overlay\",\"size\":10,\"solidity\":0.2}},\"type\":\"histogram\"}],\"scattergl\":[{\"type\":\"scattergl\",\"marker\":{\"colorbar\":{\"outlinewidth\":0,\"ticks\":\"\"}}}],\"scatter3d\":[{\"type\":\"scatter3d\",\"line\":{\"colorbar\":{\"outlinewidth\":0,\"ticks\":\"\"}},\"marker\":{\"colorbar\":{\"outlinewidth\":0,\"ticks\":\"\"}}}],\"scattermapbox\":[{\"type\":\"scattermapbox\",\"marker\":{\"colorbar\":{\"outlinewidth\":0,\"ticks\":\"\"}}}],\"scatterternary\":[{\"type\":\"scatterternary\",\"marker\":{\"colorbar\":{\"outlinewidth\":0,\"ticks\":\"\"}}}],\"scattercarpet\":[{\"type\":\"scattercarpet\",\"marker\":{\"colorbar\":{\"outlinewidth\":0,\"ticks\":\"\"}}}],\"carpet\":[{\"aaxis\":{\"endlinecolor\":\"#2a3f5f\",\"gridcolor\":\"white\",\"linecolor\":\"white\",\"minorgridcolor\":\"white\",\"startlinecolor\":\"#2a3f5f\"},\"baxis\":{\"endlinecolor\":\"#2a3f5f\",\"gridcolor\":\"white\",\"linecolor\":\"white\",\"minorgridcolor\":\"white\",\"startlinecolor\":\"#2a3f5f\"},\"type\":\"carpet\"}],\"table\":[{\"cells\":{\"fill\":{\"color\":\"#EBF0F8\"},\"line\":{\"color\":\"white\"}},\"header\":{\"fill\":{\"color\":\"#C8D4E3\"},\"line\":{\"color\":\"white\"}},\"type\":\"table\"}],\"barpolar\":[{\"marker\":{\"line\":{\"color\":\"#E5ECF6\",\"width\":0.5},\"pattern\":{\"fillmode\":\"overlay\",\"size\":10,\"solidity\":0.2}},\"type\":\"barpolar\"}],\"pie\":[{\"automargin\":true,\"type\":\"pie\"}]},\"layout\":{\"autotypenumbers\":\"strict\",\"colorway\":[\"#636efa\",\"#EF553B\",\"#00cc96\",\"#ab63fa\",\"#FFA15A\",\"#19d3f3\",\"#FF6692\",\"#B6E880\",\"#FF97FF\",\"#FECB52\"],\"font\":{\"color\":\"#2a3f5f\"},\"hovermode\":\"closest\",\"hoverlabel\":{\"align\":\"left\"},\"paper_bgcolor\":\"white\",\"plot_bgcolor\":\"#E5ECF6\",\"polar\":{\"bgcolor\":\"#E5ECF6\",\"angularaxis\":{\"gridcolor\":\"white\",\"linecolor\":\"white\",\"ticks\":\"\"},\"radialaxis\":{\"gridcolor\":\"white\",\"linecolor\":\"white\",\"ticks\":\"\"}},\"ternary\":{\"bgcolor\":\"#E5ECF6\",\"aaxis\":{\"gridcolor\":\"white\",\"linecolor\":\"white\",\"ticks\":\"\"},\"baxis\":{\"gridcolor\":\"white\",\"linecolor\":\"white\",\"ticks\":\"\"},\"caxis\":{\"gridcolor\":\"white\",\"linecolor\":\"white\",\"ticks\":\"\"}},\"coloraxis\":{\"colorbar\":{\"outlinewidth\":0,\"ticks\":\"\"}},\"colorscale\":{\"sequential\":[[0.0,\"#0d0887\"],[0.1111111111111111,\"#46039f\"],[0.2222222222222222,\"#7201a8\"],[0.3333333333333333,\"#9c179e\"],[0.4444444444444444,\"#bd3786\"],[0.5555555555555556,\"#d8576b\"],[0.6666666666666666,\"#ed7953\"],[0.7777777777777778,\"#fb9f3a\"],[0.8888888888888888,\"#fdca26\"],[1.0,\"#f0f921\"]],\"sequentialminus\":[[0.0,\"#0d0887\"],[0.1111111111111111,\"#46039f\"],[0.2222222222222222,\"#7201a8\"],[0.3333333333333333,\"#9c179e\"],[0.4444444444444444,\"#bd3786\"],[0.5555555555555556,\"#d8576b\"],[0.6666666666666666,\"#ed7953\"],[0.7777777777777778,\"#fb9f3a\"],[0.8888888888888888,\"#fdca26\"],[1.0,\"#f0f921\"]],\"diverging\":[[0,\"#8e0152\"],[0.1,\"#c51b7d\"],[0.2,\"#de77ae\"],[0.3,\"#f1b6da\"],[0.4,\"#fde0ef\"],[0.5,\"#f7f7f7\"],[0.6,\"#e6f5d0\"],[0.7,\"#b8e186\"],[0.8,\"#7fbc41\"],[0.9,\"#4d9221\"],[1,\"#276419\"]]},\"xaxis\":{\"gridcolor\":\"white\",\"linecolor\":\"white\",\"ticks\":\"\",\"title\":{\"standoff\":15},\"zerolinecolor\":\"white\",\"automargin\":true,\"zerolinewidth\":2},\"yaxis\":{\"gridcolor\":\"white\",\"linecolor\":\"white\",\"ticks\":\"\",\"title\":{\"standoff\":15},\"zerolinecolor\":\"white\",\"automargin\":true,\"zerolinewidth\":2},\"scene\":{\"xaxis\":{\"backgroundcolor\":\"#E5ECF6\",\"gridcolor\":\"white\",\"linecolor\":\"white\",\"showbackground\":true,\"ticks\":\"\",\"zerolinecolor\":\"white\",\"gridwidth\":2},\"yaxis\":{\"backgroundcolor\":\"#E5ECF6\",\"gridcolor\":\"white\",\"linecolor\":\"white\",\"showbackground\":true,\"ticks\":\"\",\"zerolinecolor\":\"white\",\"gridwidth\":2},\"zaxis\":{\"backgroundcolor\":\"#E5ECF6\",\"gridcolor\":\"white\",\"linecolor\":\"white\",\"showbackground\":true,\"ticks\":\"\",\"zerolinecolor\":\"white\",\"gridwidth\":2}},\"shapedefaults\":{\"line\":{\"color\":\"#2a3f5f\"}},\"annotationdefaults\":{\"arrowcolor\":\"#2a3f5f\",\"arrowhead\":0,\"arrowwidth\":1},\"geo\":{\"bgcolor\":\"white\",\"landcolor\":\"#E5ECF6\",\"subunitcolor\":\"white\",\"showland\":true,\"showlakes\":true,\"lakecolor\":\"white\"},\"title\":{\"x\":0.05},\"mapbox\":{\"style\":\"light\"}}},\"barmode\":\"group\",\"title\":{\"text\":\"Most Popular Hosted Notebook Products from 2018-2021\"},\"yaxis\":{\"title\":{\"text\":\"% of respondents\"}}},                        {\"responsive\": true}                    ).then(function(){\n",
       "                            \n",
       "var gd = document.getElementById('1e6248c2-3125-42d7-b02c-35cf9f62bba2');\n",
       "var x = new MutationObserver(function (mutations, observer) {{\n",
       "        var display = window.getComputedStyle(gd).display;\n",
       "        if (!display || display === 'none') {{\n",
       "            console.log([gd, 'removed!']);\n",
       "            Plotly.purge(gd);\n",
       "            observer.disconnect();\n",
       "        }}\n",
       "}});\n",
       "\n",
       "// Listen for the removal of the full notebook cells\n",
       "var notebookContainer = gd.closest('#notebook-container');\n",
       "if (notebookContainer) {{\n",
       "    x.observe(notebookContainer, {childList: true});\n",
       "}}\n",
       "\n",
       "// Listen for the clearing of the current output cell\n",
       "var outputEl = gd.closest('.output');\n",
       "if (outputEl) {{\n",
       "    x.observe(outputEl, {childList: true});\n",
       "}}\n",
       "\n",
       "                        })                };                });            </script>        </div>"
      ]
     },
     "metadata": {},
     "output_type": "display_data"
    }
   ],
   "source": [
    "q10_dictionary_of_counts_2018_simplified = {\n",
    "    'Kaggle Notebooks' : (responses_df_2018['Q14_Part_1'].count()),\n",
    "    'Colab Notebooks': (responses_df_2018['Q14_Part_2'].count())\n",
    "}\n",
    "\n",
    "q10_dictionary_of_counts_2019_simplified = {\n",
    "    'Kaggle Notebooks' : (responses_df_2019['Q17_Part_1'].count()),\n",
    "    'Colab Notebooks': (responses_df_2019['Q17_Part_2'].count())\n",
    "}\n",
    "\n",
    "q10_dictionary_of_counts_2020_simplified = {\n",
    "    'Kaggle Notebooks' : (responses_df_2020['Q10_Part_1'].count()),\n",
    "    'Colab Notebooks': (responses_df_2020['Q10_Part_2'].count())\n",
    "}\n",
    "\n",
    "q10_dictionary_of_counts_2021_simplified = {\n",
    "    'Kaggle Notebooks' : (responses_df_2021['Q10_Part_1'].count()),\n",
    "    'Colab Notebooks': (responses_df_2021['Q10_Part_2'].count())\n",
    "}\n",
    "\n",
    "dictionary_of_counts_2018 = sort_dictionary_by_percent(responses_df_2018,\n",
    "                                                  q10_list_of_columns_2018,\n",
    "                                                  q10_dictionary_of_counts_2018_simplified)\n",
    "dictionary_of_counts_2019 = sort_dictionary_by_percent(responses_df_2019,\n",
    "                                                  q10_list_of_columns_2019,\n",
    "                                                  q10_dictionary_of_counts_2019_simplified)\n",
    "dictionary_of_counts_2020 = sort_dictionary_by_percent(responses_df_2020,\n",
    "                                                  q10_list_of_columns_2020,\n",
    "                                                  q10_dictionary_of_counts_2020_simplified)\n",
    "dictionary_of_counts_2021 = sort_dictionary_by_percent(responses_df_2021,\n",
    "                                                  q10_list_of_columns_2021,\n",
    "                                                  q10_dictionary_of_counts_2021_simplified)\n",
    "\n",
    "title_for_chart = \"Most Popular Hosted Notebook Products from 2018-2021\"\n",
    "title_for_y_axis = '% of respondents'\n",
    "\n",
    "fig = go.Figure(data=[\n",
    "    go.Bar(name='2018 Kaggle Survey', x=pd.Series(dictionary_of_counts_2018.keys()), y=pd.Series(dictionary_of_counts_2018.values())),\n",
    "    go.Bar(name='2019 Kaggle Survey', x=pd.Series(dictionary_of_counts_2019.keys()), y=pd.Series(dictionary_of_counts_2019.values())),\n",
    "    go.Bar(name='2020 Kaggle Survey', x=pd.Series(dictionary_of_counts_2020.keys()), y=pd.Series(dictionary_of_counts_2020.values())),\n",
    "    go.Bar(name='2021 Kaggle Survey', x=pd.Series(dictionary_of_counts_2021.keys()), y=pd.Series(dictionary_of_counts_2021.values()))\n",
    "           ])\n",
    "fig.update_layout(barmode='group') \n",
    "fig.update_layout(title=title_for_chart,yaxis=dict(title=title_for_y_axis))\n",
    "fig.show()"
   ]
  },
  {
   "cell_type": "code",
   "execution_count": 28,
   "id": "a82ac5c0",
   "metadata": {},
   "outputs": [
    {
     "data": {
      "application/vnd.plotly.v1+json": {
       "config": {
        "plotlyServerURL": "https://plot.ly"
       },
       "data": [
        {
         "name": "2019 Kaggle Survey",
         "type": "bar",
         "x": [
          "Google Cloud TPUs"
         ],
         "y": [
          3.7
         ]
        },
        {
         "name": "2020 Kaggle Survey",
         "type": "bar",
         "x": [
          "Google Cloud TPUs"
         ],
         "y": [
          7.3
         ]
        },
        {
         "name": "2021 Kaggle Survey",
         "type": "bar",
         "x": [
          "Google Cloud TPUs"
         ],
         "y": [
          16.3
         ]
        }
       ],
       "layout": {
        "barmode": "group",
        "template": {
         "data": {
          "bar": [
           {
            "error_x": {
             "color": "#2a3f5f"
            },
            "error_y": {
             "color": "#2a3f5f"
            },
            "marker": {
             "line": {
              "color": "#E5ECF6",
              "width": 0.5
             },
             "pattern": {
              "fillmode": "overlay",
              "size": 10,
              "solidity": 0.2
             }
            },
            "type": "bar"
           }
          ],
          "barpolar": [
           {
            "marker": {
             "line": {
              "color": "#E5ECF6",
              "width": 0.5
             },
             "pattern": {
              "fillmode": "overlay",
              "size": 10,
              "solidity": 0.2
             }
            },
            "type": "barpolar"
           }
          ],
          "carpet": [
           {
            "aaxis": {
             "endlinecolor": "#2a3f5f",
             "gridcolor": "white",
             "linecolor": "white",
             "minorgridcolor": "white",
             "startlinecolor": "#2a3f5f"
            },
            "baxis": {
             "endlinecolor": "#2a3f5f",
             "gridcolor": "white",
             "linecolor": "white",
             "minorgridcolor": "white",
             "startlinecolor": "#2a3f5f"
            },
            "type": "carpet"
           }
          ],
          "choropleth": [
           {
            "colorbar": {
             "outlinewidth": 0,
             "ticks": ""
            },
            "type": "choropleth"
           }
          ],
          "contour": [
           {
            "colorbar": {
             "outlinewidth": 0,
             "ticks": ""
            },
            "colorscale": [
             [
              0,
              "#0d0887"
             ],
             [
              0.1111111111111111,
              "#46039f"
             ],
             [
              0.2222222222222222,
              "#7201a8"
             ],
             [
              0.3333333333333333,
              "#9c179e"
             ],
             [
              0.4444444444444444,
              "#bd3786"
             ],
             [
              0.5555555555555556,
              "#d8576b"
             ],
             [
              0.6666666666666666,
              "#ed7953"
             ],
             [
              0.7777777777777778,
              "#fb9f3a"
             ],
             [
              0.8888888888888888,
              "#fdca26"
             ],
             [
              1,
              "#f0f921"
             ]
            ],
            "type": "contour"
           }
          ],
          "contourcarpet": [
           {
            "colorbar": {
             "outlinewidth": 0,
             "ticks": ""
            },
            "type": "contourcarpet"
           }
          ],
          "heatmap": [
           {
            "colorbar": {
             "outlinewidth": 0,
             "ticks": ""
            },
            "colorscale": [
             [
              0,
              "#0d0887"
             ],
             [
              0.1111111111111111,
              "#46039f"
             ],
             [
              0.2222222222222222,
              "#7201a8"
             ],
             [
              0.3333333333333333,
              "#9c179e"
             ],
             [
              0.4444444444444444,
              "#bd3786"
             ],
             [
              0.5555555555555556,
              "#d8576b"
             ],
             [
              0.6666666666666666,
              "#ed7953"
             ],
             [
              0.7777777777777778,
              "#fb9f3a"
             ],
             [
              0.8888888888888888,
              "#fdca26"
             ],
             [
              1,
              "#f0f921"
             ]
            ],
            "type": "heatmap"
           }
          ],
          "heatmapgl": [
           {
            "colorbar": {
             "outlinewidth": 0,
             "ticks": ""
            },
            "colorscale": [
             [
              0,
              "#0d0887"
             ],
             [
              0.1111111111111111,
              "#46039f"
             ],
             [
              0.2222222222222222,
              "#7201a8"
             ],
             [
              0.3333333333333333,
              "#9c179e"
             ],
             [
              0.4444444444444444,
              "#bd3786"
             ],
             [
              0.5555555555555556,
              "#d8576b"
             ],
             [
              0.6666666666666666,
              "#ed7953"
             ],
             [
              0.7777777777777778,
              "#fb9f3a"
             ],
             [
              0.8888888888888888,
              "#fdca26"
             ],
             [
              1,
              "#f0f921"
             ]
            ],
            "type": "heatmapgl"
           }
          ],
          "histogram": [
           {
            "marker": {
             "pattern": {
              "fillmode": "overlay",
              "size": 10,
              "solidity": 0.2
             }
            },
            "type": "histogram"
           }
          ],
          "histogram2d": [
           {
            "colorbar": {
             "outlinewidth": 0,
             "ticks": ""
            },
            "colorscale": [
             [
              0,
              "#0d0887"
             ],
             [
              0.1111111111111111,
              "#46039f"
             ],
             [
              0.2222222222222222,
              "#7201a8"
             ],
             [
              0.3333333333333333,
              "#9c179e"
             ],
             [
              0.4444444444444444,
              "#bd3786"
             ],
             [
              0.5555555555555556,
              "#d8576b"
             ],
             [
              0.6666666666666666,
              "#ed7953"
             ],
             [
              0.7777777777777778,
              "#fb9f3a"
             ],
             [
              0.8888888888888888,
              "#fdca26"
             ],
             [
              1,
              "#f0f921"
             ]
            ],
            "type": "histogram2d"
           }
          ],
          "histogram2dcontour": [
           {
            "colorbar": {
             "outlinewidth": 0,
             "ticks": ""
            },
            "colorscale": [
             [
              0,
              "#0d0887"
             ],
             [
              0.1111111111111111,
              "#46039f"
             ],
             [
              0.2222222222222222,
              "#7201a8"
             ],
             [
              0.3333333333333333,
              "#9c179e"
             ],
             [
              0.4444444444444444,
              "#bd3786"
             ],
             [
              0.5555555555555556,
              "#d8576b"
             ],
             [
              0.6666666666666666,
              "#ed7953"
             ],
             [
              0.7777777777777778,
              "#fb9f3a"
             ],
             [
              0.8888888888888888,
              "#fdca26"
             ],
             [
              1,
              "#f0f921"
             ]
            ],
            "type": "histogram2dcontour"
           }
          ],
          "mesh3d": [
           {
            "colorbar": {
             "outlinewidth": 0,
             "ticks": ""
            },
            "type": "mesh3d"
           }
          ],
          "parcoords": [
           {
            "line": {
             "colorbar": {
              "outlinewidth": 0,
              "ticks": ""
             }
            },
            "type": "parcoords"
           }
          ],
          "pie": [
           {
            "automargin": true,
            "type": "pie"
           }
          ],
          "scatter": [
           {
            "fillpattern": {
             "fillmode": "overlay",
             "size": 10,
             "solidity": 0.2
            },
            "type": "scatter"
           }
          ],
          "scatter3d": [
           {
            "line": {
             "colorbar": {
              "outlinewidth": 0,
              "ticks": ""
             }
            },
            "marker": {
             "colorbar": {
              "outlinewidth": 0,
              "ticks": ""
             }
            },
            "type": "scatter3d"
           }
          ],
          "scattercarpet": [
           {
            "marker": {
             "colorbar": {
              "outlinewidth": 0,
              "ticks": ""
             }
            },
            "type": "scattercarpet"
           }
          ],
          "scattergeo": [
           {
            "marker": {
             "colorbar": {
              "outlinewidth": 0,
              "ticks": ""
             }
            },
            "type": "scattergeo"
           }
          ],
          "scattergl": [
           {
            "marker": {
             "colorbar": {
              "outlinewidth": 0,
              "ticks": ""
             }
            },
            "type": "scattergl"
           }
          ],
          "scattermapbox": [
           {
            "marker": {
             "colorbar": {
              "outlinewidth": 0,
              "ticks": ""
             }
            },
            "type": "scattermapbox"
           }
          ],
          "scatterpolar": [
           {
            "marker": {
             "colorbar": {
              "outlinewidth": 0,
              "ticks": ""
             }
            },
            "type": "scatterpolar"
           }
          ],
          "scatterpolargl": [
           {
            "marker": {
             "colorbar": {
              "outlinewidth": 0,
              "ticks": ""
             }
            },
            "type": "scatterpolargl"
           }
          ],
          "scatterternary": [
           {
            "marker": {
             "colorbar": {
              "outlinewidth": 0,
              "ticks": ""
             }
            },
            "type": "scatterternary"
           }
          ],
          "surface": [
           {
            "colorbar": {
             "outlinewidth": 0,
             "ticks": ""
            },
            "colorscale": [
             [
              0,
              "#0d0887"
             ],
             [
              0.1111111111111111,
              "#46039f"
             ],
             [
              0.2222222222222222,
              "#7201a8"
             ],
             [
              0.3333333333333333,
              "#9c179e"
             ],
             [
              0.4444444444444444,
              "#bd3786"
             ],
             [
              0.5555555555555556,
              "#d8576b"
             ],
             [
              0.6666666666666666,
              "#ed7953"
             ],
             [
              0.7777777777777778,
              "#fb9f3a"
             ],
             [
              0.8888888888888888,
              "#fdca26"
             ],
             [
              1,
              "#f0f921"
             ]
            ],
            "type": "surface"
           }
          ],
          "table": [
           {
            "cells": {
             "fill": {
              "color": "#EBF0F8"
             },
             "line": {
              "color": "white"
             }
            },
            "header": {
             "fill": {
              "color": "#C8D4E3"
             },
             "line": {
              "color": "white"
             }
            },
            "type": "table"
           }
          ]
         },
         "layout": {
          "annotationdefaults": {
           "arrowcolor": "#2a3f5f",
           "arrowhead": 0,
           "arrowwidth": 1
          },
          "autotypenumbers": "strict",
          "coloraxis": {
           "colorbar": {
            "outlinewidth": 0,
            "ticks": ""
           }
          },
          "colorscale": {
           "diverging": [
            [
             0,
             "#8e0152"
            ],
            [
             0.1,
             "#c51b7d"
            ],
            [
             0.2,
             "#de77ae"
            ],
            [
             0.3,
             "#f1b6da"
            ],
            [
             0.4,
             "#fde0ef"
            ],
            [
             0.5,
             "#f7f7f7"
            ],
            [
             0.6,
             "#e6f5d0"
            ],
            [
             0.7,
             "#b8e186"
            ],
            [
             0.8,
             "#7fbc41"
            ],
            [
             0.9,
             "#4d9221"
            ],
            [
             1,
             "#276419"
            ]
           ],
           "sequential": [
            [
             0,
             "#0d0887"
            ],
            [
             0.1111111111111111,
             "#46039f"
            ],
            [
             0.2222222222222222,
             "#7201a8"
            ],
            [
             0.3333333333333333,
             "#9c179e"
            ],
            [
             0.4444444444444444,
             "#bd3786"
            ],
            [
             0.5555555555555556,
             "#d8576b"
            ],
            [
             0.6666666666666666,
             "#ed7953"
            ],
            [
             0.7777777777777778,
             "#fb9f3a"
            ],
            [
             0.8888888888888888,
             "#fdca26"
            ],
            [
             1,
             "#f0f921"
            ]
           ],
           "sequentialminus": [
            [
             0,
             "#0d0887"
            ],
            [
             0.1111111111111111,
             "#46039f"
            ],
            [
             0.2222222222222222,
             "#7201a8"
            ],
            [
             0.3333333333333333,
             "#9c179e"
            ],
            [
             0.4444444444444444,
             "#bd3786"
            ],
            [
             0.5555555555555556,
             "#d8576b"
            ],
            [
             0.6666666666666666,
             "#ed7953"
            ],
            [
             0.7777777777777778,
             "#fb9f3a"
            ],
            [
             0.8888888888888888,
             "#fdca26"
            ],
            [
             1,
             "#f0f921"
            ]
           ]
          },
          "colorway": [
           "#636efa",
           "#EF553B",
           "#00cc96",
           "#ab63fa",
           "#FFA15A",
           "#19d3f3",
           "#FF6692",
           "#B6E880",
           "#FF97FF",
           "#FECB52"
          ],
          "font": {
           "color": "#2a3f5f"
          },
          "geo": {
           "bgcolor": "white",
           "lakecolor": "white",
           "landcolor": "#E5ECF6",
           "showlakes": true,
           "showland": true,
           "subunitcolor": "white"
          },
          "hoverlabel": {
           "align": "left"
          },
          "hovermode": "closest",
          "mapbox": {
           "style": "light"
          },
          "paper_bgcolor": "white",
          "plot_bgcolor": "#E5ECF6",
          "polar": {
           "angularaxis": {
            "gridcolor": "white",
            "linecolor": "white",
            "ticks": ""
           },
           "bgcolor": "#E5ECF6",
           "radialaxis": {
            "gridcolor": "white",
            "linecolor": "white",
            "ticks": ""
           }
          },
          "scene": {
           "xaxis": {
            "backgroundcolor": "#E5ECF6",
            "gridcolor": "white",
            "gridwidth": 2,
            "linecolor": "white",
            "showbackground": true,
            "ticks": "",
            "zerolinecolor": "white"
           },
           "yaxis": {
            "backgroundcolor": "#E5ECF6",
            "gridcolor": "white",
            "gridwidth": 2,
            "linecolor": "white",
            "showbackground": true,
            "ticks": "",
            "zerolinecolor": "white"
           },
           "zaxis": {
            "backgroundcolor": "#E5ECF6",
            "gridcolor": "white",
            "gridwidth": 2,
            "linecolor": "white",
            "showbackground": true,
            "ticks": "",
            "zerolinecolor": "white"
           }
          },
          "shapedefaults": {
           "line": {
            "color": "#2a3f5f"
           }
          },
          "ternary": {
           "aaxis": {
            "gridcolor": "white",
            "linecolor": "white",
            "ticks": ""
           },
           "baxis": {
            "gridcolor": "white",
            "linecolor": "white",
            "ticks": ""
           },
           "bgcolor": "#E5ECF6",
           "caxis": {
            "gridcolor": "white",
            "linecolor": "white",
            "ticks": ""
           }
          },
          "title": {
           "x": 0.05
          },
          "xaxis": {
           "automargin": true,
           "gridcolor": "white",
           "linecolor": "white",
           "ticks": "",
           "title": {
            "standoff": 15
           },
           "zerolinecolor": "white",
           "zerolinewidth": 2
          },
          "yaxis": {
           "automargin": true,
           "gridcolor": "white",
           "linecolor": "white",
           "ticks": "",
           "title": {
            "standoff": 15
           },
           "zerolinecolor": "white",
           "zerolinewidth": 2
          }
         }
        },
        "title": {
         "text": "Regular Usage of TPUs from 2019-2021"
        },
        "yaxis": {
         "title": {
          "text": "% of respondents"
         }
        }
       }
      },
      "text/html": [
       "<div>                            <div id=\"b8559b0d-4162-4b31-895d-9e685a686f9c\" class=\"plotly-graph-div\" style=\"height:525px; width:100%;\"></div>            <script type=\"text/javascript\">                require([\"plotly\"], function(Plotly) {                    window.PLOTLYENV=window.PLOTLYENV || {};                                    if (document.getElementById(\"b8559b0d-4162-4b31-895d-9e685a686f9c\")) {                    Plotly.newPlot(                        \"b8559b0d-4162-4b31-895d-9e685a686f9c\",                        [{\"name\":\"2019 Kaggle Survey\",\"x\":[\"Google Cloud TPUs\"],\"y\":[3.7],\"type\":\"bar\"},{\"name\":\"2020 Kaggle Survey\",\"x\":[\"Google Cloud TPUs\"],\"y\":[7.3],\"type\":\"bar\"},{\"name\":\"2021 Kaggle Survey\",\"x\":[\"Google Cloud TPUs\"],\"y\":[16.3],\"type\":\"bar\"}],                        {\"template\":{\"data\":{\"histogram2dcontour\":[{\"type\":\"histogram2dcontour\",\"colorbar\":{\"outlinewidth\":0,\"ticks\":\"\"},\"colorscale\":[[0.0,\"#0d0887\"],[0.1111111111111111,\"#46039f\"],[0.2222222222222222,\"#7201a8\"],[0.3333333333333333,\"#9c179e\"],[0.4444444444444444,\"#bd3786\"],[0.5555555555555556,\"#d8576b\"],[0.6666666666666666,\"#ed7953\"],[0.7777777777777778,\"#fb9f3a\"],[0.8888888888888888,\"#fdca26\"],[1.0,\"#f0f921\"]]}],\"choropleth\":[{\"type\":\"choropleth\",\"colorbar\":{\"outlinewidth\":0,\"ticks\":\"\"}}],\"histogram2d\":[{\"type\":\"histogram2d\",\"colorbar\":{\"outlinewidth\":0,\"ticks\":\"\"},\"colorscale\":[[0.0,\"#0d0887\"],[0.1111111111111111,\"#46039f\"],[0.2222222222222222,\"#7201a8\"],[0.3333333333333333,\"#9c179e\"],[0.4444444444444444,\"#bd3786\"],[0.5555555555555556,\"#d8576b\"],[0.6666666666666666,\"#ed7953\"],[0.7777777777777778,\"#fb9f3a\"],[0.8888888888888888,\"#fdca26\"],[1.0,\"#f0f921\"]]}],\"heatmap\":[{\"type\":\"heatmap\",\"colorbar\":{\"outlinewidth\":0,\"ticks\":\"\"},\"colorscale\":[[0.0,\"#0d0887\"],[0.1111111111111111,\"#46039f\"],[0.2222222222222222,\"#7201a8\"],[0.3333333333333333,\"#9c179e\"],[0.4444444444444444,\"#bd3786\"],[0.5555555555555556,\"#d8576b\"],[0.6666666666666666,\"#ed7953\"],[0.7777777777777778,\"#fb9f3a\"],[0.8888888888888888,\"#fdca26\"],[1.0,\"#f0f921\"]]}],\"heatmapgl\":[{\"type\":\"heatmapgl\",\"colorbar\":{\"outlinewidth\":0,\"ticks\":\"\"},\"colorscale\":[[0.0,\"#0d0887\"],[0.1111111111111111,\"#46039f\"],[0.2222222222222222,\"#7201a8\"],[0.3333333333333333,\"#9c179e\"],[0.4444444444444444,\"#bd3786\"],[0.5555555555555556,\"#d8576b\"],[0.6666666666666666,\"#ed7953\"],[0.7777777777777778,\"#fb9f3a\"],[0.8888888888888888,\"#fdca26\"],[1.0,\"#f0f921\"]]}],\"contourcarpet\":[{\"type\":\"contourcarpet\",\"colorbar\":{\"outlinewidth\":0,\"ticks\":\"\"}}],\"contour\":[{\"type\":\"contour\",\"colorbar\":{\"outlinewidth\":0,\"ticks\":\"\"},\"colorscale\":[[0.0,\"#0d0887\"],[0.1111111111111111,\"#46039f\"],[0.2222222222222222,\"#7201a8\"],[0.3333333333333333,\"#9c179e\"],[0.4444444444444444,\"#bd3786\"],[0.5555555555555556,\"#d8576b\"],[0.6666666666666666,\"#ed7953\"],[0.7777777777777778,\"#fb9f3a\"],[0.8888888888888888,\"#fdca26\"],[1.0,\"#f0f921\"]]}],\"surface\":[{\"type\":\"surface\",\"colorbar\":{\"outlinewidth\":0,\"ticks\":\"\"},\"colorscale\":[[0.0,\"#0d0887\"],[0.1111111111111111,\"#46039f\"],[0.2222222222222222,\"#7201a8\"],[0.3333333333333333,\"#9c179e\"],[0.4444444444444444,\"#bd3786\"],[0.5555555555555556,\"#d8576b\"],[0.6666666666666666,\"#ed7953\"],[0.7777777777777778,\"#fb9f3a\"],[0.8888888888888888,\"#fdca26\"],[1.0,\"#f0f921\"]]}],\"mesh3d\":[{\"type\":\"mesh3d\",\"colorbar\":{\"outlinewidth\":0,\"ticks\":\"\"}}],\"scatter\":[{\"fillpattern\":{\"fillmode\":\"overlay\",\"size\":10,\"solidity\":0.2},\"type\":\"scatter\"}],\"parcoords\":[{\"type\":\"parcoords\",\"line\":{\"colorbar\":{\"outlinewidth\":0,\"ticks\":\"\"}}}],\"scatterpolargl\":[{\"type\":\"scatterpolargl\",\"marker\":{\"colorbar\":{\"outlinewidth\":0,\"ticks\":\"\"}}}],\"bar\":[{\"error_x\":{\"color\":\"#2a3f5f\"},\"error_y\":{\"color\":\"#2a3f5f\"},\"marker\":{\"line\":{\"color\":\"#E5ECF6\",\"width\":0.5},\"pattern\":{\"fillmode\":\"overlay\",\"size\":10,\"solidity\":0.2}},\"type\":\"bar\"}],\"scattergeo\":[{\"type\":\"scattergeo\",\"marker\":{\"colorbar\":{\"outlinewidth\":0,\"ticks\":\"\"}}}],\"scatterpolar\":[{\"type\":\"scatterpolar\",\"marker\":{\"colorbar\":{\"outlinewidth\":0,\"ticks\":\"\"}}}],\"histogram\":[{\"marker\":{\"pattern\":{\"fillmode\":\"overlay\",\"size\":10,\"solidity\":0.2}},\"type\":\"histogram\"}],\"scattergl\":[{\"type\":\"scattergl\",\"marker\":{\"colorbar\":{\"outlinewidth\":0,\"ticks\":\"\"}}}],\"scatter3d\":[{\"type\":\"scatter3d\",\"line\":{\"colorbar\":{\"outlinewidth\":0,\"ticks\":\"\"}},\"marker\":{\"colorbar\":{\"outlinewidth\":0,\"ticks\":\"\"}}}],\"scattermapbox\":[{\"type\":\"scattermapbox\",\"marker\":{\"colorbar\":{\"outlinewidth\":0,\"ticks\":\"\"}}}],\"scatterternary\":[{\"type\":\"scatterternary\",\"marker\":{\"colorbar\":{\"outlinewidth\":0,\"ticks\":\"\"}}}],\"scattercarpet\":[{\"type\":\"scattercarpet\",\"marker\":{\"colorbar\":{\"outlinewidth\":0,\"ticks\":\"\"}}}],\"carpet\":[{\"aaxis\":{\"endlinecolor\":\"#2a3f5f\",\"gridcolor\":\"white\",\"linecolor\":\"white\",\"minorgridcolor\":\"white\",\"startlinecolor\":\"#2a3f5f\"},\"baxis\":{\"endlinecolor\":\"#2a3f5f\",\"gridcolor\":\"white\",\"linecolor\":\"white\",\"minorgridcolor\":\"white\",\"startlinecolor\":\"#2a3f5f\"},\"type\":\"carpet\"}],\"table\":[{\"cells\":{\"fill\":{\"color\":\"#EBF0F8\"},\"line\":{\"color\":\"white\"}},\"header\":{\"fill\":{\"color\":\"#C8D4E3\"},\"line\":{\"color\":\"white\"}},\"type\":\"table\"}],\"barpolar\":[{\"marker\":{\"line\":{\"color\":\"#E5ECF6\",\"width\":0.5},\"pattern\":{\"fillmode\":\"overlay\",\"size\":10,\"solidity\":0.2}},\"type\":\"barpolar\"}],\"pie\":[{\"automargin\":true,\"type\":\"pie\"}]},\"layout\":{\"autotypenumbers\":\"strict\",\"colorway\":[\"#636efa\",\"#EF553B\",\"#00cc96\",\"#ab63fa\",\"#FFA15A\",\"#19d3f3\",\"#FF6692\",\"#B6E880\",\"#FF97FF\",\"#FECB52\"],\"font\":{\"color\":\"#2a3f5f\"},\"hovermode\":\"closest\",\"hoverlabel\":{\"align\":\"left\"},\"paper_bgcolor\":\"white\",\"plot_bgcolor\":\"#E5ECF6\",\"polar\":{\"bgcolor\":\"#E5ECF6\",\"angularaxis\":{\"gridcolor\":\"white\",\"linecolor\":\"white\",\"ticks\":\"\"},\"radialaxis\":{\"gridcolor\":\"white\",\"linecolor\":\"white\",\"ticks\":\"\"}},\"ternary\":{\"bgcolor\":\"#E5ECF6\",\"aaxis\":{\"gridcolor\":\"white\",\"linecolor\":\"white\",\"ticks\":\"\"},\"baxis\":{\"gridcolor\":\"white\",\"linecolor\":\"white\",\"ticks\":\"\"},\"caxis\":{\"gridcolor\":\"white\",\"linecolor\":\"white\",\"ticks\":\"\"}},\"coloraxis\":{\"colorbar\":{\"outlinewidth\":0,\"ticks\":\"\"}},\"colorscale\":{\"sequential\":[[0.0,\"#0d0887\"],[0.1111111111111111,\"#46039f\"],[0.2222222222222222,\"#7201a8\"],[0.3333333333333333,\"#9c179e\"],[0.4444444444444444,\"#bd3786\"],[0.5555555555555556,\"#d8576b\"],[0.6666666666666666,\"#ed7953\"],[0.7777777777777778,\"#fb9f3a\"],[0.8888888888888888,\"#fdca26\"],[1.0,\"#f0f921\"]],\"sequentialminus\":[[0.0,\"#0d0887\"],[0.1111111111111111,\"#46039f\"],[0.2222222222222222,\"#7201a8\"],[0.3333333333333333,\"#9c179e\"],[0.4444444444444444,\"#bd3786\"],[0.5555555555555556,\"#d8576b\"],[0.6666666666666666,\"#ed7953\"],[0.7777777777777778,\"#fb9f3a\"],[0.8888888888888888,\"#fdca26\"],[1.0,\"#f0f921\"]],\"diverging\":[[0,\"#8e0152\"],[0.1,\"#c51b7d\"],[0.2,\"#de77ae\"],[0.3,\"#f1b6da\"],[0.4,\"#fde0ef\"],[0.5,\"#f7f7f7\"],[0.6,\"#e6f5d0\"],[0.7,\"#b8e186\"],[0.8,\"#7fbc41\"],[0.9,\"#4d9221\"],[1,\"#276419\"]]},\"xaxis\":{\"gridcolor\":\"white\",\"linecolor\":\"white\",\"ticks\":\"\",\"title\":{\"standoff\":15},\"zerolinecolor\":\"white\",\"automargin\":true,\"zerolinewidth\":2},\"yaxis\":{\"gridcolor\":\"white\",\"linecolor\":\"white\",\"ticks\":\"\",\"title\":{\"standoff\":15},\"zerolinecolor\":\"white\",\"automargin\":true,\"zerolinewidth\":2},\"scene\":{\"xaxis\":{\"backgroundcolor\":\"#E5ECF6\",\"gridcolor\":\"white\",\"linecolor\":\"white\",\"showbackground\":true,\"ticks\":\"\",\"zerolinecolor\":\"white\",\"gridwidth\":2},\"yaxis\":{\"backgroundcolor\":\"#E5ECF6\",\"gridcolor\":\"white\",\"linecolor\":\"white\",\"showbackground\":true,\"ticks\":\"\",\"zerolinecolor\":\"white\",\"gridwidth\":2},\"zaxis\":{\"backgroundcolor\":\"#E5ECF6\",\"gridcolor\":\"white\",\"linecolor\":\"white\",\"showbackground\":true,\"ticks\":\"\",\"zerolinecolor\":\"white\",\"gridwidth\":2}},\"shapedefaults\":{\"line\":{\"color\":\"#2a3f5f\"}},\"annotationdefaults\":{\"arrowcolor\":\"#2a3f5f\",\"arrowhead\":0,\"arrowwidth\":1},\"geo\":{\"bgcolor\":\"white\",\"landcolor\":\"#E5ECF6\",\"subunitcolor\":\"white\",\"showland\":true,\"showlakes\":true,\"lakecolor\":\"white\"},\"title\":{\"x\":0.05},\"mapbox\":{\"style\":\"light\"}}},\"barmode\":\"group\",\"title\":{\"text\":\"Regular Usage of TPUs from 2019-2021\"},\"yaxis\":{\"title\":{\"text\":\"% of respondents\"}}},                        {\"responsive\": true}                    ).then(function(){\n",
       "                            \n",
       "var gd = document.getElementById('b8559b0d-4162-4b31-895d-9e685a686f9c');\n",
       "var x = new MutationObserver(function (mutations, observer) {{\n",
       "        var display = window.getComputedStyle(gd).display;\n",
       "        if (!display || display === 'none') {{\n",
       "            console.log([gd, 'removed!']);\n",
       "            Plotly.purge(gd);\n",
       "            observer.disconnect();\n",
       "        }}\n",
       "}});\n",
       "\n",
       "// Listen for the removal of the full notebook cells\n",
       "var notebookContainer = gd.closest('#notebook-container');\n",
       "if (notebookContainer) {{\n",
       "    x.observe(notebookContainer, {childList: true});\n",
       "}}\n",
       "\n",
       "// Listen for the clearing of the current output cell\n",
       "var outputEl = gd.closest('.output');\n",
       "if (outputEl) {{\n",
       "    x.observe(outputEl, {childList: true});\n",
       "}}\n",
       "\n",
       "                        })                };                });            </script>        </div>"
      ]
     },
     "metadata": {},
     "output_type": "display_data"
    }
   ],
   "source": [
    "q12_dictionary_of_counts_2019_simplified = {\n",
    "    'Google Cloud TPUs': (responses_df_2019['Q21_Part_3'].count())\n",
    "}\n",
    "\n",
    "q12_dictionary_of_counts_2020_simplified = {\n",
    "    'Google Cloud TPUs': (responses_df_2020['Q12_Part_2'].count())\n",
    "}\n",
    "\n",
    "q12_dictionary_of_counts_2021_simplified = {\n",
    "    'Google Cloud TPUs': (responses_df_2021['Q12_Part_2'].count())\n",
    "}\n",
    "\n",
    "\n",
    "dictionary_of_counts_2019 = sort_dictionary_by_percent(responses_df_2019,\n",
    "                                                  q12_list_of_columns_2019,\n",
    "                                                  q12_dictionary_of_counts_2019_simplified)\n",
    "dictionary_of_counts_2020 = sort_dictionary_by_percent(responses_df_2020,\n",
    "                                                  q12_list_of_columns_2020,\n",
    "                                                  q12_dictionary_of_counts_2020_simplified)\n",
    "dictionary_of_counts_2021 = sort_dictionary_by_percent(responses_df_2021,\n",
    "                                                  q12_list_of_columns_2021,\n",
    "                                                  q12_dictionary_of_counts_2021_simplified)\n",
    "\n",
    "title_for_chart = \"Regular Usage of TPUs from 2019-2021\"\n",
    "title_for_y_axis = '% of respondents'\n",
    "\n",
    "fig = go.Figure(data=[\n",
    "    go.Bar(name='2019 Kaggle Survey', x=pd.Series(dictionary_of_counts_2019.keys()), y=pd.Series(dictionary_of_counts_2019.values())),\n",
    "    go.Bar(name='2020 Kaggle Survey', x=pd.Series(dictionary_of_counts_2020.keys()), y=pd.Series(dictionary_of_counts_2020.values())),\n",
    "    go.Bar(name='2021 Kaggle Survey', x=pd.Series(dictionary_of_counts_2021.keys()), y=pd.Series(dictionary_of_counts_2021.values()))\n",
    "           ])\n",
    "fig.update_layout(barmode='group') \n",
    "fig.update_layout(title=title_for_chart,yaxis=dict(title=title_for_y_axis))\n",
    "fig.show()"
   ]
  },
  {
   "cell_type": "code",
   "execution_count": 29,
   "id": "c939fdb6",
   "metadata": {},
   "outputs": [
    {
     "data": {
      "application/vnd.plotly.v1+json": {
       "config": {
        "plotlyServerURL": "https://plot.ly"
       },
       "data": [
        {
         "name": "2019 Kaggle Survey",
         "type": "bar",
         "x": [
          "More than 25 times",
          "6-25 times",
          "2-5 times",
          "Once",
          null,
          "Never"
         ],
         "y": [
          1.6,
          1.9,
          9.5,
          10.6,
          23.5,
          76.4
         ]
        },
        {
         "name": "2020 Kaggle Survey",
         "type": "bar",
         "x": [
          "More than 25 times",
          "6-25 times",
          null,
          "Once",
          "2-5 times",
          "Never"
         ],
         "y": [
          2.4,
          4.1,
          5,
          14,
          16.3,
          63.3
         ]
        },
        {
         "name": "2021 Kaggle Survey",
         "type": "bar",
         "x": [
          null,
          "More than 25 times",
          "6-25 times",
          "Once",
          "2-5 times",
          "Never"
         ],
         "y": [
          3.6,
          3.9,
          5.6,
          14.3,
          18.9,
          57.3
         ]
        }
       ],
       "layout": {
        "barmode": "group",
        "template": {
         "data": {
          "bar": [
           {
            "error_x": {
             "color": "#2a3f5f"
            },
            "error_y": {
             "color": "#2a3f5f"
            },
            "marker": {
             "line": {
              "color": "#E5ECF6",
              "width": 0.5
             },
             "pattern": {
              "fillmode": "overlay",
              "size": 10,
              "solidity": 0.2
             }
            },
            "type": "bar"
           }
          ],
          "barpolar": [
           {
            "marker": {
             "line": {
              "color": "#E5ECF6",
              "width": 0.5
             },
             "pattern": {
              "fillmode": "overlay",
              "size": 10,
              "solidity": 0.2
             }
            },
            "type": "barpolar"
           }
          ],
          "carpet": [
           {
            "aaxis": {
             "endlinecolor": "#2a3f5f",
             "gridcolor": "white",
             "linecolor": "white",
             "minorgridcolor": "white",
             "startlinecolor": "#2a3f5f"
            },
            "baxis": {
             "endlinecolor": "#2a3f5f",
             "gridcolor": "white",
             "linecolor": "white",
             "minorgridcolor": "white",
             "startlinecolor": "#2a3f5f"
            },
            "type": "carpet"
           }
          ],
          "choropleth": [
           {
            "colorbar": {
             "outlinewidth": 0,
             "ticks": ""
            },
            "type": "choropleth"
           }
          ],
          "contour": [
           {
            "colorbar": {
             "outlinewidth": 0,
             "ticks": ""
            },
            "colorscale": [
             [
              0,
              "#0d0887"
             ],
             [
              0.1111111111111111,
              "#46039f"
             ],
             [
              0.2222222222222222,
              "#7201a8"
             ],
             [
              0.3333333333333333,
              "#9c179e"
             ],
             [
              0.4444444444444444,
              "#bd3786"
             ],
             [
              0.5555555555555556,
              "#d8576b"
             ],
             [
              0.6666666666666666,
              "#ed7953"
             ],
             [
              0.7777777777777778,
              "#fb9f3a"
             ],
             [
              0.8888888888888888,
              "#fdca26"
             ],
             [
              1,
              "#f0f921"
             ]
            ],
            "type": "contour"
           }
          ],
          "contourcarpet": [
           {
            "colorbar": {
             "outlinewidth": 0,
             "ticks": ""
            },
            "type": "contourcarpet"
           }
          ],
          "heatmap": [
           {
            "colorbar": {
             "outlinewidth": 0,
             "ticks": ""
            },
            "colorscale": [
             [
              0,
              "#0d0887"
             ],
             [
              0.1111111111111111,
              "#46039f"
             ],
             [
              0.2222222222222222,
              "#7201a8"
             ],
             [
              0.3333333333333333,
              "#9c179e"
             ],
             [
              0.4444444444444444,
              "#bd3786"
             ],
             [
              0.5555555555555556,
              "#d8576b"
             ],
             [
              0.6666666666666666,
              "#ed7953"
             ],
             [
              0.7777777777777778,
              "#fb9f3a"
             ],
             [
              0.8888888888888888,
              "#fdca26"
             ],
             [
              1,
              "#f0f921"
             ]
            ],
            "type": "heatmap"
           }
          ],
          "heatmapgl": [
           {
            "colorbar": {
             "outlinewidth": 0,
             "ticks": ""
            },
            "colorscale": [
             [
              0,
              "#0d0887"
             ],
             [
              0.1111111111111111,
              "#46039f"
             ],
             [
              0.2222222222222222,
              "#7201a8"
             ],
             [
              0.3333333333333333,
              "#9c179e"
             ],
             [
              0.4444444444444444,
              "#bd3786"
             ],
             [
              0.5555555555555556,
              "#d8576b"
             ],
             [
              0.6666666666666666,
              "#ed7953"
             ],
             [
              0.7777777777777778,
              "#fb9f3a"
             ],
             [
              0.8888888888888888,
              "#fdca26"
             ],
             [
              1,
              "#f0f921"
             ]
            ],
            "type": "heatmapgl"
           }
          ],
          "histogram": [
           {
            "marker": {
             "pattern": {
              "fillmode": "overlay",
              "size": 10,
              "solidity": 0.2
             }
            },
            "type": "histogram"
           }
          ],
          "histogram2d": [
           {
            "colorbar": {
             "outlinewidth": 0,
             "ticks": ""
            },
            "colorscale": [
             [
              0,
              "#0d0887"
             ],
             [
              0.1111111111111111,
              "#46039f"
             ],
             [
              0.2222222222222222,
              "#7201a8"
             ],
             [
              0.3333333333333333,
              "#9c179e"
             ],
             [
              0.4444444444444444,
              "#bd3786"
             ],
             [
              0.5555555555555556,
              "#d8576b"
             ],
             [
              0.6666666666666666,
              "#ed7953"
             ],
             [
              0.7777777777777778,
              "#fb9f3a"
             ],
             [
              0.8888888888888888,
              "#fdca26"
             ],
             [
              1,
              "#f0f921"
             ]
            ],
            "type": "histogram2d"
           }
          ],
          "histogram2dcontour": [
           {
            "colorbar": {
             "outlinewidth": 0,
             "ticks": ""
            },
            "colorscale": [
             [
              0,
              "#0d0887"
             ],
             [
              0.1111111111111111,
              "#46039f"
             ],
             [
              0.2222222222222222,
              "#7201a8"
             ],
             [
              0.3333333333333333,
              "#9c179e"
             ],
             [
              0.4444444444444444,
              "#bd3786"
             ],
             [
              0.5555555555555556,
              "#d8576b"
             ],
             [
              0.6666666666666666,
              "#ed7953"
             ],
             [
              0.7777777777777778,
              "#fb9f3a"
             ],
             [
              0.8888888888888888,
              "#fdca26"
             ],
             [
              1,
              "#f0f921"
             ]
            ],
            "type": "histogram2dcontour"
           }
          ],
          "mesh3d": [
           {
            "colorbar": {
             "outlinewidth": 0,
             "ticks": ""
            },
            "type": "mesh3d"
           }
          ],
          "parcoords": [
           {
            "line": {
             "colorbar": {
              "outlinewidth": 0,
              "ticks": ""
             }
            },
            "type": "parcoords"
           }
          ],
          "pie": [
           {
            "automargin": true,
            "type": "pie"
           }
          ],
          "scatter": [
           {
            "fillpattern": {
             "fillmode": "overlay",
             "size": 10,
             "solidity": 0.2
            },
            "type": "scatter"
           }
          ],
          "scatter3d": [
           {
            "line": {
             "colorbar": {
              "outlinewidth": 0,
              "ticks": ""
             }
            },
            "marker": {
             "colorbar": {
              "outlinewidth": 0,
              "ticks": ""
             }
            },
            "type": "scatter3d"
           }
          ],
          "scattercarpet": [
           {
            "marker": {
             "colorbar": {
              "outlinewidth": 0,
              "ticks": ""
             }
            },
            "type": "scattercarpet"
           }
          ],
          "scattergeo": [
           {
            "marker": {
             "colorbar": {
              "outlinewidth": 0,
              "ticks": ""
             }
            },
            "type": "scattergeo"
           }
          ],
          "scattergl": [
           {
            "marker": {
             "colorbar": {
              "outlinewidth": 0,
              "ticks": ""
             }
            },
            "type": "scattergl"
           }
          ],
          "scattermapbox": [
           {
            "marker": {
             "colorbar": {
              "outlinewidth": 0,
              "ticks": ""
             }
            },
            "type": "scattermapbox"
           }
          ],
          "scatterpolar": [
           {
            "marker": {
             "colorbar": {
              "outlinewidth": 0,
              "ticks": ""
             }
            },
            "type": "scatterpolar"
           }
          ],
          "scatterpolargl": [
           {
            "marker": {
             "colorbar": {
              "outlinewidth": 0,
              "ticks": ""
             }
            },
            "type": "scatterpolargl"
           }
          ],
          "scatterternary": [
           {
            "marker": {
             "colorbar": {
              "outlinewidth": 0,
              "ticks": ""
             }
            },
            "type": "scatterternary"
           }
          ],
          "surface": [
           {
            "colorbar": {
             "outlinewidth": 0,
             "ticks": ""
            },
            "colorscale": [
             [
              0,
              "#0d0887"
             ],
             [
              0.1111111111111111,
              "#46039f"
             ],
             [
              0.2222222222222222,
              "#7201a8"
             ],
             [
              0.3333333333333333,
              "#9c179e"
             ],
             [
              0.4444444444444444,
              "#bd3786"
             ],
             [
              0.5555555555555556,
              "#d8576b"
             ],
             [
              0.6666666666666666,
              "#ed7953"
             ],
             [
              0.7777777777777778,
              "#fb9f3a"
             ],
             [
              0.8888888888888888,
              "#fdca26"
             ],
             [
              1,
              "#f0f921"
             ]
            ],
            "type": "surface"
           }
          ],
          "table": [
           {
            "cells": {
             "fill": {
              "color": "#EBF0F8"
             },
             "line": {
              "color": "white"
             }
            },
            "header": {
             "fill": {
              "color": "#C8D4E3"
             },
             "line": {
              "color": "white"
             }
            },
            "type": "table"
           }
          ]
         },
         "layout": {
          "annotationdefaults": {
           "arrowcolor": "#2a3f5f",
           "arrowhead": 0,
           "arrowwidth": 1
          },
          "autotypenumbers": "strict",
          "coloraxis": {
           "colorbar": {
            "outlinewidth": 0,
            "ticks": ""
           }
          },
          "colorscale": {
           "diverging": [
            [
             0,
             "#8e0152"
            ],
            [
             0.1,
             "#c51b7d"
            ],
            [
             0.2,
             "#de77ae"
            ],
            [
             0.3,
             "#f1b6da"
            ],
            [
             0.4,
             "#fde0ef"
            ],
            [
             0.5,
             "#f7f7f7"
            ],
            [
             0.6,
             "#e6f5d0"
            ],
            [
             0.7,
             "#b8e186"
            ],
            [
             0.8,
             "#7fbc41"
            ],
            [
             0.9,
             "#4d9221"
            ],
            [
             1,
             "#276419"
            ]
           ],
           "sequential": [
            [
             0,
             "#0d0887"
            ],
            [
             0.1111111111111111,
             "#46039f"
            ],
            [
             0.2222222222222222,
             "#7201a8"
            ],
            [
             0.3333333333333333,
             "#9c179e"
            ],
            [
             0.4444444444444444,
             "#bd3786"
            ],
            [
             0.5555555555555556,
             "#d8576b"
            ],
            [
             0.6666666666666666,
             "#ed7953"
            ],
            [
             0.7777777777777778,
             "#fb9f3a"
            ],
            [
             0.8888888888888888,
             "#fdca26"
            ],
            [
             1,
             "#f0f921"
            ]
           ],
           "sequentialminus": [
            [
             0,
             "#0d0887"
            ],
            [
             0.1111111111111111,
             "#46039f"
            ],
            [
             0.2222222222222222,
             "#7201a8"
            ],
            [
             0.3333333333333333,
             "#9c179e"
            ],
            [
             0.4444444444444444,
             "#bd3786"
            ],
            [
             0.5555555555555556,
             "#d8576b"
            ],
            [
             0.6666666666666666,
             "#ed7953"
            ],
            [
             0.7777777777777778,
             "#fb9f3a"
            ],
            [
             0.8888888888888888,
             "#fdca26"
            ],
            [
             1,
             "#f0f921"
            ]
           ]
          },
          "colorway": [
           "#636efa",
           "#EF553B",
           "#00cc96",
           "#ab63fa",
           "#FFA15A",
           "#19d3f3",
           "#FF6692",
           "#B6E880",
           "#FF97FF",
           "#FECB52"
          ],
          "font": {
           "color": "#2a3f5f"
          },
          "geo": {
           "bgcolor": "white",
           "lakecolor": "white",
           "landcolor": "#E5ECF6",
           "showlakes": true,
           "showland": true,
           "subunitcolor": "white"
          },
          "hoverlabel": {
           "align": "left"
          },
          "hovermode": "closest",
          "mapbox": {
           "style": "light"
          },
          "paper_bgcolor": "white",
          "plot_bgcolor": "#E5ECF6",
          "polar": {
           "angularaxis": {
            "gridcolor": "white",
            "linecolor": "white",
            "ticks": ""
           },
           "bgcolor": "#E5ECF6",
           "radialaxis": {
            "gridcolor": "white",
            "linecolor": "white",
            "ticks": ""
           }
          },
          "scene": {
           "xaxis": {
            "backgroundcolor": "#E5ECF6",
            "gridcolor": "white",
            "gridwidth": 2,
            "linecolor": "white",
            "showbackground": true,
            "ticks": "",
            "zerolinecolor": "white"
           },
           "yaxis": {
            "backgroundcolor": "#E5ECF6",
            "gridcolor": "white",
            "gridwidth": 2,
            "linecolor": "white",
            "showbackground": true,
            "ticks": "",
            "zerolinecolor": "white"
           },
           "zaxis": {
            "backgroundcolor": "#E5ECF6",
            "gridcolor": "white",
            "gridwidth": 2,
            "linecolor": "white",
            "showbackground": true,
            "ticks": "",
            "zerolinecolor": "white"
           }
          },
          "shapedefaults": {
           "line": {
            "color": "#2a3f5f"
           }
          },
          "ternary": {
           "aaxis": {
            "gridcolor": "white",
            "linecolor": "white",
            "ticks": ""
           },
           "baxis": {
            "gridcolor": "white",
            "linecolor": "white",
            "ticks": ""
           },
           "bgcolor": "#E5ECF6",
           "caxis": {
            "gridcolor": "white",
            "linecolor": "white",
            "ticks": ""
           }
          },
          "title": {
           "x": 0.05
          },
          "xaxis": {
           "automargin": true,
           "gridcolor": "white",
           "linecolor": "white",
           "ticks": "",
           "title": {
            "standoff": 15
           },
           "zerolinecolor": "white",
           "zerolinewidth": 2
          },
          "yaxis": {
           "automargin": true,
           "gridcolor": "white",
           "linecolor": "white",
           "ticks": "",
           "title": {
            "standoff": 15
           },
           "zerolinecolor": "white",
           "zerolinewidth": 2
          }
         }
        },
        "title": {
         "text": "Frequency of TPU Usage from 2019 to 2021"
        },
        "yaxis": {
         "title": {
          "text": "% of respondents"
         }
        }
       }
      },
      "text/html": [
       "<div>                            <div id=\"c0441d6e-aec9-4bc8-97cb-5042b7360d9d\" class=\"plotly-graph-div\" style=\"height:525px; width:100%;\"></div>            <script type=\"text/javascript\">                require([\"plotly\"], function(Plotly) {                    window.PLOTLYENV=window.PLOTLYENV || {};                                    if (document.getElementById(\"c0441d6e-aec9-4bc8-97cb-5042b7360d9d\")) {                    Plotly.newPlot(                        \"c0441d6e-aec9-4bc8-97cb-5042b7360d9d\",                        [{\"name\":\"2019 Kaggle Survey\",\"x\":[\"More than 25 times\",\"6-25 times\",\"2-5 times\",\"Once\",null,\"Never\"],\"y\":[1.6,1.9,9.5,10.6,23.5,76.4],\"type\":\"bar\"},{\"name\":\"2020 Kaggle Survey\",\"x\":[\"More than 25 times\",\"6-25 times\",null,\"Once\",\"2-5 times\",\"Never\"],\"y\":[2.4,4.1,5.0,14.0,16.3,63.3],\"type\":\"bar\"},{\"name\":\"2021 Kaggle Survey\",\"x\":[null,\"More than 25 times\",\"6-25 times\",\"Once\",\"2-5 times\",\"Never\"],\"y\":[3.6,3.9,5.6,14.3,18.9,57.3],\"type\":\"bar\"}],                        {\"template\":{\"data\":{\"histogram2dcontour\":[{\"type\":\"histogram2dcontour\",\"colorbar\":{\"outlinewidth\":0,\"ticks\":\"\"},\"colorscale\":[[0.0,\"#0d0887\"],[0.1111111111111111,\"#46039f\"],[0.2222222222222222,\"#7201a8\"],[0.3333333333333333,\"#9c179e\"],[0.4444444444444444,\"#bd3786\"],[0.5555555555555556,\"#d8576b\"],[0.6666666666666666,\"#ed7953\"],[0.7777777777777778,\"#fb9f3a\"],[0.8888888888888888,\"#fdca26\"],[1.0,\"#f0f921\"]]}],\"choropleth\":[{\"type\":\"choropleth\",\"colorbar\":{\"outlinewidth\":0,\"ticks\":\"\"}}],\"histogram2d\":[{\"type\":\"histogram2d\",\"colorbar\":{\"outlinewidth\":0,\"ticks\":\"\"},\"colorscale\":[[0.0,\"#0d0887\"],[0.1111111111111111,\"#46039f\"],[0.2222222222222222,\"#7201a8\"],[0.3333333333333333,\"#9c179e\"],[0.4444444444444444,\"#bd3786\"],[0.5555555555555556,\"#d8576b\"],[0.6666666666666666,\"#ed7953\"],[0.7777777777777778,\"#fb9f3a\"],[0.8888888888888888,\"#fdca26\"],[1.0,\"#f0f921\"]]}],\"heatmap\":[{\"type\":\"heatmap\",\"colorbar\":{\"outlinewidth\":0,\"ticks\":\"\"},\"colorscale\":[[0.0,\"#0d0887\"],[0.1111111111111111,\"#46039f\"],[0.2222222222222222,\"#7201a8\"],[0.3333333333333333,\"#9c179e\"],[0.4444444444444444,\"#bd3786\"],[0.5555555555555556,\"#d8576b\"],[0.6666666666666666,\"#ed7953\"],[0.7777777777777778,\"#fb9f3a\"],[0.8888888888888888,\"#fdca26\"],[1.0,\"#f0f921\"]]}],\"heatmapgl\":[{\"type\":\"heatmapgl\",\"colorbar\":{\"outlinewidth\":0,\"ticks\":\"\"},\"colorscale\":[[0.0,\"#0d0887\"],[0.1111111111111111,\"#46039f\"],[0.2222222222222222,\"#7201a8\"],[0.3333333333333333,\"#9c179e\"],[0.4444444444444444,\"#bd3786\"],[0.5555555555555556,\"#d8576b\"],[0.6666666666666666,\"#ed7953\"],[0.7777777777777778,\"#fb9f3a\"],[0.8888888888888888,\"#fdca26\"],[1.0,\"#f0f921\"]]}],\"contourcarpet\":[{\"type\":\"contourcarpet\",\"colorbar\":{\"outlinewidth\":0,\"ticks\":\"\"}}],\"contour\":[{\"type\":\"contour\",\"colorbar\":{\"outlinewidth\":0,\"ticks\":\"\"},\"colorscale\":[[0.0,\"#0d0887\"],[0.1111111111111111,\"#46039f\"],[0.2222222222222222,\"#7201a8\"],[0.3333333333333333,\"#9c179e\"],[0.4444444444444444,\"#bd3786\"],[0.5555555555555556,\"#d8576b\"],[0.6666666666666666,\"#ed7953\"],[0.7777777777777778,\"#fb9f3a\"],[0.8888888888888888,\"#fdca26\"],[1.0,\"#f0f921\"]]}],\"surface\":[{\"type\":\"surface\",\"colorbar\":{\"outlinewidth\":0,\"ticks\":\"\"},\"colorscale\":[[0.0,\"#0d0887\"],[0.1111111111111111,\"#46039f\"],[0.2222222222222222,\"#7201a8\"],[0.3333333333333333,\"#9c179e\"],[0.4444444444444444,\"#bd3786\"],[0.5555555555555556,\"#d8576b\"],[0.6666666666666666,\"#ed7953\"],[0.7777777777777778,\"#fb9f3a\"],[0.8888888888888888,\"#fdca26\"],[1.0,\"#f0f921\"]]}],\"mesh3d\":[{\"type\":\"mesh3d\",\"colorbar\":{\"outlinewidth\":0,\"ticks\":\"\"}}],\"scatter\":[{\"fillpattern\":{\"fillmode\":\"overlay\",\"size\":10,\"solidity\":0.2},\"type\":\"scatter\"}],\"parcoords\":[{\"type\":\"parcoords\",\"line\":{\"colorbar\":{\"outlinewidth\":0,\"ticks\":\"\"}}}],\"scatterpolargl\":[{\"type\":\"scatterpolargl\",\"marker\":{\"colorbar\":{\"outlinewidth\":0,\"ticks\":\"\"}}}],\"bar\":[{\"error_x\":{\"color\":\"#2a3f5f\"},\"error_y\":{\"color\":\"#2a3f5f\"},\"marker\":{\"line\":{\"color\":\"#E5ECF6\",\"width\":0.5},\"pattern\":{\"fillmode\":\"overlay\",\"size\":10,\"solidity\":0.2}},\"type\":\"bar\"}],\"scattergeo\":[{\"type\":\"scattergeo\",\"marker\":{\"colorbar\":{\"outlinewidth\":0,\"ticks\":\"\"}}}],\"scatterpolar\":[{\"type\":\"scatterpolar\",\"marker\":{\"colorbar\":{\"outlinewidth\":0,\"ticks\":\"\"}}}],\"histogram\":[{\"marker\":{\"pattern\":{\"fillmode\":\"overlay\",\"size\":10,\"solidity\":0.2}},\"type\":\"histogram\"}],\"scattergl\":[{\"type\":\"scattergl\",\"marker\":{\"colorbar\":{\"outlinewidth\":0,\"ticks\":\"\"}}}],\"scatter3d\":[{\"type\":\"scatter3d\",\"line\":{\"colorbar\":{\"outlinewidth\":0,\"ticks\":\"\"}},\"marker\":{\"colorbar\":{\"outlinewidth\":0,\"ticks\":\"\"}}}],\"scattermapbox\":[{\"type\":\"scattermapbox\",\"marker\":{\"colorbar\":{\"outlinewidth\":0,\"ticks\":\"\"}}}],\"scatterternary\":[{\"type\":\"scatterternary\",\"marker\":{\"colorbar\":{\"outlinewidth\":0,\"ticks\":\"\"}}}],\"scattercarpet\":[{\"type\":\"scattercarpet\",\"marker\":{\"colorbar\":{\"outlinewidth\":0,\"ticks\":\"\"}}}],\"carpet\":[{\"aaxis\":{\"endlinecolor\":\"#2a3f5f\",\"gridcolor\":\"white\",\"linecolor\":\"white\",\"minorgridcolor\":\"white\",\"startlinecolor\":\"#2a3f5f\"},\"baxis\":{\"endlinecolor\":\"#2a3f5f\",\"gridcolor\":\"white\",\"linecolor\":\"white\",\"minorgridcolor\":\"white\",\"startlinecolor\":\"#2a3f5f\"},\"type\":\"carpet\"}],\"table\":[{\"cells\":{\"fill\":{\"color\":\"#EBF0F8\"},\"line\":{\"color\":\"white\"}},\"header\":{\"fill\":{\"color\":\"#C8D4E3\"},\"line\":{\"color\":\"white\"}},\"type\":\"table\"}],\"barpolar\":[{\"marker\":{\"line\":{\"color\":\"#E5ECF6\",\"width\":0.5},\"pattern\":{\"fillmode\":\"overlay\",\"size\":10,\"solidity\":0.2}},\"type\":\"barpolar\"}],\"pie\":[{\"automargin\":true,\"type\":\"pie\"}]},\"layout\":{\"autotypenumbers\":\"strict\",\"colorway\":[\"#636efa\",\"#EF553B\",\"#00cc96\",\"#ab63fa\",\"#FFA15A\",\"#19d3f3\",\"#FF6692\",\"#B6E880\",\"#FF97FF\",\"#FECB52\"],\"font\":{\"color\":\"#2a3f5f\"},\"hovermode\":\"closest\",\"hoverlabel\":{\"align\":\"left\"},\"paper_bgcolor\":\"white\",\"plot_bgcolor\":\"#E5ECF6\",\"polar\":{\"bgcolor\":\"#E5ECF6\",\"angularaxis\":{\"gridcolor\":\"white\",\"linecolor\":\"white\",\"ticks\":\"\"},\"radialaxis\":{\"gridcolor\":\"white\",\"linecolor\":\"white\",\"ticks\":\"\"}},\"ternary\":{\"bgcolor\":\"#E5ECF6\",\"aaxis\":{\"gridcolor\":\"white\",\"linecolor\":\"white\",\"ticks\":\"\"},\"baxis\":{\"gridcolor\":\"white\",\"linecolor\":\"white\",\"ticks\":\"\"},\"caxis\":{\"gridcolor\":\"white\",\"linecolor\":\"white\",\"ticks\":\"\"}},\"coloraxis\":{\"colorbar\":{\"outlinewidth\":0,\"ticks\":\"\"}},\"colorscale\":{\"sequential\":[[0.0,\"#0d0887\"],[0.1111111111111111,\"#46039f\"],[0.2222222222222222,\"#7201a8\"],[0.3333333333333333,\"#9c179e\"],[0.4444444444444444,\"#bd3786\"],[0.5555555555555556,\"#d8576b\"],[0.6666666666666666,\"#ed7953\"],[0.7777777777777778,\"#fb9f3a\"],[0.8888888888888888,\"#fdca26\"],[1.0,\"#f0f921\"]],\"sequentialminus\":[[0.0,\"#0d0887\"],[0.1111111111111111,\"#46039f\"],[0.2222222222222222,\"#7201a8\"],[0.3333333333333333,\"#9c179e\"],[0.4444444444444444,\"#bd3786\"],[0.5555555555555556,\"#d8576b\"],[0.6666666666666666,\"#ed7953\"],[0.7777777777777778,\"#fb9f3a\"],[0.8888888888888888,\"#fdca26\"],[1.0,\"#f0f921\"]],\"diverging\":[[0,\"#8e0152\"],[0.1,\"#c51b7d\"],[0.2,\"#de77ae\"],[0.3,\"#f1b6da\"],[0.4,\"#fde0ef\"],[0.5,\"#f7f7f7\"],[0.6,\"#e6f5d0\"],[0.7,\"#b8e186\"],[0.8,\"#7fbc41\"],[0.9,\"#4d9221\"],[1,\"#276419\"]]},\"xaxis\":{\"gridcolor\":\"white\",\"linecolor\":\"white\",\"ticks\":\"\",\"title\":{\"standoff\":15},\"zerolinecolor\":\"white\",\"automargin\":true,\"zerolinewidth\":2},\"yaxis\":{\"gridcolor\":\"white\",\"linecolor\":\"white\",\"ticks\":\"\",\"title\":{\"standoff\":15},\"zerolinecolor\":\"white\",\"automargin\":true,\"zerolinewidth\":2},\"scene\":{\"xaxis\":{\"backgroundcolor\":\"#E5ECF6\",\"gridcolor\":\"white\",\"linecolor\":\"white\",\"showbackground\":true,\"ticks\":\"\",\"zerolinecolor\":\"white\",\"gridwidth\":2},\"yaxis\":{\"backgroundcolor\":\"#E5ECF6\",\"gridcolor\":\"white\",\"linecolor\":\"white\",\"showbackground\":true,\"ticks\":\"\",\"zerolinecolor\":\"white\",\"gridwidth\":2},\"zaxis\":{\"backgroundcolor\":\"#E5ECF6\",\"gridcolor\":\"white\",\"linecolor\":\"white\",\"showbackground\":true,\"ticks\":\"\",\"zerolinecolor\":\"white\",\"gridwidth\":2}},\"shapedefaults\":{\"line\":{\"color\":\"#2a3f5f\"}},\"annotationdefaults\":{\"arrowcolor\":\"#2a3f5f\",\"arrowhead\":0,\"arrowwidth\":1},\"geo\":{\"bgcolor\":\"white\",\"landcolor\":\"#E5ECF6\",\"subunitcolor\":\"white\",\"showland\":true,\"showlakes\":true,\"lakecolor\":\"white\"},\"title\":{\"x\":0.05},\"mapbox\":{\"style\":\"light\"}}},\"barmode\":\"group\",\"title\":{\"text\":\"Frequency of TPU Usage from 2019 to 2021\"},\"yaxis\":{\"title\":{\"text\":\"% of respondents\"}}},                        {\"responsive\": true}                    ).then(function(){\n",
       "                            \n",
       "var gd = document.getElementById('c0441d6e-aec9-4bc8-97cb-5042b7360d9d');\n",
       "var x = new MutationObserver(function (mutations, observer) {{\n",
       "        var display = window.getComputedStyle(gd).display;\n",
       "        if (!display || display === 'none') {{\n",
       "            console.log([gd, 'removed!']);\n",
       "            Plotly.purge(gd);\n",
       "            observer.disconnect();\n",
       "        }}\n",
       "}});\n",
       "\n",
       "// Listen for the removal of the full notebook cells\n",
       "var notebookContainer = gd.closest('#notebook-container');\n",
       "if (notebookContainer) {{\n",
       "    x.observe(notebookContainer, {childList: true});\n",
       "}}\n",
       "\n",
       "// Listen for the clearing of the current output cell\n",
       "var outputEl = gd.closest('.output');\n",
       "if (outputEl) {{\n",
       "    x.observe(outputEl, {childList: true});\n",
       "}}\n",
       "\n",
       "                        })                };                });            </script>        </div>"
      ]
     },
     "metadata": {},
     "output_type": "display_data"
    }
   ],
   "source": [
    "responses_df_2021_backup = responses_df_2021.copy()\n",
    "responses_df_2019['Q22'].replace([\"> 25 times\"], \"More than 25 times\",inplace=True)\n",
    "responses_df_2019['Q22'].replace([\"6-24 times\"], \"6-25 times\",inplace=True)\n",
    "\n",
    "sorted_percentages_2019 = count_then_return_percent(responses_df_2019,'Q22').iloc[::-1]\n",
    "sorted_percentages_2020 = count_then_return_percent(responses_df_2020,'Q13').iloc[::-1]\n",
    "sorted_percentages_2021 = count_then_return_percent(responses_df_2021,'Q13').iloc[::-1]\n",
    "\n",
    "title_for_chart = 'Frequency of TPU Usage from 2019 to 2021'\n",
    "title_for_y_axis = '% of respondents'\n",
    "\n",
    "fig = go.Figure(data=[\n",
    "    go.Bar(name='2019 Kaggle Survey', x=pd.Series(sorted_percentages_2019.index), y=pd.Series(sorted_percentages_2019)),\n",
    "    go.Bar(name='2020 Kaggle Survey', x=pd.Series(sorted_percentages_2020.index), y=pd.Series(sorted_percentages_2020)),\n",
    "    go.Bar(name='2021 Kaggle Survey', x=pd.Series(sorted_percentages_2021.index), y=pd.Series(sorted_percentages_2021))\n",
    "           ])\n",
    "fig.update_layout(barmode='group') \n",
    "fig.update_layout(title=title_for_chart,yaxis=dict(title=title_for_y_axis))\n",
    "fig.show()\n",
    "responses_df_2021 = responses_df_2021_backup.copy()"
   ]
  },
  {
   "cell_type": "code",
   "execution_count": 30,
   "id": "f516e294",
   "metadata": {},
   "outputs": [
    {
     "data": {
      "application/vnd.plotly.v1+json": {
       "config": {
        "plotlyServerURL": "https://plot.ly"
       },
       "data": [
        {
         "name": "2018 Kaggle Survey",
         "type": "bar",
         "x": [
          "Plotly / Plotly Express",
          "Ggplot / ggplot2",
          "Seaborn",
          "Matplotlib"
         ],
         "y": [
          47.5,
          56.4,
          62.7,
          83.1
         ]
        },
        {
         "name": "2019 Kaggle Survey",
         "type": "bar",
         "x": [
          "Plotly / Plotly Express",
          "Ggplot / ggplot2",
          "Seaborn",
          "Matplotlib"
         ],
         "y": [
          32.6,
          37.5,
          62.1,
          78.2
         ]
        },
        {
         "name": "2020 Kaggle Survey",
         "type": "bar",
         "x": [
          "Ggplot / ggplot2",
          "Plotly / Plotly Express",
          "Seaborn",
          "Matplotlib"
         ],
         "y": [
          36.6,
          40.6,
          67.3,
          81.6
         ]
        },
        {
         "name": "2021 Kaggle Survey",
         "type": "bar",
         "x": [
          "Ggplot / ggplot2",
          "Plotly / Plotly Express",
          "Seaborn",
          "Matplotlib"
         ],
         "y": [
          30.4,
          40.5,
          69.7,
          82.5
         ]
        }
       ],
       "layout": {
        "barmode": "group",
        "template": {
         "data": {
          "bar": [
           {
            "error_x": {
             "color": "#2a3f5f"
            },
            "error_y": {
             "color": "#2a3f5f"
            },
            "marker": {
             "line": {
              "color": "#E5ECF6",
              "width": 0.5
             },
             "pattern": {
              "fillmode": "overlay",
              "size": 10,
              "solidity": 0.2
             }
            },
            "type": "bar"
           }
          ],
          "barpolar": [
           {
            "marker": {
             "line": {
              "color": "#E5ECF6",
              "width": 0.5
             },
             "pattern": {
              "fillmode": "overlay",
              "size": 10,
              "solidity": 0.2
             }
            },
            "type": "barpolar"
           }
          ],
          "carpet": [
           {
            "aaxis": {
             "endlinecolor": "#2a3f5f",
             "gridcolor": "white",
             "linecolor": "white",
             "minorgridcolor": "white",
             "startlinecolor": "#2a3f5f"
            },
            "baxis": {
             "endlinecolor": "#2a3f5f",
             "gridcolor": "white",
             "linecolor": "white",
             "minorgridcolor": "white",
             "startlinecolor": "#2a3f5f"
            },
            "type": "carpet"
           }
          ],
          "choropleth": [
           {
            "colorbar": {
             "outlinewidth": 0,
             "ticks": ""
            },
            "type": "choropleth"
           }
          ],
          "contour": [
           {
            "colorbar": {
             "outlinewidth": 0,
             "ticks": ""
            },
            "colorscale": [
             [
              0,
              "#0d0887"
             ],
             [
              0.1111111111111111,
              "#46039f"
             ],
             [
              0.2222222222222222,
              "#7201a8"
             ],
             [
              0.3333333333333333,
              "#9c179e"
             ],
             [
              0.4444444444444444,
              "#bd3786"
             ],
             [
              0.5555555555555556,
              "#d8576b"
             ],
             [
              0.6666666666666666,
              "#ed7953"
             ],
             [
              0.7777777777777778,
              "#fb9f3a"
             ],
             [
              0.8888888888888888,
              "#fdca26"
             ],
             [
              1,
              "#f0f921"
             ]
            ],
            "type": "contour"
           }
          ],
          "contourcarpet": [
           {
            "colorbar": {
             "outlinewidth": 0,
             "ticks": ""
            },
            "type": "contourcarpet"
           }
          ],
          "heatmap": [
           {
            "colorbar": {
             "outlinewidth": 0,
             "ticks": ""
            },
            "colorscale": [
             [
              0,
              "#0d0887"
             ],
             [
              0.1111111111111111,
              "#46039f"
             ],
             [
              0.2222222222222222,
              "#7201a8"
             ],
             [
              0.3333333333333333,
              "#9c179e"
             ],
             [
              0.4444444444444444,
              "#bd3786"
             ],
             [
              0.5555555555555556,
              "#d8576b"
             ],
             [
              0.6666666666666666,
              "#ed7953"
             ],
             [
              0.7777777777777778,
              "#fb9f3a"
             ],
             [
              0.8888888888888888,
              "#fdca26"
             ],
             [
              1,
              "#f0f921"
             ]
            ],
            "type": "heatmap"
           }
          ],
          "heatmapgl": [
           {
            "colorbar": {
             "outlinewidth": 0,
             "ticks": ""
            },
            "colorscale": [
             [
              0,
              "#0d0887"
             ],
             [
              0.1111111111111111,
              "#46039f"
             ],
             [
              0.2222222222222222,
              "#7201a8"
             ],
             [
              0.3333333333333333,
              "#9c179e"
             ],
             [
              0.4444444444444444,
              "#bd3786"
             ],
             [
              0.5555555555555556,
              "#d8576b"
             ],
             [
              0.6666666666666666,
              "#ed7953"
             ],
             [
              0.7777777777777778,
              "#fb9f3a"
             ],
             [
              0.8888888888888888,
              "#fdca26"
             ],
             [
              1,
              "#f0f921"
             ]
            ],
            "type": "heatmapgl"
           }
          ],
          "histogram": [
           {
            "marker": {
             "pattern": {
              "fillmode": "overlay",
              "size": 10,
              "solidity": 0.2
             }
            },
            "type": "histogram"
           }
          ],
          "histogram2d": [
           {
            "colorbar": {
             "outlinewidth": 0,
             "ticks": ""
            },
            "colorscale": [
             [
              0,
              "#0d0887"
             ],
             [
              0.1111111111111111,
              "#46039f"
             ],
             [
              0.2222222222222222,
              "#7201a8"
             ],
             [
              0.3333333333333333,
              "#9c179e"
             ],
             [
              0.4444444444444444,
              "#bd3786"
             ],
             [
              0.5555555555555556,
              "#d8576b"
             ],
             [
              0.6666666666666666,
              "#ed7953"
             ],
             [
              0.7777777777777778,
              "#fb9f3a"
             ],
             [
              0.8888888888888888,
              "#fdca26"
             ],
             [
              1,
              "#f0f921"
             ]
            ],
            "type": "histogram2d"
           }
          ],
          "histogram2dcontour": [
           {
            "colorbar": {
             "outlinewidth": 0,
             "ticks": ""
            },
            "colorscale": [
             [
              0,
              "#0d0887"
             ],
             [
              0.1111111111111111,
              "#46039f"
             ],
             [
              0.2222222222222222,
              "#7201a8"
             ],
             [
              0.3333333333333333,
              "#9c179e"
             ],
             [
              0.4444444444444444,
              "#bd3786"
             ],
             [
              0.5555555555555556,
              "#d8576b"
             ],
             [
              0.6666666666666666,
              "#ed7953"
             ],
             [
              0.7777777777777778,
              "#fb9f3a"
             ],
             [
              0.8888888888888888,
              "#fdca26"
             ],
             [
              1,
              "#f0f921"
             ]
            ],
            "type": "histogram2dcontour"
           }
          ],
          "mesh3d": [
           {
            "colorbar": {
             "outlinewidth": 0,
             "ticks": ""
            },
            "type": "mesh3d"
           }
          ],
          "parcoords": [
           {
            "line": {
             "colorbar": {
              "outlinewidth": 0,
              "ticks": ""
             }
            },
            "type": "parcoords"
           }
          ],
          "pie": [
           {
            "automargin": true,
            "type": "pie"
           }
          ],
          "scatter": [
           {
            "fillpattern": {
             "fillmode": "overlay",
             "size": 10,
             "solidity": 0.2
            },
            "type": "scatter"
           }
          ],
          "scatter3d": [
           {
            "line": {
             "colorbar": {
              "outlinewidth": 0,
              "ticks": ""
             }
            },
            "marker": {
             "colorbar": {
              "outlinewidth": 0,
              "ticks": ""
             }
            },
            "type": "scatter3d"
           }
          ],
          "scattercarpet": [
           {
            "marker": {
             "colorbar": {
              "outlinewidth": 0,
              "ticks": ""
             }
            },
            "type": "scattercarpet"
           }
          ],
          "scattergeo": [
           {
            "marker": {
             "colorbar": {
              "outlinewidth": 0,
              "ticks": ""
             }
            },
            "type": "scattergeo"
           }
          ],
          "scattergl": [
           {
            "marker": {
             "colorbar": {
              "outlinewidth": 0,
              "ticks": ""
             }
            },
            "type": "scattergl"
           }
          ],
          "scattermapbox": [
           {
            "marker": {
             "colorbar": {
              "outlinewidth": 0,
              "ticks": ""
             }
            },
            "type": "scattermapbox"
           }
          ],
          "scatterpolar": [
           {
            "marker": {
             "colorbar": {
              "outlinewidth": 0,
              "ticks": ""
             }
            },
            "type": "scatterpolar"
           }
          ],
          "scatterpolargl": [
           {
            "marker": {
             "colorbar": {
              "outlinewidth": 0,
              "ticks": ""
             }
            },
            "type": "scatterpolargl"
           }
          ],
          "scatterternary": [
           {
            "marker": {
             "colorbar": {
              "outlinewidth": 0,
              "ticks": ""
             }
            },
            "type": "scatterternary"
           }
          ],
          "surface": [
           {
            "colorbar": {
             "outlinewidth": 0,
             "ticks": ""
            },
            "colorscale": [
             [
              0,
              "#0d0887"
             ],
             [
              0.1111111111111111,
              "#46039f"
             ],
             [
              0.2222222222222222,
              "#7201a8"
             ],
             [
              0.3333333333333333,
              "#9c179e"
             ],
             [
              0.4444444444444444,
              "#bd3786"
             ],
             [
              0.5555555555555556,
              "#d8576b"
             ],
             [
              0.6666666666666666,
              "#ed7953"
             ],
             [
              0.7777777777777778,
              "#fb9f3a"
             ],
             [
              0.8888888888888888,
              "#fdca26"
             ],
             [
              1,
              "#f0f921"
             ]
            ],
            "type": "surface"
           }
          ],
          "table": [
           {
            "cells": {
             "fill": {
              "color": "#EBF0F8"
             },
             "line": {
              "color": "white"
             }
            },
            "header": {
             "fill": {
              "color": "#C8D4E3"
             },
             "line": {
              "color": "white"
             }
            },
            "type": "table"
           }
          ]
         },
         "layout": {
          "annotationdefaults": {
           "arrowcolor": "#2a3f5f",
           "arrowhead": 0,
           "arrowwidth": 1
          },
          "autotypenumbers": "strict",
          "coloraxis": {
           "colorbar": {
            "outlinewidth": 0,
            "ticks": ""
           }
          },
          "colorscale": {
           "diverging": [
            [
             0,
             "#8e0152"
            ],
            [
             0.1,
             "#c51b7d"
            ],
            [
             0.2,
             "#de77ae"
            ],
            [
             0.3,
             "#f1b6da"
            ],
            [
             0.4,
             "#fde0ef"
            ],
            [
             0.5,
             "#f7f7f7"
            ],
            [
             0.6,
             "#e6f5d0"
            ],
            [
             0.7,
             "#b8e186"
            ],
            [
             0.8,
             "#7fbc41"
            ],
            [
             0.9,
             "#4d9221"
            ],
            [
             1,
             "#276419"
            ]
           ],
           "sequential": [
            [
             0,
             "#0d0887"
            ],
            [
             0.1111111111111111,
             "#46039f"
            ],
            [
             0.2222222222222222,
             "#7201a8"
            ],
            [
             0.3333333333333333,
             "#9c179e"
            ],
            [
             0.4444444444444444,
             "#bd3786"
            ],
            [
             0.5555555555555556,
             "#d8576b"
            ],
            [
             0.6666666666666666,
             "#ed7953"
            ],
            [
             0.7777777777777778,
             "#fb9f3a"
            ],
            [
             0.8888888888888888,
             "#fdca26"
            ],
            [
             1,
             "#f0f921"
            ]
           ],
           "sequentialminus": [
            [
             0,
             "#0d0887"
            ],
            [
             0.1111111111111111,
             "#46039f"
            ],
            [
             0.2222222222222222,
             "#7201a8"
            ],
            [
             0.3333333333333333,
             "#9c179e"
            ],
            [
             0.4444444444444444,
             "#bd3786"
            ],
            [
             0.5555555555555556,
             "#d8576b"
            ],
            [
             0.6666666666666666,
             "#ed7953"
            ],
            [
             0.7777777777777778,
             "#fb9f3a"
            ],
            [
             0.8888888888888888,
             "#fdca26"
            ],
            [
             1,
             "#f0f921"
            ]
           ]
          },
          "colorway": [
           "#636efa",
           "#EF553B",
           "#00cc96",
           "#ab63fa",
           "#FFA15A",
           "#19d3f3",
           "#FF6692",
           "#B6E880",
           "#FF97FF",
           "#FECB52"
          ],
          "font": {
           "color": "#2a3f5f"
          },
          "geo": {
           "bgcolor": "white",
           "lakecolor": "white",
           "landcolor": "#E5ECF6",
           "showlakes": true,
           "showland": true,
           "subunitcolor": "white"
          },
          "hoverlabel": {
           "align": "left"
          },
          "hovermode": "closest",
          "mapbox": {
           "style": "light"
          },
          "paper_bgcolor": "white",
          "plot_bgcolor": "#E5ECF6",
          "polar": {
           "angularaxis": {
            "gridcolor": "white",
            "linecolor": "white",
            "ticks": ""
           },
           "bgcolor": "#E5ECF6",
           "radialaxis": {
            "gridcolor": "white",
            "linecolor": "white",
            "ticks": ""
           }
          },
          "scene": {
           "xaxis": {
            "backgroundcolor": "#E5ECF6",
            "gridcolor": "white",
            "gridwidth": 2,
            "linecolor": "white",
            "showbackground": true,
            "ticks": "",
            "zerolinecolor": "white"
           },
           "yaxis": {
            "backgroundcolor": "#E5ECF6",
            "gridcolor": "white",
            "gridwidth": 2,
            "linecolor": "white",
            "showbackground": true,
            "ticks": "",
            "zerolinecolor": "white"
           },
           "zaxis": {
            "backgroundcolor": "#E5ECF6",
            "gridcolor": "white",
            "gridwidth": 2,
            "linecolor": "white",
            "showbackground": true,
            "ticks": "",
            "zerolinecolor": "white"
           }
          },
          "shapedefaults": {
           "line": {
            "color": "#2a3f5f"
           }
          },
          "ternary": {
           "aaxis": {
            "gridcolor": "white",
            "linecolor": "white",
            "ticks": ""
           },
           "baxis": {
            "gridcolor": "white",
            "linecolor": "white",
            "ticks": ""
           },
           "bgcolor": "#E5ECF6",
           "caxis": {
            "gridcolor": "white",
            "linecolor": "white",
            "ticks": ""
           }
          },
          "title": {
           "x": 0.05
          },
          "xaxis": {
           "automargin": true,
           "gridcolor": "white",
           "linecolor": "white",
           "ticks": "",
           "title": {
            "standoff": 15
           },
           "zerolinecolor": "white",
           "zerolinewidth": 2
          },
          "yaxis": {
           "automargin": true,
           "gridcolor": "white",
           "linecolor": "white",
           "ticks": "",
           "title": {
            "standoff": 15
           },
           "zerolinecolor": "white",
           "zerolinewidth": 2
          }
         }
        },
        "title": {
         "text": "Most common data visualization tools from 2018-2021"
        },
        "yaxis": {
         "title": {
          "text": "% of respondents"
         }
        }
       }
      },
      "text/html": [
       "<div>                            <div id=\"f96d12b8-faf9-4550-aee1-4106b480aece\" class=\"plotly-graph-div\" style=\"height:525px; width:100%;\"></div>            <script type=\"text/javascript\">                require([\"plotly\"], function(Plotly) {                    window.PLOTLYENV=window.PLOTLYENV || {};                                    if (document.getElementById(\"f96d12b8-faf9-4550-aee1-4106b480aece\")) {                    Plotly.newPlot(                        \"f96d12b8-faf9-4550-aee1-4106b480aece\",                        [{\"name\":\"2018 Kaggle Survey\",\"x\":[\"Plotly / Plotly Express\",\"Ggplot / ggplot2\",\"Seaborn\",\"Matplotlib\"],\"y\":[47.5,56.4,62.7,83.1],\"type\":\"bar\"},{\"name\":\"2019 Kaggle Survey\",\"x\":[\"Plotly / Plotly Express\",\"Ggplot / ggplot2\",\"Seaborn\",\"Matplotlib\"],\"y\":[32.6,37.5,62.1,78.2],\"type\":\"bar\"},{\"name\":\"2020 Kaggle Survey\",\"x\":[\"Ggplot / ggplot2\",\"Plotly / Plotly Express\",\"Seaborn\",\"Matplotlib\"],\"y\":[36.6,40.6,67.3,81.6],\"type\":\"bar\"},{\"name\":\"2021 Kaggle Survey\",\"x\":[\"Ggplot / ggplot2\",\"Plotly / Plotly Express\",\"Seaborn\",\"Matplotlib\"],\"y\":[30.4,40.5,69.7,82.5],\"type\":\"bar\"}],                        {\"template\":{\"data\":{\"histogram2dcontour\":[{\"type\":\"histogram2dcontour\",\"colorbar\":{\"outlinewidth\":0,\"ticks\":\"\"},\"colorscale\":[[0.0,\"#0d0887\"],[0.1111111111111111,\"#46039f\"],[0.2222222222222222,\"#7201a8\"],[0.3333333333333333,\"#9c179e\"],[0.4444444444444444,\"#bd3786\"],[0.5555555555555556,\"#d8576b\"],[0.6666666666666666,\"#ed7953\"],[0.7777777777777778,\"#fb9f3a\"],[0.8888888888888888,\"#fdca26\"],[1.0,\"#f0f921\"]]}],\"choropleth\":[{\"type\":\"choropleth\",\"colorbar\":{\"outlinewidth\":0,\"ticks\":\"\"}}],\"histogram2d\":[{\"type\":\"histogram2d\",\"colorbar\":{\"outlinewidth\":0,\"ticks\":\"\"},\"colorscale\":[[0.0,\"#0d0887\"],[0.1111111111111111,\"#46039f\"],[0.2222222222222222,\"#7201a8\"],[0.3333333333333333,\"#9c179e\"],[0.4444444444444444,\"#bd3786\"],[0.5555555555555556,\"#d8576b\"],[0.6666666666666666,\"#ed7953\"],[0.7777777777777778,\"#fb9f3a\"],[0.8888888888888888,\"#fdca26\"],[1.0,\"#f0f921\"]]}],\"heatmap\":[{\"type\":\"heatmap\",\"colorbar\":{\"outlinewidth\":0,\"ticks\":\"\"},\"colorscale\":[[0.0,\"#0d0887\"],[0.1111111111111111,\"#46039f\"],[0.2222222222222222,\"#7201a8\"],[0.3333333333333333,\"#9c179e\"],[0.4444444444444444,\"#bd3786\"],[0.5555555555555556,\"#d8576b\"],[0.6666666666666666,\"#ed7953\"],[0.7777777777777778,\"#fb9f3a\"],[0.8888888888888888,\"#fdca26\"],[1.0,\"#f0f921\"]]}],\"heatmapgl\":[{\"type\":\"heatmapgl\",\"colorbar\":{\"outlinewidth\":0,\"ticks\":\"\"},\"colorscale\":[[0.0,\"#0d0887\"],[0.1111111111111111,\"#46039f\"],[0.2222222222222222,\"#7201a8\"],[0.3333333333333333,\"#9c179e\"],[0.4444444444444444,\"#bd3786\"],[0.5555555555555556,\"#d8576b\"],[0.6666666666666666,\"#ed7953\"],[0.7777777777777778,\"#fb9f3a\"],[0.8888888888888888,\"#fdca26\"],[1.0,\"#f0f921\"]]}],\"contourcarpet\":[{\"type\":\"contourcarpet\",\"colorbar\":{\"outlinewidth\":0,\"ticks\":\"\"}}],\"contour\":[{\"type\":\"contour\",\"colorbar\":{\"outlinewidth\":0,\"ticks\":\"\"},\"colorscale\":[[0.0,\"#0d0887\"],[0.1111111111111111,\"#46039f\"],[0.2222222222222222,\"#7201a8\"],[0.3333333333333333,\"#9c179e\"],[0.4444444444444444,\"#bd3786\"],[0.5555555555555556,\"#d8576b\"],[0.6666666666666666,\"#ed7953\"],[0.7777777777777778,\"#fb9f3a\"],[0.8888888888888888,\"#fdca26\"],[1.0,\"#f0f921\"]]}],\"surface\":[{\"type\":\"surface\",\"colorbar\":{\"outlinewidth\":0,\"ticks\":\"\"},\"colorscale\":[[0.0,\"#0d0887\"],[0.1111111111111111,\"#46039f\"],[0.2222222222222222,\"#7201a8\"],[0.3333333333333333,\"#9c179e\"],[0.4444444444444444,\"#bd3786\"],[0.5555555555555556,\"#d8576b\"],[0.6666666666666666,\"#ed7953\"],[0.7777777777777778,\"#fb9f3a\"],[0.8888888888888888,\"#fdca26\"],[1.0,\"#f0f921\"]]}],\"mesh3d\":[{\"type\":\"mesh3d\",\"colorbar\":{\"outlinewidth\":0,\"ticks\":\"\"}}],\"scatter\":[{\"fillpattern\":{\"fillmode\":\"overlay\",\"size\":10,\"solidity\":0.2},\"type\":\"scatter\"}],\"parcoords\":[{\"type\":\"parcoords\",\"line\":{\"colorbar\":{\"outlinewidth\":0,\"ticks\":\"\"}}}],\"scatterpolargl\":[{\"type\":\"scatterpolargl\",\"marker\":{\"colorbar\":{\"outlinewidth\":0,\"ticks\":\"\"}}}],\"bar\":[{\"error_x\":{\"color\":\"#2a3f5f\"},\"error_y\":{\"color\":\"#2a3f5f\"},\"marker\":{\"line\":{\"color\":\"#E5ECF6\",\"width\":0.5},\"pattern\":{\"fillmode\":\"overlay\",\"size\":10,\"solidity\":0.2}},\"type\":\"bar\"}],\"scattergeo\":[{\"type\":\"scattergeo\",\"marker\":{\"colorbar\":{\"outlinewidth\":0,\"ticks\":\"\"}}}],\"scatterpolar\":[{\"type\":\"scatterpolar\",\"marker\":{\"colorbar\":{\"outlinewidth\":0,\"ticks\":\"\"}}}],\"histogram\":[{\"marker\":{\"pattern\":{\"fillmode\":\"overlay\",\"size\":10,\"solidity\":0.2}},\"type\":\"histogram\"}],\"scattergl\":[{\"type\":\"scattergl\",\"marker\":{\"colorbar\":{\"outlinewidth\":0,\"ticks\":\"\"}}}],\"scatter3d\":[{\"type\":\"scatter3d\",\"line\":{\"colorbar\":{\"outlinewidth\":0,\"ticks\":\"\"}},\"marker\":{\"colorbar\":{\"outlinewidth\":0,\"ticks\":\"\"}}}],\"scattermapbox\":[{\"type\":\"scattermapbox\",\"marker\":{\"colorbar\":{\"outlinewidth\":0,\"ticks\":\"\"}}}],\"scatterternary\":[{\"type\":\"scatterternary\",\"marker\":{\"colorbar\":{\"outlinewidth\":0,\"ticks\":\"\"}}}],\"scattercarpet\":[{\"type\":\"scattercarpet\",\"marker\":{\"colorbar\":{\"outlinewidth\":0,\"ticks\":\"\"}}}],\"carpet\":[{\"aaxis\":{\"endlinecolor\":\"#2a3f5f\",\"gridcolor\":\"white\",\"linecolor\":\"white\",\"minorgridcolor\":\"white\",\"startlinecolor\":\"#2a3f5f\"},\"baxis\":{\"endlinecolor\":\"#2a3f5f\",\"gridcolor\":\"white\",\"linecolor\":\"white\",\"minorgridcolor\":\"white\",\"startlinecolor\":\"#2a3f5f\"},\"type\":\"carpet\"}],\"table\":[{\"cells\":{\"fill\":{\"color\":\"#EBF0F8\"},\"line\":{\"color\":\"white\"}},\"header\":{\"fill\":{\"color\":\"#C8D4E3\"},\"line\":{\"color\":\"white\"}},\"type\":\"table\"}],\"barpolar\":[{\"marker\":{\"line\":{\"color\":\"#E5ECF6\",\"width\":0.5},\"pattern\":{\"fillmode\":\"overlay\",\"size\":10,\"solidity\":0.2}},\"type\":\"barpolar\"}],\"pie\":[{\"automargin\":true,\"type\":\"pie\"}]},\"layout\":{\"autotypenumbers\":\"strict\",\"colorway\":[\"#636efa\",\"#EF553B\",\"#00cc96\",\"#ab63fa\",\"#FFA15A\",\"#19d3f3\",\"#FF6692\",\"#B6E880\",\"#FF97FF\",\"#FECB52\"],\"font\":{\"color\":\"#2a3f5f\"},\"hovermode\":\"closest\",\"hoverlabel\":{\"align\":\"left\"},\"paper_bgcolor\":\"white\",\"plot_bgcolor\":\"#E5ECF6\",\"polar\":{\"bgcolor\":\"#E5ECF6\",\"angularaxis\":{\"gridcolor\":\"white\",\"linecolor\":\"white\",\"ticks\":\"\"},\"radialaxis\":{\"gridcolor\":\"white\",\"linecolor\":\"white\",\"ticks\":\"\"}},\"ternary\":{\"bgcolor\":\"#E5ECF6\",\"aaxis\":{\"gridcolor\":\"white\",\"linecolor\":\"white\",\"ticks\":\"\"},\"baxis\":{\"gridcolor\":\"white\",\"linecolor\":\"white\",\"ticks\":\"\"},\"caxis\":{\"gridcolor\":\"white\",\"linecolor\":\"white\",\"ticks\":\"\"}},\"coloraxis\":{\"colorbar\":{\"outlinewidth\":0,\"ticks\":\"\"}},\"colorscale\":{\"sequential\":[[0.0,\"#0d0887\"],[0.1111111111111111,\"#46039f\"],[0.2222222222222222,\"#7201a8\"],[0.3333333333333333,\"#9c179e\"],[0.4444444444444444,\"#bd3786\"],[0.5555555555555556,\"#d8576b\"],[0.6666666666666666,\"#ed7953\"],[0.7777777777777778,\"#fb9f3a\"],[0.8888888888888888,\"#fdca26\"],[1.0,\"#f0f921\"]],\"sequentialminus\":[[0.0,\"#0d0887\"],[0.1111111111111111,\"#46039f\"],[0.2222222222222222,\"#7201a8\"],[0.3333333333333333,\"#9c179e\"],[0.4444444444444444,\"#bd3786\"],[0.5555555555555556,\"#d8576b\"],[0.6666666666666666,\"#ed7953\"],[0.7777777777777778,\"#fb9f3a\"],[0.8888888888888888,\"#fdca26\"],[1.0,\"#f0f921\"]],\"diverging\":[[0,\"#8e0152\"],[0.1,\"#c51b7d\"],[0.2,\"#de77ae\"],[0.3,\"#f1b6da\"],[0.4,\"#fde0ef\"],[0.5,\"#f7f7f7\"],[0.6,\"#e6f5d0\"],[0.7,\"#b8e186\"],[0.8,\"#7fbc41\"],[0.9,\"#4d9221\"],[1,\"#276419\"]]},\"xaxis\":{\"gridcolor\":\"white\",\"linecolor\":\"white\",\"ticks\":\"\",\"title\":{\"standoff\":15},\"zerolinecolor\":\"white\",\"automargin\":true,\"zerolinewidth\":2},\"yaxis\":{\"gridcolor\":\"white\",\"linecolor\":\"white\",\"ticks\":\"\",\"title\":{\"standoff\":15},\"zerolinecolor\":\"white\",\"automargin\":true,\"zerolinewidth\":2},\"scene\":{\"xaxis\":{\"backgroundcolor\":\"#E5ECF6\",\"gridcolor\":\"white\",\"linecolor\":\"white\",\"showbackground\":true,\"ticks\":\"\",\"zerolinecolor\":\"white\",\"gridwidth\":2},\"yaxis\":{\"backgroundcolor\":\"#E5ECF6\",\"gridcolor\":\"white\",\"linecolor\":\"white\",\"showbackground\":true,\"ticks\":\"\",\"zerolinecolor\":\"white\",\"gridwidth\":2},\"zaxis\":{\"backgroundcolor\":\"#E5ECF6\",\"gridcolor\":\"white\",\"linecolor\":\"white\",\"showbackground\":true,\"ticks\":\"\",\"zerolinecolor\":\"white\",\"gridwidth\":2}},\"shapedefaults\":{\"line\":{\"color\":\"#2a3f5f\"}},\"annotationdefaults\":{\"arrowcolor\":\"#2a3f5f\",\"arrowhead\":0,\"arrowwidth\":1},\"geo\":{\"bgcolor\":\"white\",\"landcolor\":\"#E5ECF6\",\"subunitcolor\":\"white\",\"showland\":true,\"showlakes\":true,\"lakecolor\":\"white\"},\"title\":{\"x\":0.05},\"mapbox\":{\"style\":\"light\"}}},\"barmode\":\"group\",\"title\":{\"text\":\"Most common data visualization tools from 2018-2021\"},\"yaxis\":{\"title\":{\"text\":\"% of respondents\"}}},                        {\"responsive\": true}                    ).then(function(){\n",
       "                            \n",
       "var gd = document.getElementById('f96d12b8-faf9-4550-aee1-4106b480aece');\n",
       "var x = new MutationObserver(function (mutations, observer) {{\n",
       "        var display = window.getComputedStyle(gd).display;\n",
       "        if (!display || display === 'none') {{\n",
       "            console.log([gd, 'removed!']);\n",
       "            Plotly.purge(gd);\n",
       "            observer.disconnect();\n",
       "        }}\n",
       "}});\n",
       "\n",
       "// Listen for the removal of the full notebook cells\n",
       "var notebookContainer = gd.closest('#notebook-container');\n",
       "if (notebookContainer) {{\n",
       "    x.observe(notebookContainer, {childList: true});\n",
       "}}\n",
       "\n",
       "// Listen for the clearing of the current output cell\n",
       "var outputEl = gd.closest('.output');\n",
       "if (outputEl) {{\n",
       "    x.observe(outputEl, {childList: true});\n",
       "}}\n",
       "\n",
       "                        })                };                });            </script>        </div>"
      ]
     },
     "metadata": {},
     "output_type": "display_data"
    }
   ],
   "source": [
    "q14_dictionary_of_counts_2018_simplified = {\n",
    "    'Matplotlib' : (responses_df_2018['Q21_Part_2'].count()),\n",
    "    'Seaborn': (responses_df_2018['Q21_Part_8'].count()),\n",
    "    'Plotly / Plotly Express' : (responses_df_2018['Q21_Part_6'].count()),\n",
    "    'Ggplot / ggplot2' : (responses_df_2018['Q21_Part_1'].count())\n",
    "}\n",
    "\n",
    "q14_dictionary_of_counts_2019_simplified = {\n",
    "    'Matplotlib' : (responses_df_2019['Q20_Part_2'].count()),\n",
    "    'Seaborn': (responses_df_2019['Q20_Part_8'].count()),\n",
    "    'Plotly / Plotly Express' : (responses_df_2019['Q20_Part_6'].count()),\n",
    "    'Ggplot / ggplot2' : (responses_df_2019['Q20_Part_1'].count())\n",
    "}\n",
    "\n",
    "q14_dictionary_of_counts_2020_simplified = {\n",
    "    'Matplotlib' : (responses_df_2020['Q14_Part_1'].count()),\n",
    "    'Seaborn': (responses_df_2020['Q14_Part_2'].count()),\n",
    "    'Plotly / Plotly Express' : (responses_df_2020['Q14_Part_3'].count()),\n",
    "    'Ggplot / ggplot2' : (responses_df_2020['Q14_Part_4'].count())\n",
    "}\n",
    "\n",
    "q14_dictionary_of_counts_2021_simplified = {\n",
    "    'Matplotlib' : (responses_df_2021['Q14_Part_1'].count()),\n",
    "    'Seaborn': (responses_df_2021['Q14_Part_2'].count()),\n",
    "    'Plotly / Plotly Express' : (responses_df_2021['Q14_Part_3'].count()),\n",
    "    'Ggplot / ggplot2' : (responses_df_2021['Q14_Part_4'].count())\n",
    "}\n",
    "\n",
    "dictionary_of_counts_2018 = sort_dictionary_by_percent(responses_df_2018,\n",
    "                                                  q14_list_of_columns_2018,\n",
    "                                                  q14_dictionary_of_counts_2018_simplified)\n",
    "dictionary_of_counts_2019 = sort_dictionary_by_percent(responses_df_2019,\n",
    "                                                  q14_list_of_columns_2019,\n",
    "                                                  q14_dictionary_of_counts_2019_simplified)\n",
    "dictionary_of_counts_2020 = sort_dictionary_by_percent(responses_df_2020,\n",
    "                                                  q14_list_of_columns_2020,\n",
    "                                                  q14_dictionary_of_counts_2020_simplified)\n",
    "dictionary_of_counts_2021 = sort_dictionary_by_percent(responses_df_2021,\n",
    "                                                  q14_list_of_columns_2021,\n",
    "                                                  q14_dictionary_of_counts_2021_simplified)\n",
    "\n",
    "title_for_chart = 'Most common data visualization tools from 2018-2021'\n",
    "title_for_y_axis = '% of respondents'\n",
    "\n",
    "fig = go.Figure(data=[\n",
    "    go.Bar(name='2018 Kaggle Survey', x=pd.Series(dictionary_of_counts_2018.keys()), y=pd.Series(dictionary_of_counts_2018.values())),\n",
    "    go.Bar(name='2019 Kaggle Survey', x=pd.Series(dictionary_of_counts_2019.keys()), y=pd.Series(dictionary_of_counts_2019.values())),\n",
    "    go.Bar(name='2020 Kaggle Survey', x=pd.Series(dictionary_of_counts_2020.keys()), y=pd.Series(dictionary_of_counts_2020.values())),\n",
    "    go.Bar(name='2021 Kaggle Survey', x=pd.Series(dictionary_of_counts_2021.keys()), y=pd.Series(dictionary_of_counts_2021.values()))\n",
    "           ])\n",
    "fig.update_layout(barmode='group') \n",
    "fig.update_layout(title=title_for_chart,yaxis=dict(title=title_for_y_axis))\n",
    "fig.show()"
   ]
  },
  {
   "cell_type": "code",
   "execution_count": 31,
   "id": "0da9f1c7",
   "metadata": {},
   "outputs": [
    {
     "data": {
      "application/vnd.plotly.v1+json": {
       "config": {
        "plotlyServerURL": "https://plot.ly"
       },
       "data": [
        {
         "name": "2018 Kaggle Survey",
         "type": "bar",
         "x": [
          "Fast.ai",
          "CatBoost",
          "LightGBM",
          "PyTorch",
          "Xgboost",
          "Keras",
          "TensorFlow",
          "Scikit-learn"
         ],
         "y": [
          11,
          13,
          24.5,
          27.8,
          58.7,
          62.7,
          68.1,
          88.7
         ]
        },
        {
         "name": "2019 Kaggle Survey",
         "type": "bar",
         "x": [
          "Fast.ai",
          "PyTorch",
          "LightGBM",
          "TensorFlow",
          "Xgboost",
          "Keras",
          "Scikit-learn"
         ],
         "y": [
          9.1,
          26.9,
          28,
          47,
          50.5,
          51.3,
          80.5
         ]
        },
        {
         "name": "2020 Kaggle Survey",
         "type": "bar",
         "x": [
          "Fast.ai",
          "CatBoost",
          "LightGBM",
          "PyTorch",
          "Xgboost",
          "TensorFlow",
          "Keras",
          "Scikit-learn"
         ],
         "y": [
          7.4,
          13.7,
          26.1,
          30.9,
          48.4,
          50.5,
          50.6,
          82.9
         ]
        },
        {
         "name": "2021 Kaggle Survey",
         "type": "bar",
         "x": [
          "Fast.ai",
          "CatBoost",
          "LightGBM",
          "PyTorch",
          "Keras",
          "Xgboost",
          "TensorFlow",
          "Scikit-learn"
         ],
         "y": [
          5.6,
          14.1,
          25.1,
          33.7,
          47.3,
          47.9,
          52.6,
          82.3
         ]
        }
       ],
       "layout": {
        "barmode": "group",
        "template": {
         "data": {
          "bar": [
           {
            "error_x": {
             "color": "#2a3f5f"
            },
            "error_y": {
             "color": "#2a3f5f"
            },
            "marker": {
             "line": {
              "color": "#E5ECF6",
              "width": 0.5
             },
             "pattern": {
              "fillmode": "overlay",
              "size": 10,
              "solidity": 0.2
             }
            },
            "type": "bar"
           }
          ],
          "barpolar": [
           {
            "marker": {
             "line": {
              "color": "#E5ECF6",
              "width": 0.5
             },
             "pattern": {
              "fillmode": "overlay",
              "size": 10,
              "solidity": 0.2
             }
            },
            "type": "barpolar"
           }
          ],
          "carpet": [
           {
            "aaxis": {
             "endlinecolor": "#2a3f5f",
             "gridcolor": "white",
             "linecolor": "white",
             "minorgridcolor": "white",
             "startlinecolor": "#2a3f5f"
            },
            "baxis": {
             "endlinecolor": "#2a3f5f",
             "gridcolor": "white",
             "linecolor": "white",
             "minorgridcolor": "white",
             "startlinecolor": "#2a3f5f"
            },
            "type": "carpet"
           }
          ],
          "choropleth": [
           {
            "colorbar": {
             "outlinewidth": 0,
             "ticks": ""
            },
            "type": "choropleth"
           }
          ],
          "contour": [
           {
            "colorbar": {
             "outlinewidth": 0,
             "ticks": ""
            },
            "colorscale": [
             [
              0,
              "#0d0887"
             ],
             [
              0.1111111111111111,
              "#46039f"
             ],
             [
              0.2222222222222222,
              "#7201a8"
             ],
             [
              0.3333333333333333,
              "#9c179e"
             ],
             [
              0.4444444444444444,
              "#bd3786"
             ],
             [
              0.5555555555555556,
              "#d8576b"
             ],
             [
              0.6666666666666666,
              "#ed7953"
             ],
             [
              0.7777777777777778,
              "#fb9f3a"
             ],
             [
              0.8888888888888888,
              "#fdca26"
             ],
             [
              1,
              "#f0f921"
             ]
            ],
            "type": "contour"
           }
          ],
          "contourcarpet": [
           {
            "colorbar": {
             "outlinewidth": 0,
             "ticks": ""
            },
            "type": "contourcarpet"
           }
          ],
          "heatmap": [
           {
            "colorbar": {
             "outlinewidth": 0,
             "ticks": ""
            },
            "colorscale": [
             [
              0,
              "#0d0887"
             ],
             [
              0.1111111111111111,
              "#46039f"
             ],
             [
              0.2222222222222222,
              "#7201a8"
             ],
             [
              0.3333333333333333,
              "#9c179e"
             ],
             [
              0.4444444444444444,
              "#bd3786"
             ],
             [
              0.5555555555555556,
              "#d8576b"
             ],
             [
              0.6666666666666666,
              "#ed7953"
             ],
             [
              0.7777777777777778,
              "#fb9f3a"
             ],
             [
              0.8888888888888888,
              "#fdca26"
             ],
             [
              1,
              "#f0f921"
             ]
            ],
            "type": "heatmap"
           }
          ],
          "heatmapgl": [
           {
            "colorbar": {
             "outlinewidth": 0,
             "ticks": ""
            },
            "colorscale": [
             [
              0,
              "#0d0887"
             ],
             [
              0.1111111111111111,
              "#46039f"
             ],
             [
              0.2222222222222222,
              "#7201a8"
             ],
             [
              0.3333333333333333,
              "#9c179e"
             ],
             [
              0.4444444444444444,
              "#bd3786"
             ],
             [
              0.5555555555555556,
              "#d8576b"
             ],
             [
              0.6666666666666666,
              "#ed7953"
             ],
             [
              0.7777777777777778,
              "#fb9f3a"
             ],
             [
              0.8888888888888888,
              "#fdca26"
             ],
             [
              1,
              "#f0f921"
             ]
            ],
            "type": "heatmapgl"
           }
          ],
          "histogram": [
           {
            "marker": {
             "pattern": {
              "fillmode": "overlay",
              "size": 10,
              "solidity": 0.2
             }
            },
            "type": "histogram"
           }
          ],
          "histogram2d": [
           {
            "colorbar": {
             "outlinewidth": 0,
             "ticks": ""
            },
            "colorscale": [
             [
              0,
              "#0d0887"
             ],
             [
              0.1111111111111111,
              "#46039f"
             ],
             [
              0.2222222222222222,
              "#7201a8"
             ],
             [
              0.3333333333333333,
              "#9c179e"
             ],
             [
              0.4444444444444444,
              "#bd3786"
             ],
             [
              0.5555555555555556,
              "#d8576b"
             ],
             [
              0.6666666666666666,
              "#ed7953"
             ],
             [
              0.7777777777777778,
              "#fb9f3a"
             ],
             [
              0.8888888888888888,
              "#fdca26"
             ],
             [
              1,
              "#f0f921"
             ]
            ],
            "type": "histogram2d"
           }
          ],
          "histogram2dcontour": [
           {
            "colorbar": {
             "outlinewidth": 0,
             "ticks": ""
            },
            "colorscale": [
             [
              0,
              "#0d0887"
             ],
             [
              0.1111111111111111,
              "#46039f"
             ],
             [
              0.2222222222222222,
              "#7201a8"
             ],
             [
              0.3333333333333333,
              "#9c179e"
             ],
             [
              0.4444444444444444,
              "#bd3786"
             ],
             [
              0.5555555555555556,
              "#d8576b"
             ],
             [
              0.6666666666666666,
              "#ed7953"
             ],
             [
              0.7777777777777778,
              "#fb9f3a"
             ],
             [
              0.8888888888888888,
              "#fdca26"
             ],
             [
              1,
              "#f0f921"
             ]
            ],
            "type": "histogram2dcontour"
           }
          ],
          "mesh3d": [
           {
            "colorbar": {
             "outlinewidth": 0,
             "ticks": ""
            },
            "type": "mesh3d"
           }
          ],
          "parcoords": [
           {
            "line": {
             "colorbar": {
              "outlinewidth": 0,
              "ticks": ""
             }
            },
            "type": "parcoords"
           }
          ],
          "pie": [
           {
            "automargin": true,
            "type": "pie"
           }
          ],
          "scatter": [
           {
            "fillpattern": {
             "fillmode": "overlay",
             "size": 10,
             "solidity": 0.2
            },
            "type": "scatter"
           }
          ],
          "scatter3d": [
           {
            "line": {
             "colorbar": {
              "outlinewidth": 0,
              "ticks": ""
             }
            },
            "marker": {
             "colorbar": {
              "outlinewidth": 0,
              "ticks": ""
             }
            },
            "type": "scatter3d"
           }
          ],
          "scattercarpet": [
           {
            "marker": {
             "colorbar": {
              "outlinewidth": 0,
              "ticks": ""
             }
            },
            "type": "scattercarpet"
           }
          ],
          "scattergeo": [
           {
            "marker": {
             "colorbar": {
              "outlinewidth": 0,
              "ticks": ""
             }
            },
            "type": "scattergeo"
           }
          ],
          "scattergl": [
           {
            "marker": {
             "colorbar": {
              "outlinewidth": 0,
              "ticks": ""
             }
            },
            "type": "scattergl"
           }
          ],
          "scattermapbox": [
           {
            "marker": {
             "colorbar": {
              "outlinewidth": 0,
              "ticks": ""
             }
            },
            "type": "scattermapbox"
           }
          ],
          "scatterpolar": [
           {
            "marker": {
             "colorbar": {
              "outlinewidth": 0,
              "ticks": ""
             }
            },
            "type": "scatterpolar"
           }
          ],
          "scatterpolargl": [
           {
            "marker": {
             "colorbar": {
              "outlinewidth": 0,
              "ticks": ""
             }
            },
            "type": "scatterpolargl"
           }
          ],
          "scatterternary": [
           {
            "marker": {
             "colorbar": {
              "outlinewidth": 0,
              "ticks": ""
             }
            },
            "type": "scatterternary"
           }
          ],
          "surface": [
           {
            "colorbar": {
             "outlinewidth": 0,
             "ticks": ""
            },
            "colorscale": [
             [
              0,
              "#0d0887"
             ],
             [
              0.1111111111111111,
              "#46039f"
             ],
             [
              0.2222222222222222,
              "#7201a8"
             ],
             [
              0.3333333333333333,
              "#9c179e"
             ],
             [
              0.4444444444444444,
              "#bd3786"
             ],
             [
              0.5555555555555556,
              "#d8576b"
             ],
             [
              0.6666666666666666,
              "#ed7953"
             ],
             [
              0.7777777777777778,
              "#fb9f3a"
             ],
             [
              0.8888888888888888,
              "#fdca26"
             ],
             [
              1,
              "#f0f921"
             ]
            ],
            "type": "surface"
           }
          ],
          "table": [
           {
            "cells": {
             "fill": {
              "color": "#EBF0F8"
             },
             "line": {
              "color": "white"
             }
            },
            "header": {
             "fill": {
              "color": "#C8D4E3"
             },
             "line": {
              "color": "white"
             }
            },
            "type": "table"
           }
          ]
         },
         "layout": {
          "annotationdefaults": {
           "arrowcolor": "#2a3f5f",
           "arrowhead": 0,
           "arrowwidth": 1
          },
          "autotypenumbers": "strict",
          "coloraxis": {
           "colorbar": {
            "outlinewidth": 0,
            "ticks": ""
           }
          },
          "colorscale": {
           "diverging": [
            [
             0,
             "#8e0152"
            ],
            [
             0.1,
             "#c51b7d"
            ],
            [
             0.2,
             "#de77ae"
            ],
            [
             0.3,
             "#f1b6da"
            ],
            [
             0.4,
             "#fde0ef"
            ],
            [
             0.5,
             "#f7f7f7"
            ],
            [
             0.6,
             "#e6f5d0"
            ],
            [
             0.7,
             "#b8e186"
            ],
            [
             0.8,
             "#7fbc41"
            ],
            [
             0.9,
             "#4d9221"
            ],
            [
             1,
             "#276419"
            ]
           ],
           "sequential": [
            [
             0,
             "#0d0887"
            ],
            [
             0.1111111111111111,
             "#46039f"
            ],
            [
             0.2222222222222222,
             "#7201a8"
            ],
            [
             0.3333333333333333,
             "#9c179e"
            ],
            [
             0.4444444444444444,
             "#bd3786"
            ],
            [
             0.5555555555555556,
             "#d8576b"
            ],
            [
             0.6666666666666666,
             "#ed7953"
            ],
            [
             0.7777777777777778,
             "#fb9f3a"
            ],
            [
             0.8888888888888888,
             "#fdca26"
            ],
            [
             1,
             "#f0f921"
            ]
           ],
           "sequentialminus": [
            [
             0,
             "#0d0887"
            ],
            [
             0.1111111111111111,
             "#46039f"
            ],
            [
             0.2222222222222222,
             "#7201a8"
            ],
            [
             0.3333333333333333,
             "#9c179e"
            ],
            [
             0.4444444444444444,
             "#bd3786"
            ],
            [
             0.5555555555555556,
             "#d8576b"
            ],
            [
             0.6666666666666666,
             "#ed7953"
            ],
            [
             0.7777777777777778,
             "#fb9f3a"
            ],
            [
             0.8888888888888888,
             "#fdca26"
            ],
            [
             1,
             "#f0f921"
            ]
           ]
          },
          "colorway": [
           "#636efa",
           "#EF553B",
           "#00cc96",
           "#ab63fa",
           "#FFA15A",
           "#19d3f3",
           "#FF6692",
           "#B6E880",
           "#FF97FF",
           "#FECB52"
          ],
          "font": {
           "color": "#2a3f5f"
          },
          "geo": {
           "bgcolor": "white",
           "lakecolor": "white",
           "landcolor": "#E5ECF6",
           "showlakes": true,
           "showland": true,
           "subunitcolor": "white"
          },
          "hoverlabel": {
           "align": "left"
          },
          "hovermode": "closest",
          "mapbox": {
           "style": "light"
          },
          "paper_bgcolor": "white",
          "plot_bgcolor": "#E5ECF6",
          "polar": {
           "angularaxis": {
            "gridcolor": "white",
            "linecolor": "white",
            "ticks": ""
           },
           "bgcolor": "#E5ECF6",
           "radialaxis": {
            "gridcolor": "white",
            "linecolor": "white",
            "ticks": ""
           }
          },
          "scene": {
           "xaxis": {
            "backgroundcolor": "#E5ECF6",
            "gridcolor": "white",
            "gridwidth": 2,
            "linecolor": "white",
            "showbackground": true,
            "ticks": "",
            "zerolinecolor": "white"
           },
           "yaxis": {
            "backgroundcolor": "#E5ECF6",
            "gridcolor": "white",
            "gridwidth": 2,
            "linecolor": "white",
            "showbackground": true,
            "ticks": "",
            "zerolinecolor": "white"
           },
           "zaxis": {
            "backgroundcolor": "#E5ECF6",
            "gridcolor": "white",
            "gridwidth": 2,
            "linecolor": "white",
            "showbackground": true,
            "ticks": "",
            "zerolinecolor": "white"
           }
          },
          "shapedefaults": {
           "line": {
            "color": "#2a3f5f"
           }
          },
          "ternary": {
           "aaxis": {
            "gridcolor": "white",
            "linecolor": "white",
            "ticks": ""
           },
           "baxis": {
            "gridcolor": "white",
            "linecolor": "white",
            "ticks": ""
           },
           "bgcolor": "#E5ECF6",
           "caxis": {
            "gridcolor": "white",
            "linecolor": "white",
            "ticks": ""
           }
          },
          "title": {
           "x": 0.05
          },
          "xaxis": {
           "automargin": true,
           "gridcolor": "white",
           "linecolor": "white",
           "ticks": "",
           "title": {
            "standoff": 15
           },
           "zerolinecolor": "white",
           "zerolinewidth": 2
          },
          "yaxis": {
           "automargin": true,
           "gridcolor": "white",
           "linecolor": "white",
           "ticks": "",
           "title": {
            "standoff": 15
           },
           "zerolinecolor": "white",
           "zerolinewidth": 2
          }
         }
        },
        "title": {
         "text": "Most common machine learning frameworks from 2018-2021"
        },
        "yaxis": {
         "title": {
          "text": "% of respondents"
         }
        }
       }
      },
      "text/html": [
       "<div>                            <div id=\"395e5e61-fd89-46c8-a058-516262042eb3\" class=\"plotly-graph-div\" style=\"height:525px; width:100%;\"></div>            <script type=\"text/javascript\">                require([\"plotly\"], function(Plotly) {                    window.PLOTLYENV=window.PLOTLYENV || {};                                    if (document.getElementById(\"395e5e61-fd89-46c8-a058-516262042eb3\")) {                    Plotly.newPlot(                        \"395e5e61-fd89-46c8-a058-516262042eb3\",                        [{\"name\":\"2018 Kaggle Survey\",\"x\":[\"Fast.ai\",\"CatBoost\",\"LightGBM\",\"PyTorch\",\"Xgboost\",\"Keras\",\"TensorFlow\",\"Scikit-learn\"],\"y\":[11.0,13.0,24.5,27.8,58.7,62.7,68.1,88.7],\"type\":\"bar\"},{\"name\":\"2019 Kaggle Survey\",\"x\":[\"Fast.ai\",\"PyTorch\",\"LightGBM\",\"TensorFlow\",\"Xgboost\",\"Keras\",\"Scikit-learn\"],\"y\":[9.1,26.9,28.0,47.0,50.5,51.3,80.5],\"type\":\"bar\"},{\"name\":\"2020 Kaggle Survey\",\"x\":[\"Fast.ai\",\"CatBoost\",\"LightGBM\",\"PyTorch\",\"Xgboost\",\"TensorFlow\",\"Keras\",\"Scikit-learn\"],\"y\":[7.4,13.7,26.1,30.9,48.4,50.5,50.6,82.9],\"type\":\"bar\"},{\"name\":\"2021 Kaggle Survey\",\"x\":[\"Fast.ai\",\"CatBoost\",\"LightGBM\",\"PyTorch\",\"Keras\",\"Xgboost\",\"TensorFlow\",\"Scikit-learn\"],\"y\":[5.6,14.1,25.1,33.7,47.3,47.9,52.6,82.3],\"type\":\"bar\"}],                        {\"template\":{\"data\":{\"histogram2dcontour\":[{\"type\":\"histogram2dcontour\",\"colorbar\":{\"outlinewidth\":0,\"ticks\":\"\"},\"colorscale\":[[0.0,\"#0d0887\"],[0.1111111111111111,\"#46039f\"],[0.2222222222222222,\"#7201a8\"],[0.3333333333333333,\"#9c179e\"],[0.4444444444444444,\"#bd3786\"],[0.5555555555555556,\"#d8576b\"],[0.6666666666666666,\"#ed7953\"],[0.7777777777777778,\"#fb9f3a\"],[0.8888888888888888,\"#fdca26\"],[1.0,\"#f0f921\"]]}],\"choropleth\":[{\"type\":\"choropleth\",\"colorbar\":{\"outlinewidth\":0,\"ticks\":\"\"}}],\"histogram2d\":[{\"type\":\"histogram2d\",\"colorbar\":{\"outlinewidth\":0,\"ticks\":\"\"},\"colorscale\":[[0.0,\"#0d0887\"],[0.1111111111111111,\"#46039f\"],[0.2222222222222222,\"#7201a8\"],[0.3333333333333333,\"#9c179e\"],[0.4444444444444444,\"#bd3786\"],[0.5555555555555556,\"#d8576b\"],[0.6666666666666666,\"#ed7953\"],[0.7777777777777778,\"#fb9f3a\"],[0.8888888888888888,\"#fdca26\"],[1.0,\"#f0f921\"]]}],\"heatmap\":[{\"type\":\"heatmap\",\"colorbar\":{\"outlinewidth\":0,\"ticks\":\"\"},\"colorscale\":[[0.0,\"#0d0887\"],[0.1111111111111111,\"#46039f\"],[0.2222222222222222,\"#7201a8\"],[0.3333333333333333,\"#9c179e\"],[0.4444444444444444,\"#bd3786\"],[0.5555555555555556,\"#d8576b\"],[0.6666666666666666,\"#ed7953\"],[0.7777777777777778,\"#fb9f3a\"],[0.8888888888888888,\"#fdca26\"],[1.0,\"#f0f921\"]]}],\"heatmapgl\":[{\"type\":\"heatmapgl\",\"colorbar\":{\"outlinewidth\":0,\"ticks\":\"\"},\"colorscale\":[[0.0,\"#0d0887\"],[0.1111111111111111,\"#46039f\"],[0.2222222222222222,\"#7201a8\"],[0.3333333333333333,\"#9c179e\"],[0.4444444444444444,\"#bd3786\"],[0.5555555555555556,\"#d8576b\"],[0.6666666666666666,\"#ed7953\"],[0.7777777777777778,\"#fb9f3a\"],[0.8888888888888888,\"#fdca26\"],[1.0,\"#f0f921\"]]}],\"contourcarpet\":[{\"type\":\"contourcarpet\",\"colorbar\":{\"outlinewidth\":0,\"ticks\":\"\"}}],\"contour\":[{\"type\":\"contour\",\"colorbar\":{\"outlinewidth\":0,\"ticks\":\"\"},\"colorscale\":[[0.0,\"#0d0887\"],[0.1111111111111111,\"#46039f\"],[0.2222222222222222,\"#7201a8\"],[0.3333333333333333,\"#9c179e\"],[0.4444444444444444,\"#bd3786\"],[0.5555555555555556,\"#d8576b\"],[0.6666666666666666,\"#ed7953\"],[0.7777777777777778,\"#fb9f3a\"],[0.8888888888888888,\"#fdca26\"],[1.0,\"#f0f921\"]]}],\"surface\":[{\"type\":\"surface\",\"colorbar\":{\"outlinewidth\":0,\"ticks\":\"\"},\"colorscale\":[[0.0,\"#0d0887\"],[0.1111111111111111,\"#46039f\"],[0.2222222222222222,\"#7201a8\"],[0.3333333333333333,\"#9c179e\"],[0.4444444444444444,\"#bd3786\"],[0.5555555555555556,\"#d8576b\"],[0.6666666666666666,\"#ed7953\"],[0.7777777777777778,\"#fb9f3a\"],[0.8888888888888888,\"#fdca26\"],[1.0,\"#f0f921\"]]}],\"mesh3d\":[{\"type\":\"mesh3d\",\"colorbar\":{\"outlinewidth\":0,\"ticks\":\"\"}}],\"scatter\":[{\"fillpattern\":{\"fillmode\":\"overlay\",\"size\":10,\"solidity\":0.2},\"type\":\"scatter\"}],\"parcoords\":[{\"type\":\"parcoords\",\"line\":{\"colorbar\":{\"outlinewidth\":0,\"ticks\":\"\"}}}],\"scatterpolargl\":[{\"type\":\"scatterpolargl\",\"marker\":{\"colorbar\":{\"outlinewidth\":0,\"ticks\":\"\"}}}],\"bar\":[{\"error_x\":{\"color\":\"#2a3f5f\"},\"error_y\":{\"color\":\"#2a3f5f\"},\"marker\":{\"line\":{\"color\":\"#E5ECF6\",\"width\":0.5},\"pattern\":{\"fillmode\":\"overlay\",\"size\":10,\"solidity\":0.2}},\"type\":\"bar\"}],\"scattergeo\":[{\"type\":\"scattergeo\",\"marker\":{\"colorbar\":{\"outlinewidth\":0,\"ticks\":\"\"}}}],\"scatterpolar\":[{\"type\":\"scatterpolar\",\"marker\":{\"colorbar\":{\"outlinewidth\":0,\"ticks\":\"\"}}}],\"histogram\":[{\"marker\":{\"pattern\":{\"fillmode\":\"overlay\",\"size\":10,\"solidity\":0.2}},\"type\":\"histogram\"}],\"scattergl\":[{\"type\":\"scattergl\",\"marker\":{\"colorbar\":{\"outlinewidth\":0,\"ticks\":\"\"}}}],\"scatter3d\":[{\"type\":\"scatter3d\",\"line\":{\"colorbar\":{\"outlinewidth\":0,\"ticks\":\"\"}},\"marker\":{\"colorbar\":{\"outlinewidth\":0,\"ticks\":\"\"}}}],\"scattermapbox\":[{\"type\":\"scattermapbox\",\"marker\":{\"colorbar\":{\"outlinewidth\":0,\"ticks\":\"\"}}}],\"scatterternary\":[{\"type\":\"scatterternary\",\"marker\":{\"colorbar\":{\"outlinewidth\":0,\"ticks\":\"\"}}}],\"scattercarpet\":[{\"type\":\"scattercarpet\",\"marker\":{\"colorbar\":{\"outlinewidth\":0,\"ticks\":\"\"}}}],\"carpet\":[{\"aaxis\":{\"endlinecolor\":\"#2a3f5f\",\"gridcolor\":\"white\",\"linecolor\":\"white\",\"minorgridcolor\":\"white\",\"startlinecolor\":\"#2a3f5f\"},\"baxis\":{\"endlinecolor\":\"#2a3f5f\",\"gridcolor\":\"white\",\"linecolor\":\"white\",\"minorgridcolor\":\"white\",\"startlinecolor\":\"#2a3f5f\"},\"type\":\"carpet\"}],\"table\":[{\"cells\":{\"fill\":{\"color\":\"#EBF0F8\"},\"line\":{\"color\":\"white\"}},\"header\":{\"fill\":{\"color\":\"#C8D4E3\"},\"line\":{\"color\":\"white\"}},\"type\":\"table\"}],\"barpolar\":[{\"marker\":{\"line\":{\"color\":\"#E5ECF6\",\"width\":0.5},\"pattern\":{\"fillmode\":\"overlay\",\"size\":10,\"solidity\":0.2}},\"type\":\"barpolar\"}],\"pie\":[{\"automargin\":true,\"type\":\"pie\"}]},\"layout\":{\"autotypenumbers\":\"strict\",\"colorway\":[\"#636efa\",\"#EF553B\",\"#00cc96\",\"#ab63fa\",\"#FFA15A\",\"#19d3f3\",\"#FF6692\",\"#B6E880\",\"#FF97FF\",\"#FECB52\"],\"font\":{\"color\":\"#2a3f5f\"},\"hovermode\":\"closest\",\"hoverlabel\":{\"align\":\"left\"},\"paper_bgcolor\":\"white\",\"plot_bgcolor\":\"#E5ECF6\",\"polar\":{\"bgcolor\":\"#E5ECF6\",\"angularaxis\":{\"gridcolor\":\"white\",\"linecolor\":\"white\",\"ticks\":\"\"},\"radialaxis\":{\"gridcolor\":\"white\",\"linecolor\":\"white\",\"ticks\":\"\"}},\"ternary\":{\"bgcolor\":\"#E5ECF6\",\"aaxis\":{\"gridcolor\":\"white\",\"linecolor\":\"white\",\"ticks\":\"\"},\"baxis\":{\"gridcolor\":\"white\",\"linecolor\":\"white\",\"ticks\":\"\"},\"caxis\":{\"gridcolor\":\"white\",\"linecolor\":\"white\",\"ticks\":\"\"}},\"coloraxis\":{\"colorbar\":{\"outlinewidth\":0,\"ticks\":\"\"}},\"colorscale\":{\"sequential\":[[0.0,\"#0d0887\"],[0.1111111111111111,\"#46039f\"],[0.2222222222222222,\"#7201a8\"],[0.3333333333333333,\"#9c179e\"],[0.4444444444444444,\"#bd3786\"],[0.5555555555555556,\"#d8576b\"],[0.6666666666666666,\"#ed7953\"],[0.7777777777777778,\"#fb9f3a\"],[0.8888888888888888,\"#fdca26\"],[1.0,\"#f0f921\"]],\"sequentialminus\":[[0.0,\"#0d0887\"],[0.1111111111111111,\"#46039f\"],[0.2222222222222222,\"#7201a8\"],[0.3333333333333333,\"#9c179e\"],[0.4444444444444444,\"#bd3786\"],[0.5555555555555556,\"#d8576b\"],[0.6666666666666666,\"#ed7953\"],[0.7777777777777778,\"#fb9f3a\"],[0.8888888888888888,\"#fdca26\"],[1.0,\"#f0f921\"]],\"diverging\":[[0,\"#8e0152\"],[0.1,\"#c51b7d\"],[0.2,\"#de77ae\"],[0.3,\"#f1b6da\"],[0.4,\"#fde0ef\"],[0.5,\"#f7f7f7\"],[0.6,\"#e6f5d0\"],[0.7,\"#b8e186\"],[0.8,\"#7fbc41\"],[0.9,\"#4d9221\"],[1,\"#276419\"]]},\"xaxis\":{\"gridcolor\":\"white\",\"linecolor\":\"white\",\"ticks\":\"\",\"title\":{\"standoff\":15},\"zerolinecolor\":\"white\",\"automargin\":true,\"zerolinewidth\":2},\"yaxis\":{\"gridcolor\":\"white\",\"linecolor\":\"white\",\"ticks\":\"\",\"title\":{\"standoff\":15},\"zerolinecolor\":\"white\",\"automargin\":true,\"zerolinewidth\":2},\"scene\":{\"xaxis\":{\"backgroundcolor\":\"#E5ECF6\",\"gridcolor\":\"white\",\"linecolor\":\"white\",\"showbackground\":true,\"ticks\":\"\",\"zerolinecolor\":\"white\",\"gridwidth\":2},\"yaxis\":{\"backgroundcolor\":\"#E5ECF6\",\"gridcolor\":\"white\",\"linecolor\":\"white\",\"showbackground\":true,\"ticks\":\"\",\"zerolinecolor\":\"white\",\"gridwidth\":2},\"zaxis\":{\"backgroundcolor\":\"#E5ECF6\",\"gridcolor\":\"white\",\"linecolor\":\"white\",\"showbackground\":true,\"ticks\":\"\",\"zerolinecolor\":\"white\",\"gridwidth\":2}},\"shapedefaults\":{\"line\":{\"color\":\"#2a3f5f\"}},\"annotationdefaults\":{\"arrowcolor\":\"#2a3f5f\",\"arrowhead\":0,\"arrowwidth\":1},\"geo\":{\"bgcolor\":\"white\",\"landcolor\":\"#E5ECF6\",\"subunitcolor\":\"white\",\"showland\":true,\"showlakes\":true,\"lakecolor\":\"white\"},\"title\":{\"x\":0.05},\"mapbox\":{\"style\":\"light\"}}},\"barmode\":\"group\",\"title\":{\"text\":\"Most common machine learning frameworks from 2018-2021\"},\"yaxis\":{\"title\":{\"text\":\"% of respondents\"}}},                        {\"responsive\": true}                    ).then(function(){\n",
       "                            \n",
       "var gd = document.getElementById('395e5e61-fd89-46c8-a058-516262042eb3');\n",
       "var x = new MutationObserver(function (mutations, observer) {{\n",
       "        var display = window.getComputedStyle(gd).display;\n",
       "        if (!display || display === 'none') {{\n",
       "            console.log([gd, 'removed!']);\n",
       "            Plotly.purge(gd);\n",
       "            observer.disconnect();\n",
       "        }}\n",
       "}});\n",
       "\n",
       "// Listen for the removal of the full notebook cells\n",
       "var notebookContainer = gd.closest('#notebook-container');\n",
       "if (notebookContainer) {{\n",
       "    x.observe(notebookContainer, {childList: true});\n",
       "}}\n",
       "\n",
       "// Listen for the clearing of the current output cell\n",
       "var outputEl = gd.closest('.output');\n",
       "if (outputEl) {{\n",
       "    x.observe(outputEl, {childList: true});\n",
       "}}\n",
       "\n",
       "                        })                };                });            </script>        </div>"
      ]
     },
     "metadata": {},
     "output_type": "display_data"
    }
   ],
   "source": [
    "q16_dictionary_of_counts_2018_simplified = {\n",
    "    'Scikit-learn' : (responses_df_2018['Q19_Part_1'].count()),\n",
    "    'TensorFlow': (responses_df_2018['Q19_Part_2'].count()),\n",
    "    'Keras' : (responses_df_2018['Q19_Part_3'].count()),\n",
    "    'PyTorch' : (responses_df_2018['Q19_Part_4'].count()),\n",
    "    'Fast.ai' : (responses_df_2018['Q19_Part_7'].count()),\n",
    "    'Xgboost' : (responses_df_2018['Q19_Part_10'].count()),\n",
    "    'LightGBM' : (responses_df_2018['Q19_Part_14'].count()),\n",
    "    'CatBoost' : (responses_df_2018['Q19_Part_15'].count())\n",
    "}\n",
    "\n",
    "q16_dictionary_of_counts_2019_simplified = {\n",
    "    'Scikit-learn' : (responses_df_2019['Q28_Part_1'].count()),\n",
    "    'TensorFlow': (responses_df_2019['Q28_Part_2'].count()),\n",
    "    'Keras' : (responses_df_2019['Q28_Part_3'].count()),\n",
    "    'PyTorch' : (responses_df_2019['Q28_Part_6'].count()),\n",
    "    'Fast.ai' : (responses_df_2019['Q28_Part_10'].count()),\n",
    "    'Xgboost' : (responses_df_2019['Q28_Part_5'].count()),\n",
    "    'LightGBM' : (responses_df_2019['Q28_Part_8'].count())\n",
    "}\n",
    "\n",
    "q16_dictionary_of_counts_2020_simplified = {\n",
    "    'Scikit-learn' : (responses_df_2020['Q16_Part_1'].count()),\n",
    "    'TensorFlow': (responses_df_2020['Q16_Part_2'].count()),\n",
    "    'Keras' : (responses_df_2020['Q16_Part_3'].count()),\n",
    "    'PyTorch' : (responses_df_2020['Q16_Part_4'].count()),\n",
    "    'Fast.ai' : (responses_df_2020['Q16_Part_5'].count()),\n",
    "    'Xgboost' : (responses_df_2020['Q16_Part_7'].count()),\n",
    "    'LightGBM' : (responses_df_2020['Q16_Part_8'].count()),\n",
    "    'CatBoost' : (responses_df_2020['Q16_Part_9'].count()),\n",
    "}\n",
    "\n",
    "q16_dictionary_of_counts_2021_simplified = {\n",
    "    'Scikit-learn' : (responses_df_2021['Q16_Part_1'].count()),\n",
    "    'TensorFlow': (responses_df_2021['Q16_Part_2'].count()),\n",
    "    'Keras' : (responses_df_2021['Q16_Part_3'].count()),\n",
    "    'PyTorch' : (responses_df_2021['Q16_Part_4'].count()),\n",
    "    'Fast.ai' : (responses_df_2021['Q16_Part_5'].count()),\n",
    "    'Xgboost' : (responses_df_2021['Q16_Part_7'].count()),\n",
    "    'LightGBM' : (responses_df_2021['Q16_Part_8'].count()),\n",
    "    'CatBoost' : (responses_df_2021['Q16_Part_9'].count())\n",
    "}\n",
    "\n",
    "dictionary_of_counts_2018 = sort_dictionary_by_percent(responses_df_2018,\n",
    "                                                  q16_list_of_columns_2018,\n",
    "                                                  q16_dictionary_of_counts_2018_simplified)\n",
    "dictionary_of_counts_2019 = sort_dictionary_by_percent(responses_df_2019,\n",
    "                                                  q16_list_of_columns_2019,\n",
    "                                                  q16_dictionary_of_counts_2019_simplified)\n",
    "dictionary_of_counts_2020 = sort_dictionary_by_percent(responses_df_2020,\n",
    "                                                  q16_list_of_columns_2020,\n",
    "                                                  q16_dictionary_of_counts_2020_simplified)\n",
    "dictionary_of_counts_2021 = sort_dictionary_by_percent(responses_df_2021,\n",
    "                                                  q16_list_of_columns_2021,\n",
    "                                                  q16_dictionary_of_counts_2021_simplified)\n",
    "\n",
    "title_for_chart = 'Most common machine learning frameworks from 2018-2021'\n",
    "title_for_y_axis = '% of respondents'\n",
    "\n",
    "fig = go.Figure(data=[\n",
    "    go.Bar(name='2018 Kaggle Survey', x=pd.Series(dictionary_of_counts_2018.keys()), y=pd.Series(dictionary_of_counts_2018.values())),\n",
    "    go.Bar(name='2019 Kaggle Survey', x=pd.Series(dictionary_of_counts_2019.keys()), y=pd.Series(dictionary_of_counts_2019.values())),\n",
    "    go.Bar(name='2020 Kaggle Survey', x=pd.Series(dictionary_of_counts_2020.keys()), y=pd.Series(dictionary_of_counts_2020.values())),\n",
    "    go.Bar(name='2021 Kaggle Survey', x=pd.Series(dictionary_of_counts_2021.keys()), y=pd.Series(dictionary_of_counts_2021.values()))\n",
    "           ])\n",
    "fig.update_layout(barmode='group') \n",
    "fig.update_layout(title=title_for_chart,yaxis=dict(title=title_for_y_axis))\n",
    "fig.show()"
   ]
  },
  {
   "cell_type": "code",
   "execution_count": 32,
   "id": "7ef3c7d2",
   "metadata": {},
   "outputs": [
    {
     "data": {
      "application/vnd.plotly.v1+json": {
       "config": {
        "plotlyServerURL": "https://plot.ly"
       },
       "data": [
        {
         "name": "2019 Kaggle Survey",
         "type": "bar",
         "x": [
          "Transformer Networks (BERT, gpt-3, etc)",
          "Recurrent Neural Networks",
          "Convolutional Neural Networks",
          "Gradient Boosting Machines (xgboost, lightgbm, etc)"
         ],
         "y": [
          11,
          30.8,
          42.7,
          63.3
         ]
        },
        {
         "name": "2020 Kaggle Survey",
         "type": "bar",
         "x": [
          "Transformer Networks (BERT, gpt-3, etc)",
          "Recurrent Neural Networks",
          "Convolutional Neural Networks",
          "Gradient Boosting Machines (xgboost, lightgbm, etc)"
         ],
         "y": [
          14.8,
          30.2,
          43.3,
          61.5
         ]
        },
        {
         "name": "2021 Kaggle Survey",
         "type": "bar",
         "x": [
          "Transformer Networks (BERT, gpt-3, etc)",
          "Recurrent Neural Networks",
          "Convolutional Neural Networks",
          "Gradient Boosting Machines (xgboost, lightgbm, etc)"
         ],
         "y": [
          17.1,
          26.7,
          39.6,
          59.5
         ]
        }
       ],
       "layout": {
        "barmode": "group",
        "template": {
         "data": {
          "bar": [
           {
            "error_x": {
             "color": "#2a3f5f"
            },
            "error_y": {
             "color": "#2a3f5f"
            },
            "marker": {
             "line": {
              "color": "#E5ECF6",
              "width": 0.5
             },
             "pattern": {
              "fillmode": "overlay",
              "size": 10,
              "solidity": 0.2
             }
            },
            "type": "bar"
           }
          ],
          "barpolar": [
           {
            "marker": {
             "line": {
              "color": "#E5ECF6",
              "width": 0.5
             },
             "pattern": {
              "fillmode": "overlay",
              "size": 10,
              "solidity": 0.2
             }
            },
            "type": "barpolar"
           }
          ],
          "carpet": [
           {
            "aaxis": {
             "endlinecolor": "#2a3f5f",
             "gridcolor": "white",
             "linecolor": "white",
             "minorgridcolor": "white",
             "startlinecolor": "#2a3f5f"
            },
            "baxis": {
             "endlinecolor": "#2a3f5f",
             "gridcolor": "white",
             "linecolor": "white",
             "minorgridcolor": "white",
             "startlinecolor": "#2a3f5f"
            },
            "type": "carpet"
           }
          ],
          "choropleth": [
           {
            "colorbar": {
             "outlinewidth": 0,
             "ticks": ""
            },
            "type": "choropleth"
           }
          ],
          "contour": [
           {
            "colorbar": {
             "outlinewidth": 0,
             "ticks": ""
            },
            "colorscale": [
             [
              0,
              "#0d0887"
             ],
             [
              0.1111111111111111,
              "#46039f"
             ],
             [
              0.2222222222222222,
              "#7201a8"
             ],
             [
              0.3333333333333333,
              "#9c179e"
             ],
             [
              0.4444444444444444,
              "#bd3786"
             ],
             [
              0.5555555555555556,
              "#d8576b"
             ],
             [
              0.6666666666666666,
              "#ed7953"
             ],
             [
              0.7777777777777778,
              "#fb9f3a"
             ],
             [
              0.8888888888888888,
              "#fdca26"
             ],
             [
              1,
              "#f0f921"
             ]
            ],
            "type": "contour"
           }
          ],
          "contourcarpet": [
           {
            "colorbar": {
             "outlinewidth": 0,
             "ticks": ""
            },
            "type": "contourcarpet"
           }
          ],
          "heatmap": [
           {
            "colorbar": {
             "outlinewidth": 0,
             "ticks": ""
            },
            "colorscale": [
             [
              0,
              "#0d0887"
             ],
             [
              0.1111111111111111,
              "#46039f"
             ],
             [
              0.2222222222222222,
              "#7201a8"
             ],
             [
              0.3333333333333333,
              "#9c179e"
             ],
             [
              0.4444444444444444,
              "#bd3786"
             ],
             [
              0.5555555555555556,
              "#d8576b"
             ],
             [
              0.6666666666666666,
              "#ed7953"
             ],
             [
              0.7777777777777778,
              "#fb9f3a"
             ],
             [
              0.8888888888888888,
              "#fdca26"
             ],
             [
              1,
              "#f0f921"
             ]
            ],
            "type": "heatmap"
           }
          ],
          "heatmapgl": [
           {
            "colorbar": {
             "outlinewidth": 0,
             "ticks": ""
            },
            "colorscale": [
             [
              0,
              "#0d0887"
             ],
             [
              0.1111111111111111,
              "#46039f"
             ],
             [
              0.2222222222222222,
              "#7201a8"
             ],
             [
              0.3333333333333333,
              "#9c179e"
             ],
             [
              0.4444444444444444,
              "#bd3786"
             ],
             [
              0.5555555555555556,
              "#d8576b"
             ],
             [
              0.6666666666666666,
              "#ed7953"
             ],
             [
              0.7777777777777778,
              "#fb9f3a"
             ],
             [
              0.8888888888888888,
              "#fdca26"
             ],
             [
              1,
              "#f0f921"
             ]
            ],
            "type": "heatmapgl"
           }
          ],
          "histogram": [
           {
            "marker": {
             "pattern": {
              "fillmode": "overlay",
              "size": 10,
              "solidity": 0.2
             }
            },
            "type": "histogram"
           }
          ],
          "histogram2d": [
           {
            "colorbar": {
             "outlinewidth": 0,
             "ticks": ""
            },
            "colorscale": [
             [
              0,
              "#0d0887"
             ],
             [
              0.1111111111111111,
              "#46039f"
             ],
             [
              0.2222222222222222,
              "#7201a8"
             ],
             [
              0.3333333333333333,
              "#9c179e"
             ],
             [
              0.4444444444444444,
              "#bd3786"
             ],
             [
              0.5555555555555556,
              "#d8576b"
             ],
             [
              0.6666666666666666,
              "#ed7953"
             ],
             [
              0.7777777777777778,
              "#fb9f3a"
             ],
             [
              0.8888888888888888,
              "#fdca26"
             ],
             [
              1,
              "#f0f921"
             ]
            ],
            "type": "histogram2d"
           }
          ],
          "histogram2dcontour": [
           {
            "colorbar": {
             "outlinewidth": 0,
             "ticks": ""
            },
            "colorscale": [
             [
              0,
              "#0d0887"
             ],
             [
              0.1111111111111111,
              "#46039f"
             ],
             [
              0.2222222222222222,
              "#7201a8"
             ],
             [
              0.3333333333333333,
              "#9c179e"
             ],
             [
              0.4444444444444444,
              "#bd3786"
             ],
             [
              0.5555555555555556,
              "#d8576b"
             ],
             [
              0.6666666666666666,
              "#ed7953"
             ],
             [
              0.7777777777777778,
              "#fb9f3a"
             ],
             [
              0.8888888888888888,
              "#fdca26"
             ],
             [
              1,
              "#f0f921"
             ]
            ],
            "type": "histogram2dcontour"
           }
          ],
          "mesh3d": [
           {
            "colorbar": {
             "outlinewidth": 0,
             "ticks": ""
            },
            "type": "mesh3d"
           }
          ],
          "parcoords": [
           {
            "line": {
             "colorbar": {
              "outlinewidth": 0,
              "ticks": ""
             }
            },
            "type": "parcoords"
           }
          ],
          "pie": [
           {
            "automargin": true,
            "type": "pie"
           }
          ],
          "scatter": [
           {
            "fillpattern": {
             "fillmode": "overlay",
             "size": 10,
             "solidity": 0.2
            },
            "type": "scatter"
           }
          ],
          "scatter3d": [
           {
            "line": {
             "colorbar": {
              "outlinewidth": 0,
              "ticks": ""
             }
            },
            "marker": {
             "colorbar": {
              "outlinewidth": 0,
              "ticks": ""
             }
            },
            "type": "scatter3d"
           }
          ],
          "scattercarpet": [
           {
            "marker": {
             "colorbar": {
              "outlinewidth": 0,
              "ticks": ""
             }
            },
            "type": "scattercarpet"
           }
          ],
          "scattergeo": [
           {
            "marker": {
             "colorbar": {
              "outlinewidth": 0,
              "ticks": ""
             }
            },
            "type": "scattergeo"
           }
          ],
          "scattergl": [
           {
            "marker": {
             "colorbar": {
              "outlinewidth": 0,
              "ticks": ""
             }
            },
            "type": "scattergl"
           }
          ],
          "scattermapbox": [
           {
            "marker": {
             "colorbar": {
              "outlinewidth": 0,
              "ticks": ""
             }
            },
            "type": "scattermapbox"
           }
          ],
          "scatterpolar": [
           {
            "marker": {
             "colorbar": {
              "outlinewidth": 0,
              "ticks": ""
             }
            },
            "type": "scatterpolar"
           }
          ],
          "scatterpolargl": [
           {
            "marker": {
             "colorbar": {
              "outlinewidth": 0,
              "ticks": ""
             }
            },
            "type": "scatterpolargl"
           }
          ],
          "scatterternary": [
           {
            "marker": {
             "colorbar": {
              "outlinewidth": 0,
              "ticks": ""
             }
            },
            "type": "scatterternary"
           }
          ],
          "surface": [
           {
            "colorbar": {
             "outlinewidth": 0,
             "ticks": ""
            },
            "colorscale": [
             [
              0,
              "#0d0887"
             ],
             [
              0.1111111111111111,
              "#46039f"
             ],
             [
              0.2222222222222222,
              "#7201a8"
             ],
             [
              0.3333333333333333,
              "#9c179e"
             ],
             [
              0.4444444444444444,
              "#bd3786"
             ],
             [
              0.5555555555555556,
              "#d8576b"
             ],
             [
              0.6666666666666666,
              "#ed7953"
             ],
             [
              0.7777777777777778,
              "#fb9f3a"
             ],
             [
              0.8888888888888888,
              "#fdca26"
             ],
             [
              1,
              "#f0f921"
             ]
            ],
            "type": "surface"
           }
          ],
          "table": [
           {
            "cells": {
             "fill": {
              "color": "#EBF0F8"
             },
             "line": {
              "color": "white"
             }
            },
            "header": {
             "fill": {
              "color": "#C8D4E3"
             },
             "line": {
              "color": "white"
             }
            },
            "type": "table"
           }
          ]
         },
         "layout": {
          "annotationdefaults": {
           "arrowcolor": "#2a3f5f",
           "arrowhead": 0,
           "arrowwidth": 1
          },
          "autotypenumbers": "strict",
          "coloraxis": {
           "colorbar": {
            "outlinewidth": 0,
            "ticks": ""
           }
          },
          "colorscale": {
           "diverging": [
            [
             0,
             "#8e0152"
            ],
            [
             0.1,
             "#c51b7d"
            ],
            [
             0.2,
             "#de77ae"
            ],
            [
             0.3,
             "#f1b6da"
            ],
            [
             0.4,
             "#fde0ef"
            ],
            [
             0.5,
             "#f7f7f7"
            ],
            [
             0.6,
             "#e6f5d0"
            ],
            [
             0.7,
             "#b8e186"
            ],
            [
             0.8,
             "#7fbc41"
            ],
            [
             0.9,
             "#4d9221"
            ],
            [
             1,
             "#276419"
            ]
           ],
           "sequential": [
            [
             0,
             "#0d0887"
            ],
            [
             0.1111111111111111,
             "#46039f"
            ],
            [
             0.2222222222222222,
             "#7201a8"
            ],
            [
             0.3333333333333333,
             "#9c179e"
            ],
            [
             0.4444444444444444,
             "#bd3786"
            ],
            [
             0.5555555555555556,
             "#d8576b"
            ],
            [
             0.6666666666666666,
             "#ed7953"
            ],
            [
             0.7777777777777778,
             "#fb9f3a"
            ],
            [
             0.8888888888888888,
             "#fdca26"
            ],
            [
             1,
             "#f0f921"
            ]
           ],
           "sequentialminus": [
            [
             0,
             "#0d0887"
            ],
            [
             0.1111111111111111,
             "#46039f"
            ],
            [
             0.2222222222222222,
             "#7201a8"
            ],
            [
             0.3333333333333333,
             "#9c179e"
            ],
            [
             0.4444444444444444,
             "#bd3786"
            ],
            [
             0.5555555555555556,
             "#d8576b"
            ],
            [
             0.6666666666666666,
             "#ed7953"
            ],
            [
             0.7777777777777778,
             "#fb9f3a"
            ],
            [
             0.8888888888888888,
             "#fdca26"
            ],
            [
             1,
             "#f0f921"
            ]
           ]
          },
          "colorway": [
           "#636efa",
           "#EF553B",
           "#00cc96",
           "#ab63fa",
           "#FFA15A",
           "#19d3f3",
           "#FF6692",
           "#B6E880",
           "#FF97FF",
           "#FECB52"
          ],
          "font": {
           "color": "#2a3f5f"
          },
          "geo": {
           "bgcolor": "white",
           "lakecolor": "white",
           "landcolor": "#E5ECF6",
           "showlakes": true,
           "showland": true,
           "subunitcolor": "white"
          },
          "hoverlabel": {
           "align": "left"
          },
          "hovermode": "closest",
          "mapbox": {
           "style": "light"
          },
          "paper_bgcolor": "white",
          "plot_bgcolor": "#E5ECF6",
          "polar": {
           "angularaxis": {
            "gridcolor": "white",
            "linecolor": "white",
            "ticks": ""
           },
           "bgcolor": "#E5ECF6",
           "radialaxis": {
            "gridcolor": "white",
            "linecolor": "white",
            "ticks": ""
           }
          },
          "scene": {
           "xaxis": {
            "backgroundcolor": "#E5ECF6",
            "gridcolor": "white",
            "gridwidth": 2,
            "linecolor": "white",
            "showbackground": true,
            "ticks": "",
            "zerolinecolor": "white"
           },
           "yaxis": {
            "backgroundcolor": "#E5ECF6",
            "gridcolor": "white",
            "gridwidth": 2,
            "linecolor": "white",
            "showbackground": true,
            "ticks": "",
            "zerolinecolor": "white"
           },
           "zaxis": {
            "backgroundcolor": "#E5ECF6",
            "gridcolor": "white",
            "gridwidth": 2,
            "linecolor": "white",
            "showbackground": true,
            "ticks": "",
            "zerolinecolor": "white"
           }
          },
          "shapedefaults": {
           "line": {
            "color": "#2a3f5f"
           }
          },
          "ternary": {
           "aaxis": {
            "gridcolor": "white",
            "linecolor": "white",
            "ticks": ""
           },
           "baxis": {
            "gridcolor": "white",
            "linecolor": "white",
            "ticks": ""
           },
           "bgcolor": "#E5ECF6",
           "caxis": {
            "gridcolor": "white",
            "linecolor": "white",
            "ticks": ""
           }
          },
          "title": {
           "x": 0.05
          },
          "xaxis": {
           "automargin": true,
           "gridcolor": "white",
           "linecolor": "white",
           "ticks": "",
           "title": {
            "standoff": 15
           },
           "zerolinecolor": "white",
           "zerolinewidth": 2
          },
          "yaxis": {
           "automargin": true,
           "gridcolor": "white",
           "linecolor": "white",
           "ticks": "",
           "title": {
            "standoff": 15
           },
           "zerolinecolor": "white",
           "zerolinewidth": 2
          }
         }
        },
        "title": {
         "text": "Most common machine learning algorithms from 2019-2021"
        },
        "yaxis": {
         "title": {
          "text": "% of respondents"
         }
        }
       }
      },
      "text/html": [
       "<div>                            <div id=\"1905bc61-0686-43e9-96f0-56232ae1fda7\" class=\"plotly-graph-div\" style=\"height:525px; width:100%;\"></div>            <script type=\"text/javascript\">                require([\"plotly\"], function(Plotly) {                    window.PLOTLYENV=window.PLOTLYENV || {};                                    if (document.getElementById(\"1905bc61-0686-43e9-96f0-56232ae1fda7\")) {                    Plotly.newPlot(                        \"1905bc61-0686-43e9-96f0-56232ae1fda7\",                        [{\"name\":\"2019 Kaggle Survey\",\"x\":[\"Transformer Networks (BERT, gpt-3, etc)\",\"Recurrent Neural Networks\",\"Convolutional Neural Networks\",\"Gradient Boosting Machines (xgboost, lightgbm, etc)\"],\"y\":[11.0,30.8,42.7,63.3],\"type\":\"bar\"},{\"name\":\"2020 Kaggle Survey\",\"x\":[\"Transformer Networks (BERT, gpt-3, etc)\",\"Recurrent Neural Networks\",\"Convolutional Neural Networks\",\"Gradient Boosting Machines (xgboost, lightgbm, etc)\"],\"y\":[14.8,30.2,43.3,61.5],\"type\":\"bar\"},{\"name\":\"2021 Kaggle Survey\",\"x\":[\"Transformer Networks (BERT, gpt-3, etc)\",\"Recurrent Neural Networks\",\"Convolutional Neural Networks\",\"Gradient Boosting Machines (xgboost, lightgbm, etc)\"],\"y\":[17.1,26.7,39.6,59.5],\"type\":\"bar\"}],                        {\"template\":{\"data\":{\"histogram2dcontour\":[{\"type\":\"histogram2dcontour\",\"colorbar\":{\"outlinewidth\":0,\"ticks\":\"\"},\"colorscale\":[[0.0,\"#0d0887\"],[0.1111111111111111,\"#46039f\"],[0.2222222222222222,\"#7201a8\"],[0.3333333333333333,\"#9c179e\"],[0.4444444444444444,\"#bd3786\"],[0.5555555555555556,\"#d8576b\"],[0.6666666666666666,\"#ed7953\"],[0.7777777777777778,\"#fb9f3a\"],[0.8888888888888888,\"#fdca26\"],[1.0,\"#f0f921\"]]}],\"choropleth\":[{\"type\":\"choropleth\",\"colorbar\":{\"outlinewidth\":0,\"ticks\":\"\"}}],\"histogram2d\":[{\"type\":\"histogram2d\",\"colorbar\":{\"outlinewidth\":0,\"ticks\":\"\"},\"colorscale\":[[0.0,\"#0d0887\"],[0.1111111111111111,\"#46039f\"],[0.2222222222222222,\"#7201a8\"],[0.3333333333333333,\"#9c179e\"],[0.4444444444444444,\"#bd3786\"],[0.5555555555555556,\"#d8576b\"],[0.6666666666666666,\"#ed7953\"],[0.7777777777777778,\"#fb9f3a\"],[0.8888888888888888,\"#fdca26\"],[1.0,\"#f0f921\"]]}],\"heatmap\":[{\"type\":\"heatmap\",\"colorbar\":{\"outlinewidth\":0,\"ticks\":\"\"},\"colorscale\":[[0.0,\"#0d0887\"],[0.1111111111111111,\"#46039f\"],[0.2222222222222222,\"#7201a8\"],[0.3333333333333333,\"#9c179e\"],[0.4444444444444444,\"#bd3786\"],[0.5555555555555556,\"#d8576b\"],[0.6666666666666666,\"#ed7953\"],[0.7777777777777778,\"#fb9f3a\"],[0.8888888888888888,\"#fdca26\"],[1.0,\"#f0f921\"]]}],\"heatmapgl\":[{\"type\":\"heatmapgl\",\"colorbar\":{\"outlinewidth\":0,\"ticks\":\"\"},\"colorscale\":[[0.0,\"#0d0887\"],[0.1111111111111111,\"#46039f\"],[0.2222222222222222,\"#7201a8\"],[0.3333333333333333,\"#9c179e\"],[0.4444444444444444,\"#bd3786\"],[0.5555555555555556,\"#d8576b\"],[0.6666666666666666,\"#ed7953\"],[0.7777777777777778,\"#fb9f3a\"],[0.8888888888888888,\"#fdca26\"],[1.0,\"#f0f921\"]]}],\"contourcarpet\":[{\"type\":\"contourcarpet\",\"colorbar\":{\"outlinewidth\":0,\"ticks\":\"\"}}],\"contour\":[{\"type\":\"contour\",\"colorbar\":{\"outlinewidth\":0,\"ticks\":\"\"},\"colorscale\":[[0.0,\"#0d0887\"],[0.1111111111111111,\"#46039f\"],[0.2222222222222222,\"#7201a8\"],[0.3333333333333333,\"#9c179e\"],[0.4444444444444444,\"#bd3786\"],[0.5555555555555556,\"#d8576b\"],[0.6666666666666666,\"#ed7953\"],[0.7777777777777778,\"#fb9f3a\"],[0.8888888888888888,\"#fdca26\"],[1.0,\"#f0f921\"]]}],\"surface\":[{\"type\":\"surface\",\"colorbar\":{\"outlinewidth\":0,\"ticks\":\"\"},\"colorscale\":[[0.0,\"#0d0887\"],[0.1111111111111111,\"#46039f\"],[0.2222222222222222,\"#7201a8\"],[0.3333333333333333,\"#9c179e\"],[0.4444444444444444,\"#bd3786\"],[0.5555555555555556,\"#d8576b\"],[0.6666666666666666,\"#ed7953\"],[0.7777777777777778,\"#fb9f3a\"],[0.8888888888888888,\"#fdca26\"],[1.0,\"#f0f921\"]]}],\"mesh3d\":[{\"type\":\"mesh3d\",\"colorbar\":{\"outlinewidth\":0,\"ticks\":\"\"}}],\"scatter\":[{\"fillpattern\":{\"fillmode\":\"overlay\",\"size\":10,\"solidity\":0.2},\"type\":\"scatter\"}],\"parcoords\":[{\"type\":\"parcoords\",\"line\":{\"colorbar\":{\"outlinewidth\":0,\"ticks\":\"\"}}}],\"scatterpolargl\":[{\"type\":\"scatterpolargl\",\"marker\":{\"colorbar\":{\"outlinewidth\":0,\"ticks\":\"\"}}}],\"bar\":[{\"error_x\":{\"color\":\"#2a3f5f\"},\"error_y\":{\"color\":\"#2a3f5f\"},\"marker\":{\"line\":{\"color\":\"#E5ECF6\",\"width\":0.5},\"pattern\":{\"fillmode\":\"overlay\",\"size\":10,\"solidity\":0.2}},\"type\":\"bar\"}],\"scattergeo\":[{\"type\":\"scattergeo\",\"marker\":{\"colorbar\":{\"outlinewidth\":0,\"ticks\":\"\"}}}],\"scatterpolar\":[{\"type\":\"scatterpolar\",\"marker\":{\"colorbar\":{\"outlinewidth\":0,\"ticks\":\"\"}}}],\"histogram\":[{\"marker\":{\"pattern\":{\"fillmode\":\"overlay\",\"size\":10,\"solidity\":0.2}},\"type\":\"histogram\"}],\"scattergl\":[{\"type\":\"scattergl\",\"marker\":{\"colorbar\":{\"outlinewidth\":0,\"ticks\":\"\"}}}],\"scatter3d\":[{\"type\":\"scatter3d\",\"line\":{\"colorbar\":{\"outlinewidth\":0,\"ticks\":\"\"}},\"marker\":{\"colorbar\":{\"outlinewidth\":0,\"ticks\":\"\"}}}],\"scattermapbox\":[{\"type\":\"scattermapbox\",\"marker\":{\"colorbar\":{\"outlinewidth\":0,\"ticks\":\"\"}}}],\"scatterternary\":[{\"type\":\"scatterternary\",\"marker\":{\"colorbar\":{\"outlinewidth\":0,\"ticks\":\"\"}}}],\"scattercarpet\":[{\"type\":\"scattercarpet\",\"marker\":{\"colorbar\":{\"outlinewidth\":0,\"ticks\":\"\"}}}],\"carpet\":[{\"aaxis\":{\"endlinecolor\":\"#2a3f5f\",\"gridcolor\":\"white\",\"linecolor\":\"white\",\"minorgridcolor\":\"white\",\"startlinecolor\":\"#2a3f5f\"},\"baxis\":{\"endlinecolor\":\"#2a3f5f\",\"gridcolor\":\"white\",\"linecolor\":\"white\",\"minorgridcolor\":\"white\",\"startlinecolor\":\"#2a3f5f\"},\"type\":\"carpet\"}],\"table\":[{\"cells\":{\"fill\":{\"color\":\"#EBF0F8\"},\"line\":{\"color\":\"white\"}},\"header\":{\"fill\":{\"color\":\"#C8D4E3\"},\"line\":{\"color\":\"white\"}},\"type\":\"table\"}],\"barpolar\":[{\"marker\":{\"line\":{\"color\":\"#E5ECF6\",\"width\":0.5},\"pattern\":{\"fillmode\":\"overlay\",\"size\":10,\"solidity\":0.2}},\"type\":\"barpolar\"}],\"pie\":[{\"automargin\":true,\"type\":\"pie\"}]},\"layout\":{\"autotypenumbers\":\"strict\",\"colorway\":[\"#636efa\",\"#EF553B\",\"#00cc96\",\"#ab63fa\",\"#FFA15A\",\"#19d3f3\",\"#FF6692\",\"#B6E880\",\"#FF97FF\",\"#FECB52\"],\"font\":{\"color\":\"#2a3f5f\"},\"hovermode\":\"closest\",\"hoverlabel\":{\"align\":\"left\"},\"paper_bgcolor\":\"white\",\"plot_bgcolor\":\"#E5ECF6\",\"polar\":{\"bgcolor\":\"#E5ECF6\",\"angularaxis\":{\"gridcolor\":\"white\",\"linecolor\":\"white\",\"ticks\":\"\"},\"radialaxis\":{\"gridcolor\":\"white\",\"linecolor\":\"white\",\"ticks\":\"\"}},\"ternary\":{\"bgcolor\":\"#E5ECF6\",\"aaxis\":{\"gridcolor\":\"white\",\"linecolor\":\"white\",\"ticks\":\"\"},\"baxis\":{\"gridcolor\":\"white\",\"linecolor\":\"white\",\"ticks\":\"\"},\"caxis\":{\"gridcolor\":\"white\",\"linecolor\":\"white\",\"ticks\":\"\"}},\"coloraxis\":{\"colorbar\":{\"outlinewidth\":0,\"ticks\":\"\"}},\"colorscale\":{\"sequential\":[[0.0,\"#0d0887\"],[0.1111111111111111,\"#46039f\"],[0.2222222222222222,\"#7201a8\"],[0.3333333333333333,\"#9c179e\"],[0.4444444444444444,\"#bd3786\"],[0.5555555555555556,\"#d8576b\"],[0.6666666666666666,\"#ed7953\"],[0.7777777777777778,\"#fb9f3a\"],[0.8888888888888888,\"#fdca26\"],[1.0,\"#f0f921\"]],\"sequentialminus\":[[0.0,\"#0d0887\"],[0.1111111111111111,\"#46039f\"],[0.2222222222222222,\"#7201a8\"],[0.3333333333333333,\"#9c179e\"],[0.4444444444444444,\"#bd3786\"],[0.5555555555555556,\"#d8576b\"],[0.6666666666666666,\"#ed7953\"],[0.7777777777777778,\"#fb9f3a\"],[0.8888888888888888,\"#fdca26\"],[1.0,\"#f0f921\"]],\"diverging\":[[0,\"#8e0152\"],[0.1,\"#c51b7d\"],[0.2,\"#de77ae\"],[0.3,\"#f1b6da\"],[0.4,\"#fde0ef\"],[0.5,\"#f7f7f7\"],[0.6,\"#e6f5d0\"],[0.7,\"#b8e186\"],[0.8,\"#7fbc41\"],[0.9,\"#4d9221\"],[1,\"#276419\"]]},\"xaxis\":{\"gridcolor\":\"white\",\"linecolor\":\"white\",\"ticks\":\"\",\"title\":{\"standoff\":15},\"zerolinecolor\":\"white\",\"automargin\":true,\"zerolinewidth\":2},\"yaxis\":{\"gridcolor\":\"white\",\"linecolor\":\"white\",\"ticks\":\"\",\"title\":{\"standoff\":15},\"zerolinecolor\":\"white\",\"automargin\":true,\"zerolinewidth\":2},\"scene\":{\"xaxis\":{\"backgroundcolor\":\"#E5ECF6\",\"gridcolor\":\"white\",\"linecolor\":\"white\",\"showbackground\":true,\"ticks\":\"\",\"zerolinecolor\":\"white\",\"gridwidth\":2},\"yaxis\":{\"backgroundcolor\":\"#E5ECF6\",\"gridcolor\":\"white\",\"linecolor\":\"white\",\"showbackground\":true,\"ticks\":\"\",\"zerolinecolor\":\"white\",\"gridwidth\":2},\"zaxis\":{\"backgroundcolor\":\"#E5ECF6\",\"gridcolor\":\"white\",\"linecolor\":\"white\",\"showbackground\":true,\"ticks\":\"\",\"zerolinecolor\":\"white\",\"gridwidth\":2}},\"shapedefaults\":{\"line\":{\"color\":\"#2a3f5f\"}},\"annotationdefaults\":{\"arrowcolor\":\"#2a3f5f\",\"arrowhead\":0,\"arrowwidth\":1},\"geo\":{\"bgcolor\":\"white\",\"landcolor\":\"#E5ECF6\",\"subunitcolor\":\"white\",\"showland\":true,\"showlakes\":true,\"lakecolor\":\"white\"},\"title\":{\"x\":0.05},\"mapbox\":{\"style\":\"light\"}}},\"barmode\":\"group\",\"title\":{\"text\":\"Most common machine learning algorithms from 2019-2021\"},\"yaxis\":{\"title\":{\"text\":\"% of respondents\"}}},                        {\"responsive\": true}                    ).then(function(){\n",
       "                            \n",
       "var gd = document.getElementById('1905bc61-0686-43e9-96f0-56232ae1fda7');\n",
       "var x = new MutationObserver(function (mutations, observer) {{\n",
       "        var display = window.getComputedStyle(gd).display;\n",
       "        if (!display || display === 'none') {{\n",
       "            console.log([gd, 'removed!']);\n",
       "            Plotly.purge(gd);\n",
       "            observer.disconnect();\n",
       "        }}\n",
       "}});\n",
       "\n",
       "// Listen for the removal of the full notebook cells\n",
       "var notebookContainer = gd.closest('#notebook-container');\n",
       "if (notebookContainer) {{\n",
       "    x.observe(notebookContainer, {childList: true});\n",
       "}}\n",
       "\n",
       "// Listen for the clearing of the current output cell\n",
       "var outputEl = gd.closest('.output');\n",
       "if (outputEl) {{\n",
       "    x.observe(outputEl, {childList: true});\n",
       "}}\n",
       "\n",
       "                        })                };                });            </script>        </div>"
      ]
     },
     "metadata": {},
     "output_type": "display_data"
    }
   ],
   "source": [
    "q17_dictionary_of_counts_2019 = {\n",
    "    'Gradient Boosting Machines (xgboost, lightgbm, etc)' : (responses_df_2019['Q24_Part_3'].count()),\n",
    "    'Convolutional Neural Networks' : (responses_df_2019['Q24_Part_7'].count()),\n",
    "    'Recurrent Neural Networks' : (responses_df_2019['Q24_Part_9'].count()),\n",
    "    'Transformer Networks (BERT, gpt-3, etc)' : (responses_df_2019['Q24_Part_10'].count())\n",
    "}\n",
    "\n",
    "q17_dictionary_of_counts_2020 = {\n",
    "    'Gradient Boosting Machines (xgboost, lightgbm, etc)' : (responses_df_2020['Q17_Part_3'].count()),\n",
    "    'Convolutional Neural Networks' : (responses_df_2020['Q17_Part_7'].count()),\n",
    "    'Recurrent Neural Networks' : (responses_df_2020['Q17_Part_9'].count()),\n",
    "    'Transformer Networks (BERT, gpt-3, etc)' : (responses_df_2020['Q17_Part_10'].count())\n",
    "}\n",
    "\n",
    "q17_dictionary_of_counts_2021 = {\n",
    "    'Gradient Boosting Machines (xgboost, lightgbm, etc)' : (responses_df_2021['Q17_Part_3'].count()),\n",
    "    'Convolutional Neural Networks' : (responses_df_2021['Q17_Part_7'].count()),\n",
    "    'Recurrent Neural Networks' : (responses_df_2021['Q17_Part_9'].count()),\n",
    "    'Transformer Networks (BERT, gpt-3, etc)' : (responses_df_2021['Q17_Part_10'].count())\n",
    "}\n",
    "\n",
    "\n",
    "dictionary_of_counts_2019 = sort_dictionary_by_percent(responses_df_2019,\n",
    "                                                  q17_list_of_columns_2019,\n",
    "                                                  q17_dictionary_of_counts_2019)\n",
    "dictionary_of_counts_2020 = sort_dictionary_by_percent(responses_df_2020,\n",
    "                                                  q17_list_of_columns_2020,\n",
    "                                                  q17_dictionary_of_counts_2020)\n",
    "dictionary_of_counts_2021 = sort_dictionary_by_percent(responses_df_2021,\n",
    "                                                  q17_list_of_columns_2021,\n",
    "                                                  q17_dictionary_of_counts_2021)\n",
    "\n",
    "title_for_chart = 'Most common machine learning algorithms from 2019-2021'\n",
    "title_for_y_axis = '% of respondents'\n",
    "\n",
    "fig = go.Figure(data=[\n",
    "    go.Bar(name='2019 Kaggle Survey', x=pd.Series(dictionary_of_counts_2019.keys()), y=pd.Series(dictionary_of_counts_2019.values())),\n",
    "    go.Bar(name='2020 Kaggle Survey', x=pd.Series(dictionary_of_counts_2020.keys()), y=pd.Series(dictionary_of_counts_2020.values())),\n",
    "    go.Bar(name='2021 Kaggle Survey', x=pd.Series(dictionary_of_counts_2021.keys()), y=pd.Series(dictionary_of_counts_2021.values()))\n",
    "           ])\n",
    "fig.update_layout(barmode='group') \n",
    "fig.update_layout(title=title_for_chart,yaxis=dict(title=title_for_y_axis))\n",
    "fig.show()"
   ]
  },
  {
   "cell_type": "code",
   "execution_count": 35,
   "id": "3ce6cc6e",
   "metadata": {},
   "outputs": [
    {
     "data": {
      "application/vnd.plotly.v1+json": {
       "config": {
        "plotlyServerURL": "https://plot.ly"
       },
       "data": [
        {
         "name": "2018 Kaggle Survey",
         "type": "bar",
         "x": [
          "Alibaba Cloud",
          "None",
          "Microsoft Azure",
          "Google Cloud Platform (GCP)",
          "Amazon Web Services (AWS)"
         ],
         "y": [
          1.4,
          21.9,
          27.3,
          31.7,
          56.3
         ]
        },
        {
         "name": "2019 Kaggle Survey",
         "type": "bar",
         "x": [
          "Alibaba Cloud",
          "Microsoft Azure",
          "None",
          "Google Cloud Platform (GCP)",
          "Amazon Web Services (AWS)"
         ],
         "y": [
          0.9,
          20.1,
          24.2,
          32,
          45.5
         ]
        },
        {
         "name": "2020 Kaggle Survey",
         "type": "bar",
         "x": [
          "Alibaba Cloud",
          "None",
          "Microsoft Azure",
          "Google Cloud Platform (GCP)",
          "Amazon Web Services (AWS)"
         ],
         "y": [
          0.8,
          17.1,
          29.5,
          35.4,
          48.3
         ]
        },
        {
         "name": "2021 Kaggle Survey",
         "type": "bar",
         "x": [
          "Alibaba Cloud",
          "None",
          "Microsoft Azure",
          "Google Cloud Platform (GCP)",
          "Amazon Web Services (AWS)"
         ],
         "y": [
          2,
          18.4,
          28.9,
          35.4,
          48.2
         ]
        }
       ],
       "layout": {
        "barmode": "group",
        "template": {
         "data": {
          "bar": [
           {
            "error_x": {
             "color": "#2a3f5f"
            },
            "error_y": {
             "color": "#2a3f5f"
            },
            "marker": {
             "line": {
              "color": "#E5ECF6",
              "width": 0.5
             },
             "pattern": {
              "fillmode": "overlay",
              "size": 10,
              "solidity": 0.2
             }
            },
            "type": "bar"
           }
          ],
          "barpolar": [
           {
            "marker": {
             "line": {
              "color": "#E5ECF6",
              "width": 0.5
             },
             "pattern": {
              "fillmode": "overlay",
              "size": 10,
              "solidity": 0.2
             }
            },
            "type": "barpolar"
           }
          ],
          "carpet": [
           {
            "aaxis": {
             "endlinecolor": "#2a3f5f",
             "gridcolor": "white",
             "linecolor": "white",
             "minorgridcolor": "white",
             "startlinecolor": "#2a3f5f"
            },
            "baxis": {
             "endlinecolor": "#2a3f5f",
             "gridcolor": "white",
             "linecolor": "white",
             "minorgridcolor": "white",
             "startlinecolor": "#2a3f5f"
            },
            "type": "carpet"
           }
          ],
          "choropleth": [
           {
            "colorbar": {
             "outlinewidth": 0,
             "ticks": ""
            },
            "type": "choropleth"
           }
          ],
          "contour": [
           {
            "colorbar": {
             "outlinewidth": 0,
             "ticks": ""
            },
            "colorscale": [
             [
              0,
              "#0d0887"
             ],
             [
              0.1111111111111111,
              "#46039f"
             ],
             [
              0.2222222222222222,
              "#7201a8"
             ],
             [
              0.3333333333333333,
              "#9c179e"
             ],
             [
              0.4444444444444444,
              "#bd3786"
             ],
             [
              0.5555555555555556,
              "#d8576b"
             ],
             [
              0.6666666666666666,
              "#ed7953"
             ],
             [
              0.7777777777777778,
              "#fb9f3a"
             ],
             [
              0.8888888888888888,
              "#fdca26"
             ],
             [
              1,
              "#f0f921"
             ]
            ],
            "type": "contour"
           }
          ],
          "contourcarpet": [
           {
            "colorbar": {
             "outlinewidth": 0,
             "ticks": ""
            },
            "type": "contourcarpet"
           }
          ],
          "heatmap": [
           {
            "colorbar": {
             "outlinewidth": 0,
             "ticks": ""
            },
            "colorscale": [
             [
              0,
              "#0d0887"
             ],
             [
              0.1111111111111111,
              "#46039f"
             ],
             [
              0.2222222222222222,
              "#7201a8"
             ],
             [
              0.3333333333333333,
              "#9c179e"
             ],
             [
              0.4444444444444444,
              "#bd3786"
             ],
             [
              0.5555555555555556,
              "#d8576b"
             ],
             [
              0.6666666666666666,
              "#ed7953"
             ],
             [
              0.7777777777777778,
              "#fb9f3a"
             ],
             [
              0.8888888888888888,
              "#fdca26"
             ],
             [
              1,
              "#f0f921"
             ]
            ],
            "type": "heatmap"
           }
          ],
          "heatmapgl": [
           {
            "colorbar": {
             "outlinewidth": 0,
             "ticks": ""
            },
            "colorscale": [
             [
              0,
              "#0d0887"
             ],
             [
              0.1111111111111111,
              "#46039f"
             ],
             [
              0.2222222222222222,
              "#7201a8"
             ],
             [
              0.3333333333333333,
              "#9c179e"
             ],
             [
              0.4444444444444444,
              "#bd3786"
             ],
             [
              0.5555555555555556,
              "#d8576b"
             ],
             [
              0.6666666666666666,
              "#ed7953"
             ],
             [
              0.7777777777777778,
              "#fb9f3a"
             ],
             [
              0.8888888888888888,
              "#fdca26"
             ],
             [
              1,
              "#f0f921"
             ]
            ],
            "type": "heatmapgl"
           }
          ],
          "histogram": [
           {
            "marker": {
             "pattern": {
              "fillmode": "overlay",
              "size": 10,
              "solidity": 0.2
             }
            },
            "type": "histogram"
           }
          ],
          "histogram2d": [
           {
            "colorbar": {
             "outlinewidth": 0,
             "ticks": ""
            },
            "colorscale": [
             [
              0,
              "#0d0887"
             ],
             [
              0.1111111111111111,
              "#46039f"
             ],
             [
              0.2222222222222222,
              "#7201a8"
             ],
             [
              0.3333333333333333,
              "#9c179e"
             ],
             [
              0.4444444444444444,
              "#bd3786"
             ],
             [
              0.5555555555555556,
              "#d8576b"
             ],
             [
              0.6666666666666666,
              "#ed7953"
             ],
             [
              0.7777777777777778,
              "#fb9f3a"
             ],
             [
              0.8888888888888888,
              "#fdca26"
             ],
             [
              1,
              "#f0f921"
             ]
            ],
            "type": "histogram2d"
           }
          ],
          "histogram2dcontour": [
           {
            "colorbar": {
             "outlinewidth": 0,
             "ticks": ""
            },
            "colorscale": [
             [
              0,
              "#0d0887"
             ],
             [
              0.1111111111111111,
              "#46039f"
             ],
             [
              0.2222222222222222,
              "#7201a8"
             ],
             [
              0.3333333333333333,
              "#9c179e"
             ],
             [
              0.4444444444444444,
              "#bd3786"
             ],
             [
              0.5555555555555556,
              "#d8576b"
             ],
             [
              0.6666666666666666,
              "#ed7953"
             ],
             [
              0.7777777777777778,
              "#fb9f3a"
             ],
             [
              0.8888888888888888,
              "#fdca26"
             ],
             [
              1,
              "#f0f921"
             ]
            ],
            "type": "histogram2dcontour"
           }
          ],
          "mesh3d": [
           {
            "colorbar": {
             "outlinewidth": 0,
             "ticks": ""
            },
            "type": "mesh3d"
           }
          ],
          "parcoords": [
           {
            "line": {
             "colorbar": {
              "outlinewidth": 0,
              "ticks": ""
             }
            },
            "type": "parcoords"
           }
          ],
          "pie": [
           {
            "automargin": true,
            "type": "pie"
           }
          ],
          "scatter": [
           {
            "fillpattern": {
             "fillmode": "overlay",
             "size": 10,
             "solidity": 0.2
            },
            "type": "scatter"
           }
          ],
          "scatter3d": [
           {
            "line": {
             "colorbar": {
              "outlinewidth": 0,
              "ticks": ""
             }
            },
            "marker": {
             "colorbar": {
              "outlinewidth": 0,
              "ticks": ""
             }
            },
            "type": "scatter3d"
           }
          ],
          "scattercarpet": [
           {
            "marker": {
             "colorbar": {
              "outlinewidth": 0,
              "ticks": ""
             }
            },
            "type": "scattercarpet"
           }
          ],
          "scattergeo": [
           {
            "marker": {
             "colorbar": {
              "outlinewidth": 0,
              "ticks": ""
             }
            },
            "type": "scattergeo"
           }
          ],
          "scattergl": [
           {
            "marker": {
             "colorbar": {
              "outlinewidth": 0,
              "ticks": ""
             }
            },
            "type": "scattergl"
           }
          ],
          "scattermapbox": [
           {
            "marker": {
             "colorbar": {
              "outlinewidth": 0,
              "ticks": ""
             }
            },
            "type": "scattermapbox"
           }
          ],
          "scatterpolar": [
           {
            "marker": {
             "colorbar": {
              "outlinewidth": 0,
              "ticks": ""
             }
            },
            "type": "scatterpolar"
           }
          ],
          "scatterpolargl": [
           {
            "marker": {
             "colorbar": {
              "outlinewidth": 0,
              "ticks": ""
             }
            },
            "type": "scatterpolargl"
           }
          ],
          "scatterternary": [
           {
            "marker": {
             "colorbar": {
              "outlinewidth": 0,
              "ticks": ""
             }
            },
            "type": "scatterternary"
           }
          ],
          "surface": [
           {
            "colorbar": {
             "outlinewidth": 0,
             "ticks": ""
            },
            "colorscale": [
             [
              0,
              "#0d0887"
             ],
             [
              0.1111111111111111,
              "#46039f"
             ],
             [
              0.2222222222222222,
              "#7201a8"
             ],
             [
              0.3333333333333333,
              "#9c179e"
             ],
             [
              0.4444444444444444,
              "#bd3786"
             ],
             [
              0.5555555555555556,
              "#d8576b"
             ],
             [
              0.6666666666666666,
              "#ed7953"
             ],
             [
              0.7777777777777778,
              "#fb9f3a"
             ],
             [
              0.8888888888888888,
              "#fdca26"
             ],
             [
              1,
              "#f0f921"
             ]
            ],
            "type": "surface"
           }
          ],
          "table": [
           {
            "cells": {
             "fill": {
              "color": "#EBF0F8"
             },
             "line": {
              "color": "white"
             }
            },
            "header": {
             "fill": {
              "color": "#C8D4E3"
             },
             "line": {
              "color": "white"
             }
            },
            "type": "table"
           }
          ]
         },
         "layout": {
          "annotationdefaults": {
           "arrowcolor": "#2a3f5f",
           "arrowhead": 0,
           "arrowwidth": 1
          },
          "autotypenumbers": "strict",
          "coloraxis": {
           "colorbar": {
            "outlinewidth": 0,
            "ticks": ""
           }
          },
          "colorscale": {
           "diverging": [
            [
             0,
             "#8e0152"
            ],
            [
             0.1,
             "#c51b7d"
            ],
            [
             0.2,
             "#de77ae"
            ],
            [
             0.3,
             "#f1b6da"
            ],
            [
             0.4,
             "#fde0ef"
            ],
            [
             0.5,
             "#f7f7f7"
            ],
            [
             0.6,
             "#e6f5d0"
            ],
            [
             0.7,
             "#b8e186"
            ],
            [
             0.8,
             "#7fbc41"
            ],
            [
             0.9,
             "#4d9221"
            ],
            [
             1,
             "#276419"
            ]
           ],
           "sequential": [
            [
             0,
             "#0d0887"
            ],
            [
             0.1111111111111111,
             "#46039f"
            ],
            [
             0.2222222222222222,
             "#7201a8"
            ],
            [
             0.3333333333333333,
             "#9c179e"
            ],
            [
             0.4444444444444444,
             "#bd3786"
            ],
            [
             0.5555555555555556,
             "#d8576b"
            ],
            [
             0.6666666666666666,
             "#ed7953"
            ],
            [
             0.7777777777777778,
             "#fb9f3a"
            ],
            [
             0.8888888888888888,
             "#fdca26"
            ],
            [
             1,
             "#f0f921"
            ]
           ],
           "sequentialminus": [
            [
             0,
             "#0d0887"
            ],
            [
             0.1111111111111111,
             "#46039f"
            ],
            [
             0.2222222222222222,
             "#7201a8"
            ],
            [
             0.3333333333333333,
             "#9c179e"
            ],
            [
             0.4444444444444444,
             "#bd3786"
            ],
            [
             0.5555555555555556,
             "#d8576b"
            ],
            [
             0.6666666666666666,
             "#ed7953"
            ],
            [
             0.7777777777777778,
             "#fb9f3a"
            ],
            [
             0.8888888888888888,
             "#fdca26"
            ],
            [
             1,
             "#f0f921"
            ]
           ]
          },
          "colorway": [
           "#636efa",
           "#EF553B",
           "#00cc96",
           "#ab63fa",
           "#FFA15A",
           "#19d3f3",
           "#FF6692",
           "#B6E880",
           "#FF97FF",
           "#FECB52"
          ],
          "font": {
           "color": "#2a3f5f"
          },
          "geo": {
           "bgcolor": "white",
           "lakecolor": "white",
           "landcolor": "#E5ECF6",
           "showlakes": true,
           "showland": true,
           "subunitcolor": "white"
          },
          "hoverlabel": {
           "align": "left"
          },
          "hovermode": "closest",
          "mapbox": {
           "style": "light"
          },
          "paper_bgcolor": "white",
          "plot_bgcolor": "#E5ECF6",
          "polar": {
           "angularaxis": {
            "gridcolor": "white",
            "linecolor": "white",
            "ticks": ""
           },
           "bgcolor": "#E5ECF6",
           "radialaxis": {
            "gridcolor": "white",
            "linecolor": "white",
            "ticks": ""
           }
          },
          "scene": {
           "xaxis": {
            "backgroundcolor": "#E5ECF6",
            "gridcolor": "white",
            "gridwidth": 2,
            "linecolor": "white",
            "showbackground": true,
            "ticks": "",
            "zerolinecolor": "white"
           },
           "yaxis": {
            "backgroundcolor": "#E5ECF6",
            "gridcolor": "white",
            "gridwidth": 2,
            "linecolor": "white",
            "showbackground": true,
            "ticks": "",
            "zerolinecolor": "white"
           },
           "zaxis": {
            "backgroundcolor": "#E5ECF6",
            "gridcolor": "white",
            "gridwidth": 2,
            "linecolor": "white",
            "showbackground": true,
            "ticks": "",
            "zerolinecolor": "white"
           }
          },
          "shapedefaults": {
           "line": {
            "color": "#2a3f5f"
           }
          },
          "ternary": {
           "aaxis": {
            "gridcolor": "white",
            "linecolor": "white",
            "ticks": ""
           },
           "baxis": {
            "gridcolor": "white",
            "linecolor": "white",
            "ticks": ""
           },
           "bgcolor": "#E5ECF6",
           "caxis": {
            "gridcolor": "white",
            "linecolor": "white",
            "ticks": ""
           }
          },
          "title": {
           "x": 0.05
          },
          "xaxis": {
           "automargin": true,
           "gridcolor": "white",
           "linecolor": "white",
           "ticks": "",
           "title": {
            "standoff": 15
           },
           "zerolinecolor": "white",
           "zerolinewidth": 2
          },
          "yaxis": {
           "automargin": true,
           "gridcolor": "white",
           "linecolor": "white",
           "ticks": "",
           "title": {
            "standoff": 15
           },
           "zerolinecolor": "white",
           "zerolinewidth": 2
          }
         }
        },
        "title": {
         "text": "Most Popular Cloud Computing Platforms in 2018-2021"
        },
        "yaxis": {
         "title": {
          "text": "% of respondents"
         }
        }
       }
      },
      "text/html": [
       "<div>                            <div id=\"576ad226-4492-4251-bda9-84fc2b25e221\" class=\"plotly-graph-div\" style=\"height:525px; width:100%;\"></div>            <script type=\"text/javascript\">                require([\"plotly\"], function(Plotly) {                    window.PLOTLYENV=window.PLOTLYENV || {};                                    if (document.getElementById(\"576ad226-4492-4251-bda9-84fc2b25e221\")) {                    Plotly.newPlot(                        \"576ad226-4492-4251-bda9-84fc2b25e221\",                        [{\"name\":\"2018 Kaggle Survey\",\"x\":[\"Alibaba Cloud\",\"None\",\"Microsoft Azure\",\"Google Cloud Platform (GCP)\",\"Amazon Web Services (AWS)\"],\"y\":[1.4,21.9,27.3,31.7,56.3],\"type\":\"bar\"},{\"name\":\"2019 Kaggle Survey\",\"x\":[\"Alibaba Cloud\",\"Microsoft Azure\",\"None\",\"Google Cloud Platform (GCP)\",\"Amazon Web Services (AWS)\"],\"y\":[0.9,20.1,24.2,32.0,45.5],\"type\":\"bar\"},{\"name\":\"2020 Kaggle Survey\",\"x\":[\"Alibaba Cloud\",\"None\",\"Microsoft Azure\",\"Google Cloud Platform (GCP)\",\"Amazon Web Services (AWS)\"],\"y\":[0.8,17.1,29.5,35.4,48.3],\"type\":\"bar\"},{\"name\":\"2021 Kaggle Survey\",\"x\":[\"Alibaba Cloud\",\"None\",\"Microsoft Azure\",\"Google Cloud Platform (GCP)\",\"Amazon Web Services (AWS)\"],\"y\":[2.0,18.4,28.9,35.4,48.2],\"type\":\"bar\"}],                        {\"template\":{\"data\":{\"histogram2dcontour\":[{\"type\":\"histogram2dcontour\",\"colorbar\":{\"outlinewidth\":0,\"ticks\":\"\"},\"colorscale\":[[0.0,\"#0d0887\"],[0.1111111111111111,\"#46039f\"],[0.2222222222222222,\"#7201a8\"],[0.3333333333333333,\"#9c179e\"],[0.4444444444444444,\"#bd3786\"],[0.5555555555555556,\"#d8576b\"],[0.6666666666666666,\"#ed7953\"],[0.7777777777777778,\"#fb9f3a\"],[0.8888888888888888,\"#fdca26\"],[1.0,\"#f0f921\"]]}],\"choropleth\":[{\"type\":\"choropleth\",\"colorbar\":{\"outlinewidth\":0,\"ticks\":\"\"}}],\"histogram2d\":[{\"type\":\"histogram2d\",\"colorbar\":{\"outlinewidth\":0,\"ticks\":\"\"},\"colorscale\":[[0.0,\"#0d0887\"],[0.1111111111111111,\"#46039f\"],[0.2222222222222222,\"#7201a8\"],[0.3333333333333333,\"#9c179e\"],[0.4444444444444444,\"#bd3786\"],[0.5555555555555556,\"#d8576b\"],[0.6666666666666666,\"#ed7953\"],[0.7777777777777778,\"#fb9f3a\"],[0.8888888888888888,\"#fdca26\"],[1.0,\"#f0f921\"]]}],\"heatmap\":[{\"type\":\"heatmap\",\"colorbar\":{\"outlinewidth\":0,\"ticks\":\"\"},\"colorscale\":[[0.0,\"#0d0887\"],[0.1111111111111111,\"#46039f\"],[0.2222222222222222,\"#7201a8\"],[0.3333333333333333,\"#9c179e\"],[0.4444444444444444,\"#bd3786\"],[0.5555555555555556,\"#d8576b\"],[0.6666666666666666,\"#ed7953\"],[0.7777777777777778,\"#fb9f3a\"],[0.8888888888888888,\"#fdca26\"],[1.0,\"#f0f921\"]]}],\"heatmapgl\":[{\"type\":\"heatmapgl\",\"colorbar\":{\"outlinewidth\":0,\"ticks\":\"\"},\"colorscale\":[[0.0,\"#0d0887\"],[0.1111111111111111,\"#46039f\"],[0.2222222222222222,\"#7201a8\"],[0.3333333333333333,\"#9c179e\"],[0.4444444444444444,\"#bd3786\"],[0.5555555555555556,\"#d8576b\"],[0.6666666666666666,\"#ed7953\"],[0.7777777777777778,\"#fb9f3a\"],[0.8888888888888888,\"#fdca26\"],[1.0,\"#f0f921\"]]}],\"contourcarpet\":[{\"type\":\"contourcarpet\",\"colorbar\":{\"outlinewidth\":0,\"ticks\":\"\"}}],\"contour\":[{\"type\":\"contour\",\"colorbar\":{\"outlinewidth\":0,\"ticks\":\"\"},\"colorscale\":[[0.0,\"#0d0887\"],[0.1111111111111111,\"#46039f\"],[0.2222222222222222,\"#7201a8\"],[0.3333333333333333,\"#9c179e\"],[0.4444444444444444,\"#bd3786\"],[0.5555555555555556,\"#d8576b\"],[0.6666666666666666,\"#ed7953\"],[0.7777777777777778,\"#fb9f3a\"],[0.8888888888888888,\"#fdca26\"],[1.0,\"#f0f921\"]]}],\"surface\":[{\"type\":\"surface\",\"colorbar\":{\"outlinewidth\":0,\"ticks\":\"\"},\"colorscale\":[[0.0,\"#0d0887\"],[0.1111111111111111,\"#46039f\"],[0.2222222222222222,\"#7201a8\"],[0.3333333333333333,\"#9c179e\"],[0.4444444444444444,\"#bd3786\"],[0.5555555555555556,\"#d8576b\"],[0.6666666666666666,\"#ed7953\"],[0.7777777777777778,\"#fb9f3a\"],[0.8888888888888888,\"#fdca26\"],[1.0,\"#f0f921\"]]}],\"mesh3d\":[{\"type\":\"mesh3d\",\"colorbar\":{\"outlinewidth\":0,\"ticks\":\"\"}}],\"scatter\":[{\"fillpattern\":{\"fillmode\":\"overlay\",\"size\":10,\"solidity\":0.2},\"type\":\"scatter\"}],\"parcoords\":[{\"type\":\"parcoords\",\"line\":{\"colorbar\":{\"outlinewidth\":0,\"ticks\":\"\"}}}],\"scatterpolargl\":[{\"type\":\"scatterpolargl\",\"marker\":{\"colorbar\":{\"outlinewidth\":0,\"ticks\":\"\"}}}],\"bar\":[{\"error_x\":{\"color\":\"#2a3f5f\"},\"error_y\":{\"color\":\"#2a3f5f\"},\"marker\":{\"line\":{\"color\":\"#E5ECF6\",\"width\":0.5},\"pattern\":{\"fillmode\":\"overlay\",\"size\":10,\"solidity\":0.2}},\"type\":\"bar\"}],\"scattergeo\":[{\"type\":\"scattergeo\",\"marker\":{\"colorbar\":{\"outlinewidth\":0,\"ticks\":\"\"}}}],\"scatterpolar\":[{\"type\":\"scatterpolar\",\"marker\":{\"colorbar\":{\"outlinewidth\":0,\"ticks\":\"\"}}}],\"histogram\":[{\"marker\":{\"pattern\":{\"fillmode\":\"overlay\",\"size\":10,\"solidity\":0.2}},\"type\":\"histogram\"}],\"scattergl\":[{\"type\":\"scattergl\",\"marker\":{\"colorbar\":{\"outlinewidth\":0,\"ticks\":\"\"}}}],\"scatter3d\":[{\"type\":\"scatter3d\",\"line\":{\"colorbar\":{\"outlinewidth\":0,\"ticks\":\"\"}},\"marker\":{\"colorbar\":{\"outlinewidth\":0,\"ticks\":\"\"}}}],\"scattermapbox\":[{\"type\":\"scattermapbox\",\"marker\":{\"colorbar\":{\"outlinewidth\":0,\"ticks\":\"\"}}}],\"scatterternary\":[{\"type\":\"scatterternary\",\"marker\":{\"colorbar\":{\"outlinewidth\":0,\"ticks\":\"\"}}}],\"scattercarpet\":[{\"type\":\"scattercarpet\",\"marker\":{\"colorbar\":{\"outlinewidth\":0,\"ticks\":\"\"}}}],\"carpet\":[{\"aaxis\":{\"endlinecolor\":\"#2a3f5f\",\"gridcolor\":\"white\",\"linecolor\":\"white\",\"minorgridcolor\":\"white\",\"startlinecolor\":\"#2a3f5f\"},\"baxis\":{\"endlinecolor\":\"#2a3f5f\",\"gridcolor\":\"white\",\"linecolor\":\"white\",\"minorgridcolor\":\"white\",\"startlinecolor\":\"#2a3f5f\"},\"type\":\"carpet\"}],\"table\":[{\"cells\":{\"fill\":{\"color\":\"#EBF0F8\"},\"line\":{\"color\":\"white\"}},\"header\":{\"fill\":{\"color\":\"#C8D4E3\"},\"line\":{\"color\":\"white\"}},\"type\":\"table\"}],\"barpolar\":[{\"marker\":{\"line\":{\"color\":\"#E5ECF6\",\"width\":0.5},\"pattern\":{\"fillmode\":\"overlay\",\"size\":10,\"solidity\":0.2}},\"type\":\"barpolar\"}],\"pie\":[{\"automargin\":true,\"type\":\"pie\"}]},\"layout\":{\"autotypenumbers\":\"strict\",\"colorway\":[\"#636efa\",\"#EF553B\",\"#00cc96\",\"#ab63fa\",\"#FFA15A\",\"#19d3f3\",\"#FF6692\",\"#B6E880\",\"#FF97FF\",\"#FECB52\"],\"font\":{\"color\":\"#2a3f5f\"},\"hovermode\":\"closest\",\"hoverlabel\":{\"align\":\"left\"},\"paper_bgcolor\":\"white\",\"plot_bgcolor\":\"#E5ECF6\",\"polar\":{\"bgcolor\":\"#E5ECF6\",\"angularaxis\":{\"gridcolor\":\"white\",\"linecolor\":\"white\",\"ticks\":\"\"},\"radialaxis\":{\"gridcolor\":\"white\",\"linecolor\":\"white\",\"ticks\":\"\"}},\"ternary\":{\"bgcolor\":\"#E5ECF6\",\"aaxis\":{\"gridcolor\":\"white\",\"linecolor\":\"white\",\"ticks\":\"\"},\"baxis\":{\"gridcolor\":\"white\",\"linecolor\":\"white\",\"ticks\":\"\"},\"caxis\":{\"gridcolor\":\"white\",\"linecolor\":\"white\",\"ticks\":\"\"}},\"coloraxis\":{\"colorbar\":{\"outlinewidth\":0,\"ticks\":\"\"}},\"colorscale\":{\"sequential\":[[0.0,\"#0d0887\"],[0.1111111111111111,\"#46039f\"],[0.2222222222222222,\"#7201a8\"],[0.3333333333333333,\"#9c179e\"],[0.4444444444444444,\"#bd3786\"],[0.5555555555555556,\"#d8576b\"],[0.6666666666666666,\"#ed7953\"],[0.7777777777777778,\"#fb9f3a\"],[0.8888888888888888,\"#fdca26\"],[1.0,\"#f0f921\"]],\"sequentialminus\":[[0.0,\"#0d0887\"],[0.1111111111111111,\"#46039f\"],[0.2222222222222222,\"#7201a8\"],[0.3333333333333333,\"#9c179e\"],[0.4444444444444444,\"#bd3786\"],[0.5555555555555556,\"#d8576b\"],[0.6666666666666666,\"#ed7953\"],[0.7777777777777778,\"#fb9f3a\"],[0.8888888888888888,\"#fdca26\"],[1.0,\"#f0f921\"]],\"diverging\":[[0,\"#8e0152\"],[0.1,\"#c51b7d\"],[0.2,\"#de77ae\"],[0.3,\"#f1b6da\"],[0.4,\"#fde0ef\"],[0.5,\"#f7f7f7\"],[0.6,\"#e6f5d0\"],[0.7,\"#b8e186\"],[0.8,\"#7fbc41\"],[0.9,\"#4d9221\"],[1,\"#276419\"]]},\"xaxis\":{\"gridcolor\":\"white\",\"linecolor\":\"white\",\"ticks\":\"\",\"title\":{\"standoff\":15},\"zerolinecolor\":\"white\",\"automargin\":true,\"zerolinewidth\":2},\"yaxis\":{\"gridcolor\":\"white\",\"linecolor\":\"white\",\"ticks\":\"\",\"title\":{\"standoff\":15},\"zerolinecolor\":\"white\",\"automargin\":true,\"zerolinewidth\":2},\"scene\":{\"xaxis\":{\"backgroundcolor\":\"#E5ECF6\",\"gridcolor\":\"white\",\"linecolor\":\"white\",\"showbackground\":true,\"ticks\":\"\",\"zerolinecolor\":\"white\",\"gridwidth\":2},\"yaxis\":{\"backgroundcolor\":\"#E5ECF6\",\"gridcolor\":\"white\",\"linecolor\":\"white\",\"showbackground\":true,\"ticks\":\"\",\"zerolinecolor\":\"white\",\"gridwidth\":2},\"zaxis\":{\"backgroundcolor\":\"#E5ECF6\",\"gridcolor\":\"white\",\"linecolor\":\"white\",\"showbackground\":true,\"ticks\":\"\",\"zerolinecolor\":\"white\",\"gridwidth\":2}},\"shapedefaults\":{\"line\":{\"color\":\"#2a3f5f\"}},\"annotationdefaults\":{\"arrowcolor\":\"#2a3f5f\",\"arrowhead\":0,\"arrowwidth\":1},\"geo\":{\"bgcolor\":\"white\",\"landcolor\":\"#E5ECF6\",\"subunitcolor\":\"white\",\"showland\":true,\"showlakes\":true,\"lakecolor\":\"white\"},\"title\":{\"x\":0.05},\"mapbox\":{\"style\":\"light\"}}},\"barmode\":\"group\",\"title\":{\"text\":\"Most Popular Cloud Computing Platforms in 2018-2021\"},\"yaxis\":{\"title\":{\"text\":\"% of respondents\"}}},                        {\"responsive\": true}                    ).then(function(){\n",
       "                            \n",
       "var gd = document.getElementById('576ad226-4492-4251-bda9-84fc2b25e221');\n",
       "var x = new MutationObserver(function (mutations, observer) {{\n",
       "        var display = window.getComputedStyle(gd).display;\n",
       "        if (!display || display === 'none') {{\n",
       "            console.log([gd, 'removed!']);\n",
       "            Plotly.purge(gd);\n",
       "            observer.disconnect();\n",
       "        }}\n",
       "}});\n",
       "\n",
       "// Listen for the removal of the full notebook cells\n",
       "var notebookContainer = gd.closest('#notebook-container');\n",
       "if (notebookContainer) {{\n",
       "    x.observe(notebookContainer, {childList: true});\n",
       "}}\n",
       "\n",
       "// Listen for the clearing of the current output cell\n",
       "var outputEl = gd.closest('.output');\n",
       "if (outputEl) {{\n",
       "    x.observe(outputEl, {childList: true});\n",
       "}}\n",
       "\n",
       "                        })                };                });            </script>        </div>"
      ]
     },
     "metadata": {},
     "output_type": "display_data"
    }
   ],
   "source": [
    "q26a_dictionary_of_counts_2018 = {\n",
    "    'Amazon Web Services (AWS)' : (responses_df_2018['Q15_Part_2'].count()),\n",
    "    'Microsoft Azure': (responses_df_2018['Q15_Part_3'].count()),\n",
    "    'Google Cloud Platform (GCP)' : (responses_df_2018['Q15_Part_1'].count()),\n",
    "    'Alibaba Cloud' : (responses_df_2018['Q15_Part_5'].count()),\n",
    "    'None' : (responses_df_2018['Q15_Part_6'].count()),\n",
    "}\n",
    "\n",
    "q26a_dictionary_of_counts_2019 = {\n",
    "    'Amazon Web Services (AWS)' : (responses_df_2019['Q29_Part_2'].count()),\n",
    "    'Microsoft Azure': (responses_df_2019['Q29_Part_3'].count()),\n",
    "    'Google Cloud Platform (GCP)' : (responses_df_2019['Q29_Part_1'].count()),\n",
    "    'Alibaba Cloud' : (responses_df_2019['Q29_Part_5'].count()),\n",
    "    'None' : (responses_df_2019['Q29_Part_11'].count()),\n",
    "}\n",
    "\n",
    "q26a_dictionary_of_counts_2020 = {\n",
    "    'Amazon Web Services (AWS)' : (responses_df_2020['Q26_A_Part_1'].count()),\n",
    "    'Microsoft Azure': (responses_df_2020['Q26_A_Part_2'].count()),\n",
    "    'Google Cloud Platform (GCP)' : (responses_df_2020['Q26_A_Part_3'].count()),\n",
    "    'Alibaba Cloud' : (responses_df_2020['Q26_A_Part_9'].count()),\n",
    "    'None' : (responses_df_2020['Q26_A_Part_11'].count()),\n",
    "}\n",
    "\n",
    "q27a_dictionary_of_counts_2021 = {\n",
    "    'Amazon Web Services (AWS)' : (responses_df_2021['Q27_A_Part_1'].count()),\n",
    "    'Microsoft Azure': (responses_df_2021['Q27_A_Part_2'].count()),\n",
    "    'Google Cloud Platform (GCP)' : (responses_df_2021['Q27_A_Part_3'].count()),\n",
    "    'Alibaba Cloud' : (responses_df_2021['Q27_A_Part_9'].count()),\n",
    "    'None' : (responses_df_2021['Q27_A_Part_11'].count()),\n",
    "}\n",
    "\n",
    "dictionary_of_counts_2018 = sort_dictionary_by_percent(responses_df_2018,\n",
    "                                                  q26a_list_of_columns_2018,\n",
    "                                                  q26a_dictionary_of_counts_2018)\n",
    "dictionary_of_counts_2019 = sort_dictionary_by_percent(responses_df_2019,\n",
    "                                                  q26a_list_of_columns_2019,\n",
    "                                                  q26a_dictionary_of_counts_2019)\n",
    "dictionary_of_counts_2020 = sort_dictionary_by_percent(responses_df_2020,\n",
    "                                                  q26a_list_of_columns_2020,\n",
    "                                                  q26a_dictionary_of_counts_2020)\n",
    "dictionary_of_counts_2021 = sort_dictionary_by_percent(responses_df_2021,\n",
    "                                                  q27a_list_of_columns_2021,\n",
    "                                                  q27a_dictionary_of_counts_2021)\n",
    "\n",
    "title_for_chart = 'Most Popular Cloud Computing Platforms in 2018-2021'\n",
    "title_for_y_axis = '% of respondents'\n",
    "\n",
    "fig = go.Figure(data=[\n",
    "    go.Bar(name='2018 Kaggle Survey', x=pd.Series(dictionary_of_counts_2018.keys()), y=pd.Series(dictionary_of_counts_2018.values())),\n",
    "    go.Bar(name='2019 Kaggle Survey', x=pd.Series(dictionary_of_counts_2019.keys()), y=pd.Series(dictionary_of_counts_2019.values())),\n",
    "    go.Bar(name='2020 Kaggle Survey', x=pd.Series(dictionary_of_counts_2020.keys()), y=pd.Series(dictionary_of_counts_2020.values())),\n",
    "    go.Bar(name='2021 Kaggle Survey', x=pd.Series(dictionary_of_counts_2021.keys()), y=pd.Series(dictionary_of_counts_2021.values()))\n",
    "           ])\n",
    "fig.update_layout(barmode='group') \n",
    "fig.update_layout(title=title_for_chart,yaxis=dict(title=title_for_y_axis))\n",
    "fig.show()"
   ]
  },
  {
   "cell_type": "code",
   "execution_count": 42,
   "id": "8ccdafce",
   "metadata": {},
   "outputs": [
    {
     "data": {
      "application/vnd.plotly.v1+json": {
       "config": {
        "plotlyServerURL": "https://plot.ly"
       },
       "data": [
        {
         "name": "2018 Kaggle Survey",
         "type": "bar",
         "x": [
          "Google Cloud SQL",
          "Amazon DynamoDB",
          "Amazon Redshift",
          "Google Cloud BigQuery",
          "Oracle Database",
          "Microsoft SQL Server"
         ],
         "y": [
          7.6,
          8.2,
          16.9,
          17.5,
          25.3,
          35.6
         ]
        },
        {
         "name": "2019 Kaggle Survey",
         "type": "bar",
         "x": [
          "Amazon DynamoDB",
          "Google Cloud SQL",
          "Amazon Redshift",
          "Google Cloud BigQuery",
          "Oracle Database",
          "Microsoft SQL Server"
         ],
         "y": [
          5.4,
          7.9,
          10.5,
          16.1,
          16.5,
          26.3
         ]
        },
        {
         "name": "2020 Kaggle Survey",
         "type": "bar",
         "x": [
          "Amazon DynamoDB",
          "Google Cloud SQL",
          "Amazon Redshift",
          "Oracle Database",
          "Google Cloud BigQuery",
          "Microsoft SQL Server"
         ],
         "y": [
          5.1,
          5.9,
          9.2,
          12.9,
          13.5,
          24.9
         ]
        },
        {
         "name": "2021 Kaggle Survey",
         "type": "bar",
         "x": [
          "Amazon DynamoDB",
          "Google Cloud SQL",
          "Amazon Redshift",
          "Oracle Database",
          "Google Cloud BigQuery",
          "Microsoft SQL Server"
         ],
         "y": [
          4.9,
          6.7,
          9.3,
          11.6,
          13,
          20.1
         ]
        }
       ],
       "layout": {
        "barmode": "group",
        "template": {
         "data": {
          "bar": [
           {
            "error_x": {
             "color": "#2a3f5f"
            },
            "error_y": {
             "color": "#2a3f5f"
            },
            "marker": {
             "line": {
              "color": "#E5ECF6",
              "width": 0.5
             },
             "pattern": {
              "fillmode": "overlay",
              "size": 10,
              "solidity": 0.2
             }
            },
            "type": "bar"
           }
          ],
          "barpolar": [
           {
            "marker": {
             "line": {
              "color": "#E5ECF6",
              "width": 0.5
             },
             "pattern": {
              "fillmode": "overlay",
              "size": 10,
              "solidity": 0.2
             }
            },
            "type": "barpolar"
           }
          ],
          "carpet": [
           {
            "aaxis": {
             "endlinecolor": "#2a3f5f",
             "gridcolor": "white",
             "linecolor": "white",
             "minorgridcolor": "white",
             "startlinecolor": "#2a3f5f"
            },
            "baxis": {
             "endlinecolor": "#2a3f5f",
             "gridcolor": "white",
             "linecolor": "white",
             "minorgridcolor": "white",
             "startlinecolor": "#2a3f5f"
            },
            "type": "carpet"
           }
          ],
          "choropleth": [
           {
            "colorbar": {
             "outlinewidth": 0,
             "ticks": ""
            },
            "type": "choropleth"
           }
          ],
          "contour": [
           {
            "colorbar": {
             "outlinewidth": 0,
             "ticks": ""
            },
            "colorscale": [
             [
              0,
              "#0d0887"
             ],
             [
              0.1111111111111111,
              "#46039f"
             ],
             [
              0.2222222222222222,
              "#7201a8"
             ],
             [
              0.3333333333333333,
              "#9c179e"
             ],
             [
              0.4444444444444444,
              "#bd3786"
             ],
             [
              0.5555555555555556,
              "#d8576b"
             ],
             [
              0.6666666666666666,
              "#ed7953"
             ],
             [
              0.7777777777777778,
              "#fb9f3a"
             ],
             [
              0.8888888888888888,
              "#fdca26"
             ],
             [
              1,
              "#f0f921"
             ]
            ],
            "type": "contour"
           }
          ],
          "contourcarpet": [
           {
            "colorbar": {
             "outlinewidth": 0,
             "ticks": ""
            },
            "type": "contourcarpet"
           }
          ],
          "heatmap": [
           {
            "colorbar": {
             "outlinewidth": 0,
             "ticks": ""
            },
            "colorscale": [
             [
              0,
              "#0d0887"
             ],
             [
              0.1111111111111111,
              "#46039f"
             ],
             [
              0.2222222222222222,
              "#7201a8"
             ],
             [
              0.3333333333333333,
              "#9c179e"
             ],
             [
              0.4444444444444444,
              "#bd3786"
             ],
             [
              0.5555555555555556,
              "#d8576b"
             ],
             [
              0.6666666666666666,
              "#ed7953"
             ],
             [
              0.7777777777777778,
              "#fb9f3a"
             ],
             [
              0.8888888888888888,
              "#fdca26"
             ],
             [
              1,
              "#f0f921"
             ]
            ],
            "type": "heatmap"
           }
          ],
          "heatmapgl": [
           {
            "colorbar": {
             "outlinewidth": 0,
             "ticks": ""
            },
            "colorscale": [
             [
              0,
              "#0d0887"
             ],
             [
              0.1111111111111111,
              "#46039f"
             ],
             [
              0.2222222222222222,
              "#7201a8"
             ],
             [
              0.3333333333333333,
              "#9c179e"
             ],
             [
              0.4444444444444444,
              "#bd3786"
             ],
             [
              0.5555555555555556,
              "#d8576b"
             ],
             [
              0.6666666666666666,
              "#ed7953"
             ],
             [
              0.7777777777777778,
              "#fb9f3a"
             ],
             [
              0.8888888888888888,
              "#fdca26"
             ],
             [
              1,
              "#f0f921"
             ]
            ],
            "type": "heatmapgl"
           }
          ],
          "histogram": [
           {
            "marker": {
             "pattern": {
              "fillmode": "overlay",
              "size": 10,
              "solidity": 0.2
             }
            },
            "type": "histogram"
           }
          ],
          "histogram2d": [
           {
            "colorbar": {
             "outlinewidth": 0,
             "ticks": ""
            },
            "colorscale": [
             [
              0,
              "#0d0887"
             ],
             [
              0.1111111111111111,
              "#46039f"
             ],
             [
              0.2222222222222222,
              "#7201a8"
             ],
             [
              0.3333333333333333,
              "#9c179e"
             ],
             [
              0.4444444444444444,
              "#bd3786"
             ],
             [
              0.5555555555555556,
              "#d8576b"
             ],
             [
              0.6666666666666666,
              "#ed7953"
             ],
             [
              0.7777777777777778,
              "#fb9f3a"
             ],
             [
              0.8888888888888888,
              "#fdca26"
             ],
             [
              1,
              "#f0f921"
             ]
            ],
            "type": "histogram2d"
           }
          ],
          "histogram2dcontour": [
           {
            "colorbar": {
             "outlinewidth": 0,
             "ticks": ""
            },
            "colorscale": [
             [
              0,
              "#0d0887"
             ],
             [
              0.1111111111111111,
              "#46039f"
             ],
             [
              0.2222222222222222,
              "#7201a8"
             ],
             [
              0.3333333333333333,
              "#9c179e"
             ],
             [
              0.4444444444444444,
              "#bd3786"
             ],
             [
              0.5555555555555556,
              "#d8576b"
             ],
             [
              0.6666666666666666,
              "#ed7953"
             ],
             [
              0.7777777777777778,
              "#fb9f3a"
             ],
             [
              0.8888888888888888,
              "#fdca26"
             ],
             [
              1,
              "#f0f921"
             ]
            ],
            "type": "histogram2dcontour"
           }
          ],
          "mesh3d": [
           {
            "colorbar": {
             "outlinewidth": 0,
             "ticks": ""
            },
            "type": "mesh3d"
           }
          ],
          "parcoords": [
           {
            "line": {
             "colorbar": {
              "outlinewidth": 0,
              "ticks": ""
             }
            },
            "type": "parcoords"
           }
          ],
          "pie": [
           {
            "automargin": true,
            "type": "pie"
           }
          ],
          "scatter": [
           {
            "fillpattern": {
             "fillmode": "overlay",
             "size": 10,
             "solidity": 0.2
            },
            "type": "scatter"
           }
          ],
          "scatter3d": [
           {
            "line": {
             "colorbar": {
              "outlinewidth": 0,
              "ticks": ""
             }
            },
            "marker": {
             "colorbar": {
              "outlinewidth": 0,
              "ticks": ""
             }
            },
            "type": "scatter3d"
           }
          ],
          "scattercarpet": [
           {
            "marker": {
             "colorbar": {
              "outlinewidth": 0,
              "ticks": ""
             }
            },
            "type": "scattercarpet"
           }
          ],
          "scattergeo": [
           {
            "marker": {
             "colorbar": {
              "outlinewidth": 0,
              "ticks": ""
             }
            },
            "type": "scattergeo"
           }
          ],
          "scattergl": [
           {
            "marker": {
             "colorbar": {
              "outlinewidth": 0,
              "ticks": ""
             }
            },
            "type": "scattergl"
           }
          ],
          "scattermapbox": [
           {
            "marker": {
             "colorbar": {
              "outlinewidth": 0,
              "ticks": ""
             }
            },
            "type": "scattermapbox"
           }
          ],
          "scatterpolar": [
           {
            "marker": {
             "colorbar": {
              "outlinewidth": 0,
              "ticks": ""
             }
            },
            "type": "scatterpolar"
           }
          ],
          "scatterpolargl": [
           {
            "marker": {
             "colorbar": {
              "outlinewidth": 0,
              "ticks": ""
             }
            },
            "type": "scatterpolargl"
           }
          ],
          "scatterternary": [
           {
            "marker": {
             "colorbar": {
              "outlinewidth": 0,
              "ticks": ""
             }
            },
            "type": "scatterternary"
           }
          ],
          "surface": [
           {
            "colorbar": {
             "outlinewidth": 0,
             "ticks": ""
            },
            "colorscale": [
             [
              0,
              "#0d0887"
             ],
             [
              0.1111111111111111,
              "#46039f"
             ],
             [
              0.2222222222222222,
              "#7201a8"
             ],
             [
              0.3333333333333333,
              "#9c179e"
             ],
             [
              0.4444444444444444,
              "#bd3786"
             ],
             [
              0.5555555555555556,
              "#d8576b"
             ],
             [
              0.6666666666666666,
              "#ed7953"
             ],
             [
              0.7777777777777778,
              "#fb9f3a"
             ],
             [
              0.8888888888888888,
              "#fdca26"
             ],
             [
              1,
              "#f0f921"
             ]
            ],
            "type": "surface"
           }
          ],
          "table": [
           {
            "cells": {
             "fill": {
              "color": "#EBF0F8"
             },
             "line": {
              "color": "white"
             }
            },
            "header": {
             "fill": {
              "color": "#C8D4E3"
             },
             "line": {
              "color": "white"
             }
            },
            "type": "table"
           }
          ]
         },
         "layout": {
          "annotationdefaults": {
           "arrowcolor": "#2a3f5f",
           "arrowhead": 0,
           "arrowwidth": 1
          },
          "autotypenumbers": "strict",
          "coloraxis": {
           "colorbar": {
            "outlinewidth": 0,
            "ticks": ""
           }
          },
          "colorscale": {
           "diverging": [
            [
             0,
             "#8e0152"
            ],
            [
             0.1,
             "#c51b7d"
            ],
            [
             0.2,
             "#de77ae"
            ],
            [
             0.3,
             "#f1b6da"
            ],
            [
             0.4,
             "#fde0ef"
            ],
            [
             0.5,
             "#f7f7f7"
            ],
            [
             0.6,
             "#e6f5d0"
            ],
            [
             0.7,
             "#b8e186"
            ],
            [
             0.8,
             "#7fbc41"
            ],
            [
             0.9,
             "#4d9221"
            ],
            [
             1,
             "#276419"
            ]
           ],
           "sequential": [
            [
             0,
             "#0d0887"
            ],
            [
             0.1111111111111111,
             "#46039f"
            ],
            [
             0.2222222222222222,
             "#7201a8"
            ],
            [
             0.3333333333333333,
             "#9c179e"
            ],
            [
             0.4444444444444444,
             "#bd3786"
            ],
            [
             0.5555555555555556,
             "#d8576b"
            ],
            [
             0.6666666666666666,
             "#ed7953"
            ],
            [
             0.7777777777777778,
             "#fb9f3a"
            ],
            [
             0.8888888888888888,
             "#fdca26"
            ],
            [
             1,
             "#f0f921"
            ]
           ],
           "sequentialminus": [
            [
             0,
             "#0d0887"
            ],
            [
             0.1111111111111111,
             "#46039f"
            ],
            [
             0.2222222222222222,
             "#7201a8"
            ],
            [
             0.3333333333333333,
             "#9c179e"
            ],
            [
             0.4444444444444444,
             "#bd3786"
            ],
            [
             0.5555555555555556,
             "#d8576b"
            ],
            [
             0.6666666666666666,
             "#ed7953"
            ],
            [
             0.7777777777777778,
             "#fb9f3a"
            ],
            [
             0.8888888888888888,
             "#fdca26"
            ],
            [
             1,
             "#f0f921"
            ]
           ]
          },
          "colorway": [
           "#636efa",
           "#EF553B",
           "#00cc96",
           "#ab63fa",
           "#FFA15A",
           "#19d3f3",
           "#FF6692",
           "#B6E880",
           "#FF97FF",
           "#FECB52"
          ],
          "font": {
           "color": "#2a3f5f"
          },
          "geo": {
           "bgcolor": "white",
           "lakecolor": "white",
           "landcolor": "#E5ECF6",
           "showlakes": true,
           "showland": true,
           "subunitcolor": "white"
          },
          "hoverlabel": {
           "align": "left"
          },
          "hovermode": "closest",
          "mapbox": {
           "style": "light"
          },
          "paper_bgcolor": "white",
          "plot_bgcolor": "#E5ECF6",
          "polar": {
           "angularaxis": {
            "gridcolor": "white",
            "linecolor": "white",
            "ticks": ""
           },
           "bgcolor": "#E5ECF6",
           "radialaxis": {
            "gridcolor": "white",
            "linecolor": "white",
            "ticks": ""
           }
          },
          "scene": {
           "xaxis": {
            "backgroundcolor": "#E5ECF6",
            "gridcolor": "white",
            "gridwidth": 2,
            "linecolor": "white",
            "showbackground": true,
            "ticks": "",
            "zerolinecolor": "white"
           },
           "yaxis": {
            "backgroundcolor": "#E5ECF6",
            "gridcolor": "white",
            "gridwidth": 2,
            "linecolor": "white",
            "showbackground": true,
            "ticks": "",
            "zerolinecolor": "white"
           },
           "zaxis": {
            "backgroundcolor": "#E5ECF6",
            "gridcolor": "white",
            "gridwidth": 2,
            "linecolor": "white",
            "showbackground": true,
            "ticks": "",
            "zerolinecolor": "white"
           }
          },
          "shapedefaults": {
           "line": {
            "color": "#2a3f5f"
           }
          },
          "ternary": {
           "aaxis": {
            "gridcolor": "white",
            "linecolor": "white",
            "ticks": ""
           },
           "baxis": {
            "gridcolor": "white",
            "linecolor": "white",
            "ticks": ""
           },
           "bgcolor": "#E5ECF6",
           "caxis": {
            "gridcolor": "white",
            "linecolor": "white",
            "ticks": ""
           }
          },
          "title": {
           "x": 0.05
          },
          "xaxis": {
           "automargin": true,
           "gridcolor": "white",
           "linecolor": "white",
           "ticks": "",
           "title": {
            "standoff": 15
           },
           "zerolinecolor": "white",
           "zerolinewidth": 2
          },
          "yaxis": {
           "automargin": true,
           "gridcolor": "white",
           "linecolor": "white",
           "ticks": "",
           "title": {
            "standoff": 15
           },
           "zerolinecolor": "white",
           "zerolinewidth": 2
          }
         }
        },
        "title": {
         "text": "Most Popular Database / Data Warehouse Products in 2018-2021"
        },
        "yaxis": {
         "title": {
          "text": "% of respondents"
         }
        }
       }
      },
      "text/html": [
       "<div>                            <div id=\"b9044888-753a-4069-ae52-264f4b1cd8b0\" class=\"plotly-graph-div\" style=\"height:525px; width:100%;\"></div>            <script type=\"text/javascript\">                require([\"plotly\"], function(Plotly) {                    window.PLOTLYENV=window.PLOTLYENV || {};                                    if (document.getElementById(\"b9044888-753a-4069-ae52-264f4b1cd8b0\")) {                    Plotly.newPlot(                        \"b9044888-753a-4069-ae52-264f4b1cd8b0\",                        [{\"name\":\"2018 Kaggle Survey\",\"x\":[\"Google Cloud SQL\",\"Amazon DynamoDB\",\"Amazon Redshift\",\"Google Cloud BigQuery\",\"Oracle Database\",\"Microsoft SQL Server\"],\"y\":[7.6,8.2,16.9,17.5,25.3,35.6],\"type\":\"bar\"},{\"name\":\"2019 Kaggle Survey\",\"x\":[\"Amazon DynamoDB\",\"Google Cloud SQL\",\"Amazon Redshift\",\"Google Cloud BigQuery\",\"Oracle Database\",\"Microsoft SQL Server\"],\"y\":[5.4,7.9,10.5,16.1,16.5,26.3],\"type\":\"bar\"},{\"name\":\"2020 Kaggle Survey\",\"x\":[\"Amazon DynamoDB\",\"Google Cloud SQL\",\"Amazon Redshift\",\"Oracle Database\",\"Google Cloud BigQuery\",\"Microsoft SQL Server\"],\"y\":[5.1,5.9,9.2,12.9,13.5,24.9],\"type\":\"bar\"},{\"name\":\"2021 Kaggle Survey\",\"x\":[\"Amazon DynamoDB\",\"Google Cloud SQL\",\"Amazon Redshift\",\"Oracle Database\",\"Google Cloud BigQuery\",\"Microsoft SQL Server\"],\"y\":[4.9,6.7,9.3,11.6,13.0,20.1],\"type\":\"bar\"}],                        {\"template\":{\"data\":{\"histogram2dcontour\":[{\"type\":\"histogram2dcontour\",\"colorbar\":{\"outlinewidth\":0,\"ticks\":\"\"},\"colorscale\":[[0.0,\"#0d0887\"],[0.1111111111111111,\"#46039f\"],[0.2222222222222222,\"#7201a8\"],[0.3333333333333333,\"#9c179e\"],[0.4444444444444444,\"#bd3786\"],[0.5555555555555556,\"#d8576b\"],[0.6666666666666666,\"#ed7953\"],[0.7777777777777778,\"#fb9f3a\"],[0.8888888888888888,\"#fdca26\"],[1.0,\"#f0f921\"]]}],\"choropleth\":[{\"type\":\"choropleth\",\"colorbar\":{\"outlinewidth\":0,\"ticks\":\"\"}}],\"histogram2d\":[{\"type\":\"histogram2d\",\"colorbar\":{\"outlinewidth\":0,\"ticks\":\"\"},\"colorscale\":[[0.0,\"#0d0887\"],[0.1111111111111111,\"#46039f\"],[0.2222222222222222,\"#7201a8\"],[0.3333333333333333,\"#9c179e\"],[0.4444444444444444,\"#bd3786\"],[0.5555555555555556,\"#d8576b\"],[0.6666666666666666,\"#ed7953\"],[0.7777777777777778,\"#fb9f3a\"],[0.8888888888888888,\"#fdca26\"],[1.0,\"#f0f921\"]]}],\"heatmap\":[{\"type\":\"heatmap\",\"colorbar\":{\"outlinewidth\":0,\"ticks\":\"\"},\"colorscale\":[[0.0,\"#0d0887\"],[0.1111111111111111,\"#46039f\"],[0.2222222222222222,\"#7201a8\"],[0.3333333333333333,\"#9c179e\"],[0.4444444444444444,\"#bd3786\"],[0.5555555555555556,\"#d8576b\"],[0.6666666666666666,\"#ed7953\"],[0.7777777777777778,\"#fb9f3a\"],[0.8888888888888888,\"#fdca26\"],[1.0,\"#f0f921\"]]}],\"heatmapgl\":[{\"type\":\"heatmapgl\",\"colorbar\":{\"outlinewidth\":0,\"ticks\":\"\"},\"colorscale\":[[0.0,\"#0d0887\"],[0.1111111111111111,\"#46039f\"],[0.2222222222222222,\"#7201a8\"],[0.3333333333333333,\"#9c179e\"],[0.4444444444444444,\"#bd3786\"],[0.5555555555555556,\"#d8576b\"],[0.6666666666666666,\"#ed7953\"],[0.7777777777777778,\"#fb9f3a\"],[0.8888888888888888,\"#fdca26\"],[1.0,\"#f0f921\"]]}],\"contourcarpet\":[{\"type\":\"contourcarpet\",\"colorbar\":{\"outlinewidth\":0,\"ticks\":\"\"}}],\"contour\":[{\"type\":\"contour\",\"colorbar\":{\"outlinewidth\":0,\"ticks\":\"\"},\"colorscale\":[[0.0,\"#0d0887\"],[0.1111111111111111,\"#46039f\"],[0.2222222222222222,\"#7201a8\"],[0.3333333333333333,\"#9c179e\"],[0.4444444444444444,\"#bd3786\"],[0.5555555555555556,\"#d8576b\"],[0.6666666666666666,\"#ed7953\"],[0.7777777777777778,\"#fb9f3a\"],[0.8888888888888888,\"#fdca26\"],[1.0,\"#f0f921\"]]}],\"surface\":[{\"type\":\"surface\",\"colorbar\":{\"outlinewidth\":0,\"ticks\":\"\"},\"colorscale\":[[0.0,\"#0d0887\"],[0.1111111111111111,\"#46039f\"],[0.2222222222222222,\"#7201a8\"],[0.3333333333333333,\"#9c179e\"],[0.4444444444444444,\"#bd3786\"],[0.5555555555555556,\"#d8576b\"],[0.6666666666666666,\"#ed7953\"],[0.7777777777777778,\"#fb9f3a\"],[0.8888888888888888,\"#fdca26\"],[1.0,\"#f0f921\"]]}],\"mesh3d\":[{\"type\":\"mesh3d\",\"colorbar\":{\"outlinewidth\":0,\"ticks\":\"\"}}],\"scatter\":[{\"fillpattern\":{\"fillmode\":\"overlay\",\"size\":10,\"solidity\":0.2},\"type\":\"scatter\"}],\"parcoords\":[{\"type\":\"parcoords\",\"line\":{\"colorbar\":{\"outlinewidth\":0,\"ticks\":\"\"}}}],\"scatterpolargl\":[{\"type\":\"scatterpolargl\",\"marker\":{\"colorbar\":{\"outlinewidth\":0,\"ticks\":\"\"}}}],\"bar\":[{\"error_x\":{\"color\":\"#2a3f5f\"},\"error_y\":{\"color\":\"#2a3f5f\"},\"marker\":{\"line\":{\"color\":\"#E5ECF6\",\"width\":0.5},\"pattern\":{\"fillmode\":\"overlay\",\"size\":10,\"solidity\":0.2}},\"type\":\"bar\"}],\"scattergeo\":[{\"type\":\"scattergeo\",\"marker\":{\"colorbar\":{\"outlinewidth\":0,\"ticks\":\"\"}}}],\"scatterpolar\":[{\"type\":\"scatterpolar\",\"marker\":{\"colorbar\":{\"outlinewidth\":0,\"ticks\":\"\"}}}],\"histogram\":[{\"marker\":{\"pattern\":{\"fillmode\":\"overlay\",\"size\":10,\"solidity\":0.2}},\"type\":\"histogram\"}],\"scattergl\":[{\"type\":\"scattergl\",\"marker\":{\"colorbar\":{\"outlinewidth\":0,\"ticks\":\"\"}}}],\"scatter3d\":[{\"type\":\"scatter3d\",\"line\":{\"colorbar\":{\"outlinewidth\":0,\"ticks\":\"\"}},\"marker\":{\"colorbar\":{\"outlinewidth\":0,\"ticks\":\"\"}}}],\"scattermapbox\":[{\"type\":\"scattermapbox\",\"marker\":{\"colorbar\":{\"outlinewidth\":0,\"ticks\":\"\"}}}],\"scatterternary\":[{\"type\":\"scatterternary\",\"marker\":{\"colorbar\":{\"outlinewidth\":0,\"ticks\":\"\"}}}],\"scattercarpet\":[{\"type\":\"scattercarpet\",\"marker\":{\"colorbar\":{\"outlinewidth\":0,\"ticks\":\"\"}}}],\"carpet\":[{\"aaxis\":{\"endlinecolor\":\"#2a3f5f\",\"gridcolor\":\"white\",\"linecolor\":\"white\",\"minorgridcolor\":\"white\",\"startlinecolor\":\"#2a3f5f\"},\"baxis\":{\"endlinecolor\":\"#2a3f5f\",\"gridcolor\":\"white\",\"linecolor\":\"white\",\"minorgridcolor\":\"white\",\"startlinecolor\":\"#2a3f5f\"},\"type\":\"carpet\"}],\"table\":[{\"cells\":{\"fill\":{\"color\":\"#EBF0F8\"},\"line\":{\"color\":\"white\"}},\"header\":{\"fill\":{\"color\":\"#C8D4E3\"},\"line\":{\"color\":\"white\"}},\"type\":\"table\"}],\"barpolar\":[{\"marker\":{\"line\":{\"color\":\"#E5ECF6\",\"width\":0.5},\"pattern\":{\"fillmode\":\"overlay\",\"size\":10,\"solidity\":0.2}},\"type\":\"barpolar\"}],\"pie\":[{\"automargin\":true,\"type\":\"pie\"}]},\"layout\":{\"autotypenumbers\":\"strict\",\"colorway\":[\"#636efa\",\"#EF553B\",\"#00cc96\",\"#ab63fa\",\"#FFA15A\",\"#19d3f3\",\"#FF6692\",\"#B6E880\",\"#FF97FF\",\"#FECB52\"],\"font\":{\"color\":\"#2a3f5f\"},\"hovermode\":\"closest\",\"hoverlabel\":{\"align\":\"left\"},\"paper_bgcolor\":\"white\",\"plot_bgcolor\":\"#E5ECF6\",\"polar\":{\"bgcolor\":\"#E5ECF6\",\"angularaxis\":{\"gridcolor\":\"white\",\"linecolor\":\"white\",\"ticks\":\"\"},\"radialaxis\":{\"gridcolor\":\"white\",\"linecolor\":\"white\",\"ticks\":\"\"}},\"ternary\":{\"bgcolor\":\"#E5ECF6\",\"aaxis\":{\"gridcolor\":\"white\",\"linecolor\":\"white\",\"ticks\":\"\"},\"baxis\":{\"gridcolor\":\"white\",\"linecolor\":\"white\",\"ticks\":\"\"},\"caxis\":{\"gridcolor\":\"white\",\"linecolor\":\"white\",\"ticks\":\"\"}},\"coloraxis\":{\"colorbar\":{\"outlinewidth\":0,\"ticks\":\"\"}},\"colorscale\":{\"sequential\":[[0.0,\"#0d0887\"],[0.1111111111111111,\"#46039f\"],[0.2222222222222222,\"#7201a8\"],[0.3333333333333333,\"#9c179e\"],[0.4444444444444444,\"#bd3786\"],[0.5555555555555556,\"#d8576b\"],[0.6666666666666666,\"#ed7953\"],[0.7777777777777778,\"#fb9f3a\"],[0.8888888888888888,\"#fdca26\"],[1.0,\"#f0f921\"]],\"sequentialminus\":[[0.0,\"#0d0887\"],[0.1111111111111111,\"#46039f\"],[0.2222222222222222,\"#7201a8\"],[0.3333333333333333,\"#9c179e\"],[0.4444444444444444,\"#bd3786\"],[0.5555555555555556,\"#d8576b\"],[0.6666666666666666,\"#ed7953\"],[0.7777777777777778,\"#fb9f3a\"],[0.8888888888888888,\"#fdca26\"],[1.0,\"#f0f921\"]],\"diverging\":[[0,\"#8e0152\"],[0.1,\"#c51b7d\"],[0.2,\"#de77ae\"],[0.3,\"#f1b6da\"],[0.4,\"#fde0ef\"],[0.5,\"#f7f7f7\"],[0.6,\"#e6f5d0\"],[0.7,\"#b8e186\"],[0.8,\"#7fbc41\"],[0.9,\"#4d9221\"],[1,\"#276419\"]]},\"xaxis\":{\"gridcolor\":\"white\",\"linecolor\":\"white\",\"ticks\":\"\",\"title\":{\"standoff\":15},\"zerolinecolor\":\"white\",\"automargin\":true,\"zerolinewidth\":2},\"yaxis\":{\"gridcolor\":\"white\",\"linecolor\":\"white\",\"ticks\":\"\",\"title\":{\"standoff\":15},\"zerolinecolor\":\"white\",\"automargin\":true,\"zerolinewidth\":2},\"scene\":{\"xaxis\":{\"backgroundcolor\":\"#E5ECF6\",\"gridcolor\":\"white\",\"linecolor\":\"white\",\"showbackground\":true,\"ticks\":\"\",\"zerolinecolor\":\"white\",\"gridwidth\":2},\"yaxis\":{\"backgroundcolor\":\"#E5ECF6\",\"gridcolor\":\"white\",\"linecolor\":\"white\",\"showbackground\":true,\"ticks\":\"\",\"zerolinecolor\":\"white\",\"gridwidth\":2},\"zaxis\":{\"backgroundcolor\":\"#E5ECF6\",\"gridcolor\":\"white\",\"linecolor\":\"white\",\"showbackground\":true,\"ticks\":\"\",\"zerolinecolor\":\"white\",\"gridwidth\":2}},\"shapedefaults\":{\"line\":{\"color\":\"#2a3f5f\"}},\"annotationdefaults\":{\"arrowcolor\":\"#2a3f5f\",\"arrowhead\":0,\"arrowwidth\":1},\"geo\":{\"bgcolor\":\"white\",\"landcolor\":\"#E5ECF6\",\"subunitcolor\":\"white\",\"showland\":true,\"showlakes\":true,\"lakecolor\":\"white\"},\"title\":{\"x\":0.05},\"mapbox\":{\"style\":\"light\"}}},\"barmode\":\"group\",\"title\":{\"text\":\"Most Popular Database / Data Warehouse Products in 2018-2021\"},\"yaxis\":{\"title\":{\"text\":\"% of respondents\"}}},                        {\"responsive\": true}                    ).then(function(){\n",
       "                            \n",
       "var gd = document.getElementById('b9044888-753a-4069-ae52-264f4b1cd8b0');\n",
       "var x = new MutationObserver(function (mutations, observer) {{\n",
       "        var display = window.getComputedStyle(gd).display;\n",
       "        if (!display || display === 'none') {{\n",
       "            console.log([gd, 'removed!']);\n",
       "            Plotly.purge(gd);\n",
       "            observer.disconnect();\n",
       "        }}\n",
       "}});\n",
       "\n",
       "// Listen for the removal of the full notebook cells\n",
       "var notebookContainer = gd.closest('#notebook-container');\n",
       "if (notebookContainer) {{\n",
       "    x.observe(notebookContainer, {childList: true});\n",
       "}}\n",
       "\n",
       "// Listen for the clearing of the current output cell\n",
       "var outputEl = gd.closest('.output');\n",
       "if (outputEl) {{\n",
       "    x.observe(outputEl, {childList: true});\n",
       "}}\n",
       "\n",
       "                        })                };                });            </script>        </div>"
      ]
     },
     "metadata": {},
     "output_type": "display_data"
    }
   ],
   "source": [
    "q29a_dictionary_of_counts_2018_simplified = {\n",
    "    'Oracle Database' : (responses_df_2018['Q29_Part_13'].count()),\n",
    "    'Microsoft SQL Server' : (responses_df_2018['Q29_Part_9'].count()),\n",
    "    'Amazon Redshift' : (responses_df_2018['Q30_Part_9'].count()),\n",
    "    'Amazon DynamoDB' : (responses_df_2018['Q29_Part_5'].count()),\n",
    "    'Google Cloud BigQuery' : (responses_df_2018['Q30_Part_10'].count()),\n",
    "    'Google Cloud SQL' : (responses_df_2018['Q29_Part_3'].count())\n",
    "}\n",
    "\n",
    "q29a_dictionary_of_counts_2019_simplified = {\n",
    "    'Oracle Database' : (responses_df_2019['Q34_Part_5'].count()),\n",
    "    'Microsoft SQL Server' : (responses_df_2019['Q34_Part_4'].count()),\n",
    "    'Amazon Redshift' : (responses_df_2019['Q31_Part_2'].count()),\n",
    "    'Amazon DynamoDB' : (responses_df_2019['Q34_Part_8'].count()),\n",
    "    'Google Cloud BigQuery' : (responses_df_2019['Q31_Part_1'].count()),\n",
    "    'Google Cloud SQL' : (responses_df_2019['Q34_Part_10'].count())\n",
    "}\n",
    "\n",
    "q29a_dictionary_of_counts_2020_simplified = {\n",
    "    'Oracle Database' : (responses_df_2020['Q29_A_Part_4'].count()),\n",
    "    'Microsoft SQL Server' : (responses_df_2020['Q29_A_Part_8'].count()),\n",
    "    'Amazon Redshift' : (responses_df_2020['Q29_A_Part_11'].count()),\n",
    "    'Amazon DynamoDB' : (responses_df_2020['Q29_A_Part_13'].count()),\n",
    "    'Google Cloud BigQuery' : (responses_df_2020['Q29_A_Part_14'].count()),\n",
    "    'Google Cloud SQL' : (responses_df_2020['Q29_A_Part_15'].count())\n",
    "}\n",
    "\n",
    "q32a_dictionary_of_counts_2021_simplified = { \n",
    "    'Oracle Database' : (responses_df_2021['Q32_A_Part_4'].count()),\n",
    "    'Microsoft SQL Server' : (responses_df_2021['Q32_A_Part_8'].count()),\n",
    "    'Amazon Redshift' : (responses_df_2021['Q32_A_Part_11'].count()), \n",
    "    'Amazon DynamoDB' : (responses_df_2021['Q32_A_Part_14'].count()),\n",
    "    'Google Cloud BigQuery' : (responses_df_2021['Q32_A_Part_15'].count()),\n",
    "    'Google Cloud SQL' : (responses_df_2021['Q32_A_Part_16'].count())\n",
    "}\n",
    "\n",
    "\n",
    "dictionary_of_counts_2018 = sort_dictionary_by_percent(responses_df_2018,\n",
    "                                                  q29a_list_of_columns_2018,\n",
    "                                                  q29a_dictionary_of_counts_2018_simplified)\n",
    "dictionary_of_counts_2019 = sort_dictionary_by_percent(responses_df_2019,\n",
    "                                                  q29a_list_of_columns_2019,\n",
    "                                                  q29a_dictionary_of_counts_2019_simplified)\n",
    "dictionary_of_counts_2020 = sort_dictionary_by_percent(responses_df_2020,\n",
    "                                                  q29a_list_of_columns_2020,\n",
    "                                                  q29a_dictionary_of_counts_2020_simplified)\n",
    "dictionary_of_counts_2021 = sort_dictionary_by_percent(responses_df_2021,\n",
    "                                                  q32a_list_of_columns_2021,\n",
    "                                                  q32a_dictionary_of_counts_2021_simplified)\n",
    "\n",
    "title_for_chart = 'Most Popular Database / Data Warehouse Products in 2018-2021'\n",
    "title_for_y_axis = '% of respondents'\n",
    "\n",
    "fig = go.Figure(data=[\n",
    "    go.Bar(name='2018 Kaggle Survey', x=pd.Series(dictionary_of_counts_2018.keys()), y=pd.Series(dictionary_of_counts_2018.values())),\n",
    "    go.Bar(name='2019 Kaggle Survey', x=pd.Series(dictionary_of_counts_2019.keys()), y=pd.Series(dictionary_of_counts_2019.values())),\n",
    "    go.Bar(name='2020 Kaggle Survey', x=pd.Series(dictionary_of_counts_2020.keys()), y=pd.Series(dictionary_of_counts_2020.values())),\n",
    "    go.Bar(name='2021 Kaggle Survey', x=pd.Series(dictionary_of_counts_2021.keys()), y=pd.Series(dictionary_of_counts_2021.values()))\n",
    "           ])\n",
    "fig.update_layout(barmode='group') \n",
    "fig.update_layout(title=title_for_chart,yaxis=dict(title=title_for_y_axis))\n",
    "fig.show()"
   ]
  },
  {
   "cell_type": "code",
   "execution_count": 37,
   "id": "4c43fc6c",
   "metadata": {},
   "outputs": [
    {
     "data": {
      "application/vnd.plotly.v1+json": {
       "config": {
        "plotlyServerURL": "https://plot.ly"
       },
       "data": [
        {
         "name": "2019 Kaggle Survey",
         "type": "bar",
         "x": [
          "Google Cloud AutoML"
         ],
         "y": [
          6.3
         ]
        },
        {
         "name": "2020 Kaggle Survey",
         "type": "bar",
         "x": [
          "Google Cloud AutoML"
         ],
         "y": [
          14
         ]
        },
        {
         "name": "2021 Kaggle Survey",
         "type": "bar",
         "x": [
          "Google Cloud AutoML"
         ],
         "y": [
          23.4
         ]
        }
       ],
       "layout": {
        "barmode": "group",
        "template": {
         "data": {
          "bar": [
           {
            "error_x": {
             "color": "#2a3f5f"
            },
            "error_y": {
             "color": "#2a3f5f"
            },
            "marker": {
             "line": {
              "color": "#E5ECF6",
              "width": 0.5
             },
             "pattern": {
              "fillmode": "overlay",
              "size": 10,
              "solidity": 0.2
             }
            },
            "type": "bar"
           }
          ],
          "barpolar": [
           {
            "marker": {
             "line": {
              "color": "#E5ECF6",
              "width": 0.5
             },
             "pattern": {
              "fillmode": "overlay",
              "size": 10,
              "solidity": 0.2
             }
            },
            "type": "barpolar"
           }
          ],
          "carpet": [
           {
            "aaxis": {
             "endlinecolor": "#2a3f5f",
             "gridcolor": "white",
             "linecolor": "white",
             "minorgridcolor": "white",
             "startlinecolor": "#2a3f5f"
            },
            "baxis": {
             "endlinecolor": "#2a3f5f",
             "gridcolor": "white",
             "linecolor": "white",
             "minorgridcolor": "white",
             "startlinecolor": "#2a3f5f"
            },
            "type": "carpet"
           }
          ],
          "choropleth": [
           {
            "colorbar": {
             "outlinewidth": 0,
             "ticks": ""
            },
            "type": "choropleth"
           }
          ],
          "contour": [
           {
            "colorbar": {
             "outlinewidth": 0,
             "ticks": ""
            },
            "colorscale": [
             [
              0,
              "#0d0887"
             ],
             [
              0.1111111111111111,
              "#46039f"
             ],
             [
              0.2222222222222222,
              "#7201a8"
             ],
             [
              0.3333333333333333,
              "#9c179e"
             ],
             [
              0.4444444444444444,
              "#bd3786"
             ],
             [
              0.5555555555555556,
              "#d8576b"
             ],
             [
              0.6666666666666666,
              "#ed7953"
             ],
             [
              0.7777777777777778,
              "#fb9f3a"
             ],
             [
              0.8888888888888888,
              "#fdca26"
             ],
             [
              1,
              "#f0f921"
             ]
            ],
            "type": "contour"
           }
          ],
          "contourcarpet": [
           {
            "colorbar": {
             "outlinewidth": 0,
             "ticks": ""
            },
            "type": "contourcarpet"
           }
          ],
          "heatmap": [
           {
            "colorbar": {
             "outlinewidth": 0,
             "ticks": ""
            },
            "colorscale": [
             [
              0,
              "#0d0887"
             ],
             [
              0.1111111111111111,
              "#46039f"
             ],
             [
              0.2222222222222222,
              "#7201a8"
             ],
             [
              0.3333333333333333,
              "#9c179e"
             ],
             [
              0.4444444444444444,
              "#bd3786"
             ],
             [
              0.5555555555555556,
              "#d8576b"
             ],
             [
              0.6666666666666666,
              "#ed7953"
             ],
             [
              0.7777777777777778,
              "#fb9f3a"
             ],
             [
              0.8888888888888888,
              "#fdca26"
             ],
             [
              1,
              "#f0f921"
             ]
            ],
            "type": "heatmap"
           }
          ],
          "heatmapgl": [
           {
            "colorbar": {
             "outlinewidth": 0,
             "ticks": ""
            },
            "colorscale": [
             [
              0,
              "#0d0887"
             ],
             [
              0.1111111111111111,
              "#46039f"
             ],
             [
              0.2222222222222222,
              "#7201a8"
             ],
             [
              0.3333333333333333,
              "#9c179e"
             ],
             [
              0.4444444444444444,
              "#bd3786"
             ],
             [
              0.5555555555555556,
              "#d8576b"
             ],
             [
              0.6666666666666666,
              "#ed7953"
             ],
             [
              0.7777777777777778,
              "#fb9f3a"
             ],
             [
              0.8888888888888888,
              "#fdca26"
             ],
             [
              1,
              "#f0f921"
             ]
            ],
            "type": "heatmapgl"
           }
          ],
          "histogram": [
           {
            "marker": {
             "pattern": {
              "fillmode": "overlay",
              "size": 10,
              "solidity": 0.2
             }
            },
            "type": "histogram"
           }
          ],
          "histogram2d": [
           {
            "colorbar": {
             "outlinewidth": 0,
             "ticks": ""
            },
            "colorscale": [
             [
              0,
              "#0d0887"
             ],
             [
              0.1111111111111111,
              "#46039f"
             ],
             [
              0.2222222222222222,
              "#7201a8"
             ],
             [
              0.3333333333333333,
              "#9c179e"
             ],
             [
              0.4444444444444444,
              "#bd3786"
             ],
             [
              0.5555555555555556,
              "#d8576b"
             ],
             [
              0.6666666666666666,
              "#ed7953"
             ],
             [
              0.7777777777777778,
              "#fb9f3a"
             ],
             [
              0.8888888888888888,
              "#fdca26"
             ],
             [
              1,
              "#f0f921"
             ]
            ],
            "type": "histogram2d"
           }
          ],
          "histogram2dcontour": [
           {
            "colorbar": {
             "outlinewidth": 0,
             "ticks": ""
            },
            "colorscale": [
             [
              0,
              "#0d0887"
             ],
             [
              0.1111111111111111,
              "#46039f"
             ],
             [
              0.2222222222222222,
              "#7201a8"
             ],
             [
              0.3333333333333333,
              "#9c179e"
             ],
             [
              0.4444444444444444,
              "#bd3786"
             ],
             [
              0.5555555555555556,
              "#d8576b"
             ],
             [
              0.6666666666666666,
              "#ed7953"
             ],
             [
              0.7777777777777778,
              "#fb9f3a"
             ],
             [
              0.8888888888888888,
              "#fdca26"
             ],
             [
              1,
              "#f0f921"
             ]
            ],
            "type": "histogram2dcontour"
           }
          ],
          "mesh3d": [
           {
            "colorbar": {
             "outlinewidth": 0,
             "ticks": ""
            },
            "type": "mesh3d"
           }
          ],
          "parcoords": [
           {
            "line": {
             "colorbar": {
              "outlinewidth": 0,
              "ticks": ""
             }
            },
            "type": "parcoords"
           }
          ],
          "pie": [
           {
            "automargin": true,
            "type": "pie"
           }
          ],
          "scatter": [
           {
            "fillpattern": {
             "fillmode": "overlay",
             "size": 10,
             "solidity": 0.2
            },
            "type": "scatter"
           }
          ],
          "scatter3d": [
           {
            "line": {
             "colorbar": {
              "outlinewidth": 0,
              "ticks": ""
             }
            },
            "marker": {
             "colorbar": {
              "outlinewidth": 0,
              "ticks": ""
             }
            },
            "type": "scatter3d"
           }
          ],
          "scattercarpet": [
           {
            "marker": {
             "colorbar": {
              "outlinewidth": 0,
              "ticks": ""
             }
            },
            "type": "scattercarpet"
           }
          ],
          "scattergeo": [
           {
            "marker": {
             "colorbar": {
              "outlinewidth": 0,
              "ticks": ""
             }
            },
            "type": "scattergeo"
           }
          ],
          "scattergl": [
           {
            "marker": {
             "colorbar": {
              "outlinewidth": 0,
              "ticks": ""
             }
            },
            "type": "scattergl"
           }
          ],
          "scattermapbox": [
           {
            "marker": {
             "colorbar": {
              "outlinewidth": 0,
              "ticks": ""
             }
            },
            "type": "scattermapbox"
           }
          ],
          "scatterpolar": [
           {
            "marker": {
             "colorbar": {
              "outlinewidth": 0,
              "ticks": ""
             }
            },
            "type": "scatterpolar"
           }
          ],
          "scatterpolargl": [
           {
            "marker": {
             "colorbar": {
              "outlinewidth": 0,
              "ticks": ""
             }
            },
            "type": "scatterpolargl"
           }
          ],
          "scatterternary": [
           {
            "marker": {
             "colorbar": {
              "outlinewidth": 0,
              "ticks": ""
             }
            },
            "type": "scatterternary"
           }
          ],
          "surface": [
           {
            "colorbar": {
             "outlinewidth": 0,
             "ticks": ""
            },
            "colorscale": [
             [
              0,
              "#0d0887"
             ],
             [
              0.1111111111111111,
              "#46039f"
             ],
             [
              0.2222222222222222,
              "#7201a8"
             ],
             [
              0.3333333333333333,
              "#9c179e"
             ],
             [
              0.4444444444444444,
              "#bd3786"
             ],
             [
              0.5555555555555556,
              "#d8576b"
             ],
             [
              0.6666666666666666,
              "#ed7953"
             ],
             [
              0.7777777777777778,
              "#fb9f3a"
             ],
             [
              0.8888888888888888,
              "#fdca26"
             ],
             [
              1,
              "#f0f921"
             ]
            ],
            "type": "surface"
           }
          ],
          "table": [
           {
            "cells": {
             "fill": {
              "color": "#EBF0F8"
             },
             "line": {
              "color": "white"
             }
            },
            "header": {
             "fill": {
              "color": "#C8D4E3"
             },
             "line": {
              "color": "white"
             }
            },
            "type": "table"
           }
          ]
         },
         "layout": {
          "annotationdefaults": {
           "arrowcolor": "#2a3f5f",
           "arrowhead": 0,
           "arrowwidth": 1
          },
          "autotypenumbers": "strict",
          "coloraxis": {
           "colorbar": {
            "outlinewidth": 0,
            "ticks": ""
           }
          },
          "colorscale": {
           "diverging": [
            [
             0,
             "#8e0152"
            ],
            [
             0.1,
             "#c51b7d"
            ],
            [
             0.2,
             "#de77ae"
            ],
            [
             0.3,
             "#f1b6da"
            ],
            [
             0.4,
             "#fde0ef"
            ],
            [
             0.5,
             "#f7f7f7"
            ],
            [
             0.6,
             "#e6f5d0"
            ],
            [
             0.7,
             "#b8e186"
            ],
            [
             0.8,
             "#7fbc41"
            ],
            [
             0.9,
             "#4d9221"
            ],
            [
             1,
             "#276419"
            ]
           ],
           "sequential": [
            [
             0,
             "#0d0887"
            ],
            [
             0.1111111111111111,
             "#46039f"
            ],
            [
             0.2222222222222222,
             "#7201a8"
            ],
            [
             0.3333333333333333,
             "#9c179e"
            ],
            [
             0.4444444444444444,
             "#bd3786"
            ],
            [
             0.5555555555555556,
             "#d8576b"
            ],
            [
             0.6666666666666666,
             "#ed7953"
            ],
            [
             0.7777777777777778,
             "#fb9f3a"
            ],
            [
             0.8888888888888888,
             "#fdca26"
            ],
            [
             1,
             "#f0f921"
            ]
           ],
           "sequentialminus": [
            [
             0,
             "#0d0887"
            ],
            [
             0.1111111111111111,
             "#46039f"
            ],
            [
             0.2222222222222222,
             "#7201a8"
            ],
            [
             0.3333333333333333,
             "#9c179e"
            ],
            [
             0.4444444444444444,
             "#bd3786"
            ],
            [
             0.5555555555555556,
             "#d8576b"
            ],
            [
             0.6666666666666666,
             "#ed7953"
            ],
            [
             0.7777777777777778,
             "#fb9f3a"
            ],
            [
             0.8888888888888888,
             "#fdca26"
            ],
            [
             1,
             "#f0f921"
            ]
           ]
          },
          "colorway": [
           "#636efa",
           "#EF553B",
           "#00cc96",
           "#ab63fa",
           "#FFA15A",
           "#19d3f3",
           "#FF6692",
           "#B6E880",
           "#FF97FF",
           "#FECB52"
          ],
          "font": {
           "color": "#2a3f5f"
          },
          "geo": {
           "bgcolor": "white",
           "lakecolor": "white",
           "landcolor": "#E5ECF6",
           "showlakes": true,
           "showland": true,
           "subunitcolor": "white"
          },
          "hoverlabel": {
           "align": "left"
          },
          "hovermode": "closest",
          "mapbox": {
           "style": "light"
          },
          "paper_bgcolor": "white",
          "plot_bgcolor": "#E5ECF6",
          "polar": {
           "angularaxis": {
            "gridcolor": "white",
            "linecolor": "white",
            "ticks": ""
           },
           "bgcolor": "#E5ECF6",
           "radialaxis": {
            "gridcolor": "white",
            "linecolor": "white",
            "ticks": ""
           }
          },
          "scene": {
           "xaxis": {
            "backgroundcolor": "#E5ECF6",
            "gridcolor": "white",
            "gridwidth": 2,
            "linecolor": "white",
            "showbackground": true,
            "ticks": "",
            "zerolinecolor": "white"
           },
           "yaxis": {
            "backgroundcolor": "#E5ECF6",
            "gridcolor": "white",
            "gridwidth": 2,
            "linecolor": "white",
            "showbackground": true,
            "ticks": "",
            "zerolinecolor": "white"
           },
           "zaxis": {
            "backgroundcolor": "#E5ECF6",
            "gridcolor": "white",
            "gridwidth": 2,
            "linecolor": "white",
            "showbackground": true,
            "ticks": "",
            "zerolinecolor": "white"
           }
          },
          "shapedefaults": {
           "line": {
            "color": "#2a3f5f"
           }
          },
          "ternary": {
           "aaxis": {
            "gridcolor": "white",
            "linecolor": "white",
            "ticks": ""
           },
           "baxis": {
            "gridcolor": "white",
            "linecolor": "white",
            "ticks": ""
           },
           "bgcolor": "#E5ECF6",
           "caxis": {
            "gridcolor": "white",
            "linecolor": "white",
            "ticks": ""
           }
          },
          "title": {
           "x": 0.05
          },
          "xaxis": {
           "automargin": true,
           "gridcolor": "white",
           "linecolor": "white",
           "ticks": "",
           "title": {
            "standoff": 15
           },
           "zerolinecolor": "white",
           "zerolinewidth": 2
          },
          "yaxis": {
           "automargin": true,
           "gridcolor": "white",
           "linecolor": "white",
           "ticks": "",
           "title": {
            "standoff": 15
           },
           "zerolinecolor": "white",
           "zerolinewidth": 2
          }
         }
        },
        "title": {
         "text": "Regular Usage of Google Cloud AutoML from 2019-2021"
        },
        "yaxis": {
         "title": {
          "text": "% of respondents"
         }
        }
       }
      },
      "text/html": [
       "<div>                            <div id=\"5d6aef79-40a6-438f-82f5-3d2d6d672829\" class=\"plotly-graph-div\" style=\"height:525px; width:100%;\"></div>            <script type=\"text/javascript\">                require([\"plotly\"], function(Plotly) {                    window.PLOTLYENV=window.PLOTLYENV || {};                                    if (document.getElementById(\"5d6aef79-40a6-438f-82f5-3d2d6d672829\")) {                    Plotly.newPlot(                        \"5d6aef79-40a6-438f-82f5-3d2d6d672829\",                        [{\"name\":\"2019 Kaggle Survey\",\"x\":[\"Google Cloud AutoML\"],\"y\":[6.3],\"type\":\"bar\"},{\"name\":\"2020 Kaggle Survey\",\"x\":[\"Google Cloud AutoML\"],\"y\":[14.0],\"type\":\"bar\"},{\"name\":\"2021 Kaggle Survey\",\"x\":[\"Google Cloud AutoML\"],\"y\":[23.4],\"type\":\"bar\"}],                        {\"template\":{\"data\":{\"histogram2dcontour\":[{\"type\":\"histogram2dcontour\",\"colorbar\":{\"outlinewidth\":0,\"ticks\":\"\"},\"colorscale\":[[0.0,\"#0d0887\"],[0.1111111111111111,\"#46039f\"],[0.2222222222222222,\"#7201a8\"],[0.3333333333333333,\"#9c179e\"],[0.4444444444444444,\"#bd3786\"],[0.5555555555555556,\"#d8576b\"],[0.6666666666666666,\"#ed7953\"],[0.7777777777777778,\"#fb9f3a\"],[0.8888888888888888,\"#fdca26\"],[1.0,\"#f0f921\"]]}],\"choropleth\":[{\"type\":\"choropleth\",\"colorbar\":{\"outlinewidth\":0,\"ticks\":\"\"}}],\"histogram2d\":[{\"type\":\"histogram2d\",\"colorbar\":{\"outlinewidth\":0,\"ticks\":\"\"},\"colorscale\":[[0.0,\"#0d0887\"],[0.1111111111111111,\"#46039f\"],[0.2222222222222222,\"#7201a8\"],[0.3333333333333333,\"#9c179e\"],[0.4444444444444444,\"#bd3786\"],[0.5555555555555556,\"#d8576b\"],[0.6666666666666666,\"#ed7953\"],[0.7777777777777778,\"#fb9f3a\"],[0.8888888888888888,\"#fdca26\"],[1.0,\"#f0f921\"]]}],\"heatmap\":[{\"type\":\"heatmap\",\"colorbar\":{\"outlinewidth\":0,\"ticks\":\"\"},\"colorscale\":[[0.0,\"#0d0887\"],[0.1111111111111111,\"#46039f\"],[0.2222222222222222,\"#7201a8\"],[0.3333333333333333,\"#9c179e\"],[0.4444444444444444,\"#bd3786\"],[0.5555555555555556,\"#d8576b\"],[0.6666666666666666,\"#ed7953\"],[0.7777777777777778,\"#fb9f3a\"],[0.8888888888888888,\"#fdca26\"],[1.0,\"#f0f921\"]]}],\"heatmapgl\":[{\"type\":\"heatmapgl\",\"colorbar\":{\"outlinewidth\":0,\"ticks\":\"\"},\"colorscale\":[[0.0,\"#0d0887\"],[0.1111111111111111,\"#46039f\"],[0.2222222222222222,\"#7201a8\"],[0.3333333333333333,\"#9c179e\"],[0.4444444444444444,\"#bd3786\"],[0.5555555555555556,\"#d8576b\"],[0.6666666666666666,\"#ed7953\"],[0.7777777777777778,\"#fb9f3a\"],[0.8888888888888888,\"#fdca26\"],[1.0,\"#f0f921\"]]}],\"contourcarpet\":[{\"type\":\"contourcarpet\",\"colorbar\":{\"outlinewidth\":0,\"ticks\":\"\"}}],\"contour\":[{\"type\":\"contour\",\"colorbar\":{\"outlinewidth\":0,\"ticks\":\"\"},\"colorscale\":[[0.0,\"#0d0887\"],[0.1111111111111111,\"#46039f\"],[0.2222222222222222,\"#7201a8\"],[0.3333333333333333,\"#9c179e\"],[0.4444444444444444,\"#bd3786\"],[0.5555555555555556,\"#d8576b\"],[0.6666666666666666,\"#ed7953\"],[0.7777777777777778,\"#fb9f3a\"],[0.8888888888888888,\"#fdca26\"],[1.0,\"#f0f921\"]]}],\"surface\":[{\"type\":\"surface\",\"colorbar\":{\"outlinewidth\":0,\"ticks\":\"\"},\"colorscale\":[[0.0,\"#0d0887\"],[0.1111111111111111,\"#46039f\"],[0.2222222222222222,\"#7201a8\"],[0.3333333333333333,\"#9c179e\"],[0.4444444444444444,\"#bd3786\"],[0.5555555555555556,\"#d8576b\"],[0.6666666666666666,\"#ed7953\"],[0.7777777777777778,\"#fb9f3a\"],[0.8888888888888888,\"#fdca26\"],[1.0,\"#f0f921\"]]}],\"mesh3d\":[{\"type\":\"mesh3d\",\"colorbar\":{\"outlinewidth\":0,\"ticks\":\"\"}}],\"scatter\":[{\"fillpattern\":{\"fillmode\":\"overlay\",\"size\":10,\"solidity\":0.2},\"type\":\"scatter\"}],\"parcoords\":[{\"type\":\"parcoords\",\"line\":{\"colorbar\":{\"outlinewidth\":0,\"ticks\":\"\"}}}],\"scatterpolargl\":[{\"type\":\"scatterpolargl\",\"marker\":{\"colorbar\":{\"outlinewidth\":0,\"ticks\":\"\"}}}],\"bar\":[{\"error_x\":{\"color\":\"#2a3f5f\"},\"error_y\":{\"color\":\"#2a3f5f\"},\"marker\":{\"line\":{\"color\":\"#E5ECF6\",\"width\":0.5},\"pattern\":{\"fillmode\":\"overlay\",\"size\":10,\"solidity\":0.2}},\"type\":\"bar\"}],\"scattergeo\":[{\"type\":\"scattergeo\",\"marker\":{\"colorbar\":{\"outlinewidth\":0,\"ticks\":\"\"}}}],\"scatterpolar\":[{\"type\":\"scatterpolar\",\"marker\":{\"colorbar\":{\"outlinewidth\":0,\"ticks\":\"\"}}}],\"histogram\":[{\"marker\":{\"pattern\":{\"fillmode\":\"overlay\",\"size\":10,\"solidity\":0.2}},\"type\":\"histogram\"}],\"scattergl\":[{\"type\":\"scattergl\",\"marker\":{\"colorbar\":{\"outlinewidth\":0,\"ticks\":\"\"}}}],\"scatter3d\":[{\"type\":\"scatter3d\",\"line\":{\"colorbar\":{\"outlinewidth\":0,\"ticks\":\"\"}},\"marker\":{\"colorbar\":{\"outlinewidth\":0,\"ticks\":\"\"}}}],\"scattermapbox\":[{\"type\":\"scattermapbox\",\"marker\":{\"colorbar\":{\"outlinewidth\":0,\"ticks\":\"\"}}}],\"scatterternary\":[{\"type\":\"scatterternary\",\"marker\":{\"colorbar\":{\"outlinewidth\":0,\"ticks\":\"\"}}}],\"scattercarpet\":[{\"type\":\"scattercarpet\",\"marker\":{\"colorbar\":{\"outlinewidth\":0,\"ticks\":\"\"}}}],\"carpet\":[{\"aaxis\":{\"endlinecolor\":\"#2a3f5f\",\"gridcolor\":\"white\",\"linecolor\":\"white\",\"minorgridcolor\":\"white\",\"startlinecolor\":\"#2a3f5f\"},\"baxis\":{\"endlinecolor\":\"#2a3f5f\",\"gridcolor\":\"white\",\"linecolor\":\"white\",\"minorgridcolor\":\"white\",\"startlinecolor\":\"#2a3f5f\"},\"type\":\"carpet\"}],\"table\":[{\"cells\":{\"fill\":{\"color\":\"#EBF0F8\"},\"line\":{\"color\":\"white\"}},\"header\":{\"fill\":{\"color\":\"#C8D4E3\"},\"line\":{\"color\":\"white\"}},\"type\":\"table\"}],\"barpolar\":[{\"marker\":{\"line\":{\"color\":\"#E5ECF6\",\"width\":0.5},\"pattern\":{\"fillmode\":\"overlay\",\"size\":10,\"solidity\":0.2}},\"type\":\"barpolar\"}],\"pie\":[{\"automargin\":true,\"type\":\"pie\"}]},\"layout\":{\"autotypenumbers\":\"strict\",\"colorway\":[\"#636efa\",\"#EF553B\",\"#00cc96\",\"#ab63fa\",\"#FFA15A\",\"#19d3f3\",\"#FF6692\",\"#B6E880\",\"#FF97FF\",\"#FECB52\"],\"font\":{\"color\":\"#2a3f5f\"},\"hovermode\":\"closest\",\"hoverlabel\":{\"align\":\"left\"},\"paper_bgcolor\":\"white\",\"plot_bgcolor\":\"#E5ECF6\",\"polar\":{\"bgcolor\":\"#E5ECF6\",\"angularaxis\":{\"gridcolor\":\"white\",\"linecolor\":\"white\",\"ticks\":\"\"},\"radialaxis\":{\"gridcolor\":\"white\",\"linecolor\":\"white\",\"ticks\":\"\"}},\"ternary\":{\"bgcolor\":\"#E5ECF6\",\"aaxis\":{\"gridcolor\":\"white\",\"linecolor\":\"white\",\"ticks\":\"\"},\"baxis\":{\"gridcolor\":\"white\",\"linecolor\":\"white\",\"ticks\":\"\"},\"caxis\":{\"gridcolor\":\"white\",\"linecolor\":\"white\",\"ticks\":\"\"}},\"coloraxis\":{\"colorbar\":{\"outlinewidth\":0,\"ticks\":\"\"}},\"colorscale\":{\"sequential\":[[0.0,\"#0d0887\"],[0.1111111111111111,\"#46039f\"],[0.2222222222222222,\"#7201a8\"],[0.3333333333333333,\"#9c179e\"],[0.4444444444444444,\"#bd3786\"],[0.5555555555555556,\"#d8576b\"],[0.6666666666666666,\"#ed7953\"],[0.7777777777777778,\"#fb9f3a\"],[0.8888888888888888,\"#fdca26\"],[1.0,\"#f0f921\"]],\"sequentialminus\":[[0.0,\"#0d0887\"],[0.1111111111111111,\"#46039f\"],[0.2222222222222222,\"#7201a8\"],[0.3333333333333333,\"#9c179e\"],[0.4444444444444444,\"#bd3786\"],[0.5555555555555556,\"#d8576b\"],[0.6666666666666666,\"#ed7953\"],[0.7777777777777778,\"#fb9f3a\"],[0.8888888888888888,\"#fdca26\"],[1.0,\"#f0f921\"]],\"diverging\":[[0,\"#8e0152\"],[0.1,\"#c51b7d\"],[0.2,\"#de77ae\"],[0.3,\"#f1b6da\"],[0.4,\"#fde0ef\"],[0.5,\"#f7f7f7\"],[0.6,\"#e6f5d0\"],[0.7,\"#b8e186\"],[0.8,\"#7fbc41\"],[0.9,\"#4d9221\"],[1,\"#276419\"]]},\"xaxis\":{\"gridcolor\":\"white\",\"linecolor\":\"white\",\"ticks\":\"\",\"title\":{\"standoff\":15},\"zerolinecolor\":\"white\",\"automargin\":true,\"zerolinewidth\":2},\"yaxis\":{\"gridcolor\":\"white\",\"linecolor\":\"white\",\"ticks\":\"\",\"title\":{\"standoff\":15},\"zerolinecolor\":\"white\",\"automargin\":true,\"zerolinewidth\":2},\"scene\":{\"xaxis\":{\"backgroundcolor\":\"#E5ECF6\",\"gridcolor\":\"white\",\"linecolor\":\"white\",\"showbackground\":true,\"ticks\":\"\",\"zerolinecolor\":\"white\",\"gridwidth\":2},\"yaxis\":{\"backgroundcolor\":\"#E5ECF6\",\"gridcolor\":\"white\",\"linecolor\":\"white\",\"showbackground\":true,\"ticks\":\"\",\"zerolinecolor\":\"white\",\"gridwidth\":2},\"zaxis\":{\"backgroundcolor\":\"#E5ECF6\",\"gridcolor\":\"white\",\"linecolor\":\"white\",\"showbackground\":true,\"ticks\":\"\",\"zerolinecolor\":\"white\",\"gridwidth\":2}},\"shapedefaults\":{\"line\":{\"color\":\"#2a3f5f\"}},\"annotationdefaults\":{\"arrowcolor\":\"#2a3f5f\",\"arrowhead\":0,\"arrowwidth\":1},\"geo\":{\"bgcolor\":\"white\",\"landcolor\":\"#E5ECF6\",\"subunitcolor\":\"white\",\"showland\":true,\"showlakes\":true,\"lakecolor\":\"white\"},\"title\":{\"x\":0.05},\"mapbox\":{\"style\":\"light\"}}},\"barmode\":\"group\",\"title\":{\"text\":\"Regular Usage of Google Cloud AutoML from 2019-2021\"},\"yaxis\":{\"title\":{\"text\":\"% of respondents\"}}},                        {\"responsive\": true}                    ).then(function(){\n",
       "                            \n",
       "var gd = document.getElementById('5d6aef79-40a6-438f-82f5-3d2d6d672829');\n",
       "var x = new MutationObserver(function (mutations, observer) {{\n",
       "        var display = window.getComputedStyle(gd).display;\n",
       "        if (!display || display === 'none') {{\n",
       "            console.log([gd, 'removed!']);\n",
       "            Plotly.purge(gd);\n",
       "            observer.disconnect();\n",
       "        }}\n",
       "}});\n",
       "\n",
       "// Listen for the removal of the full notebook cells\n",
       "var notebookContainer = gd.closest('#notebook-container');\n",
       "if (notebookContainer) {{\n",
       "    x.observe(notebookContainer, {childList: true});\n",
       "}}\n",
       "\n",
       "// Listen for the clearing of the current output cell\n",
       "var outputEl = gd.closest('.output');\n",
       "if (outputEl) {{\n",
       "    x.observe(outputEl, {childList: true});\n",
       "}}\n",
       "\n",
       "                        })                };                });            </script>        </div>"
      ]
     },
     "metadata": {},
     "output_type": "display_data"
    }
   ],
   "source": [
    "q37a_dictionary_of_counts_2019_simplified = {\n",
    "    'Google Cloud AutoML': (responses_df_2019['Q33_Part_1'].count())\n",
    "}\n",
    "\n",
    "q37a_dictionary_of_counts_2020_simplified = {\n",
    "    'Google Cloud AutoML': (responses_df_2020['Q34_A_Part_1'].count())\n",
    "}\n",
    "\n",
    "q37a_dictionary_of_counts_2021_simplified = {\n",
    "    'Google Cloud AutoML': (responses_df_2021['Q37_A_Part_1'].count())\n",
    "}\n",
    "\n",
    "\n",
    "dictionary_of_counts_2019 = sort_dictionary_by_percent(responses_df_2019,\n",
    "                                                  q37a_list_of_columns_2019,\n",
    "                                                  q37a_dictionary_of_counts_2019_simplified)\n",
    "dictionary_of_counts_2020 = sort_dictionary_by_percent(responses_df_2020,\n",
    "                                                  q34a_list_of_columns_2020,\n",
    "                                                  q37a_dictionary_of_counts_2020_simplified)\n",
    "dictionary_of_counts_2021 = sort_dictionary_by_percent(responses_df_2021,\n",
    "                                                  q37a_list_of_columns_2021,\n",
    "                                                  q37a_dictionary_of_counts_2021_simplified)\n",
    "\n",
    "title_for_chart = \"Regular Usage of Google Cloud AutoML from 2019-2021\"\n",
    "title_for_y_axis = '% of respondents'\n",
    "\n",
    "fig = go.Figure(data=[\n",
    "    go.Bar(name='2019 Kaggle Survey', x=pd.Series(dictionary_of_counts_2019.keys()), y=pd.Series(dictionary_of_counts_2019.values())),\n",
    "    go.Bar(name='2020 Kaggle Survey', x=pd.Series(dictionary_of_counts_2020.keys()), y=pd.Series(dictionary_of_counts_2020.values())),\n",
    "    go.Bar(name='2021 Kaggle Survey', x=pd.Series(dictionary_of_counts_2021.keys()), y=pd.Series(dictionary_of_counts_2021.values()))\n",
    "           ])\n",
    "fig.update_layout(barmode='group') \n",
    "fig.update_layout(title=title_for_chart,yaxis=dict(title=title_for_y_axis))\n",
    "fig.show()"
   ]
  },
  {
   "cell_type": "code",
   "execution_count": 38,
   "id": "f34d0a95",
   "metadata": {},
   "outputs": [
    {
     "data": {
      "application/vnd.plotly.v1+json": {
       "config": {
        "plotlyServerURL": "https://plot.ly"
       },
       "data": [
        {
         "name": "2018 Kaggle Survey",
         "type": "bar",
         "x": [
          "University Courses",
          "Kaggle Learn Courses",
          "Udacity",
          "Udemy",
          "Coursera"
         ],
         "y": [
          9.3,
          18.1,
          22.9,
          24.1,
          54.4
         ]
        },
        {
         "name": "2019 Kaggle Survey",
         "type": "bar",
         "x": [
          "Udacity",
          "Kaggle Learn Courses",
          "Udemy",
          "University Courses",
          "Coursera"
         ],
         "y": [
          19.9,
          26.1,
          27.1,
          28.1,
          55.5
         ]
        },
        {
         "name": "2020 Kaggle Survey",
         "type": "bar",
         "x": [
          "Udacity",
          "Kaggle Learn Courses",
          "University Courses",
          "Udemy",
          "Coursera"
         ],
         "y": [
          19.1,
          30.2,
          30.8,
          34.7,
          63
         ]
        },
        {
         "name": "2021 Kaggle Survey",
         "type": "bar",
         "x": [
          "Udacity",
          "University Courses",
          "Udemy",
          "Kaggle Learn Courses",
          "Coursera"
         ],
         "y": [
          17.7,
          30.1,
          36.9,
          39,
          57.8
         ]
        }
       ],
       "layout": {
        "barmode": "group",
        "template": {
         "data": {
          "bar": [
           {
            "error_x": {
             "color": "#2a3f5f"
            },
            "error_y": {
             "color": "#2a3f5f"
            },
            "marker": {
             "line": {
              "color": "#E5ECF6",
              "width": 0.5
             },
             "pattern": {
              "fillmode": "overlay",
              "size": 10,
              "solidity": 0.2
             }
            },
            "type": "bar"
           }
          ],
          "barpolar": [
           {
            "marker": {
             "line": {
              "color": "#E5ECF6",
              "width": 0.5
             },
             "pattern": {
              "fillmode": "overlay",
              "size": 10,
              "solidity": 0.2
             }
            },
            "type": "barpolar"
           }
          ],
          "carpet": [
           {
            "aaxis": {
             "endlinecolor": "#2a3f5f",
             "gridcolor": "white",
             "linecolor": "white",
             "minorgridcolor": "white",
             "startlinecolor": "#2a3f5f"
            },
            "baxis": {
             "endlinecolor": "#2a3f5f",
             "gridcolor": "white",
             "linecolor": "white",
             "minorgridcolor": "white",
             "startlinecolor": "#2a3f5f"
            },
            "type": "carpet"
           }
          ],
          "choropleth": [
           {
            "colorbar": {
             "outlinewidth": 0,
             "ticks": ""
            },
            "type": "choropleth"
           }
          ],
          "contour": [
           {
            "colorbar": {
             "outlinewidth": 0,
             "ticks": ""
            },
            "colorscale": [
             [
              0,
              "#0d0887"
             ],
             [
              0.1111111111111111,
              "#46039f"
             ],
             [
              0.2222222222222222,
              "#7201a8"
             ],
             [
              0.3333333333333333,
              "#9c179e"
             ],
             [
              0.4444444444444444,
              "#bd3786"
             ],
             [
              0.5555555555555556,
              "#d8576b"
             ],
             [
              0.6666666666666666,
              "#ed7953"
             ],
             [
              0.7777777777777778,
              "#fb9f3a"
             ],
             [
              0.8888888888888888,
              "#fdca26"
             ],
             [
              1,
              "#f0f921"
             ]
            ],
            "type": "contour"
           }
          ],
          "contourcarpet": [
           {
            "colorbar": {
             "outlinewidth": 0,
             "ticks": ""
            },
            "type": "contourcarpet"
           }
          ],
          "heatmap": [
           {
            "colorbar": {
             "outlinewidth": 0,
             "ticks": ""
            },
            "colorscale": [
             [
              0,
              "#0d0887"
             ],
             [
              0.1111111111111111,
              "#46039f"
             ],
             [
              0.2222222222222222,
              "#7201a8"
             ],
             [
              0.3333333333333333,
              "#9c179e"
             ],
             [
              0.4444444444444444,
              "#bd3786"
             ],
             [
              0.5555555555555556,
              "#d8576b"
             ],
             [
              0.6666666666666666,
              "#ed7953"
             ],
             [
              0.7777777777777778,
              "#fb9f3a"
             ],
             [
              0.8888888888888888,
              "#fdca26"
             ],
             [
              1,
              "#f0f921"
             ]
            ],
            "type": "heatmap"
           }
          ],
          "heatmapgl": [
           {
            "colorbar": {
             "outlinewidth": 0,
             "ticks": ""
            },
            "colorscale": [
             [
              0,
              "#0d0887"
             ],
             [
              0.1111111111111111,
              "#46039f"
             ],
             [
              0.2222222222222222,
              "#7201a8"
             ],
             [
              0.3333333333333333,
              "#9c179e"
             ],
             [
              0.4444444444444444,
              "#bd3786"
             ],
             [
              0.5555555555555556,
              "#d8576b"
             ],
             [
              0.6666666666666666,
              "#ed7953"
             ],
             [
              0.7777777777777778,
              "#fb9f3a"
             ],
             [
              0.8888888888888888,
              "#fdca26"
             ],
             [
              1,
              "#f0f921"
             ]
            ],
            "type": "heatmapgl"
           }
          ],
          "histogram": [
           {
            "marker": {
             "pattern": {
              "fillmode": "overlay",
              "size": 10,
              "solidity": 0.2
             }
            },
            "type": "histogram"
           }
          ],
          "histogram2d": [
           {
            "colorbar": {
             "outlinewidth": 0,
             "ticks": ""
            },
            "colorscale": [
             [
              0,
              "#0d0887"
             ],
             [
              0.1111111111111111,
              "#46039f"
             ],
             [
              0.2222222222222222,
              "#7201a8"
             ],
             [
              0.3333333333333333,
              "#9c179e"
             ],
             [
              0.4444444444444444,
              "#bd3786"
             ],
             [
              0.5555555555555556,
              "#d8576b"
             ],
             [
              0.6666666666666666,
              "#ed7953"
             ],
             [
              0.7777777777777778,
              "#fb9f3a"
             ],
             [
              0.8888888888888888,
              "#fdca26"
             ],
             [
              1,
              "#f0f921"
             ]
            ],
            "type": "histogram2d"
           }
          ],
          "histogram2dcontour": [
           {
            "colorbar": {
             "outlinewidth": 0,
             "ticks": ""
            },
            "colorscale": [
             [
              0,
              "#0d0887"
             ],
             [
              0.1111111111111111,
              "#46039f"
             ],
             [
              0.2222222222222222,
              "#7201a8"
             ],
             [
              0.3333333333333333,
              "#9c179e"
             ],
             [
              0.4444444444444444,
              "#bd3786"
             ],
             [
              0.5555555555555556,
              "#d8576b"
             ],
             [
              0.6666666666666666,
              "#ed7953"
             ],
             [
              0.7777777777777778,
              "#fb9f3a"
             ],
             [
              0.8888888888888888,
              "#fdca26"
             ],
             [
              1,
              "#f0f921"
             ]
            ],
            "type": "histogram2dcontour"
           }
          ],
          "mesh3d": [
           {
            "colorbar": {
             "outlinewidth": 0,
             "ticks": ""
            },
            "type": "mesh3d"
           }
          ],
          "parcoords": [
           {
            "line": {
             "colorbar": {
              "outlinewidth": 0,
              "ticks": ""
             }
            },
            "type": "parcoords"
           }
          ],
          "pie": [
           {
            "automargin": true,
            "type": "pie"
           }
          ],
          "scatter": [
           {
            "fillpattern": {
             "fillmode": "overlay",
             "size": 10,
             "solidity": 0.2
            },
            "type": "scatter"
           }
          ],
          "scatter3d": [
           {
            "line": {
             "colorbar": {
              "outlinewidth": 0,
              "ticks": ""
             }
            },
            "marker": {
             "colorbar": {
              "outlinewidth": 0,
              "ticks": ""
             }
            },
            "type": "scatter3d"
           }
          ],
          "scattercarpet": [
           {
            "marker": {
             "colorbar": {
              "outlinewidth": 0,
              "ticks": ""
             }
            },
            "type": "scattercarpet"
           }
          ],
          "scattergeo": [
           {
            "marker": {
             "colorbar": {
              "outlinewidth": 0,
              "ticks": ""
             }
            },
            "type": "scattergeo"
           }
          ],
          "scattergl": [
           {
            "marker": {
             "colorbar": {
              "outlinewidth": 0,
              "ticks": ""
             }
            },
            "type": "scattergl"
           }
          ],
          "scattermapbox": [
           {
            "marker": {
             "colorbar": {
              "outlinewidth": 0,
              "ticks": ""
             }
            },
            "type": "scattermapbox"
           }
          ],
          "scatterpolar": [
           {
            "marker": {
             "colorbar": {
              "outlinewidth": 0,
              "ticks": ""
             }
            },
            "type": "scatterpolar"
           }
          ],
          "scatterpolargl": [
           {
            "marker": {
             "colorbar": {
              "outlinewidth": 0,
              "ticks": ""
             }
            },
            "type": "scatterpolargl"
           }
          ],
          "scatterternary": [
           {
            "marker": {
             "colorbar": {
              "outlinewidth": 0,
              "ticks": ""
             }
            },
            "type": "scatterternary"
           }
          ],
          "surface": [
           {
            "colorbar": {
             "outlinewidth": 0,
             "ticks": ""
            },
            "colorscale": [
             [
              0,
              "#0d0887"
             ],
             [
              0.1111111111111111,
              "#46039f"
             ],
             [
              0.2222222222222222,
              "#7201a8"
             ],
             [
              0.3333333333333333,
              "#9c179e"
             ],
             [
              0.4444444444444444,
              "#bd3786"
             ],
             [
              0.5555555555555556,
              "#d8576b"
             ],
             [
              0.6666666666666666,
              "#ed7953"
             ],
             [
              0.7777777777777778,
              "#fb9f3a"
             ],
             [
              0.8888888888888888,
              "#fdca26"
             ],
             [
              1,
              "#f0f921"
             ]
            ],
            "type": "surface"
           }
          ],
          "table": [
           {
            "cells": {
             "fill": {
              "color": "#EBF0F8"
             },
             "line": {
              "color": "white"
             }
            },
            "header": {
             "fill": {
              "color": "#C8D4E3"
             },
             "line": {
              "color": "white"
             }
            },
            "type": "table"
           }
          ]
         },
         "layout": {
          "annotationdefaults": {
           "arrowcolor": "#2a3f5f",
           "arrowhead": 0,
           "arrowwidth": 1
          },
          "autotypenumbers": "strict",
          "coloraxis": {
           "colorbar": {
            "outlinewidth": 0,
            "ticks": ""
           }
          },
          "colorscale": {
           "diverging": [
            [
             0,
             "#8e0152"
            ],
            [
             0.1,
             "#c51b7d"
            ],
            [
             0.2,
             "#de77ae"
            ],
            [
             0.3,
             "#f1b6da"
            ],
            [
             0.4,
             "#fde0ef"
            ],
            [
             0.5,
             "#f7f7f7"
            ],
            [
             0.6,
             "#e6f5d0"
            ],
            [
             0.7,
             "#b8e186"
            ],
            [
             0.8,
             "#7fbc41"
            ],
            [
             0.9,
             "#4d9221"
            ],
            [
             1,
             "#276419"
            ]
           ],
           "sequential": [
            [
             0,
             "#0d0887"
            ],
            [
             0.1111111111111111,
             "#46039f"
            ],
            [
             0.2222222222222222,
             "#7201a8"
            ],
            [
             0.3333333333333333,
             "#9c179e"
            ],
            [
             0.4444444444444444,
             "#bd3786"
            ],
            [
             0.5555555555555556,
             "#d8576b"
            ],
            [
             0.6666666666666666,
             "#ed7953"
            ],
            [
             0.7777777777777778,
             "#fb9f3a"
            ],
            [
             0.8888888888888888,
             "#fdca26"
            ],
            [
             1,
             "#f0f921"
            ]
           ],
           "sequentialminus": [
            [
             0,
             "#0d0887"
            ],
            [
             0.1111111111111111,
             "#46039f"
            ],
            [
             0.2222222222222222,
             "#7201a8"
            ],
            [
             0.3333333333333333,
             "#9c179e"
            ],
            [
             0.4444444444444444,
             "#bd3786"
            ],
            [
             0.5555555555555556,
             "#d8576b"
            ],
            [
             0.6666666666666666,
             "#ed7953"
            ],
            [
             0.7777777777777778,
             "#fb9f3a"
            ],
            [
             0.8888888888888888,
             "#fdca26"
            ],
            [
             1,
             "#f0f921"
            ]
           ]
          },
          "colorway": [
           "#636efa",
           "#EF553B",
           "#00cc96",
           "#ab63fa",
           "#FFA15A",
           "#19d3f3",
           "#FF6692",
           "#B6E880",
           "#FF97FF",
           "#FECB52"
          ],
          "font": {
           "color": "#2a3f5f"
          },
          "geo": {
           "bgcolor": "white",
           "lakecolor": "white",
           "landcolor": "#E5ECF6",
           "showlakes": true,
           "showland": true,
           "subunitcolor": "white"
          },
          "hoverlabel": {
           "align": "left"
          },
          "hovermode": "closest",
          "mapbox": {
           "style": "light"
          },
          "paper_bgcolor": "white",
          "plot_bgcolor": "#E5ECF6",
          "polar": {
           "angularaxis": {
            "gridcolor": "white",
            "linecolor": "white",
            "ticks": ""
           },
           "bgcolor": "#E5ECF6",
           "radialaxis": {
            "gridcolor": "white",
            "linecolor": "white",
            "ticks": ""
           }
          },
          "scene": {
           "xaxis": {
            "backgroundcolor": "#E5ECF6",
            "gridcolor": "white",
            "gridwidth": 2,
            "linecolor": "white",
            "showbackground": true,
            "ticks": "",
            "zerolinecolor": "white"
           },
           "yaxis": {
            "backgroundcolor": "#E5ECF6",
            "gridcolor": "white",
            "gridwidth": 2,
            "linecolor": "white",
            "showbackground": true,
            "ticks": "",
            "zerolinecolor": "white"
           },
           "zaxis": {
            "backgroundcolor": "#E5ECF6",
            "gridcolor": "white",
            "gridwidth": 2,
            "linecolor": "white",
            "showbackground": true,
            "ticks": "",
            "zerolinecolor": "white"
           }
          },
          "shapedefaults": {
           "line": {
            "color": "#2a3f5f"
           }
          },
          "ternary": {
           "aaxis": {
            "gridcolor": "white",
            "linecolor": "white",
            "ticks": ""
           },
           "baxis": {
            "gridcolor": "white",
            "linecolor": "white",
            "ticks": ""
           },
           "bgcolor": "#E5ECF6",
           "caxis": {
            "gridcolor": "white",
            "linecolor": "white",
            "ticks": ""
           }
          },
          "title": {
           "x": 0.05
          },
          "xaxis": {
           "automargin": true,
           "gridcolor": "white",
           "linecolor": "white",
           "ticks": "",
           "title": {
            "standoff": 15
           },
           "zerolinecolor": "white",
           "zerolinewidth": 2
          },
          "yaxis": {
           "automargin": true,
           "gridcolor": "white",
           "linecolor": "white",
           "ticks": "",
           "title": {
            "standoff": 15
           },
           "zerolinecolor": "white",
           "zerolinewidth": 2
          }
         }
        },
        "title": {
         "text": "Most Popular Educational Platforms from 2018-2021"
        },
        "yaxis": {
         "title": {
          "text": "% of respondents"
         }
        }
       }
      },
      "text/html": [
       "<div>                            <div id=\"7d1d2072-14d3-40b3-bd49-f09af4c03c2f\" class=\"plotly-graph-div\" style=\"height:525px; width:100%;\"></div>            <script type=\"text/javascript\">                require([\"plotly\"], function(Plotly) {                    window.PLOTLYENV=window.PLOTLYENV || {};                                    if (document.getElementById(\"7d1d2072-14d3-40b3-bd49-f09af4c03c2f\")) {                    Plotly.newPlot(                        \"7d1d2072-14d3-40b3-bd49-f09af4c03c2f\",                        [{\"name\":\"2018 Kaggle Survey\",\"x\":[\"University Courses\",\"Kaggle Learn Courses\",\"Udacity\",\"Udemy\",\"Coursera\"],\"y\":[9.3,18.1,22.9,24.1,54.4],\"type\":\"bar\"},{\"name\":\"2019 Kaggle Survey\",\"x\":[\"Udacity\",\"Kaggle Learn Courses\",\"Udemy\",\"University Courses\",\"Coursera\"],\"y\":[19.9,26.1,27.1,28.1,55.5],\"type\":\"bar\"},{\"name\":\"2020 Kaggle Survey\",\"x\":[\"Udacity\",\"Kaggle Learn Courses\",\"University Courses\",\"Udemy\",\"Coursera\"],\"y\":[19.1,30.2,30.8,34.7,63.0],\"type\":\"bar\"},{\"name\":\"2021 Kaggle Survey\",\"x\":[\"Udacity\",\"University Courses\",\"Udemy\",\"Kaggle Learn Courses\",\"Coursera\"],\"y\":[17.7,30.1,36.9,39.0,57.8],\"type\":\"bar\"}],                        {\"template\":{\"data\":{\"histogram2dcontour\":[{\"type\":\"histogram2dcontour\",\"colorbar\":{\"outlinewidth\":0,\"ticks\":\"\"},\"colorscale\":[[0.0,\"#0d0887\"],[0.1111111111111111,\"#46039f\"],[0.2222222222222222,\"#7201a8\"],[0.3333333333333333,\"#9c179e\"],[0.4444444444444444,\"#bd3786\"],[0.5555555555555556,\"#d8576b\"],[0.6666666666666666,\"#ed7953\"],[0.7777777777777778,\"#fb9f3a\"],[0.8888888888888888,\"#fdca26\"],[1.0,\"#f0f921\"]]}],\"choropleth\":[{\"type\":\"choropleth\",\"colorbar\":{\"outlinewidth\":0,\"ticks\":\"\"}}],\"histogram2d\":[{\"type\":\"histogram2d\",\"colorbar\":{\"outlinewidth\":0,\"ticks\":\"\"},\"colorscale\":[[0.0,\"#0d0887\"],[0.1111111111111111,\"#46039f\"],[0.2222222222222222,\"#7201a8\"],[0.3333333333333333,\"#9c179e\"],[0.4444444444444444,\"#bd3786\"],[0.5555555555555556,\"#d8576b\"],[0.6666666666666666,\"#ed7953\"],[0.7777777777777778,\"#fb9f3a\"],[0.8888888888888888,\"#fdca26\"],[1.0,\"#f0f921\"]]}],\"heatmap\":[{\"type\":\"heatmap\",\"colorbar\":{\"outlinewidth\":0,\"ticks\":\"\"},\"colorscale\":[[0.0,\"#0d0887\"],[0.1111111111111111,\"#46039f\"],[0.2222222222222222,\"#7201a8\"],[0.3333333333333333,\"#9c179e\"],[0.4444444444444444,\"#bd3786\"],[0.5555555555555556,\"#d8576b\"],[0.6666666666666666,\"#ed7953\"],[0.7777777777777778,\"#fb9f3a\"],[0.8888888888888888,\"#fdca26\"],[1.0,\"#f0f921\"]]}],\"heatmapgl\":[{\"type\":\"heatmapgl\",\"colorbar\":{\"outlinewidth\":0,\"ticks\":\"\"},\"colorscale\":[[0.0,\"#0d0887\"],[0.1111111111111111,\"#46039f\"],[0.2222222222222222,\"#7201a8\"],[0.3333333333333333,\"#9c179e\"],[0.4444444444444444,\"#bd3786\"],[0.5555555555555556,\"#d8576b\"],[0.6666666666666666,\"#ed7953\"],[0.7777777777777778,\"#fb9f3a\"],[0.8888888888888888,\"#fdca26\"],[1.0,\"#f0f921\"]]}],\"contourcarpet\":[{\"type\":\"contourcarpet\",\"colorbar\":{\"outlinewidth\":0,\"ticks\":\"\"}}],\"contour\":[{\"type\":\"contour\",\"colorbar\":{\"outlinewidth\":0,\"ticks\":\"\"},\"colorscale\":[[0.0,\"#0d0887\"],[0.1111111111111111,\"#46039f\"],[0.2222222222222222,\"#7201a8\"],[0.3333333333333333,\"#9c179e\"],[0.4444444444444444,\"#bd3786\"],[0.5555555555555556,\"#d8576b\"],[0.6666666666666666,\"#ed7953\"],[0.7777777777777778,\"#fb9f3a\"],[0.8888888888888888,\"#fdca26\"],[1.0,\"#f0f921\"]]}],\"surface\":[{\"type\":\"surface\",\"colorbar\":{\"outlinewidth\":0,\"ticks\":\"\"},\"colorscale\":[[0.0,\"#0d0887\"],[0.1111111111111111,\"#46039f\"],[0.2222222222222222,\"#7201a8\"],[0.3333333333333333,\"#9c179e\"],[0.4444444444444444,\"#bd3786\"],[0.5555555555555556,\"#d8576b\"],[0.6666666666666666,\"#ed7953\"],[0.7777777777777778,\"#fb9f3a\"],[0.8888888888888888,\"#fdca26\"],[1.0,\"#f0f921\"]]}],\"mesh3d\":[{\"type\":\"mesh3d\",\"colorbar\":{\"outlinewidth\":0,\"ticks\":\"\"}}],\"scatter\":[{\"fillpattern\":{\"fillmode\":\"overlay\",\"size\":10,\"solidity\":0.2},\"type\":\"scatter\"}],\"parcoords\":[{\"type\":\"parcoords\",\"line\":{\"colorbar\":{\"outlinewidth\":0,\"ticks\":\"\"}}}],\"scatterpolargl\":[{\"type\":\"scatterpolargl\",\"marker\":{\"colorbar\":{\"outlinewidth\":0,\"ticks\":\"\"}}}],\"bar\":[{\"error_x\":{\"color\":\"#2a3f5f\"},\"error_y\":{\"color\":\"#2a3f5f\"},\"marker\":{\"line\":{\"color\":\"#E5ECF6\",\"width\":0.5},\"pattern\":{\"fillmode\":\"overlay\",\"size\":10,\"solidity\":0.2}},\"type\":\"bar\"}],\"scattergeo\":[{\"type\":\"scattergeo\",\"marker\":{\"colorbar\":{\"outlinewidth\":0,\"ticks\":\"\"}}}],\"scatterpolar\":[{\"type\":\"scatterpolar\",\"marker\":{\"colorbar\":{\"outlinewidth\":0,\"ticks\":\"\"}}}],\"histogram\":[{\"marker\":{\"pattern\":{\"fillmode\":\"overlay\",\"size\":10,\"solidity\":0.2}},\"type\":\"histogram\"}],\"scattergl\":[{\"type\":\"scattergl\",\"marker\":{\"colorbar\":{\"outlinewidth\":0,\"ticks\":\"\"}}}],\"scatter3d\":[{\"type\":\"scatter3d\",\"line\":{\"colorbar\":{\"outlinewidth\":0,\"ticks\":\"\"}},\"marker\":{\"colorbar\":{\"outlinewidth\":0,\"ticks\":\"\"}}}],\"scattermapbox\":[{\"type\":\"scattermapbox\",\"marker\":{\"colorbar\":{\"outlinewidth\":0,\"ticks\":\"\"}}}],\"scatterternary\":[{\"type\":\"scatterternary\",\"marker\":{\"colorbar\":{\"outlinewidth\":0,\"ticks\":\"\"}}}],\"scattercarpet\":[{\"type\":\"scattercarpet\",\"marker\":{\"colorbar\":{\"outlinewidth\":0,\"ticks\":\"\"}}}],\"carpet\":[{\"aaxis\":{\"endlinecolor\":\"#2a3f5f\",\"gridcolor\":\"white\",\"linecolor\":\"white\",\"minorgridcolor\":\"white\",\"startlinecolor\":\"#2a3f5f\"},\"baxis\":{\"endlinecolor\":\"#2a3f5f\",\"gridcolor\":\"white\",\"linecolor\":\"white\",\"minorgridcolor\":\"white\",\"startlinecolor\":\"#2a3f5f\"},\"type\":\"carpet\"}],\"table\":[{\"cells\":{\"fill\":{\"color\":\"#EBF0F8\"},\"line\":{\"color\":\"white\"}},\"header\":{\"fill\":{\"color\":\"#C8D4E3\"},\"line\":{\"color\":\"white\"}},\"type\":\"table\"}],\"barpolar\":[{\"marker\":{\"line\":{\"color\":\"#E5ECF6\",\"width\":0.5},\"pattern\":{\"fillmode\":\"overlay\",\"size\":10,\"solidity\":0.2}},\"type\":\"barpolar\"}],\"pie\":[{\"automargin\":true,\"type\":\"pie\"}]},\"layout\":{\"autotypenumbers\":\"strict\",\"colorway\":[\"#636efa\",\"#EF553B\",\"#00cc96\",\"#ab63fa\",\"#FFA15A\",\"#19d3f3\",\"#FF6692\",\"#B6E880\",\"#FF97FF\",\"#FECB52\"],\"font\":{\"color\":\"#2a3f5f\"},\"hovermode\":\"closest\",\"hoverlabel\":{\"align\":\"left\"},\"paper_bgcolor\":\"white\",\"plot_bgcolor\":\"#E5ECF6\",\"polar\":{\"bgcolor\":\"#E5ECF6\",\"angularaxis\":{\"gridcolor\":\"white\",\"linecolor\":\"white\",\"ticks\":\"\"},\"radialaxis\":{\"gridcolor\":\"white\",\"linecolor\":\"white\",\"ticks\":\"\"}},\"ternary\":{\"bgcolor\":\"#E5ECF6\",\"aaxis\":{\"gridcolor\":\"white\",\"linecolor\":\"white\",\"ticks\":\"\"},\"baxis\":{\"gridcolor\":\"white\",\"linecolor\":\"white\",\"ticks\":\"\"},\"caxis\":{\"gridcolor\":\"white\",\"linecolor\":\"white\",\"ticks\":\"\"}},\"coloraxis\":{\"colorbar\":{\"outlinewidth\":0,\"ticks\":\"\"}},\"colorscale\":{\"sequential\":[[0.0,\"#0d0887\"],[0.1111111111111111,\"#46039f\"],[0.2222222222222222,\"#7201a8\"],[0.3333333333333333,\"#9c179e\"],[0.4444444444444444,\"#bd3786\"],[0.5555555555555556,\"#d8576b\"],[0.6666666666666666,\"#ed7953\"],[0.7777777777777778,\"#fb9f3a\"],[0.8888888888888888,\"#fdca26\"],[1.0,\"#f0f921\"]],\"sequentialminus\":[[0.0,\"#0d0887\"],[0.1111111111111111,\"#46039f\"],[0.2222222222222222,\"#7201a8\"],[0.3333333333333333,\"#9c179e\"],[0.4444444444444444,\"#bd3786\"],[0.5555555555555556,\"#d8576b\"],[0.6666666666666666,\"#ed7953\"],[0.7777777777777778,\"#fb9f3a\"],[0.8888888888888888,\"#fdca26\"],[1.0,\"#f0f921\"]],\"diverging\":[[0,\"#8e0152\"],[0.1,\"#c51b7d\"],[0.2,\"#de77ae\"],[0.3,\"#f1b6da\"],[0.4,\"#fde0ef\"],[0.5,\"#f7f7f7\"],[0.6,\"#e6f5d0\"],[0.7,\"#b8e186\"],[0.8,\"#7fbc41\"],[0.9,\"#4d9221\"],[1,\"#276419\"]]},\"xaxis\":{\"gridcolor\":\"white\",\"linecolor\":\"white\",\"ticks\":\"\",\"title\":{\"standoff\":15},\"zerolinecolor\":\"white\",\"automargin\":true,\"zerolinewidth\":2},\"yaxis\":{\"gridcolor\":\"white\",\"linecolor\":\"white\",\"ticks\":\"\",\"title\":{\"standoff\":15},\"zerolinecolor\":\"white\",\"automargin\":true,\"zerolinewidth\":2},\"scene\":{\"xaxis\":{\"backgroundcolor\":\"#E5ECF6\",\"gridcolor\":\"white\",\"linecolor\":\"white\",\"showbackground\":true,\"ticks\":\"\",\"zerolinecolor\":\"white\",\"gridwidth\":2},\"yaxis\":{\"backgroundcolor\":\"#E5ECF6\",\"gridcolor\":\"white\",\"linecolor\":\"white\",\"showbackground\":true,\"ticks\":\"\",\"zerolinecolor\":\"white\",\"gridwidth\":2},\"zaxis\":{\"backgroundcolor\":\"#E5ECF6\",\"gridcolor\":\"white\",\"linecolor\":\"white\",\"showbackground\":true,\"ticks\":\"\",\"zerolinecolor\":\"white\",\"gridwidth\":2}},\"shapedefaults\":{\"line\":{\"color\":\"#2a3f5f\"}},\"annotationdefaults\":{\"arrowcolor\":\"#2a3f5f\",\"arrowhead\":0,\"arrowwidth\":1},\"geo\":{\"bgcolor\":\"white\",\"landcolor\":\"#E5ECF6\",\"subunitcolor\":\"white\",\"showland\":true,\"showlakes\":true,\"lakecolor\":\"white\"},\"title\":{\"x\":0.05},\"mapbox\":{\"style\":\"light\"}}},\"barmode\":\"group\",\"title\":{\"text\":\"Most Popular Educational Platforms from 2018-2021\"},\"yaxis\":{\"title\":{\"text\":\"% of respondents\"}}},                        {\"responsive\": true}                    ).then(function(){\n",
       "                            \n",
       "var gd = document.getElementById('7d1d2072-14d3-40b3-bd49-f09af4c03c2f');\n",
       "var x = new MutationObserver(function (mutations, observer) {{\n",
       "        var display = window.getComputedStyle(gd).display;\n",
       "        if (!display || display === 'none') {{\n",
       "            console.log([gd, 'removed!']);\n",
       "            Plotly.purge(gd);\n",
       "            observer.disconnect();\n",
       "        }}\n",
       "}});\n",
       "\n",
       "// Listen for the removal of the full notebook cells\n",
       "var notebookContainer = gd.closest('#notebook-container');\n",
       "if (notebookContainer) {{\n",
       "    x.observe(notebookContainer, {childList: true});\n",
       "}}\n",
       "\n",
       "// Listen for the clearing of the current output cell\n",
       "var outputEl = gd.closest('.output');\n",
       "if (outputEl) {{\n",
       "    x.observe(outputEl, {childList: true});\n",
       "}}\n",
       "\n",
       "                        })                };                });            </script>        </div>"
      ]
     },
     "metadata": {},
     "output_type": "display_data"
    }
   ],
   "source": [
    "q36_list_of_columns_2018 = ['Q36_Part_1',\n",
    "                            'Q36_Part_2',\n",
    "                            'Q36_Part_3',\n",
    "                            'Q36_Part_4',\n",
    "                            'Q36_Part_5',\n",
    "                            'Q36_Part_6',\n",
    "                            'Q36_Part_7',\n",
    "                            'Q36_Part_8',\n",
    "                            'Q36_Part_9',\n",
    "                            'Q36_Part_10',\n",
    "                            'Q36_Part_11',\n",
    "                            'Q36_Part_12',\n",
    "                            'Q36_OTHER_TEXT']\n",
    "\n",
    "q13_list_of_columns_2019 = ['Q13_Part_1',\n",
    "                            'Q13_Part_2',\n",
    "                            'Q13_Part_3',\n",
    "                            'Q13_Part_4',\n",
    "                            'Q13_Part_5',\n",
    "                            'Q13_Part_6',\n",
    "                            'Q13_Part_7',\n",
    "                            'Q13_Part_8',\n",
    "                            'Q13_Part_9',\n",
    "                            'Q13_Part_10',\n",
    "                            'Q13_Part_11',\n",
    "                            'Q13_Part_12',\n",
    "                            'Q13_OTHER_TEXT']\n",
    "\n",
    "\n",
    "q36_dictionary_of_counts_2018_simplified = {\n",
    "    'Coursera' : (responses_df_2018['Q36_Part_2'].count()),\n",
    "    'Kaggle Learn Courses' : (responses_df_2018['Q36_Part_6'].count()),\n",
    "    'Udacity' : (responses_df_2018['Q36_Part_1'].count()),\n",
    "    'Udemy' : (responses_df_2018['Q36_Part_9'].count()),\n",
    "    'University Courses' : (responses_df_2018['Q36_Part_11'].count())\n",
    "}\n",
    "\n",
    "q13_dictionary_of_counts_2019_simplified = {\n",
    "    'Coursera' : (responses_df_2019['Q13_Part_2'].count()),\n",
    "    'Kaggle Learn Courses' : (responses_df_2019['Q13_Part_6'].count()),\n",
    "    'Udacity' : (responses_df_2019['Q13_Part_1'].count()),\n",
    "    'Udemy' : (responses_df_2019['Q13_Part_8'].count()),\n",
    "    'University Courses' : (responses_df_2019['Q13_Part_10'].count())\n",
    "}\n",
    "\n",
    "q37_dictionary_of_counts_2020_simplified = {\n",
    "    'Coursera' : (responses_df_2020['Q37_Part_1'].count()),\n",
    "    'Kaggle Learn Courses' : (responses_df_2020['Q37_Part_3'].count()),\n",
    "    'Udacity' : (responses_df_2020['Q37_Part_6'].count()),\n",
    "    'Udemy' : (responses_df_2020['Q37_Part_7'].count()),\n",
    "    'University Courses' : (responses_df_2020['Q37_Part_10'].count())\n",
    "}\n",
    "\n",
    "q40_dictionary_of_counts_2021_simplified = {\n",
    "    'Coursera' : (responses_df_2021['Q40_Part_1'].count()),\n",
    "    'Kaggle Learn Courses' : (responses_df_2021['Q40_Part_3'].count()),\n",
    "    'Udacity' : (responses_df_2021['Q40_Part_6'].count()),\n",
    "    'Udemy' : (responses_df_2021['Q40_Part_7'].count()),\n",
    "    'University Courses' : (responses_df_2021['Q40_Part_10'].count())\n",
    "}\n",
    "\n",
    "\n",
    "dictionary_of_counts_2018 = sort_dictionary_by_percent(responses_df_2018,\n",
    "                                                  q36_list_of_columns_2018,\n",
    "                                                  q36_dictionary_of_counts_2018_simplified)\n",
    "dictionary_of_counts_2019 = sort_dictionary_by_percent(responses_df_2019,\n",
    "                                                  q13_list_of_columns_2019,\n",
    "                                                  q13_dictionary_of_counts_2019_simplified)\n",
    "dictionary_of_counts_2020 = sort_dictionary_by_percent(responses_df_2020,\n",
    "                                                  q37_list_of_columns_2020,\n",
    "                                                  q37_dictionary_of_counts_2020_simplified)\n",
    "dictionary_of_counts_2021 = sort_dictionary_by_percent(responses_df_2021,\n",
    "                                                  q40_list_of_columns_2021,\n",
    "                                                  q40_dictionary_of_counts_2021_simplified)\n",
    "\n",
    "title_for_chart = \"Most Popular Educational Platforms from 2018-2021\"\n",
    "title_for_y_axis = '% of respondents'\n",
    "\n",
    "fig = go.Figure(data=[\n",
    "    go.Bar(name='2018 Kaggle Survey', x=pd.Series(dictionary_of_counts_2018.keys()), y=pd.Series(dictionary_of_counts_2018.values())),\n",
    "    go.Bar(name='2019 Kaggle Survey', x=pd.Series(dictionary_of_counts_2019.keys()), y=pd.Series(dictionary_of_counts_2019.values())),\n",
    "    go.Bar(name='2020 Kaggle Survey', x=pd.Series(dictionary_of_counts_2020.keys()), y=pd.Series(dictionary_of_counts_2020.values())),\n",
    "    go.Bar(name='2021 Kaggle Survey', x=pd.Series(dictionary_of_counts_2021.keys()), y=pd.Series(dictionary_of_counts_2021.values()))\n",
    "           ])\n",
    "fig.update_layout(barmode='group') \n",
    "fig.update_layout(title=title_for_chart,yaxis=dict(title=title_for_y_axis))\n",
    "fig.show()"
   ]
  },
  {
   "cell_type": "code",
   "execution_count": 39,
   "id": "6c29fe25",
   "metadata": {},
   "outputs": [
    {
     "name": "stdout",
     "output_type": "stream",
     "text": [
      "The median response time was approximately 12.0 minutes.\n",
      "The total number of respondents that took more than 5 minutes was 3423\n"
     ]
    },
    {
     "data": {
      "image/png": "[encoded data removed]",
      "text/plain": [
       "<Figure size 570.25x360 with 1 Axes>"
      ]
     },
     "metadata": {
      "needs_background": "light"
     },
     "output_type": "display_data"
    }
   ],
   "source": [
    "# Plot a histogram of user response times (~10m average)\n",
    "responses_only_duration = responses_df_2021['Time from Start to Finish (seconds)']\n",
    "responses_only_duration = pd.DataFrame(pd.to_numeric(responses_only_duration, errors='coerce')/60)\n",
    "responses_only_duration.columns = ['Time from Start to Finish (minutes)']\n",
    "sns.displot(responses_only_duration,bins=15000).set(xlim=(0, 60))\n",
    "median = round(responses_df_2021['Time from Start to Finish (seconds)'].median()/60,0)\n",
    "print('The median response time was approximately',median,'minutes.')\n",
    "filtered_responses_df_2021 = pd.DataFrame(pd.to_numeric(responses_df_2021['Time from Start to Finish (seconds)'], errors='coerce'))\n",
    "filtered_responses_df_2021 = filtered_responses_df_2021[filtered_responses_df_2021['Time from Start to Finish (seconds)'] > 299]  \n",
    "print('The total number of respondents that took more than 5 minutes was',filtered_responses_df_2021.shape[0])"
   ]
  },
  {
   "cell_type": "code",
   "execution_count": null,
   "id": "14b41c29",
   "metadata": {},
   "outputs": [],
   "source": []
  }
 ],
 "metadata": {
  "kernelspec": {
   "display_name": "Python 3 (ipykernel)",
   "language": "python",
   "name": "python3"
  },
  "language_info": {
   "codemirror_mode": {
    "name": "ipython",
    "version": 3
   },
   "file_extension": ".py",
   "mimetype": "text/x-python",
   "name": "python",
   "nbconvert_exporter": "python",
   "pygments_lexer": "ipython3",
   "version": "3.9.7"
  }
 },
 "nbformat": 4,
 "nbformat_minor": 5
}
